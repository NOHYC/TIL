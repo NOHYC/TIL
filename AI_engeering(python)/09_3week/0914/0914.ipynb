{
 "metadata": {
  "language_info": {
   "codemirror_mode": {
    "name": "ipython",
    "version": 3
   },
   "file_extension": ".py",
   "mimetype": "text/x-python",
   "name": "python",
   "nbconvert_exporter": "python",
   "pygments_lexer": "ipython3",
   "version": "3.8.5-final"
  },
  "orig_nbformat": 2,
  "kernelspec": {
   "name": "python_defaultSpec_1600338434639",
   "display_name": "Python 3.8.5 32-bit"
  }
 },
 "nbformat": 4,
 "nbformat_minor": 2,
 "cells": [
  {
   "cell_type": "code",
   "execution_count": 1,
   "metadata": {},
   "outputs": [],
   "source": [
    "from sklearn.preprocessing import OneHotEncoder\n",
    "import pandas as pd \n",
    "import numpy as np"
   ]
  },
  {
   "source": [
    "\n",
    "#  학생 ID 성별 연령대   성적 \n",
    " \n",
    "# sn_1    m       29대(0) A   \n",
    "# ...     ...             \n",
    "# sn_5    f       40대(2) F   \n",
    "# 성별(0/1) 연령(0/1/2) 성적(0~4) "
   ],
   "cell_type": "code",
   "metadata": {},
   "execution_count": 3,
   "outputs": []
  },
  {
   "cell_type": "code",
   "execution_count": 5,
   "metadata": {},
   "outputs": [
    {
     "output_type": "execute_result",
     "data": {
      "text/plain": "array([[0, 0, 0],\n       [0, 1, 1],\n       [0, 2, 2],\n       [1, 0, 3],\n       [1, 1, 4]])"
     },
     "metadata": {},
     "execution_count": 5
    }
   ],
   "source": [
    "data = np.array([# 01 012 01234 보통 이런 방식이 onehotencoding\n",
    "[0,0,0], # 10 100 10000 \n",
    "[0,1,1], # 10 010 01000\n",
    "[0,2,2], # 10 001 00100\n",
    "[1,0,3], # 01 100 00010\n",
    "[1,1,4]  # 01 010 00001\n",
    "])\n",
    "data"
   ]
  },
  {
   "cell_type": "code",
   "execution_count": 7,
   "metadata": {},
   "outputs": [],
   "source": [
    "ohe = OneHotEncoder() # 객체"
   ]
  },
  {
   "source": [
    "데이터를 OneHotEncoder에 맞춘다"
   ],
   "cell_type": "markdown",
   "metadata": {}
  },
  {
   "cell_type": "code",
   "execution_count": 9,
   "metadata": {},
   "outputs": [
    {
     "output_type": "execute_result",
     "data": {
      "text/plain": "OneHotEncoder()"
     },
     "metadata": {},
     "execution_count": 9
    }
   ],
   "source": [
    "ohe.fit(data)"
   ]
  },
  {
   "cell_type": "code",
   "execution_count": 11,
   "metadata": {},
   "outputs": [
    {
     "output_type": "execute_result",
     "data": {
      "text/plain": "array([[1., 0., 1., 0., 0., 1., 0., 0., 0., 0.],\n       [1., 0., 0., 1., 0., 0., 1., 0., 0., 0.],\n       [1., 0., 0., 0., 1., 0., 0., 1., 0., 0.],\n       [0., 1., 1., 0., 0., 0., 0., 0., 1., 0.],\n       [0., 1., 0., 1., 0., 0., 0., 0., 0., 1.]])"
     },
     "metadata": {},
     "execution_count": 11
    }
   ],
   "source": [
    "ohe.transform(data).toarray()"
   ]
  },
  {
   "source": [
    "예상과 일치"
   ],
   "cell_type": "markdown",
   "metadata": {}
  },
  {
   "cell_type": "code",
   "execution_count": 12,
   "metadata": {},
   "outputs": [
    {
     "output_type": "execute_result",
     "data": {
      "text/plain": "array([[1., 0., 1., 0., 0., 1., 0., 0., 0., 0.],\n       [1., 0., 0., 1., 0., 0., 1., 0., 0., 0.],\n       [1., 0., 0., 0., 1., 0., 0., 1., 0., 0.],\n       [0., 1., 1., 0., 0., 0., 0., 0., 1., 0.],\n       [0., 1., 0., 1., 0., 0., 0., 0., 0., 1.]])"
     },
     "metadata": {},
     "execution_count": 12
    }
   ],
   "source": [
    "# 한줄로 OneHotEncoder 쓰기\n",
    "ohe.fit_transform(data).toarray()"
   ]
  },
  {
   "source": [
    "범주형 데이터를 이진화 할 때 사용하는 함수 ( OneHotEncoder )    \n",
    "Binarize : 연속형 변수 == > 이항 변수화     \n",
    "OneHotEncoder : 범주형 ==> 이항 변수화  "
   ],
   "cell_type": "markdown",
   "metadata": {}
  },
  {
   "source": [
    "이산형화 : 연속형 -> 2개 이상의 범주를 같는 변수로 변환하는 것 digitalize(), where()    "
   ],
   "cell_type": "markdown",
   "metadata": {}
  },
  {
   "cell_type": "code",
   "execution_count": 14,
   "metadata": {
    "tags": []
   },
   "outputs": [
    {
     "output_type": "stream",
     "name": "stdout",
     "text": "-2.20978908332475 3.663156246361035\n"
    }
   ],
   "source": [
    "df = pd.DataFrame({\n",
    "    'c1': np.random.randn(20),'c2' :list('a'*10+'b'*10)\n",
    "})\n",
    "print(df['c1'].min(), df['c1'].max())"
   ]
  },
  {
   "source": [
    "df\\['c1'\\]의 최대 최소값을 끝값으로하여 9개 구간으로 균등하게 나눔"
   ],
   "cell_type": "markdown",
   "metadata": {}
  },
  {
   "cell_type": "code",
   "execution_count": 15,
   "metadata": {},
   "outputs": [],
   "source": [
    "bins = np.linspace(df['c1'].min(), df['c1'].max(),10)"
   ]
  },
  {
   "cell_type": "code",
   "execution_count": 16,
   "metadata": {},
   "outputs": [
    {
     "output_type": "execute_result",
     "data": {
      "text/plain": "          c1 c2  c1_bin\n0   0.239624  a       4\n1   3.663156  a      10\n2   0.140510  a       4\n3  -2.070068  a       1\n4   1.173655  a       6\n5   1.004714  a       5\n6  -0.658996  a       3\n7  -0.001625  a       4\n8  -0.580164  a       3\n9  -1.384673  a       2\n10 -0.669879  b       3\n11  1.333885  b       6\n12 -0.763111  b       3\n13 -1.416211  b       2\n14  1.823870  b       7\n15 -2.209789  b       1\n16  1.356966  b       6\n17 -0.786347  b       3\n18 -1.401197  b       2\n19  0.549712  b       5",
      "text/html": "<div>\n<style scoped>\n    .dataframe tbody tr th:only-of-type {\n        vertical-align: middle;\n    }\n\n    .dataframe tbody tr th {\n        vertical-align: top;\n    }\n\n    .dataframe thead th {\n        text-align: right;\n    }\n</style>\n<table border=\"1\" class=\"dataframe\">\n  <thead>\n    <tr style=\"text-align: right;\">\n      <th></th>\n      <th>c1</th>\n      <th>c2</th>\n      <th>c1_bin</th>\n    </tr>\n  </thead>\n  <tbody>\n    <tr>\n      <th>0</th>\n      <td>0.239624</td>\n      <td>a</td>\n      <td>4</td>\n    </tr>\n    <tr>\n      <th>1</th>\n      <td>3.663156</td>\n      <td>a</td>\n      <td>10</td>\n    </tr>\n    <tr>\n      <th>2</th>\n      <td>0.140510</td>\n      <td>a</td>\n      <td>4</td>\n    </tr>\n    <tr>\n      <th>3</th>\n      <td>-2.070068</td>\n      <td>a</td>\n      <td>1</td>\n    </tr>\n    <tr>\n      <th>4</th>\n      <td>1.173655</td>\n      <td>a</td>\n      <td>6</td>\n    </tr>\n    <tr>\n      <th>5</th>\n      <td>1.004714</td>\n      <td>a</td>\n      <td>5</td>\n    </tr>\n    <tr>\n      <th>6</th>\n      <td>-0.658996</td>\n      <td>a</td>\n      <td>3</td>\n    </tr>\n    <tr>\n      <th>7</th>\n      <td>-0.001625</td>\n      <td>a</td>\n      <td>4</td>\n    </tr>\n    <tr>\n      <th>8</th>\n      <td>-0.580164</td>\n      <td>a</td>\n      <td>3</td>\n    </tr>\n    <tr>\n      <th>9</th>\n      <td>-1.384673</td>\n      <td>a</td>\n      <td>2</td>\n    </tr>\n    <tr>\n      <th>10</th>\n      <td>-0.669879</td>\n      <td>b</td>\n      <td>3</td>\n    </tr>\n    <tr>\n      <th>11</th>\n      <td>1.333885</td>\n      <td>b</td>\n      <td>6</td>\n    </tr>\n    <tr>\n      <th>12</th>\n      <td>-0.763111</td>\n      <td>b</td>\n      <td>3</td>\n    </tr>\n    <tr>\n      <th>13</th>\n      <td>-1.416211</td>\n      <td>b</td>\n      <td>2</td>\n    </tr>\n    <tr>\n      <th>14</th>\n      <td>1.823870</td>\n      <td>b</td>\n      <td>7</td>\n    </tr>\n    <tr>\n      <th>15</th>\n      <td>-2.209789</td>\n      <td>b</td>\n      <td>1</td>\n    </tr>\n    <tr>\n      <th>16</th>\n      <td>1.356966</td>\n      <td>b</td>\n      <td>6</td>\n    </tr>\n    <tr>\n      <th>17</th>\n      <td>-0.786347</td>\n      <td>b</td>\n      <td>3</td>\n    </tr>\n    <tr>\n      <th>18</th>\n      <td>-1.401197</td>\n      <td>b</td>\n      <td>2</td>\n    </tr>\n    <tr>\n      <th>19</th>\n      <td>0.549712</td>\n      <td>b</td>\n      <td>5</td>\n    </tr>\n  </tbody>\n</table>\n</div>"
     },
     "metadata": {},
     "execution_count": 16
    }
   ],
   "source": [
    "df['c1_bin'] = np.digitize(df['c1'],bins)\n",
    "df # 연속형 - 이산화 === > 요약 통계 , 독립성 검증 ... 이용된다. "
   ]
  },
  {
   "cell_type": "code",
   "execution_count": 18,
   "metadata": {},
   "outputs": [
    {
     "output_type": "execute_result",
     "data": {
      "text/plain": "c1_bin\n1     2\n2     3\n3     5\n4     3\n5     2\n6     3\n7     1\n10    1\nName: c1, dtype: int64"
     },
     "metadata": {},
     "execution_count": 18
    }
   ],
   "source": [
    "df.groupby('c1_bin')['c1'].size()"
   ]
  },
  {
   "cell_type": "code",
   "execution_count": 19,
   "metadata": {},
   "outputs": [
    {
     "output_type": "execute_result",
     "data": {
      "text/plain": "        count      mean       std       min       25%       50%       75%  \\\nc1_bin                                                                      \n1         2.0 -2.139929  0.098798 -2.209789 -2.174859 -2.139929 -2.104998   \n2         3.0 -1.400693  0.015775 -1.416211 -1.408704 -1.401197 -1.392935   \n3         5.0 -0.691699  0.083731 -0.786347 -0.763111 -0.669879 -0.658996   \n4         3.0  0.126170  0.121262 -0.001625  0.069442  0.140510  0.190067   \n5         2.0  0.777213  0.321735  0.549712  0.663462  0.777213  0.890963   \n6         3.0  1.288169  0.099841  1.173655  1.253770  1.333885  1.345426   \n7         1.0  1.823870       NaN  1.823870  1.823870  1.823870  1.823870   \n10        1.0  3.663156       NaN  3.663156  3.663156  3.663156  3.663156   \n\n             max  \nc1_bin            \n1      -2.070068  \n2      -1.384673  \n3      -0.580164  \n4       0.239624  \n5       1.004714  \n6       1.356966  \n7       1.823870  \n10      3.663156  ",
      "text/html": "<div>\n<style scoped>\n    .dataframe tbody tr th:only-of-type {\n        vertical-align: middle;\n    }\n\n    .dataframe tbody tr th {\n        vertical-align: top;\n    }\n\n    .dataframe thead th {\n        text-align: right;\n    }\n</style>\n<table border=\"1\" class=\"dataframe\">\n  <thead>\n    <tr style=\"text-align: right;\">\n      <th></th>\n      <th>count</th>\n      <th>mean</th>\n      <th>std</th>\n      <th>min</th>\n      <th>25%</th>\n      <th>50%</th>\n      <th>75%</th>\n      <th>max</th>\n    </tr>\n    <tr>\n      <th>c1_bin</th>\n      <th></th>\n      <th></th>\n      <th></th>\n      <th></th>\n      <th></th>\n      <th></th>\n      <th></th>\n      <th></th>\n    </tr>\n  </thead>\n  <tbody>\n    <tr>\n      <th>1</th>\n      <td>2.0</td>\n      <td>-2.139929</td>\n      <td>0.098798</td>\n      <td>-2.209789</td>\n      <td>-2.174859</td>\n      <td>-2.139929</td>\n      <td>-2.104998</td>\n      <td>-2.070068</td>\n    </tr>\n    <tr>\n      <th>2</th>\n      <td>3.0</td>\n      <td>-1.400693</td>\n      <td>0.015775</td>\n      <td>-1.416211</td>\n      <td>-1.408704</td>\n      <td>-1.401197</td>\n      <td>-1.392935</td>\n      <td>-1.384673</td>\n    </tr>\n    <tr>\n      <th>3</th>\n      <td>5.0</td>\n      <td>-0.691699</td>\n      <td>0.083731</td>\n      <td>-0.786347</td>\n      <td>-0.763111</td>\n      <td>-0.669879</td>\n      <td>-0.658996</td>\n      <td>-0.580164</td>\n    </tr>\n    <tr>\n      <th>4</th>\n      <td>3.0</td>\n      <td>0.126170</td>\n      <td>0.121262</td>\n      <td>-0.001625</td>\n      <td>0.069442</td>\n      <td>0.140510</td>\n      <td>0.190067</td>\n      <td>0.239624</td>\n    </tr>\n    <tr>\n      <th>5</th>\n      <td>2.0</td>\n      <td>0.777213</td>\n      <td>0.321735</td>\n      <td>0.549712</td>\n      <td>0.663462</td>\n      <td>0.777213</td>\n      <td>0.890963</td>\n      <td>1.004714</td>\n    </tr>\n    <tr>\n      <th>6</th>\n      <td>3.0</td>\n      <td>1.288169</td>\n      <td>0.099841</td>\n      <td>1.173655</td>\n      <td>1.253770</td>\n      <td>1.333885</td>\n      <td>1.345426</td>\n      <td>1.356966</td>\n    </tr>\n    <tr>\n      <th>7</th>\n      <td>1.0</td>\n      <td>1.823870</td>\n      <td>NaN</td>\n      <td>1.823870</td>\n      <td>1.823870</td>\n      <td>1.823870</td>\n      <td>1.823870</td>\n      <td>1.823870</td>\n    </tr>\n    <tr>\n      <th>10</th>\n      <td>1.0</td>\n      <td>3.663156</td>\n      <td>NaN</td>\n      <td>3.663156</td>\n      <td>3.663156</td>\n      <td>3.663156</td>\n      <td>3.663156</td>\n      <td>3.663156</td>\n    </tr>\n  </tbody>\n</table>\n</div>"
     },
     "metadata": {},
     "execution_count": 19
    }
   ],
   "source": [
    "df.groupby('c1_bin')['c1'].describe() # 데이터 1건은 표준 편차를 구할 수 없다."
   ]
  },
  {
   "cell_type": "code",
   "execution_count": 22,
   "metadata": {},
   "outputs": [
    {
     "output_type": "execute_result",
     "data": {
      "text/plain": "          c1 c2  c1_bin\n9  -1.384673  a       2\n13 -1.416211  b       2\n18 -1.401197  b       2",
      "text/html": "<div>\n<style scoped>\n    .dataframe tbody tr th:only-of-type {\n        vertical-align: middle;\n    }\n\n    .dataframe tbody tr th {\n        vertical-align: top;\n    }\n\n    .dataframe thead th {\n        text-align: right;\n    }\n</style>\n<table border=\"1\" class=\"dataframe\">\n  <thead>\n    <tr style=\"text-align: right;\">\n      <th></th>\n      <th>c1</th>\n      <th>c2</th>\n      <th>c1_bin</th>\n    </tr>\n  </thead>\n  <tbody>\n    <tr>\n      <th>9</th>\n      <td>-1.384673</td>\n      <td>a</td>\n      <td>2</td>\n    </tr>\n    <tr>\n      <th>13</th>\n      <td>-1.416211</td>\n      <td>b</td>\n      <td>2</td>\n    </tr>\n    <tr>\n      <th>18</th>\n      <td>-1.401197</td>\n      <td>b</td>\n      <td>2</td>\n    </tr>\n  </tbody>\n</table>\n</div>"
     },
     "metadata": {},
     "execution_count": 22
    }
   ],
   "source": [
    "df[df['c1_bin'] == 2]"
   ]
  },
  {
   "source": [
    "# 문자를 그대로 통계 자료를 쓸 수 없기 때문에 원핫 인코딩이 필요하다 \n",
    "'''\n",
    "id 과일명   id  사과    바나나  딸기\n",
    "1사과       1   1         0     0\n",
    "2바나나     2   0         1     0\n",
    "3딸기       3   0         0     1\n",
    "'''"
   ],
   "cell_type": "code",
   "metadata": {},
   "execution_count": 24,
   "outputs": [
    {
     "output_type": "execute_result",
     "data": {
      "text/plain": "'\\nid 과일명   id  사과    바나나  딸기\\n1사과       1   1         0     0\\n2바나나     2   0         1     0\\n3딸기       3   0         0     1\\n'"
     },
     "metadata": {},
     "execution_count": 24
    }
   ]
  },
  {
   "cell_type": "code",
   "execution_count": 26,
   "metadata": {},
   "outputs": [
    {
     "output_type": "execute_result",
     "data": {
      "text/plain": "     name   color\n0   apple     red\n1   banna  yellow\n2  cherry     red\n3  durian   greed\n4     NaN     NaN",
      "text/html": "<div>\n<style scoped>\n    .dataframe tbody tr th:only-of-type {\n        vertical-align: middle;\n    }\n\n    .dataframe tbody tr th {\n        vertical-align: top;\n    }\n\n    .dataframe thead th {\n        text-align: right;\n    }\n</style>\n<table border=\"1\" class=\"dataframe\">\n  <thead>\n    <tr style=\"text-align: right;\">\n      <th></th>\n      <th>name</th>\n      <th>color</th>\n    </tr>\n  </thead>\n  <tbody>\n    <tr>\n      <th>0</th>\n      <td>apple</td>\n      <td>red</td>\n    </tr>\n    <tr>\n      <th>1</th>\n      <td>banna</td>\n      <td>yellow</td>\n    </tr>\n    <tr>\n      <th>2</th>\n      <td>cherry</td>\n      <td>red</td>\n    </tr>\n    <tr>\n      <th>3</th>\n      <td>durian</td>\n      <td>greed</td>\n    </tr>\n    <tr>\n      <th>4</th>\n      <td>NaN</td>\n      <td>NaN</td>\n    </tr>\n  </tbody>\n</table>\n</div>"
     },
     "metadata": {},
     "execution_count": 26
    }
   ],
   "source": [
    "fruit = pd.DataFrame({'name':['apple','banna','cherry','durian',np.nan],'color':['red','yellow','red','greed',np.nan]})\n",
    "fruit"
   ]
  },
  {
   "cell_type": "code",
   "execution_count": 27,
   "metadata": {},
   "outputs": [
    {
     "output_type": "execute_result",
     "data": {
      "text/plain": "   apple  banna  cherry  durian\n0      1      0       0       0\n1      0      1       0       0\n2      0      0       1       0\n3      0      0       0       1\n4      0      0       0       0",
      "text/html": "<div>\n<style scoped>\n    .dataframe tbody tr th:only-of-type {\n        vertical-align: middle;\n    }\n\n    .dataframe tbody tr th {\n        vertical-align: top;\n    }\n\n    .dataframe thead th {\n        text-align: right;\n    }\n</style>\n<table border=\"1\" class=\"dataframe\">\n  <thead>\n    <tr style=\"text-align: right;\">\n      <th></th>\n      <th>apple</th>\n      <th>banna</th>\n      <th>cherry</th>\n      <th>durian</th>\n    </tr>\n  </thead>\n  <tbody>\n    <tr>\n      <th>0</th>\n      <td>1</td>\n      <td>0</td>\n      <td>0</td>\n      <td>0</td>\n    </tr>\n    <tr>\n      <th>1</th>\n      <td>0</td>\n      <td>1</td>\n      <td>0</td>\n      <td>0</td>\n    </tr>\n    <tr>\n      <th>2</th>\n      <td>0</td>\n      <td>0</td>\n      <td>1</td>\n      <td>0</td>\n    </tr>\n    <tr>\n      <th>3</th>\n      <td>0</td>\n      <td>0</td>\n      <td>0</td>\n      <td>1</td>\n    </tr>\n    <tr>\n      <th>4</th>\n      <td>0</td>\n      <td>0</td>\n      <td>0</td>\n      <td>0</td>\n    </tr>\n  </tbody>\n</table>\n</div>"
     },
     "metadata": {},
     "execution_count": 27
    }
   ],
   "source": [
    "pd.get_dummies(fruit['name'])"
   ]
  },
  {
   "cell_type": "code",
   "execution_count": 28,
   "metadata": {},
   "outputs": [
    {
     "output_type": "execute_result",
     "data": {
      "text/plain": "   name_apple  name_banna  name_cherry  name_durian  color_greed  color_red  \\\n0           1           0            0            0            0          1   \n1           0           1            0            0            0          0   \n2           0           0            1            0            0          1   \n3           0           0            0            1            1          0   \n4           0           0            0            0            0          0   \n\n   color_yellow  \n0             0  \n1             1  \n2             0  \n3             0  \n4             0  ",
      "text/html": "<div>\n<style scoped>\n    .dataframe tbody tr th:only-of-type {\n        vertical-align: middle;\n    }\n\n    .dataframe tbody tr th {\n        vertical-align: top;\n    }\n\n    .dataframe thead th {\n        text-align: right;\n    }\n</style>\n<table border=\"1\" class=\"dataframe\">\n  <thead>\n    <tr style=\"text-align: right;\">\n      <th></th>\n      <th>name_apple</th>\n      <th>name_banna</th>\n      <th>name_cherry</th>\n      <th>name_durian</th>\n      <th>color_greed</th>\n      <th>color_red</th>\n      <th>color_yellow</th>\n    </tr>\n  </thead>\n  <tbody>\n    <tr>\n      <th>0</th>\n      <td>1</td>\n      <td>0</td>\n      <td>0</td>\n      <td>0</td>\n      <td>0</td>\n      <td>1</td>\n      <td>0</td>\n    </tr>\n    <tr>\n      <th>1</th>\n      <td>0</td>\n      <td>1</td>\n      <td>0</td>\n      <td>0</td>\n      <td>0</td>\n      <td>0</td>\n      <td>1</td>\n    </tr>\n    <tr>\n      <th>2</th>\n      <td>0</td>\n      <td>0</td>\n      <td>1</td>\n      <td>0</td>\n      <td>0</td>\n      <td>1</td>\n      <td>0</td>\n    </tr>\n    <tr>\n      <th>3</th>\n      <td>0</td>\n      <td>0</td>\n      <td>0</td>\n      <td>1</td>\n      <td>1</td>\n      <td>0</td>\n      <td>0</td>\n    </tr>\n    <tr>\n      <th>4</th>\n      <td>0</td>\n      <td>0</td>\n      <td>0</td>\n      <td>0</td>\n      <td>0</td>\n      <td>0</td>\n      <td>0</td>\n    </tr>\n  </tbody>\n</table>\n</div>"
     },
     "metadata": {},
     "execution_count": 28
    }
   ],
   "source": [
    "pd.get_dummies(fruit)"
   ]
  },
  {
   "cell_type": "code",
   "execution_count": 29,
   "metadata": {},
   "outputs": [
    {
     "output_type": "execute_result",
     "data": {
      "text/plain": "    color  name_apple  name_banna  name_cherry  name_durian\n0     red           1           0            0            0\n1  yellow           0           1            0            0\n2     red           0           0            1            0\n3   greed           0           0            0            1\n4     NaN           0           0            0            0",
      "text/html": "<div>\n<style scoped>\n    .dataframe tbody tr th:only-of-type {\n        vertical-align: middle;\n    }\n\n    .dataframe tbody tr th {\n        vertical-align: top;\n    }\n\n    .dataframe thead th {\n        text-align: right;\n    }\n</style>\n<table border=\"1\" class=\"dataframe\">\n  <thead>\n    <tr style=\"text-align: right;\">\n      <th></th>\n      <th>color</th>\n      <th>name_apple</th>\n      <th>name_banna</th>\n      <th>name_cherry</th>\n      <th>name_durian</th>\n    </tr>\n  </thead>\n  <tbody>\n    <tr>\n      <th>0</th>\n      <td>red</td>\n      <td>1</td>\n      <td>0</td>\n      <td>0</td>\n      <td>0</td>\n    </tr>\n    <tr>\n      <th>1</th>\n      <td>yellow</td>\n      <td>0</td>\n      <td>1</td>\n      <td>0</td>\n      <td>0</td>\n    </tr>\n    <tr>\n      <th>2</th>\n      <td>red</td>\n      <td>0</td>\n      <td>0</td>\n      <td>1</td>\n      <td>0</td>\n    </tr>\n    <tr>\n      <th>3</th>\n      <td>greed</td>\n      <td>0</td>\n      <td>0</td>\n      <td>0</td>\n      <td>1</td>\n    </tr>\n    <tr>\n      <th>4</th>\n      <td>NaN</td>\n      <td>0</td>\n      <td>0</td>\n      <td>0</td>\n      <td>0</td>\n    </tr>\n  </tbody>\n</table>\n</div>"
     },
     "metadata": {},
     "execution_count": 29
    }
   ],
   "source": [
    "pd.get_dummies(fruit,columns=['name'])\n",
    "# Nan 값은 생략된 것을 볼 수 있음 "
   ]
  },
  {
   "cell_type": "code",
   "execution_count": 30,
   "metadata": {},
   "outputs": [
    {
     "output_type": "execute_result",
     "data": {
      "text/plain": "    color  name_apple  name_banna  name_cherry  name_durian  name_nan\n0     red           1           0            0            0         0\n1  yellow           0           1            0            0         0\n2     red           0           0            1            0         0\n3   greed           0           0            0            1         0\n4     NaN           0           0            0            0         1",
      "text/html": "<div>\n<style scoped>\n    .dataframe tbody tr th:only-of-type {\n        vertical-align: middle;\n    }\n\n    .dataframe tbody tr th {\n        vertical-align: top;\n    }\n\n    .dataframe thead th {\n        text-align: right;\n    }\n</style>\n<table border=\"1\" class=\"dataframe\">\n  <thead>\n    <tr style=\"text-align: right;\">\n      <th></th>\n      <th>color</th>\n      <th>name_apple</th>\n      <th>name_banna</th>\n      <th>name_cherry</th>\n      <th>name_durian</th>\n      <th>name_nan</th>\n    </tr>\n  </thead>\n  <tbody>\n    <tr>\n      <th>0</th>\n      <td>red</td>\n      <td>1</td>\n      <td>0</td>\n      <td>0</td>\n      <td>0</td>\n      <td>0</td>\n    </tr>\n    <tr>\n      <th>1</th>\n      <td>yellow</td>\n      <td>0</td>\n      <td>1</td>\n      <td>0</td>\n      <td>0</td>\n      <td>0</td>\n    </tr>\n    <tr>\n      <th>2</th>\n      <td>red</td>\n      <td>0</td>\n      <td>0</td>\n      <td>1</td>\n      <td>0</td>\n      <td>0</td>\n    </tr>\n    <tr>\n      <th>3</th>\n      <td>greed</td>\n      <td>0</td>\n      <td>0</td>\n      <td>0</td>\n      <td>1</td>\n      <td>0</td>\n    </tr>\n    <tr>\n      <th>4</th>\n      <td>NaN</td>\n      <td>0</td>\n      <td>0</td>\n      <td>0</td>\n      <td>0</td>\n      <td>1</td>\n    </tr>\n  </tbody>\n</table>\n</div>"
     },
     "metadata": {},
     "execution_count": 30
    }
   ],
   "source": [
    "pd.get_dummies(fruit,columns=['name'],dummy_na= True)"
   ]
  },
  {
   "cell_type": "code",
   "execution_count": 31,
   "metadata": {},
   "outputs": [
    {
     "output_type": "execute_result",
     "data": {
      "text/plain": "          c1 c2  c1_bin\n0   0.239624  a       4\n1   3.663156  a      10\n2   0.140510  a       4\n3  -2.070068  a       1\n4   1.173655  a       6\n5   1.004714  a       5\n6  -0.658996  a       3\n7  -0.001625  a       4\n8  -0.580164  a       3\n9  -1.384673  a       2\n10 -0.669879  b       3\n11  1.333885  b       6\n12 -0.763111  b       3\n13 -1.416211  b       2\n14  1.823870  b       7\n15 -2.209789  b       1\n16  1.356966  b       6\n17 -0.786347  b       3\n18 -1.401197  b       2\n19  0.549712  b       5",
      "text/html": "<div>\n<style scoped>\n    .dataframe tbody tr th:only-of-type {\n        vertical-align: middle;\n    }\n\n    .dataframe tbody tr th {\n        vertical-align: top;\n    }\n\n    .dataframe thead th {\n        text-align: right;\n    }\n</style>\n<table border=\"1\" class=\"dataframe\">\n  <thead>\n    <tr style=\"text-align: right;\">\n      <th></th>\n      <th>c1</th>\n      <th>c2</th>\n      <th>c1_bin</th>\n    </tr>\n  </thead>\n  <tbody>\n    <tr>\n      <th>0</th>\n      <td>0.239624</td>\n      <td>a</td>\n      <td>4</td>\n    </tr>\n    <tr>\n      <th>1</th>\n      <td>3.663156</td>\n      <td>a</td>\n      <td>10</td>\n    </tr>\n    <tr>\n      <th>2</th>\n      <td>0.140510</td>\n      <td>a</td>\n      <td>4</td>\n    </tr>\n    <tr>\n      <th>3</th>\n      <td>-2.070068</td>\n      <td>a</td>\n      <td>1</td>\n    </tr>\n    <tr>\n      <th>4</th>\n      <td>1.173655</td>\n      <td>a</td>\n      <td>6</td>\n    </tr>\n    <tr>\n      <th>5</th>\n      <td>1.004714</td>\n      <td>a</td>\n      <td>5</td>\n    </tr>\n    <tr>\n      <th>6</th>\n      <td>-0.658996</td>\n      <td>a</td>\n      <td>3</td>\n    </tr>\n    <tr>\n      <th>7</th>\n      <td>-0.001625</td>\n      <td>a</td>\n      <td>4</td>\n    </tr>\n    <tr>\n      <th>8</th>\n      <td>-0.580164</td>\n      <td>a</td>\n      <td>3</td>\n    </tr>\n    <tr>\n      <th>9</th>\n      <td>-1.384673</td>\n      <td>a</td>\n      <td>2</td>\n    </tr>\n    <tr>\n      <th>10</th>\n      <td>-0.669879</td>\n      <td>b</td>\n      <td>3</td>\n    </tr>\n    <tr>\n      <th>11</th>\n      <td>1.333885</td>\n      <td>b</td>\n      <td>6</td>\n    </tr>\n    <tr>\n      <th>12</th>\n      <td>-0.763111</td>\n      <td>b</td>\n      <td>3</td>\n    </tr>\n    <tr>\n      <th>13</th>\n      <td>-1.416211</td>\n      <td>b</td>\n      <td>2</td>\n    </tr>\n    <tr>\n      <th>14</th>\n      <td>1.823870</td>\n      <td>b</td>\n      <td>7</td>\n    </tr>\n    <tr>\n      <th>15</th>\n      <td>-2.209789</td>\n      <td>b</td>\n      <td>1</td>\n    </tr>\n    <tr>\n      <th>16</th>\n      <td>1.356966</td>\n      <td>b</td>\n      <td>6</td>\n    </tr>\n    <tr>\n      <th>17</th>\n      <td>-0.786347</td>\n      <td>b</td>\n      <td>3</td>\n    </tr>\n    <tr>\n      <th>18</th>\n      <td>-1.401197</td>\n      <td>b</td>\n      <td>2</td>\n    </tr>\n    <tr>\n      <th>19</th>\n      <td>0.549712</td>\n      <td>b</td>\n      <td>5</td>\n    </tr>\n  </tbody>\n</table>\n</div>"
     },
     "metadata": {},
     "execution_count": 31
    }
   ],
   "source": [
    "# np.where 연속형 변수 -> 이산형화\n",
    "# c1 열의 평균값보다 크면 high, 작으면 low 값을 df['high_low'] 변수에 저장\n",
    "df"
   ]
  },
  {
   "cell_type": "code",
   "execution_count": 34,
   "metadata": {},
   "outputs": [],
   "source": [
    "df['high_low']= np.where(df['c1'] > df['c1'].mean(), 'high','low')"
   ]
  },
  {
   "cell_type": "code",
   "execution_count": 35,
   "metadata": {},
   "outputs": [
    {
     "output_type": "execute_result",
     "data": {
      "text/plain": "          c1 c2  c1_bin high_low\n0   0.239624  a       4     high\n1   3.663156  a      10     high\n2   0.140510  a       4     high\n3  -2.070068  a       1      low\n4   1.173655  a       6     high\n5   1.004714  a       5     high\n6  -0.658996  a       3      low\n7  -0.001625  a       4     high\n8  -0.580164  a       3      low\n9  -1.384673  a       2      low\n10 -0.669879  b       3      low\n11  1.333885  b       6     high\n12 -0.763111  b       3      low\n13 -1.416211  b       2      low\n14  1.823870  b       7     high\n15 -2.209789  b       1      low\n16  1.356966  b       6     high\n17 -0.786347  b       3      low\n18 -1.401197  b       2      low\n19  0.549712  b       5     high",
      "text/html": "<div>\n<style scoped>\n    .dataframe tbody tr th:only-of-type {\n        vertical-align: middle;\n    }\n\n    .dataframe tbody tr th {\n        vertical-align: top;\n    }\n\n    .dataframe thead th {\n        text-align: right;\n    }\n</style>\n<table border=\"1\" class=\"dataframe\">\n  <thead>\n    <tr style=\"text-align: right;\">\n      <th></th>\n      <th>c1</th>\n      <th>c2</th>\n      <th>c1_bin</th>\n      <th>high_low</th>\n    </tr>\n  </thead>\n  <tbody>\n    <tr>\n      <th>0</th>\n      <td>0.239624</td>\n      <td>a</td>\n      <td>4</td>\n      <td>high</td>\n    </tr>\n    <tr>\n      <th>1</th>\n      <td>3.663156</td>\n      <td>a</td>\n      <td>10</td>\n      <td>high</td>\n    </tr>\n    <tr>\n      <th>2</th>\n      <td>0.140510</td>\n      <td>a</td>\n      <td>4</td>\n      <td>high</td>\n    </tr>\n    <tr>\n      <th>3</th>\n      <td>-2.070068</td>\n      <td>a</td>\n      <td>1</td>\n      <td>low</td>\n    </tr>\n    <tr>\n      <th>4</th>\n      <td>1.173655</td>\n      <td>a</td>\n      <td>6</td>\n      <td>high</td>\n    </tr>\n    <tr>\n      <th>5</th>\n      <td>1.004714</td>\n      <td>a</td>\n      <td>5</td>\n      <td>high</td>\n    </tr>\n    <tr>\n      <th>6</th>\n      <td>-0.658996</td>\n      <td>a</td>\n      <td>3</td>\n      <td>low</td>\n    </tr>\n    <tr>\n      <th>7</th>\n      <td>-0.001625</td>\n      <td>a</td>\n      <td>4</td>\n      <td>high</td>\n    </tr>\n    <tr>\n      <th>8</th>\n      <td>-0.580164</td>\n      <td>a</td>\n      <td>3</td>\n      <td>low</td>\n    </tr>\n    <tr>\n      <th>9</th>\n      <td>-1.384673</td>\n      <td>a</td>\n      <td>2</td>\n      <td>low</td>\n    </tr>\n    <tr>\n      <th>10</th>\n      <td>-0.669879</td>\n      <td>b</td>\n      <td>3</td>\n      <td>low</td>\n    </tr>\n    <tr>\n      <th>11</th>\n      <td>1.333885</td>\n      <td>b</td>\n      <td>6</td>\n      <td>high</td>\n    </tr>\n    <tr>\n      <th>12</th>\n      <td>-0.763111</td>\n      <td>b</td>\n      <td>3</td>\n      <td>low</td>\n    </tr>\n    <tr>\n      <th>13</th>\n      <td>-1.416211</td>\n      <td>b</td>\n      <td>2</td>\n      <td>low</td>\n    </tr>\n    <tr>\n      <th>14</th>\n      <td>1.823870</td>\n      <td>b</td>\n      <td>7</td>\n      <td>high</td>\n    </tr>\n    <tr>\n      <th>15</th>\n      <td>-2.209789</td>\n      <td>b</td>\n      <td>1</td>\n      <td>low</td>\n    </tr>\n    <tr>\n      <th>16</th>\n      <td>1.356966</td>\n      <td>b</td>\n      <td>6</td>\n      <td>high</td>\n    </tr>\n    <tr>\n      <th>17</th>\n      <td>-0.786347</td>\n      <td>b</td>\n      <td>3</td>\n      <td>low</td>\n    </tr>\n    <tr>\n      <th>18</th>\n      <td>-1.401197</td>\n      <td>b</td>\n      <td>2</td>\n      <td>low</td>\n    </tr>\n    <tr>\n      <th>19</th>\n      <td>0.549712</td>\n      <td>b</td>\n      <td>5</td>\n      <td>high</td>\n    </tr>\n  </tbody>\n</table>\n</div>"
     },
     "metadata": {},
     "execution_count": 35
    }
   ],
   "source": [
    "df"
   ]
  },
  {
   "cell_type": "code",
   "execution_count": 36,
   "metadata": {},
   "outputs": [
    {
     "output_type": "execute_result",
     "data": {
      "text/plain": "high_low\nhigh    10\nlow     10\ndtype: int64"
     },
     "metadata": {},
     "execution_count": 36
    }
   ],
   "source": [
    "# df의 High_Low열에 대해 그룹화 했을 때 각 그룹에 대한 크기를 출력하시오\n",
    "df.groupby('high_low').size()"
   ]
  },
  {
   "cell_type": "code",
   "execution_count": 37,
   "metadata": {},
   "outputs": [
    {
     "output_type": "execute_result",
     "data": {
      "text/plain": "          c1 c2  c1_bin high_low     hml\n0   0.239624  a       4     high  medium\n1   3.663156  a      10     high    high\n2   0.140510  a       4     high  medium\n3  -2.070068  a       1      low     low\n4   1.173655  a       6     high    high\n5   1.004714  a       5     high  medium\n6  -0.658996  a       3      low  medium\n7  -0.001625  a       4     high  medium\n8  -0.580164  a       3      low  medium\n9  -1.384673  a       2      low     low\n10 -0.669879  b       3      low  medium\n11  1.333885  b       6     high    high\n12 -0.763111  b       3      low  medium\n13 -1.416211  b       2      low     low\n14  1.823870  b       7     high    high\n15 -2.209789  b       1      low     low\n16  1.356966  b       6     high    high\n17 -0.786347  b       3      low  medium\n18 -1.401197  b       2      low     low\n19  0.549712  b       5     high  medium",
      "text/html": "<div>\n<style scoped>\n    .dataframe tbody tr th:only-of-type {\n        vertical-align: middle;\n    }\n\n    .dataframe tbody tr th {\n        vertical-align: top;\n    }\n\n    .dataframe thead th {\n        text-align: right;\n    }\n</style>\n<table border=\"1\" class=\"dataframe\">\n  <thead>\n    <tr style=\"text-align: right;\">\n      <th></th>\n      <th>c1</th>\n      <th>c2</th>\n      <th>c1_bin</th>\n      <th>high_low</th>\n      <th>hml</th>\n    </tr>\n  </thead>\n  <tbody>\n    <tr>\n      <th>0</th>\n      <td>0.239624</td>\n      <td>a</td>\n      <td>4</td>\n      <td>high</td>\n      <td>medium</td>\n    </tr>\n    <tr>\n      <th>1</th>\n      <td>3.663156</td>\n      <td>a</td>\n      <td>10</td>\n      <td>high</td>\n      <td>high</td>\n    </tr>\n    <tr>\n      <th>2</th>\n      <td>0.140510</td>\n      <td>a</td>\n      <td>4</td>\n      <td>high</td>\n      <td>medium</td>\n    </tr>\n    <tr>\n      <th>3</th>\n      <td>-2.070068</td>\n      <td>a</td>\n      <td>1</td>\n      <td>low</td>\n      <td>low</td>\n    </tr>\n    <tr>\n      <th>4</th>\n      <td>1.173655</td>\n      <td>a</td>\n      <td>6</td>\n      <td>high</td>\n      <td>high</td>\n    </tr>\n    <tr>\n      <th>5</th>\n      <td>1.004714</td>\n      <td>a</td>\n      <td>5</td>\n      <td>high</td>\n      <td>medium</td>\n    </tr>\n    <tr>\n      <th>6</th>\n      <td>-0.658996</td>\n      <td>a</td>\n      <td>3</td>\n      <td>low</td>\n      <td>medium</td>\n    </tr>\n    <tr>\n      <th>7</th>\n      <td>-0.001625</td>\n      <td>a</td>\n      <td>4</td>\n      <td>high</td>\n      <td>medium</td>\n    </tr>\n    <tr>\n      <th>8</th>\n      <td>-0.580164</td>\n      <td>a</td>\n      <td>3</td>\n      <td>low</td>\n      <td>medium</td>\n    </tr>\n    <tr>\n      <th>9</th>\n      <td>-1.384673</td>\n      <td>a</td>\n      <td>2</td>\n      <td>low</td>\n      <td>low</td>\n    </tr>\n    <tr>\n      <th>10</th>\n      <td>-0.669879</td>\n      <td>b</td>\n      <td>3</td>\n      <td>low</td>\n      <td>medium</td>\n    </tr>\n    <tr>\n      <th>11</th>\n      <td>1.333885</td>\n      <td>b</td>\n      <td>6</td>\n      <td>high</td>\n      <td>high</td>\n    </tr>\n    <tr>\n      <th>12</th>\n      <td>-0.763111</td>\n      <td>b</td>\n      <td>3</td>\n      <td>low</td>\n      <td>medium</td>\n    </tr>\n    <tr>\n      <th>13</th>\n      <td>-1.416211</td>\n      <td>b</td>\n      <td>2</td>\n      <td>low</td>\n      <td>low</td>\n    </tr>\n    <tr>\n      <th>14</th>\n      <td>1.823870</td>\n      <td>b</td>\n      <td>7</td>\n      <td>high</td>\n      <td>high</td>\n    </tr>\n    <tr>\n      <th>15</th>\n      <td>-2.209789</td>\n      <td>b</td>\n      <td>1</td>\n      <td>low</td>\n      <td>low</td>\n    </tr>\n    <tr>\n      <th>16</th>\n      <td>1.356966</td>\n      <td>b</td>\n      <td>6</td>\n      <td>high</td>\n      <td>high</td>\n    </tr>\n    <tr>\n      <th>17</th>\n      <td>-0.786347</td>\n      <td>b</td>\n      <td>3</td>\n      <td>low</td>\n      <td>medium</td>\n    </tr>\n    <tr>\n      <th>18</th>\n      <td>-1.401197</td>\n      <td>b</td>\n      <td>2</td>\n      <td>low</td>\n      <td>low</td>\n    </tr>\n    <tr>\n      <th>19</th>\n      <td>0.549712</td>\n      <td>b</td>\n      <td>5</td>\n      <td>high</td>\n      <td>medium</td>\n    </tr>\n  </tbody>\n</table>\n</div>"
     },
     "metadata": {},
     "execution_count": 37
    }
   ],
   "source": [
    "q1 = np.percentile(df['c1'],25) # 25% 지점의 수 1사분위수\n",
    "q3 = np.percentile(df['c1'],75) # 75% 지점의 수 3사분위수\n",
    "# df의 c1열 값이 3사분위 수보다 크면 high 그렇지 않고 1사분위 수보다 크면 medium 그렇지 않으면 low\n",
    "df['hml'] = np.where(df['c1']>=q3, 'high',np.where(df['c1']>=q1,'medium','low'))\n",
    "df"
   ]
  },
  {
   "cell_type": "code",
   "execution_count": 40,
   "metadata": {
    "tags": []
   },
   "outputs": [
    {
     "output_type": "stream",
     "name": "stdout",
     "text": "hml\nhigh      1.870307\nlow      -1.696387\nmedium   -0.152556\nName: c1, dtype: float64\nhml\nhigh       5\nlow        5\nmedium    10\nName: c1, dtype: int64\n              c1    c1_bin\nhml                       \nhigh    1.031147  1.732051\nlow     0.408051  0.547723\nmedium  0.630374  0.823273\n"
    }
   ],
   "source": [
    "# hml 컬럼 값에 대해 그룹화 각 그룹별 크기 평균 표준편차 출력\n",
    "print(df.groupby('hml')['c1'].mean())\n",
    "print(df.groupby('hml')['c1'].size())\n",
    "print(df.groupby('hml').std())"
   ]
  },
  {
   "source": [
    "### 구간 나누는 작업\n",
    "- np.linspace : 구간을 나눔 ex) 히스토그램\n",
    "- np.arange() : ~ 부터 ~까지 단위로 나눔 \n",
    "- np.bincount() : 구간별 데이터 개수를 셈\n",
    "- np.digitize() : 구간을 나눔 매핑( 구간 단위 0 or 1 )\n"
   ],
   "cell_type": "markdown",
   "metadata": {}
  },
  {
   "cell_type": "code",
   "execution_count": 42,
   "metadata": {
    "tags": []
   },
   "outputs": [
    {
     "output_type": "stream",
     "name": "stdout",
     "text": "[-1.00000000e+00 -9.00000000e-01 -8.00000000e-01 -7.00000000e-01\n -6.00000000e-01 -5.00000000e-01 -4.00000000e-01 -3.00000000e-01\n -2.00000000e-01 -1.00000000e-01 -2.22044605e-16  1.00000000e-01\n  2.00000000e-01  3.00000000e-01  4.00000000e-01  5.00000000e-01\n  6.00000000e-01  7.00000000e-01  8.00000000e-01  9.00000000e-01]\n[-1.         -0.89473684 -0.78947368 -0.68421053 -0.57894737 -0.47368421\n -0.36842105 -0.26315789 -0.15789474 -0.05263158  0.05263158  0.15789474\n  0.26315789  0.36842105  0.47368421  0.57894737  0.68421053  0.78947368\n  0.89473684  1.        ]\n[11  7  7  8 18  9  7 12  9 12]\n"
    }
   ],
   "source": [
    "print(np.arange(-1,1,0.1))\n",
    "print(np.linspace(-1,1,20))\n",
    "arr=np.random.randint(10,size=100)\n",
    "print(np.bincount(arr)) # 0~ 9까지 각각 데이터의 개수 0 : 11개 1 : 7개"
   ]
  },
  {
   "cell_type": "code",
   "execution_count": 43,
   "metadata": {},
   "outputs": [
    {
     "output_type": "execute_result",
     "data": {
      "text/plain": "[<matplotlib.lines.Line2D at 0x17c6ce98>]"
     },
     "metadata": {},
     "execution_count": 43
    },
    {
     "output_type": "display_data",
     "data": {
      "text/plain": "<Figure size 432x288 with 1 Axes>",
      "image/svg+xml": "<?xml version=\"1.0\" encoding=\"utf-8\" standalone=\"no\"?>\r\n<!DOCTYPE svg PUBLIC \"-//W3C//DTD SVG 1.1//EN\"\r\n  \"http://www.w3.org/Graphics/SVG/1.1/DTD/svg11.dtd\">\r\n<!-- Created with matplotlib (https://matplotlib.org/) -->\r\n<svg height=\"248.518125pt\" version=\"1.1\" viewBox=\"0 0 368.925 248.518125\" width=\"368.925pt\" xmlns=\"http://www.w3.org/2000/svg\" xmlns:xlink=\"http://www.w3.org/1999/xlink\">\r\n <metadata>\r\n  <rdf:RDF xmlns:cc=\"http://creativecommons.org/ns#\" xmlns:dc=\"http://purl.org/dc/elements/1.1/\" xmlns:rdf=\"http://www.w3.org/1999/02/22-rdf-syntax-ns#\">\r\n   <cc:Work>\r\n    <dc:type rdf:resource=\"http://purl.org/dc/dcmitype/StillImage\"/>\r\n    <dc:date>2020-09-17T20:32:55.111496</dc:date>\r\n    <dc:format>image/svg+xml</dc:format>\r\n    <dc:creator>\r\n     <cc:Agent>\r\n      <dc:title>Matplotlib v3.3.1, https://matplotlib.org/</dc:title>\r\n     </cc:Agent>\r\n    </dc:creator>\r\n   </cc:Work>\r\n  </rdf:RDF>\r\n </metadata>\r\n <defs>\r\n  <style type=\"text/css\">*{stroke-linecap:butt;stroke-linejoin:round;}</style>\r\n </defs>\r\n <g id=\"figure_1\">\r\n  <g id=\"patch_1\">\r\n   <path d=\"M -0 248.518125 \r\nL 368.925 248.518125 \r\nL 368.925 0 \r\nL -0 0 \r\nz\r\n\" style=\"fill:none;\"/>\r\n  </g>\r\n  <g id=\"axes_1\">\r\n   <g id=\"patch_2\">\r\n    <path d=\"M 26.925 224.64 \r\nL 361.725 224.64 \r\nL 361.725 7.2 \r\nL 26.925 7.2 \r\nz\r\n\" style=\"fill:#ffffff;\"/>\r\n   </g>\r\n   <g id=\"matplotlib.axis_1\">\r\n    <g id=\"xtick_1\">\r\n     <g id=\"line2d_1\">\r\n      <defs>\r\n       <path d=\"M 0 0 \r\nL 0 3.5 \r\n\" id=\"m1ef6af093d\" style=\"stroke:#000000;stroke-width:0.8;\"/>\r\n      </defs>\r\n      <g>\r\n       <use style=\"stroke:#000000;stroke-width:0.8;\" x=\"42.143182\" xlink:href=\"#m1ef6af093d\" y=\"224.64\"/>\r\n      </g>\r\n     </g>\r\n     <g id=\"text_1\">\r\n      <!-- 0 -->\r\n      <g transform=\"translate(38.961932 239.238437)scale(0.1 -0.1)\">\r\n       <defs>\r\n        <path d=\"M 31.78125 66.40625 \r\nQ 24.171875 66.40625 20.328125 58.90625 \r\nQ 16.5 51.421875 16.5 36.375 \r\nQ 16.5 21.390625 20.328125 13.890625 \r\nQ 24.171875 6.390625 31.78125 6.390625 \r\nQ 39.453125 6.390625 43.28125 13.890625 \r\nQ 47.125 21.390625 47.125 36.375 \r\nQ 47.125 51.421875 43.28125 58.90625 \r\nQ 39.453125 66.40625 31.78125 66.40625 \r\nz\r\nM 31.78125 74.21875 \r\nQ 44.046875 74.21875 50.515625 64.515625 \r\nQ 56.984375 54.828125 56.984375 36.375 \r\nQ 56.984375 17.96875 50.515625 8.265625 \r\nQ 44.046875 -1.421875 31.78125 -1.421875 \r\nQ 19.53125 -1.421875 13.0625 8.265625 \r\nQ 6.59375 17.96875 6.59375 36.375 \r\nQ 6.59375 54.828125 13.0625 64.515625 \r\nQ 19.53125 74.21875 31.78125 74.21875 \r\nz\r\n\" id=\"DejaVuSans-48\"/>\r\n       </defs>\r\n       <use xlink:href=\"#DejaVuSans-48\"/>\r\n      </g>\r\n     </g>\r\n    </g>\r\n    <g id=\"xtick_2\">\r\n     <g id=\"line2d_2\">\r\n      <g>\r\n       <use style=\"stroke:#000000;stroke-width:0.8;\" x=\"109.779545\" xlink:href=\"#m1ef6af093d\" y=\"224.64\"/>\r\n      </g>\r\n     </g>\r\n     <g id=\"text_2\">\r\n      <!-- 2 -->\r\n      <g transform=\"translate(106.598295 239.238437)scale(0.1 -0.1)\">\r\n       <defs>\r\n        <path d=\"M 19.1875 8.296875 \r\nL 53.609375 8.296875 \r\nL 53.609375 0 \r\nL 7.328125 0 \r\nL 7.328125 8.296875 \r\nQ 12.9375 14.109375 22.625 23.890625 \r\nQ 32.328125 33.6875 34.8125 36.53125 \r\nQ 39.546875 41.84375 41.421875 45.53125 \r\nQ 43.3125 49.21875 43.3125 52.78125 \r\nQ 43.3125 58.59375 39.234375 62.25 \r\nQ 35.15625 65.921875 28.609375 65.921875 \r\nQ 23.96875 65.921875 18.8125 64.3125 \r\nQ 13.671875 62.703125 7.8125 59.421875 \r\nL 7.8125 69.390625 \r\nQ 13.765625 71.78125 18.9375 73 \r\nQ 24.125 74.21875 28.421875 74.21875 \r\nQ 39.75 74.21875 46.484375 68.546875 \r\nQ 53.21875 62.890625 53.21875 53.421875 \r\nQ 53.21875 48.921875 51.53125 44.890625 \r\nQ 49.859375 40.875 45.40625 35.40625 \r\nQ 44.1875 33.984375 37.640625 27.21875 \r\nQ 31.109375 20.453125 19.1875 8.296875 \r\nz\r\n\" id=\"DejaVuSans-50\"/>\r\n       </defs>\r\n       <use xlink:href=\"#DejaVuSans-50\"/>\r\n      </g>\r\n     </g>\r\n    </g>\r\n    <g id=\"xtick_3\">\r\n     <g id=\"line2d_3\">\r\n      <g>\r\n       <use style=\"stroke:#000000;stroke-width:0.8;\" x=\"177.415909\" xlink:href=\"#m1ef6af093d\" y=\"224.64\"/>\r\n      </g>\r\n     </g>\r\n     <g id=\"text_3\">\r\n      <!-- 4 -->\r\n      <g transform=\"translate(174.234659 239.238437)scale(0.1 -0.1)\">\r\n       <defs>\r\n        <path d=\"M 37.796875 64.3125 \r\nL 12.890625 25.390625 \r\nL 37.796875 25.390625 \r\nz\r\nM 35.203125 72.90625 \r\nL 47.609375 72.90625 \r\nL 47.609375 25.390625 \r\nL 58.015625 25.390625 \r\nL 58.015625 17.1875 \r\nL 47.609375 17.1875 \r\nL 47.609375 0 \r\nL 37.796875 0 \r\nL 37.796875 17.1875 \r\nL 4.890625 17.1875 \r\nL 4.890625 26.703125 \r\nz\r\n\" id=\"DejaVuSans-52\"/>\r\n       </defs>\r\n       <use xlink:href=\"#DejaVuSans-52\"/>\r\n      </g>\r\n     </g>\r\n    </g>\r\n    <g id=\"xtick_4\">\r\n     <g id=\"line2d_4\">\r\n      <g>\r\n       <use style=\"stroke:#000000;stroke-width:0.8;\" x=\"245.052273\" xlink:href=\"#m1ef6af093d\" y=\"224.64\"/>\r\n      </g>\r\n     </g>\r\n     <g id=\"text_4\">\r\n      <!-- 6 -->\r\n      <g transform=\"translate(241.871023 239.238437)scale(0.1 -0.1)\">\r\n       <defs>\r\n        <path d=\"M 33.015625 40.375 \r\nQ 26.375 40.375 22.484375 35.828125 \r\nQ 18.609375 31.296875 18.609375 23.390625 \r\nQ 18.609375 15.53125 22.484375 10.953125 \r\nQ 26.375 6.390625 33.015625 6.390625 \r\nQ 39.65625 6.390625 43.53125 10.953125 \r\nQ 47.40625 15.53125 47.40625 23.390625 \r\nQ 47.40625 31.296875 43.53125 35.828125 \r\nQ 39.65625 40.375 33.015625 40.375 \r\nz\r\nM 52.59375 71.296875 \r\nL 52.59375 62.3125 \r\nQ 48.875 64.0625 45.09375 64.984375 \r\nQ 41.3125 65.921875 37.59375 65.921875 \r\nQ 27.828125 65.921875 22.671875 59.328125 \r\nQ 17.53125 52.734375 16.796875 39.40625 \r\nQ 19.671875 43.65625 24.015625 45.921875 \r\nQ 28.375 48.1875 33.59375 48.1875 \r\nQ 44.578125 48.1875 50.953125 41.515625 \r\nQ 57.328125 34.859375 57.328125 23.390625 \r\nQ 57.328125 12.15625 50.6875 5.359375 \r\nQ 44.046875 -1.421875 33.015625 -1.421875 \r\nQ 20.359375 -1.421875 13.671875 8.265625 \r\nQ 6.984375 17.96875 6.984375 36.375 \r\nQ 6.984375 53.65625 15.1875 63.9375 \r\nQ 23.390625 74.21875 37.203125 74.21875 \r\nQ 40.921875 74.21875 44.703125 73.484375 \r\nQ 48.484375 72.75 52.59375 71.296875 \r\nz\r\n\" id=\"DejaVuSans-54\"/>\r\n       </defs>\r\n       <use xlink:href=\"#DejaVuSans-54\"/>\r\n      </g>\r\n     </g>\r\n    </g>\r\n    <g id=\"xtick_5\">\r\n     <g id=\"line2d_5\">\r\n      <g>\r\n       <use style=\"stroke:#000000;stroke-width:0.8;\" x=\"312.688636\" xlink:href=\"#m1ef6af093d\" y=\"224.64\"/>\r\n      </g>\r\n     </g>\r\n     <g id=\"text_5\">\r\n      <!-- 8 -->\r\n      <g transform=\"translate(309.507386 239.238437)scale(0.1 -0.1)\">\r\n       <defs>\r\n        <path d=\"M 31.78125 34.625 \r\nQ 24.75 34.625 20.71875 30.859375 \r\nQ 16.703125 27.09375 16.703125 20.515625 \r\nQ 16.703125 13.921875 20.71875 10.15625 \r\nQ 24.75 6.390625 31.78125 6.390625 \r\nQ 38.8125 6.390625 42.859375 10.171875 \r\nQ 46.921875 13.96875 46.921875 20.515625 \r\nQ 46.921875 27.09375 42.890625 30.859375 \r\nQ 38.875 34.625 31.78125 34.625 \r\nz\r\nM 21.921875 38.8125 \r\nQ 15.578125 40.375 12.03125 44.71875 \r\nQ 8.5 49.078125 8.5 55.328125 \r\nQ 8.5 64.0625 14.71875 69.140625 \r\nQ 20.953125 74.21875 31.78125 74.21875 \r\nQ 42.671875 74.21875 48.875 69.140625 \r\nQ 55.078125 64.0625 55.078125 55.328125 \r\nQ 55.078125 49.078125 51.53125 44.71875 \r\nQ 48 40.375 41.703125 38.8125 \r\nQ 48.828125 37.15625 52.796875 32.3125 \r\nQ 56.78125 27.484375 56.78125 20.515625 \r\nQ 56.78125 9.90625 50.3125 4.234375 \r\nQ 43.84375 -1.421875 31.78125 -1.421875 \r\nQ 19.734375 -1.421875 13.25 4.234375 \r\nQ 6.78125 9.90625 6.78125 20.515625 \r\nQ 6.78125 27.484375 10.78125 32.3125 \r\nQ 14.796875 37.15625 21.921875 38.8125 \r\nz\r\nM 18.3125 54.390625 \r\nQ 18.3125 48.734375 21.84375 45.5625 \r\nQ 25.390625 42.390625 31.78125 42.390625 \r\nQ 38.140625 42.390625 41.71875 45.5625 \r\nQ 45.3125 48.734375 45.3125 54.390625 \r\nQ 45.3125 60.0625 41.71875 63.234375 \r\nQ 38.140625 66.40625 31.78125 66.40625 \r\nQ 25.390625 66.40625 21.84375 63.234375 \r\nQ 18.3125 60.0625 18.3125 54.390625 \r\nz\r\n\" id=\"DejaVuSans-56\"/>\r\n       </defs>\r\n       <use xlink:href=\"#DejaVuSans-56\"/>\r\n      </g>\r\n     </g>\r\n    </g>\r\n   </g>\r\n   <g id=\"matplotlib.axis_2\">\r\n    <g id=\"ytick_1\">\r\n     <g id=\"line2d_6\">\r\n      <defs>\r\n       <path d=\"M 0 0 \r\nL -3.5 0 \r\n\" id=\"mabd07cdb0f\" style=\"stroke:#000000;stroke-width:0.8;\"/>\r\n      </defs>\r\n      <g>\r\n       <use style=\"stroke:#000000;stroke-width:0.8;\" x=\"26.925\" xlink:href=\"#mabd07cdb0f\" y=\"196.786116\"/>\r\n      </g>\r\n     </g>\r\n     <g id=\"text_6\">\r\n      <!-- 8 -->\r\n      <g transform=\"translate(13.5625 200.585334)scale(0.1 -0.1)\">\r\n       <use xlink:href=\"#DejaVuSans-56\"/>\r\n      </g>\r\n     </g>\r\n    </g>\r\n    <g id=\"ytick_2\">\r\n     <g id=\"line2d_7\">\r\n      <g>\r\n       <use style=\"stroke:#000000;stroke-width:0.8;\" x=\"26.925\" xlink:href=\"#mabd07cdb0f\" y=\"160.84562\"/>\r\n      </g>\r\n     </g>\r\n     <g id=\"text_7\">\r\n      <!-- 10 -->\r\n      <g transform=\"translate(7.2 164.644839)scale(0.1 -0.1)\">\r\n       <defs>\r\n        <path d=\"M 12.40625 8.296875 \r\nL 28.515625 8.296875 \r\nL 28.515625 63.921875 \r\nL 10.984375 60.40625 \r\nL 10.984375 69.390625 \r\nL 28.421875 72.90625 \r\nL 38.28125 72.90625 \r\nL 38.28125 8.296875 \r\nL 54.390625 8.296875 \r\nL 54.390625 0 \r\nL 12.40625 0 \r\nz\r\n\" id=\"DejaVuSans-49\"/>\r\n       </defs>\r\n       <use xlink:href=\"#DejaVuSans-49\"/>\r\n       <use x=\"63.623047\" xlink:href=\"#DejaVuSans-48\"/>\r\n      </g>\r\n     </g>\r\n    </g>\r\n    <g id=\"ytick_3\">\r\n     <g id=\"line2d_8\">\r\n      <g>\r\n       <use style=\"stroke:#000000;stroke-width:0.8;\" x=\"26.925\" xlink:href=\"#mabd07cdb0f\" y=\"124.905124\"/>\r\n      </g>\r\n     </g>\r\n     <g id=\"text_8\">\r\n      <!-- 12 -->\r\n      <g transform=\"translate(7.2 128.704343)scale(0.1 -0.1)\">\r\n       <use xlink:href=\"#DejaVuSans-49\"/>\r\n       <use x=\"63.623047\" xlink:href=\"#DejaVuSans-50\"/>\r\n      </g>\r\n     </g>\r\n    </g>\r\n    <g id=\"ytick_4\">\r\n     <g id=\"line2d_9\">\r\n      <g>\r\n       <use style=\"stroke:#000000;stroke-width:0.8;\" x=\"26.925\" xlink:href=\"#mabd07cdb0f\" y=\"88.964628\"/>\r\n      </g>\r\n     </g>\r\n     <g id=\"text_9\">\r\n      <!-- 14 -->\r\n      <g transform=\"translate(7.2 92.763847)scale(0.1 -0.1)\">\r\n       <use xlink:href=\"#DejaVuSans-49\"/>\r\n       <use x=\"63.623047\" xlink:href=\"#DejaVuSans-52\"/>\r\n      </g>\r\n     </g>\r\n    </g>\r\n    <g id=\"ytick_5\">\r\n     <g id=\"line2d_10\">\r\n      <g>\r\n       <use style=\"stroke:#000000;stroke-width:0.8;\" x=\"26.925\" xlink:href=\"#mabd07cdb0f\" y=\"53.024132\"/>\r\n      </g>\r\n     </g>\r\n     <g id=\"text_10\">\r\n      <!-- 16 -->\r\n      <g transform=\"translate(7.2 56.823351)scale(0.1 -0.1)\">\r\n       <use xlink:href=\"#DejaVuSans-49\"/>\r\n       <use x=\"63.623047\" xlink:href=\"#DejaVuSans-54\"/>\r\n      </g>\r\n     </g>\r\n    </g>\r\n    <g id=\"ytick_6\">\r\n     <g id=\"line2d_11\">\r\n      <g>\r\n       <use style=\"stroke:#000000;stroke-width:0.8;\" x=\"26.925\" xlink:href=\"#mabd07cdb0f\" y=\"17.083636\"/>\r\n      </g>\r\n     </g>\r\n     <g id=\"text_11\">\r\n      <!-- 18 -->\r\n      <g transform=\"translate(7.2 20.882855)scale(0.1 -0.1)\">\r\n       <use xlink:href=\"#DejaVuSans-49\"/>\r\n       <use x=\"63.623047\" xlink:href=\"#DejaVuSans-56\"/>\r\n      </g>\r\n     </g>\r\n    </g>\r\n   </g>\r\n   <g id=\"line2d_12\">\r\n    <path clip-path=\"url(#p46a3bc3abe)\" d=\"M 42.143182 142.875372 \r\nL 75.961364 214.756364 \r\nL 109.779545 214.756364 \r\nL 143.597727 196.786116 \r\nL 177.415909 17.083636 \r\nL 211.234091 178.815868 \r\nL 245.052273 214.756364 \r\nL 278.870455 124.905124 \r\nL 312.688636 178.815868 \r\nL 346.506818 124.905124 \r\n\" style=\"fill:none;stroke:#1f77b4;stroke-linecap:square;stroke-width:1.5;\"/>\r\n   </g>\r\n   <g id=\"patch_3\">\r\n    <path d=\"M 26.925 224.64 \r\nL 26.925 7.2 \r\n\" style=\"fill:none;stroke:#000000;stroke-linecap:square;stroke-linejoin:miter;stroke-width:0.8;\"/>\r\n   </g>\r\n   <g id=\"patch_4\">\r\n    <path d=\"M 361.725 224.64 \r\nL 361.725 7.2 \r\n\" style=\"fill:none;stroke:#000000;stroke-linecap:square;stroke-linejoin:miter;stroke-width:0.8;\"/>\r\n   </g>\r\n   <g id=\"patch_5\">\r\n    <path d=\"M 26.925 224.64 \r\nL 361.725 224.64 \r\n\" style=\"fill:none;stroke:#000000;stroke-linecap:square;stroke-linejoin:miter;stroke-width:0.8;\"/>\r\n   </g>\r\n   <g id=\"patch_6\">\r\n    <path d=\"M 26.925 7.2 \r\nL 361.725 7.2 \r\n\" style=\"fill:none;stroke:#000000;stroke-linecap:square;stroke-linejoin:miter;stroke-width:0.8;\"/>\r\n   </g>\r\n  </g>\r\n </g>\r\n <defs>\r\n  <clipPath id=\"p46a3bc3abe\">\r\n   <rect height=\"217.44\" width=\"334.8\" x=\"26.925\" y=\"7.2\"/>\r\n  </clipPath>\r\n </defs>\r\n</svg>\r\n",
      "image/png": "[encoded data removed]"
     },
     "metadata": {
      "needs_background": "light"
     }
    }
   ],
   "source": [
    "import matplotlib.pyplot as plt \n",
    "plt.plot(np.bincount(arr))"
   ]
  },
  {
   "cell_type": "code",
   "execution_count": 45,
   "metadata": {},
   "outputs": [],
   "source": [
    "# 수우미양가 출력\n",
    "scores = [60, 95, 77, 85, 50, 65, 92, 90, 70]\n",
    "grade = ['가','양','미','우','수']\n",
    "g = np.digitize(scores,bins = [60,70,80,90]) ## 인덱스 출력\n",
    "res = [grade[i] for i in g]"
   ]
  },
  {
   "cell_type": "code",
   "execution_count": 46,
   "metadata": {},
   "outputs": [
    {
     "output_type": "execute_result",
     "data": {
      "text/plain": "['양', '수', '미', '우', '가', '양', '수', '수', '미']"
     },
     "metadata": {},
     "execution_count": 46
    }
   ],
   "source": [
    "res"
   ]
  },
  {
   "source": [
    "### 데이터 재구조화 : pivot, pivot_table, stack, unstack, melt"
   ],
   "cell_type": "markdown",
   "metadata": {}
  },
  {
   "cell_type": "code",
   "execution_count": 47,
   "metadata": {},
   "outputs": [],
   "source": [
    "# index col   val\n",
    "# 1    매출1  100\n",
    "# 1    매출1  200  \n",
    "# 2    매입1  300\n",
    "# 2    매입1  400\n",
    "# =>재구조화\n",
    "# index  매출1   매입1\n",
    "#  1      100     300\n",
    "#  2      200     400"
   ]
  },
  {
   "source": [
    "df.pivot(index, columns, values)    \n",
    "df.pivot_table(data, index, columns, values)    "
   ],
   "cell_type": "markdown",
   "metadata": {}
  },
  {
   "cell_type": "code",
   "execution_count": 49,
   "metadata": {},
   "outputs": [
    {
     "output_type": "execute_result",
     "data": {
      "text/plain": "  cust_id prod_cd grade  pch_amt\n0      c1      p1     A       30\n1      c1      p2     A       10\n2      c1      p3     A        0\n3      c2      p1     A       40\n4      c2      p2     A       15\n5      c2      p3     A       30\n6      c3      p1     B        0\n7      c3      p2     B        0\n8      c3      p3     B       10",
      "text/html": "<div>\n<style scoped>\n    .dataframe tbody tr th:only-of-type {\n        vertical-align: middle;\n    }\n\n    .dataframe tbody tr th {\n        vertical-align: top;\n    }\n\n    .dataframe thead th {\n        text-align: right;\n    }\n</style>\n<table border=\"1\" class=\"dataframe\">\n  <thead>\n    <tr style=\"text-align: right;\">\n      <th></th>\n      <th>cust_id</th>\n      <th>prod_cd</th>\n      <th>grade</th>\n      <th>pch_amt</th>\n    </tr>\n  </thead>\n  <tbody>\n    <tr>\n      <th>0</th>\n      <td>c1</td>\n      <td>p1</td>\n      <td>A</td>\n      <td>30</td>\n    </tr>\n    <tr>\n      <th>1</th>\n      <td>c1</td>\n      <td>p2</td>\n      <td>A</td>\n      <td>10</td>\n    </tr>\n    <tr>\n      <th>2</th>\n      <td>c1</td>\n      <td>p3</td>\n      <td>A</td>\n      <td>0</td>\n    </tr>\n    <tr>\n      <th>3</th>\n      <td>c2</td>\n      <td>p1</td>\n      <td>A</td>\n      <td>40</td>\n    </tr>\n    <tr>\n      <th>4</th>\n      <td>c2</td>\n      <td>p2</td>\n      <td>A</td>\n      <td>15</td>\n    </tr>\n    <tr>\n      <th>5</th>\n      <td>c2</td>\n      <td>p3</td>\n      <td>A</td>\n      <td>30</td>\n    </tr>\n    <tr>\n      <th>6</th>\n      <td>c3</td>\n      <td>p1</td>\n      <td>B</td>\n      <td>0</td>\n    </tr>\n    <tr>\n      <th>7</th>\n      <td>c3</td>\n      <td>p2</td>\n      <td>B</td>\n      <td>0</td>\n    </tr>\n    <tr>\n      <th>8</th>\n      <td>c3</td>\n      <td>p3</td>\n      <td>B</td>\n      <td>10</td>\n    </tr>\n  </tbody>\n</table>\n</div>"
     },
     "metadata": {},
     "execution_count": 49
    }
   ],
   "source": [
    "data = pd.DataFrame({'cust_id': ['c1', 'c1', 'c1', 'c2', 'c2', 'c2', 'c3', 'c3', 'c3'],\n",
    "   'prod_cd': ['p1', 'p2', 'p3', 'p1', 'p2', 'p3', 'p1', 'p2', 'p3'],\n",
    "   'grade' : ['A', 'A', 'A', 'A', 'A', 'A', 'B', 'B', 'B'],\n",
    "   'pch_amt': [30, 10, 0, 40, 15, 30, 0, 0, 10]})\n",
    "data"
   ]
  },
  {
   "source": [
    "df.pivot(index, columns, values)    \n",
    "pivot < pivot_table 함수를 더 많이 사용"
   ],
   "cell_type": "markdown",
   "metadata": {}
  },
  {
   "cell_type": "code",
   "execution_count": 52,
   "metadata": {},
   "outputs": [
    {
     "output_type": "execute_result",
     "data": {
      "text/plain": "prod_cd  p1  p2  p3\ncust_id            \nc1       30  10   0\nc2       40  15  30\nc3        0   0  10",
      "text/html": "<div>\n<style scoped>\n    .dataframe tbody tr th:only-of-type {\n        vertical-align: middle;\n    }\n\n    .dataframe tbody tr th {\n        vertical-align: top;\n    }\n\n    .dataframe thead th {\n        text-align: right;\n    }\n</style>\n<table border=\"1\" class=\"dataframe\">\n  <thead>\n    <tr style=\"text-align: right;\">\n      <th>prod_cd</th>\n      <th>p1</th>\n      <th>p2</th>\n      <th>p3</th>\n    </tr>\n    <tr>\n      <th>cust_id</th>\n      <th></th>\n      <th></th>\n      <th></th>\n    </tr>\n  </thead>\n  <tbody>\n    <tr>\n      <th>c1</th>\n      <td>30</td>\n      <td>10</td>\n      <td>0</td>\n    </tr>\n    <tr>\n      <th>c2</th>\n      <td>40</td>\n      <td>15</td>\n      <td>30</td>\n    </tr>\n    <tr>\n      <th>c3</th>\n      <td>0</td>\n      <td>0</td>\n      <td>10</td>\n    </tr>\n  </tbody>\n</table>\n</div>"
     },
     "metadata": {},
     "execution_count": 52
    }
   ],
   "source": [
    "df_pivot = data.pivot(index = 'cust_id',columns = 'prod_cd',values = 'pch_amt')\n",
    "df_pivot"
   ]
  },
  {
   "cell_type": "code",
   "execution_count": 53,
   "metadata": {},
   "outputs": [
    {
     "output_type": "execute_result",
     "data": {
      "text/plain": "prod_cd  p1  p2  p3\ncust_id            \nc1       30  10   0\nc2       40  15  30\nc3        0   0  10",
      "text/html": "<div>\n<style scoped>\n    .dataframe tbody tr th:only-of-type {\n        vertical-align: middle;\n    }\n\n    .dataframe tbody tr th {\n        vertical-align: top;\n    }\n\n    .dataframe thead th {\n        text-align: right;\n    }\n</style>\n<table border=\"1\" class=\"dataframe\">\n  <thead>\n    <tr style=\"text-align: right;\">\n      <th>prod_cd</th>\n      <th>p1</th>\n      <th>p2</th>\n      <th>p3</th>\n    </tr>\n    <tr>\n      <th>cust_id</th>\n      <th></th>\n      <th></th>\n      <th></th>\n    </tr>\n  </thead>\n  <tbody>\n    <tr>\n      <th>c1</th>\n      <td>30</td>\n      <td>10</td>\n      <td>0</td>\n    </tr>\n    <tr>\n      <th>c2</th>\n      <td>40</td>\n      <td>15</td>\n      <td>30</td>\n    </tr>\n    <tr>\n      <th>c3</th>\n      <td>0</td>\n      <td>0</td>\n      <td>10</td>\n    </tr>\n  </tbody>\n</table>\n</div>"
     },
     "metadata": {},
     "execution_count": 53
    }
   ],
   "source": [
    "df_pivot = pd.pivot_table(data,index = 'cust_id',columns = 'prod_cd',values='pch_amt')\n",
    "df_pivot"
   ]
  },
  {
   "source": [
    "### pivot과 pivot_table가 같아보이지만 기능적 자유도가 pivot_table이 더 높다"
   ],
   "cell_type": "markdown",
   "metadata": {}
  },
  {
   "cell_type": "code",
   "execution_count": 54,
   "metadata": {},
   "outputs": [
    {
     "output_type": "execute_result",
     "data": {
      "text/plain": "prod_cd        p1  p2  p3\ncust_id grade            \nc1      A      30  10   0\nc2      A      40  15  30\nc3      B       0   0  10",
      "text/html": "<div>\n<style scoped>\n    .dataframe tbody tr th:only-of-type {\n        vertical-align: middle;\n    }\n\n    .dataframe tbody tr th {\n        vertical-align: top;\n    }\n\n    .dataframe thead th {\n        text-align: right;\n    }\n</style>\n<table border=\"1\" class=\"dataframe\">\n  <thead>\n    <tr style=\"text-align: right;\">\n      <th></th>\n      <th>prod_cd</th>\n      <th>p1</th>\n      <th>p2</th>\n      <th>p3</th>\n    </tr>\n    <tr>\n      <th>cust_id</th>\n      <th>grade</th>\n      <th></th>\n      <th></th>\n      <th></th>\n    </tr>\n  </thead>\n  <tbody>\n    <tr>\n      <th>c1</th>\n      <th>A</th>\n      <td>30</td>\n      <td>10</td>\n      <td>0</td>\n    </tr>\n    <tr>\n      <th>c2</th>\n      <th>A</th>\n      <td>40</td>\n      <td>15</td>\n      <td>30</td>\n    </tr>\n    <tr>\n      <th>c3</th>\n      <th>B</th>\n      <td>0</td>\n      <td>0</td>\n      <td>10</td>\n    </tr>\n  </tbody>\n</table>\n</div>"
     },
     "metadata": {},
     "execution_count": 54
    }
   ],
   "source": [
    "# data.pivot(index =['cust_id','grade'], columns = 'prod_cd',values = 'pch_amt') 에러 발생 ## 인덱스가 2개이상인 경우\n",
    "pd.pivot_table(data,index= ['cust_id','grade'],columns = 'prod_cd',values='pch_amt')\n",
    "## 컬럼의 개수가 2개 이상이어도 같은 경우 적용된다. "
   ]
  },
  {
   "cell_type": "code",
   "execution_count": 55,
   "metadata": {},
   "outputs": [
    {
     "output_type": "execute_result",
     "data": {
      "text/plain": "prod_cd    p1    p2    p3\ngrade                    \nA        35.0  12.5  15.0\nB         0.0   0.0  10.0",
      "text/html": "<div>\n<style scoped>\n    .dataframe tbody tr th:only-of-type {\n        vertical-align: middle;\n    }\n\n    .dataframe tbody tr th {\n        vertical-align: top;\n    }\n\n    .dataframe thead th {\n        text-align: right;\n    }\n</style>\n<table border=\"1\" class=\"dataframe\">\n  <thead>\n    <tr style=\"text-align: right;\">\n      <th>prod_cd</th>\n      <th>p1</th>\n      <th>p2</th>\n      <th>p3</th>\n    </tr>\n    <tr>\n      <th>grade</th>\n      <th></th>\n      <th></th>\n      <th></th>\n    </tr>\n  </thead>\n  <tbody>\n    <tr>\n      <th>A</th>\n      <td>35.0</td>\n      <td>12.5</td>\n      <td>15.0</td>\n    </tr>\n    <tr>\n      <th>B</th>\n      <td>0.0</td>\n      <td>0.0</td>\n      <td>10.0</td>\n    </tr>\n  </tbody>\n</table>\n</div>"
     },
     "metadata": {},
     "execution_count": 55
    }
   ],
   "source": [
    "\n",
    "# data.pivot(index ='grade',columns = 'prod_cd', values = 'pch_amt' ) # 오류!!  값이 겹치는 경우 연산하지 못한다.   \n",
    "\n",
    "pd.pivot_table(data, index = 'grade',columns = 'prod_cd',values = 'pch_amt')"
   ]
  },
  {
   "cell_type": "code",
   "execution_count": 56,
   "metadata": {},
   "outputs": [
    {
     "output_type": "execute_result",
     "data": {
      "text/plain": "prod_cd    p1    p2    p3\ngrade                    \nA        35.0  12.5  15.0\nB         0.0   0.0  10.0",
      "text/html": "<div>\n<style scoped>\n    .dataframe tbody tr th:only-of-type {\n        vertical-align: middle;\n    }\n\n    .dataframe tbody tr th {\n        vertical-align: top;\n    }\n\n    .dataframe thead th {\n        text-align: right;\n    }\n</style>\n<table border=\"1\" class=\"dataframe\">\n  <thead>\n    <tr style=\"text-align: right;\">\n      <th>prod_cd</th>\n      <th>p1</th>\n      <th>p2</th>\n      <th>p3</th>\n    </tr>\n    <tr>\n      <th>grade</th>\n      <th></th>\n      <th></th>\n      <th></th>\n    </tr>\n  </thead>\n  <tbody>\n    <tr>\n      <th>A</th>\n      <td>35.0</td>\n      <td>12.5</td>\n      <td>15.0</td>\n    </tr>\n    <tr>\n      <th>B</th>\n      <td>0.0</td>\n      <td>0.0</td>\n      <td>10.0</td>\n    </tr>\n  </tbody>\n</table>\n</div>"
     },
     "metadata": {},
     "execution_count": 56
    }
   ],
   "source": [
    "pd.pivot_table(data, index = 'grade',columns = 'prod_cd',values = 'pch_amt',aggfunc=np.mean) # 평균 함수가 디폴트로 적용된다. \n",
    "# mean, sum, max 기본함수 적용 가능 "
   ]
  },
  {
   "cell_type": "code",
   "execution_count": 58,
   "metadata": {},
   "outputs": [
    {
     "output_type": "execute_result",
     "data": {
      "text/plain": "prod_cd  p1  p2  p3  All\ngrade                   \nA        70  25  30  125\nB         0   0  10   10\nAll      70  25  40  135",
      "text/html": "<div>\n<style scoped>\n    .dataframe tbody tr th:only-of-type {\n        vertical-align: middle;\n    }\n\n    .dataframe tbody tr th {\n        vertical-align: top;\n    }\n\n    .dataframe thead th {\n        text-align: right;\n    }\n</style>\n<table border=\"1\" class=\"dataframe\">\n  <thead>\n    <tr style=\"text-align: right;\">\n      <th>prod_cd</th>\n      <th>p1</th>\n      <th>p2</th>\n      <th>p3</th>\n      <th>All</th>\n    </tr>\n    <tr>\n      <th>grade</th>\n      <th></th>\n      <th></th>\n      <th></th>\n      <th></th>\n    </tr>\n  </thead>\n  <tbody>\n    <tr>\n      <th>A</th>\n      <td>70</td>\n      <td>25</td>\n      <td>30</td>\n      <td>125</td>\n    </tr>\n    <tr>\n      <th>B</th>\n      <td>0</td>\n      <td>0</td>\n      <td>10</td>\n      <td>10</td>\n    </tr>\n    <tr>\n      <th>All</th>\n      <td>70</td>\n      <td>25</td>\n      <td>40</td>\n      <td>135</td>\n    </tr>\n  </tbody>\n</table>\n</div>"
     },
     "metadata": {},
     "execution_count": 58
    }
   ],
   "source": [
    "pd.pivot_table(data,index = 'grade',columns= 'prod_cd',values = 'pch_amt',aggfunc=np.sum,margins=True)\n",
    "# margin = True 모든 값에 함수를 적용한 값을 출력"
   ]
  },
  {
   "cell_type": "code",
   "execution_count": 59,
   "metadata": {},
   "outputs": [
    {
     "output_type": "execute_result",
     "data": {
      "text/plain": "MultiIndex([('c1', '2020'),\n            ('c1', '2021'),\n            ('c2', '2020'),\n            ('c2', '2021')],\n           )"
     },
     "metadata": {},
     "execution_count": 59
    }
   ],
   "source": [
    "# 다중 인덱스 생성\n",
    "multindex = pd.MultiIndex.from_tuples([ \n",
    "    ('c1','2020'),('c1','2021'),('c2','2020'),('c2','2021')\n",
    "])\n",
    "multindex"
   ]
  },
  {
   "cell_type": "code",
   "execution_count": 61,
   "metadata": {},
   "outputs": [
    {
     "output_type": "execute_result",
     "data": {
      "text/plain": "         p1  p2  p3  p4\nc1 2020   0   1   2   3\n   2021   4   5   6   7\nc2 2020   8   9  10  11\n   2021  12  13  14  15",
      "text/html": "<div>\n<style scoped>\n    .dataframe tbody tr th:only-of-type {\n        vertical-align: middle;\n    }\n\n    .dataframe tbody tr th {\n        vertical-align: top;\n    }\n\n    .dataframe thead th {\n        text-align: right;\n    }\n</style>\n<table border=\"1\" class=\"dataframe\">\n  <thead>\n    <tr style=\"text-align: right;\">\n      <th></th>\n      <th></th>\n      <th>p1</th>\n      <th>p2</th>\n      <th>p3</th>\n      <th>p4</th>\n    </tr>\n  </thead>\n  <tbody>\n    <tr>\n      <th rowspan=\"2\" valign=\"top\">c1</th>\n      <th>2020</th>\n      <td>0</td>\n      <td>1</td>\n      <td>2</td>\n      <td>3</td>\n    </tr>\n    <tr>\n      <th>2021</th>\n      <td>4</td>\n      <td>5</td>\n      <td>6</td>\n      <td>7</td>\n    </tr>\n    <tr>\n      <th rowspan=\"2\" valign=\"top\">c2</th>\n      <th>2020</th>\n      <td>8</td>\n      <td>9</td>\n      <td>10</td>\n      <td>11</td>\n    </tr>\n    <tr>\n      <th>2021</th>\n      <td>12</td>\n      <td>13</td>\n      <td>14</td>\n      <td>15</td>\n    </tr>\n  </tbody>\n</table>\n</div>"
     },
     "metadata": {},
     "execution_count": 61
    }
   ],
   "source": [
    "data = pd.DataFrame(np.arange(16).reshape(4,4),index = multindex,columns = ['p1','p2','p3','p4'])\n",
    "data"
   ]
  },
  {
   "source": [
    "### 데이터 프레임 구조 변경 stack , unstack"
   ],
   "cell_type": "markdown",
   "metadata": {}
  },
  {
   "cell_type": "code",
   "execution_count": 64,
   "metadata": {},
   "outputs": [
    {
     "output_type": "execute_result",
     "data": {
      "text/plain": "c1  2020  p1     0\n          p2     1\n          p3     2\n          p4     3\n    2021  p1     4\n          p2     5\n          p3     6\n          p4     7\nc2  2020  p1     8\n          p2     9\n          p3    10\n          p4    11\n    2021  p1    12\n          p2    13\n          p3    14\n          p4    15\ndtype: int32"
     },
     "metadata": {},
     "execution_count": 64
    }
   ],
   "source": [
    "datastack = data.stack()\n",
    "datastack # 열 인덱스가 반시계 방향으로 90도 회전 "
   ]
  },
  {
   "cell_type": "code",
   "execution_count": 67,
   "metadata": {},
   "outputs": [
    {
     "output_type": "execute_result",
     "data": {
      "text/plain": "         p1  p2  p3   p4\nc1 2020   0   1   2  3.0\n   2021   4   5   6  7.0\nc2 2020   8   9  10  NaN\n   2021  12  13  14  NaN",
      "text/html": "<div>\n<style scoped>\n    .dataframe tbody tr th:only-of-type {\n        vertical-align: middle;\n    }\n\n    .dataframe tbody tr th {\n        vertical-align: top;\n    }\n\n    .dataframe thead th {\n        text-align: right;\n    }\n</style>\n<table border=\"1\" class=\"dataframe\">\n  <thead>\n    <tr style=\"text-align: right;\">\n      <th></th>\n      <th></th>\n      <th>p1</th>\n      <th>p2</th>\n      <th>p3</th>\n      <th>p4</th>\n    </tr>\n  </thead>\n  <tbody>\n    <tr>\n      <th rowspan=\"2\" valign=\"top\">c1</th>\n      <th>2020</th>\n      <td>0</td>\n      <td>1</td>\n      <td>2</td>\n      <td>3.0</td>\n    </tr>\n    <tr>\n      <th>2021</th>\n      <td>4</td>\n      <td>5</td>\n      <td>6</td>\n      <td>7.0</td>\n    </tr>\n    <tr>\n      <th rowspan=\"2\" valign=\"top\">c2</th>\n      <th>2020</th>\n      <td>8</td>\n      <td>9</td>\n      <td>10</td>\n      <td>NaN</td>\n    </tr>\n    <tr>\n      <th>2021</th>\n      <td>12</td>\n      <td>13</td>\n      <td>14</td>\n      <td>NaN</td>\n    </tr>\n  </tbody>\n</table>\n</div>"
     },
     "metadata": {},
     "execution_count": 67
    }
   ],
   "source": [
    "# stack을 이용한 결측값 제거 \n",
    "data.loc['c2','p4'] = np.nan \n",
    "data"
   ]
  },
  {
   "cell_type": "code",
   "execution_count": 68,
   "metadata": {},
   "outputs": [
    {
     "output_type": "execute_result",
     "data": {
      "text/plain": "c1  2020  p1     0.0\n          p2     1.0\n          p3     2.0\n          p4     3.0\n    2021  p1     4.0\n          p2     5.0\n          p3     6.0\n          p4     7.0\nc2  2020  p1     8.0\n          p2     9.0\n          p3    10.0\n    2021  p1    12.0\n          p2    13.0\n          p3    14.0\ndtype: float64"
     },
     "metadata": {},
     "execution_count": 68
    }
   ],
   "source": [
    "data.stack(dropna=True) ## 2020,2021 p4 제거"
   ]
  },
  {
   "source": [
    "### unstack() 행 인덱스 시계방향으로 90도 회전"
   ],
   "cell_type": "markdown",
   "metadata": {}
  },
  {
   "cell_type": "code",
   "execution_count": 70,
   "metadata": {},
   "outputs": [
    {
     "output_type": "execute_result",
     "data": {
      "text/plain": "         p1  p2  p3  p4\nc1 2020   0   1   2   3\n   2021   4   5   6   7\nc2 2020   8   9  10  11\n   2021  12  13  14  15",
      "text/html": "<div>\n<style scoped>\n    .dataframe tbody tr th:only-of-type {\n        vertical-align: middle;\n    }\n\n    .dataframe tbody tr th {\n        vertical-align: top;\n    }\n\n    .dataframe thead th {\n        text-align: right;\n    }\n</style>\n<table border=\"1\" class=\"dataframe\">\n  <thead>\n    <tr style=\"text-align: right;\">\n      <th></th>\n      <th></th>\n      <th>p1</th>\n      <th>p2</th>\n      <th>p3</th>\n      <th>p4</th>\n    </tr>\n  </thead>\n  <tbody>\n    <tr>\n      <th rowspan=\"2\" valign=\"top\">c1</th>\n      <th>2020</th>\n      <td>0</td>\n      <td>1</td>\n      <td>2</td>\n      <td>3</td>\n    </tr>\n    <tr>\n      <th>2021</th>\n      <td>4</td>\n      <td>5</td>\n      <td>6</td>\n      <td>7</td>\n    </tr>\n    <tr>\n      <th rowspan=\"2\" valign=\"top\">c2</th>\n      <th>2020</th>\n      <td>8</td>\n      <td>9</td>\n      <td>10</td>\n      <td>11</td>\n    </tr>\n    <tr>\n      <th>2021</th>\n      <td>12</td>\n      <td>13</td>\n      <td>14</td>\n      <td>15</td>\n    </tr>\n  </tbody>\n</table>\n</div>"
     },
     "metadata": {},
     "execution_count": 70
    }
   ],
   "source": [
    "datastack.unstack() # == data 되돌아왔다 ( 가장 낮은 레벨의 인덱스부터 적용 )"
   ]
  },
  {
   "cell_type": "code",
   "execution_count": 74,
   "metadata": {},
   "outputs": [
    {
     "output_type": "execute_result",
     "data": {
      "text/plain": "         p1  p2  p3  p4\nc1 2020   0   1   2   3\n   2021   4   5   6   7\nc2 2020   8   9  10  11\n   2021  12  13  14  15",
      "text/html": "<div>\n<style scoped>\n    .dataframe tbody tr th:only-of-type {\n        vertical-align: middle;\n    }\n\n    .dataframe tbody tr th {\n        vertical-align: top;\n    }\n\n    .dataframe thead th {\n        text-align: right;\n    }\n</style>\n<table border=\"1\" class=\"dataframe\">\n  <thead>\n    <tr style=\"text-align: right;\">\n      <th></th>\n      <th></th>\n      <th>p1</th>\n      <th>p2</th>\n      <th>p3</th>\n      <th>p4</th>\n    </tr>\n  </thead>\n  <tbody>\n    <tr>\n      <th rowspan=\"2\" valign=\"top\">c1</th>\n      <th>2020</th>\n      <td>0</td>\n      <td>1</td>\n      <td>2</td>\n      <td>3</td>\n    </tr>\n    <tr>\n      <th>2021</th>\n      <td>4</td>\n      <td>5</td>\n      <td>6</td>\n      <td>7</td>\n    </tr>\n    <tr>\n      <th rowspan=\"2\" valign=\"top\">c2</th>\n      <th>2020</th>\n      <td>8</td>\n      <td>9</td>\n      <td>10</td>\n      <td>11</td>\n    </tr>\n    <tr>\n      <th>2021</th>\n      <td>12</td>\n      <td>13</td>\n      <td>14</td>\n      <td>15</td>\n    </tr>\n  </tbody>\n</table>\n</div>"
     },
     "metadata": {},
     "execution_count": 74
    }
   ],
   "source": [
    "datastack.unstack(level = 2) # 디폴트 레벨은 2이다. "
   ]
  },
  {
   "cell_type": "code",
   "execution_count": 75,
   "metadata": {},
   "outputs": [
    {
     "output_type": "execute_result",
     "data": {
      "text/plain": "       2020  2021\nc1 p1     0     4\n   p2     1     5\n   p3     2     6\n   p4     3     7\nc2 p1     8    12\n   p2     9    13\n   p3    10    14\n   p4    11    15",
      "text/html": "<div>\n<style scoped>\n    .dataframe tbody tr th:only-of-type {\n        vertical-align: middle;\n    }\n\n    .dataframe tbody tr th {\n        vertical-align: top;\n    }\n\n    .dataframe thead th {\n        text-align: right;\n    }\n</style>\n<table border=\"1\" class=\"dataframe\">\n  <thead>\n    <tr style=\"text-align: right;\">\n      <th></th>\n      <th></th>\n      <th>2020</th>\n      <th>2021</th>\n    </tr>\n  </thead>\n  <tbody>\n    <tr>\n      <th rowspan=\"4\" valign=\"top\">c1</th>\n      <th>p1</th>\n      <td>0</td>\n      <td>4</td>\n    </tr>\n    <tr>\n      <th>p2</th>\n      <td>1</td>\n      <td>5</td>\n    </tr>\n    <tr>\n      <th>p3</th>\n      <td>2</td>\n      <td>6</td>\n    </tr>\n    <tr>\n      <th>p4</th>\n      <td>3</td>\n      <td>7</td>\n    </tr>\n    <tr>\n      <th rowspan=\"4\" valign=\"top\">c2</th>\n      <th>p1</th>\n      <td>8</td>\n      <td>12</td>\n    </tr>\n    <tr>\n      <th>p2</th>\n      <td>9</td>\n      <td>13</td>\n    </tr>\n    <tr>\n      <th>p3</th>\n      <td>10</td>\n      <td>14</td>\n    </tr>\n    <tr>\n      <th>p4</th>\n      <td>11</td>\n      <td>15</td>\n    </tr>\n  </tbody>\n</table>\n</div>"
     },
     "metadata": {},
     "execution_count": 75
    }
   ],
   "source": [
    "datastack.unstack(level = 1) \n",
    "# 대분류 level = 0 , 중분류 level = 1 , 소분류 leve1 = 2"
   ]
  },
  {
   "cell_type": "code",
   "execution_count": 80,
   "metadata": {},
   "outputs": [
    {
     "output_type": "execute_result",
     "data": {
      "text/plain": "  level_0 level_1  p1  p2  p3  p4\n0      c1    2020   0   1   2   3\n1      c1    2021   4   5   6   7\n2      c2    2020   8   9  10  11\n3      c2    2021  12  13  14  15",
      "text/html": "<div>\n<style scoped>\n    .dataframe tbody tr th:only-of-type {\n        vertical-align: middle;\n    }\n\n    .dataframe tbody tr th {\n        vertical-align: top;\n    }\n\n    .dataframe thead th {\n        text-align: right;\n    }\n</style>\n<table border=\"1\" class=\"dataframe\">\n  <thead>\n    <tr style=\"text-align: right;\">\n      <th></th>\n      <th>level_0</th>\n      <th>level_1</th>\n      <th>p1</th>\n      <th>p2</th>\n      <th>p3</th>\n      <th>p4</th>\n    </tr>\n  </thead>\n  <tbody>\n    <tr>\n      <th>0</th>\n      <td>c1</td>\n      <td>2020</td>\n      <td>0</td>\n      <td>1</td>\n      <td>2</td>\n      <td>3</td>\n    </tr>\n    <tr>\n      <th>1</th>\n      <td>c1</td>\n      <td>2021</td>\n      <td>4</td>\n      <td>5</td>\n      <td>6</td>\n      <td>7</td>\n    </tr>\n    <tr>\n      <th>2</th>\n      <td>c2</td>\n      <td>2020</td>\n      <td>8</td>\n      <td>9</td>\n      <td>10</td>\n      <td>11</td>\n    </tr>\n    <tr>\n      <th>3</th>\n      <td>c2</td>\n      <td>2021</td>\n      <td>12</td>\n      <td>13</td>\n      <td>14</td>\n      <td>15</td>\n    </tr>\n  </tbody>\n</table>\n</div>"
     },
     "metadata": {},
     "execution_count": 80
    }
   ],
   "source": [
    "df = datastack.unstack().reset_index() \n",
    "df## reset_index == 행인덱스가 열 인덱스로 온다 "
   ]
  },
  {
   "cell_type": "code",
   "execution_count": 81,
   "metadata": {},
   "outputs": [
    {
     "output_type": "execute_result",
     "data": {
      "text/plain": "  c_id  year  p1  p2  p3  p4\n0   c1  2020   0   1   2   3\n1   c1  2021   4   5   6   7\n2   c2  2020   8   9  10  11\n3   c2  2021  12  13  14  15",
      "text/html": "<div>\n<style scoped>\n    .dataframe tbody tr th:only-of-type {\n        vertical-align: middle;\n    }\n\n    .dataframe tbody tr th {\n        vertical-align: top;\n    }\n\n    .dataframe thead th {\n        text-align: right;\n    }\n</style>\n<table border=\"1\" class=\"dataframe\">\n  <thead>\n    <tr style=\"text-align: right;\">\n      <th></th>\n      <th>c_id</th>\n      <th>year</th>\n      <th>p1</th>\n      <th>p2</th>\n      <th>p3</th>\n      <th>p4</th>\n    </tr>\n  </thead>\n  <tbody>\n    <tr>\n      <th>0</th>\n      <td>c1</td>\n      <td>2020</td>\n      <td>0</td>\n      <td>1</td>\n      <td>2</td>\n      <td>3</td>\n    </tr>\n    <tr>\n      <th>1</th>\n      <td>c1</td>\n      <td>2021</td>\n      <td>4</td>\n      <td>5</td>\n      <td>6</td>\n      <td>7</td>\n    </tr>\n    <tr>\n      <th>2</th>\n      <td>c2</td>\n      <td>2020</td>\n      <td>8</td>\n      <td>9</td>\n      <td>10</td>\n      <td>11</td>\n    </tr>\n    <tr>\n      <th>3</th>\n      <td>c2</td>\n      <td>2021</td>\n      <td>12</td>\n      <td>13</td>\n      <td>14</td>\n      <td>15</td>\n    </tr>\n  </tbody>\n</table>\n</div>"
     },
     "metadata": {},
     "execution_count": 81
    }
   ],
   "source": [
    "df.rename(columns = {'level_0':'c_id','level_1':'year'},inplace= True) # rename 중괄호 전 : 후 형태 \n",
    "df"
   ]
  },
  {
   "source": [
    "### melt : 재구조화 id_var = 열이름 => 고정 //나머지 열 행인덱스화"
   ],
   "cell_type": "markdown",
   "metadata": {}
  },
  {
   "source": [
    "data = pd.DataFrame({'cust_ID' : ['C_001', 'C_001', 'C_002', 'C_002'],\n",
    "   'prd_CD' : ['P_001', 'P_002', 'P_001', 'P_002'],\n",
    "   'pch_cnt' : [1, 2, 3, 4],\n",
    "   'pch_amt' : [100, 200, 300, 400]})\n",
    "data"
   ],
   "cell_type": "code",
   "metadata": {},
   "execution_count": 82,
   "outputs": [
    {
     "output_type": "execute_result",
     "data": {
      "text/plain": "  cust_ID prd_CD  pch_cnt  pch_amt\n0   C_001  P_001        1      100\n1   C_001  P_002        2      200\n2   C_002  P_001        3      300\n3   C_002  P_002        4      400",
      "text/html": "<div>\n<style scoped>\n    .dataframe tbody tr th:only-of-type {\n        vertical-align: middle;\n    }\n\n    .dataframe tbody tr th {\n        vertical-align: top;\n    }\n\n    .dataframe thead th {\n        text-align: right;\n    }\n</style>\n<table border=\"1\" class=\"dataframe\">\n  <thead>\n    <tr style=\"text-align: right;\">\n      <th></th>\n      <th>cust_ID</th>\n      <th>prd_CD</th>\n      <th>pch_cnt</th>\n      <th>pch_amt</th>\n    </tr>\n  </thead>\n  <tbody>\n    <tr>\n      <th>0</th>\n      <td>C_001</td>\n      <td>P_001</td>\n      <td>1</td>\n      <td>100</td>\n    </tr>\n    <tr>\n      <th>1</th>\n      <td>C_001</td>\n      <td>P_002</td>\n      <td>2</td>\n      <td>200</td>\n    </tr>\n    <tr>\n      <th>2</th>\n      <td>C_002</td>\n      <td>P_001</td>\n      <td>3</td>\n      <td>300</td>\n    </tr>\n    <tr>\n      <th>3</th>\n      <td>C_002</td>\n      <td>P_002</td>\n      <td>4</td>\n      <td>400</td>\n    </tr>\n  </tbody>\n</table>\n</div>"
     },
     "metadata": {},
     "execution_count": 82
    }
   ]
  },
  {
   "cell_type": "code",
   "execution_count": 83,
   "metadata": {},
   "outputs": [
    {
     "output_type": "execute_result",
     "data": {
      "text/plain": "  cust_ID prd_CD variable  value\n0   C_001  P_001  pch_cnt      1\n1   C_001  P_002  pch_cnt      2\n2   C_002  P_001  pch_cnt      3\n3   C_002  P_002  pch_cnt      4\n4   C_001  P_001  pch_amt    100\n5   C_001  P_002  pch_amt    200\n6   C_002  P_001  pch_amt    300\n7   C_002  P_002  pch_amt    400",
      "text/html": "<div>\n<style scoped>\n    .dataframe tbody tr th:only-of-type {\n        vertical-align: middle;\n    }\n\n    .dataframe tbody tr th {\n        vertical-align: top;\n    }\n\n    .dataframe thead th {\n        text-align: right;\n    }\n</style>\n<table border=\"1\" class=\"dataframe\">\n  <thead>\n    <tr style=\"text-align: right;\">\n      <th></th>\n      <th>cust_ID</th>\n      <th>prd_CD</th>\n      <th>variable</th>\n      <th>value</th>\n    </tr>\n  </thead>\n  <tbody>\n    <tr>\n      <th>0</th>\n      <td>C_001</td>\n      <td>P_001</td>\n      <td>pch_cnt</td>\n      <td>1</td>\n    </tr>\n    <tr>\n      <th>1</th>\n      <td>C_001</td>\n      <td>P_002</td>\n      <td>pch_cnt</td>\n      <td>2</td>\n    </tr>\n    <tr>\n      <th>2</th>\n      <td>C_002</td>\n      <td>P_001</td>\n      <td>pch_cnt</td>\n      <td>3</td>\n    </tr>\n    <tr>\n      <th>3</th>\n      <td>C_002</td>\n      <td>P_002</td>\n      <td>pch_cnt</td>\n      <td>4</td>\n    </tr>\n    <tr>\n      <th>4</th>\n      <td>C_001</td>\n      <td>P_001</td>\n      <td>pch_amt</td>\n      <td>100</td>\n    </tr>\n    <tr>\n      <th>5</th>\n      <td>C_001</td>\n      <td>P_002</td>\n      <td>pch_amt</td>\n      <td>200</td>\n    </tr>\n    <tr>\n      <th>6</th>\n      <td>C_002</td>\n      <td>P_001</td>\n      <td>pch_amt</td>\n      <td>300</td>\n    </tr>\n    <tr>\n      <th>7</th>\n      <td>C_002</td>\n      <td>P_002</td>\n      <td>pch_amt</td>\n      <td>400</td>\n    </tr>\n  </tbody>\n</table>\n</div>"
     },
     "metadata": {},
     "execution_count": 83
    }
   ],
   "source": [
    "pd.melt(data,id_vars=['cust_ID','prd_CD'])"
   ]
  },
  {
   "cell_type": "code",
   "execution_count": 86,
   "metadata": {},
   "outputs": [
    {
     "output_type": "execute_result",
     "data": {
      "text/plain": "  cust_ID prd_CD  pch_cnt  pch_amt\n0   C_001  P_001  pch_cnt        1\n1   C_001  P_002  pch_cnt        2\n2   C_002  P_001  pch_cnt        3\n3   C_002  P_002  pch_cnt        4\n4   C_001  P_001  pch_amt      100\n5   C_001  P_002  pch_amt      200\n6   C_002  P_001  pch_amt      300\n7   C_002  P_002  pch_amt      400",
      "text/html": "<div>\n<style scoped>\n    .dataframe tbody tr th:only-of-type {\n        vertical-align: middle;\n    }\n\n    .dataframe tbody tr th {\n        vertical-align: top;\n    }\n\n    .dataframe thead th {\n        text-align: right;\n    }\n</style>\n<table border=\"1\" class=\"dataframe\">\n  <thead>\n    <tr style=\"text-align: right;\">\n      <th></th>\n      <th>cust_ID</th>\n      <th>prd_CD</th>\n      <th>pch_cnt</th>\n      <th>pch_amt</th>\n    </tr>\n  </thead>\n  <tbody>\n    <tr>\n      <th>0</th>\n      <td>C_001</td>\n      <td>P_001</td>\n      <td>pch_cnt</td>\n      <td>1</td>\n    </tr>\n    <tr>\n      <th>1</th>\n      <td>C_001</td>\n      <td>P_002</td>\n      <td>pch_cnt</td>\n      <td>2</td>\n    </tr>\n    <tr>\n      <th>2</th>\n      <td>C_002</td>\n      <td>P_001</td>\n      <td>pch_cnt</td>\n      <td>3</td>\n    </tr>\n    <tr>\n      <th>3</th>\n      <td>C_002</td>\n      <td>P_002</td>\n      <td>pch_cnt</td>\n      <td>4</td>\n    </tr>\n    <tr>\n      <th>4</th>\n      <td>C_001</td>\n      <td>P_001</td>\n      <td>pch_amt</td>\n      <td>100</td>\n    </tr>\n    <tr>\n      <th>5</th>\n      <td>C_001</td>\n      <td>P_002</td>\n      <td>pch_amt</td>\n      <td>200</td>\n    </tr>\n    <tr>\n      <th>6</th>\n      <td>C_002</td>\n      <td>P_001</td>\n      <td>pch_amt</td>\n      <td>300</td>\n    </tr>\n    <tr>\n      <th>7</th>\n      <td>C_002</td>\n      <td>P_002</td>\n      <td>pch_amt</td>\n      <td>400</td>\n    </tr>\n  </tbody>\n</table>\n</div>"
     },
     "metadata": {},
     "execution_count": 86
    }
   ],
   "source": [
    "pd.melt(data,id_vars=['cust_ID','prd_CD'],value_name='pch_amt',var_name='pch_cnt') # 행 이름 변경 "
   ]
  },
  {
   "cell_type": "code",
   "execution_count": 91,
   "metadata": {},
   "outputs": [
    {
     "output_type": "execute_result",
     "data": {
      "text/plain": "                   religion  <$10k  $10-20k  $20-30k  $30-40k  $40-50k  \\\n0                  Agnostic     27       34       60       81       76   \n1                   Atheist     12       27       37       52       35   \n2                  Buddhist     27       21       30       34       33   \n3                  Catholic    418      617      732      670      638   \n4        Don’t know/refused     15       14       15       11       10   \n5          Evangelical Prot    575      869     1064      982      881   \n6                     Hindu      1        9        7        9       11   \n7   Historically Black Prot    228      244      236      238      197   \n8         Jehovah's Witness     20       27       24       24       21   \n9                    Jewish     19       19       25       25       30   \n10            Mainline Prot    289      495      619      655      651   \n11                   Mormon     29       40       48       51       56   \n12                   Muslim      6        7        9       10        9   \n13                 Orthodox     13       17       23       32       32   \n14          Other Christian      9        7       11       13       13   \n15             Other Faiths     20       33       40       46       49   \n16    Other World Religions      5        2        3        4        2   \n17             Unaffiliated    217      299      374      365      341   \n\n    $50-75k  $75-100k  $100-150k  >150k  Don't know/refused  \n0       137       122        109     84                  96  \n1        70        73         59     74                  76  \n2        58        62         39     53                  54  \n3      1116       949        792    633                1489  \n4        35        21         17     18                 116  \n5      1486       949        723    414                1529  \n6        34        47         48     54                  37  \n7       223       131         81     78                 339  \n8        30        15         11      6                  37  \n9        95        69         87    151                 162  \n10     1107       939        753    634                1328  \n11      112        85         49     42                  69  \n12       23        16          8      6                  22  \n13       47        38         42     46                  73  \n14       14        18         14     12                  18  \n15       63        46         40     41                  71  \n16        7         3          4      4                   8  \n17      528       407        321    258                 597  ",
      "text/html": "<div>\n<style scoped>\n    .dataframe tbody tr th:only-of-type {\n        vertical-align: middle;\n    }\n\n    .dataframe tbody tr th {\n        vertical-align: top;\n    }\n\n    .dataframe thead th {\n        text-align: right;\n    }\n</style>\n<table border=\"1\" class=\"dataframe\">\n  <thead>\n    <tr style=\"text-align: right;\">\n      <th></th>\n      <th>religion</th>\n      <th>&lt;$10k</th>\n      <th>$10-20k</th>\n      <th>$20-30k</th>\n      <th>$30-40k</th>\n      <th>$40-50k</th>\n      <th>$50-75k</th>\n      <th>$75-100k</th>\n      <th>$100-150k</th>\n      <th>&gt;150k</th>\n      <th>Don't know/refused</th>\n    </tr>\n  </thead>\n  <tbody>\n    <tr>\n      <th>0</th>\n      <td>Agnostic</td>\n      <td>27</td>\n      <td>34</td>\n      <td>60</td>\n      <td>81</td>\n      <td>76</td>\n      <td>137</td>\n      <td>122</td>\n      <td>109</td>\n      <td>84</td>\n      <td>96</td>\n    </tr>\n    <tr>\n      <th>1</th>\n      <td>Atheist</td>\n      <td>12</td>\n      <td>27</td>\n      <td>37</td>\n      <td>52</td>\n      <td>35</td>\n      <td>70</td>\n      <td>73</td>\n      <td>59</td>\n      <td>74</td>\n      <td>76</td>\n    </tr>\n    <tr>\n      <th>2</th>\n      <td>Buddhist</td>\n      <td>27</td>\n      <td>21</td>\n      <td>30</td>\n      <td>34</td>\n      <td>33</td>\n      <td>58</td>\n      <td>62</td>\n      <td>39</td>\n      <td>53</td>\n      <td>54</td>\n    </tr>\n    <tr>\n      <th>3</th>\n      <td>Catholic</td>\n      <td>418</td>\n      <td>617</td>\n      <td>732</td>\n      <td>670</td>\n      <td>638</td>\n      <td>1116</td>\n      <td>949</td>\n      <td>792</td>\n      <td>633</td>\n      <td>1489</td>\n    </tr>\n    <tr>\n      <th>4</th>\n      <td>Don’t know/refused</td>\n      <td>15</td>\n      <td>14</td>\n      <td>15</td>\n      <td>11</td>\n      <td>10</td>\n      <td>35</td>\n      <td>21</td>\n      <td>17</td>\n      <td>18</td>\n      <td>116</td>\n    </tr>\n    <tr>\n      <th>5</th>\n      <td>Evangelical Prot</td>\n      <td>575</td>\n      <td>869</td>\n      <td>1064</td>\n      <td>982</td>\n      <td>881</td>\n      <td>1486</td>\n      <td>949</td>\n      <td>723</td>\n      <td>414</td>\n      <td>1529</td>\n    </tr>\n    <tr>\n      <th>6</th>\n      <td>Hindu</td>\n      <td>1</td>\n      <td>9</td>\n      <td>7</td>\n      <td>9</td>\n      <td>11</td>\n      <td>34</td>\n      <td>47</td>\n      <td>48</td>\n      <td>54</td>\n      <td>37</td>\n    </tr>\n    <tr>\n      <th>7</th>\n      <td>Historically Black Prot</td>\n      <td>228</td>\n      <td>244</td>\n      <td>236</td>\n      <td>238</td>\n      <td>197</td>\n      <td>223</td>\n      <td>131</td>\n      <td>81</td>\n      <td>78</td>\n      <td>339</td>\n    </tr>\n    <tr>\n      <th>8</th>\n      <td>Jehovah's Witness</td>\n      <td>20</td>\n      <td>27</td>\n      <td>24</td>\n      <td>24</td>\n      <td>21</td>\n      <td>30</td>\n      <td>15</td>\n      <td>11</td>\n      <td>6</td>\n      <td>37</td>\n    </tr>\n    <tr>\n      <th>9</th>\n      <td>Jewish</td>\n      <td>19</td>\n      <td>19</td>\n      <td>25</td>\n      <td>25</td>\n      <td>30</td>\n      <td>95</td>\n      <td>69</td>\n      <td>87</td>\n      <td>151</td>\n      <td>162</td>\n    </tr>\n    <tr>\n      <th>10</th>\n      <td>Mainline Prot</td>\n      <td>289</td>\n      <td>495</td>\n      <td>619</td>\n      <td>655</td>\n      <td>651</td>\n      <td>1107</td>\n      <td>939</td>\n      <td>753</td>\n      <td>634</td>\n      <td>1328</td>\n    </tr>\n    <tr>\n      <th>11</th>\n      <td>Mormon</td>\n      <td>29</td>\n      <td>40</td>\n      <td>48</td>\n      <td>51</td>\n      <td>56</td>\n      <td>112</td>\n      <td>85</td>\n      <td>49</td>\n      <td>42</td>\n      <td>69</td>\n    </tr>\n    <tr>\n      <th>12</th>\n      <td>Muslim</td>\n      <td>6</td>\n      <td>7</td>\n      <td>9</td>\n      <td>10</td>\n      <td>9</td>\n      <td>23</td>\n      <td>16</td>\n      <td>8</td>\n      <td>6</td>\n      <td>22</td>\n    </tr>\n    <tr>\n      <th>13</th>\n      <td>Orthodox</td>\n      <td>13</td>\n      <td>17</td>\n      <td>23</td>\n      <td>32</td>\n      <td>32</td>\n      <td>47</td>\n      <td>38</td>\n      <td>42</td>\n      <td>46</td>\n      <td>73</td>\n    </tr>\n    <tr>\n      <th>14</th>\n      <td>Other Christian</td>\n      <td>9</td>\n      <td>7</td>\n      <td>11</td>\n      <td>13</td>\n      <td>13</td>\n      <td>14</td>\n      <td>18</td>\n      <td>14</td>\n      <td>12</td>\n      <td>18</td>\n    </tr>\n    <tr>\n      <th>15</th>\n      <td>Other Faiths</td>\n      <td>20</td>\n      <td>33</td>\n      <td>40</td>\n      <td>46</td>\n      <td>49</td>\n      <td>63</td>\n      <td>46</td>\n      <td>40</td>\n      <td>41</td>\n      <td>71</td>\n    </tr>\n    <tr>\n      <th>16</th>\n      <td>Other World Religions</td>\n      <td>5</td>\n      <td>2</td>\n      <td>3</td>\n      <td>4</td>\n      <td>2</td>\n      <td>7</td>\n      <td>3</td>\n      <td>4</td>\n      <td>4</td>\n      <td>8</td>\n    </tr>\n    <tr>\n      <th>17</th>\n      <td>Unaffiliated</td>\n      <td>217</td>\n      <td>299</td>\n      <td>374</td>\n      <td>365</td>\n      <td>341</td>\n      <td>528</td>\n      <td>407</td>\n      <td>321</td>\n      <td>258</td>\n      <td>597</td>\n    </tr>\n  </tbody>\n</table>\n</div>"
     },
     "metadata": {},
     "execution_count": 91
    }
   ],
   "source": [
    "pew = pd.read_csv('C:/Users/nyc15/Desktop/파이썬 공부/drive-download-20200703T073348Z-001/0910/padas_data/data/pew.csv')\n",
    "pew"
   ]
  },
  {
   "cell_type": "code",
   "execution_count": 92,
   "metadata": {},
   "outputs": [
    {
     "output_type": "execute_result",
     "data": {
      "text/plain": "             religion income  count\n0            Agnostic  <$10k     27\n1             Atheist  <$10k     12\n2            Buddhist  <$10k     27\n3            Catholic  <$10k    418\n4  Don’t know/refused  <$10k     15",
      "text/html": "<div>\n<style scoped>\n    .dataframe tbody tr th:only-of-type {\n        vertical-align: middle;\n    }\n\n    .dataframe tbody tr th {\n        vertical-align: top;\n    }\n\n    .dataframe thead th {\n        text-align: right;\n    }\n</style>\n<table border=\"1\" class=\"dataframe\">\n  <thead>\n    <tr style=\"text-align: right;\">\n      <th></th>\n      <th>religion</th>\n      <th>income</th>\n      <th>count</th>\n    </tr>\n  </thead>\n  <tbody>\n    <tr>\n      <th>0</th>\n      <td>Agnostic</td>\n      <td>&lt;$10k</td>\n      <td>27</td>\n    </tr>\n    <tr>\n      <th>1</th>\n      <td>Atheist</td>\n      <td>&lt;$10k</td>\n      <td>12</td>\n    </tr>\n    <tr>\n      <th>2</th>\n      <td>Buddhist</td>\n      <td>&lt;$10k</td>\n      <td>27</td>\n    </tr>\n    <tr>\n      <th>3</th>\n      <td>Catholic</td>\n      <td>&lt;$10k</td>\n      <td>418</td>\n    </tr>\n    <tr>\n      <th>4</th>\n      <td>Don’t know/refused</td>\n      <td>&lt;$10k</td>\n      <td>15</td>\n    </tr>\n  </tbody>\n</table>\n</div>"
     },
     "metadata": {},
     "execution_count": 92
    }
   ],
   "source": [
    "pew_long=pd.melt(pew, id_vars='religion', var_name='income', value_name='count')\n",
    "pew_long.head()"
   ]
  },
  {
   "cell_type": "code",
   "execution_count": 93,
   "metadata": {},
   "outputs": [
    {
     "output_type": "execute_result",
     "data": {
      "text/plain": "Index(['Date', 'Day', 'Cases_Guinea', 'Cases_Liberia', 'Cases_SierraLeone',\n       'Cases_Nigeria', 'Cases_Senegal', 'Cases_UnitedStates', 'Cases_Spain',\n       'Cases_Mali', 'Deaths_Guinea', 'Deaths_Liberia', 'Deaths_SierraLeone',\n       'Deaths_Nigeria', 'Deaths_Senegal', 'Deaths_UnitedStates',\n       'Deaths_Spain', 'Deaths_Mali'],\n      dtype='object')"
     },
     "metadata": {},
     "execution_count": 93
    }
   ],
   "source": [
    "ebola=pd.read_csv(\"C:/Users/nyc15/Desktop/파이썬 공부/drive-download-20200703T073348Z-001/0910/padas_data/data//country_timeseries.csv\")\n",
    "ebola.columns"
   ]
  },
  {
   "cell_type": "code",
   "execution_count": 94,
   "metadata": {},
   "outputs": [
    {
     "output_type": "execute_result",
     "data": {
      "text/plain": "         Date  Day  Cases_Guinea  Cases_Liberia  Cases_SierraLeone  \\\n0    1/5/2015  289        2776.0            NaN            10030.0   \n1    1/4/2015  288        2775.0            NaN             9780.0   \n2    1/3/2015  287        2769.0         8166.0             9722.0   \n3    1/2/2015  286           NaN         8157.0                NaN   \n4  12/31/2014  284        2730.0         8115.0             9633.0   \n\n   Cases_Nigeria  Cases_Senegal  Cases_UnitedStates  Cases_Spain  Cases_Mali  \\\n0            NaN            NaN                 NaN          NaN         NaN   \n1            NaN            NaN                 NaN          NaN         NaN   \n2            NaN            NaN                 NaN          NaN         NaN   \n3            NaN            NaN                 NaN          NaN         NaN   \n4            NaN            NaN                 NaN          NaN         NaN   \n\n   Deaths_Guinea  Deaths_Liberia  Deaths_SierraLeone  Deaths_Nigeria  \\\n0         1786.0             NaN              2977.0             NaN   \n1         1781.0             NaN              2943.0             NaN   \n2         1767.0          3496.0              2915.0             NaN   \n3            NaN          3496.0                 NaN             NaN   \n4         1739.0          3471.0              2827.0             NaN   \n\n   Deaths_Senegal  Deaths_UnitedStates  Deaths_Spain  Deaths_Mali  \n0             NaN                  NaN           NaN          NaN  \n1             NaN                  NaN           NaN          NaN  \n2             NaN                  NaN           NaN          NaN  \n3             NaN                  NaN           NaN          NaN  \n4             NaN                  NaN           NaN          NaN  ",
      "text/html": "<div>\n<style scoped>\n    .dataframe tbody tr th:only-of-type {\n        vertical-align: middle;\n    }\n\n    .dataframe tbody tr th {\n        vertical-align: top;\n    }\n\n    .dataframe thead th {\n        text-align: right;\n    }\n</style>\n<table border=\"1\" class=\"dataframe\">\n  <thead>\n    <tr style=\"text-align: right;\">\n      <th></th>\n      <th>Date</th>\n      <th>Day</th>\n      <th>Cases_Guinea</th>\n      <th>Cases_Liberia</th>\n      <th>Cases_SierraLeone</th>\n      <th>Cases_Nigeria</th>\n      <th>Cases_Senegal</th>\n      <th>Cases_UnitedStates</th>\n      <th>Cases_Spain</th>\n      <th>Cases_Mali</th>\n      <th>Deaths_Guinea</th>\n      <th>Deaths_Liberia</th>\n      <th>Deaths_SierraLeone</th>\n      <th>Deaths_Nigeria</th>\n      <th>Deaths_Senegal</th>\n      <th>Deaths_UnitedStates</th>\n      <th>Deaths_Spain</th>\n      <th>Deaths_Mali</th>\n    </tr>\n  </thead>\n  <tbody>\n    <tr>\n      <th>0</th>\n      <td>1/5/2015</td>\n      <td>289</td>\n      <td>2776.0</td>\n      <td>NaN</td>\n      <td>10030.0</td>\n      <td>NaN</td>\n      <td>NaN</td>\n      <td>NaN</td>\n      <td>NaN</td>\n      <td>NaN</td>\n      <td>1786.0</td>\n      <td>NaN</td>\n      <td>2977.0</td>\n      <td>NaN</td>\n      <td>NaN</td>\n      <td>NaN</td>\n      <td>NaN</td>\n      <td>NaN</td>\n    </tr>\n    <tr>\n      <th>1</th>\n      <td>1/4/2015</td>\n      <td>288</td>\n      <td>2775.0</td>\n      <td>NaN</td>\n      <td>9780.0</td>\n      <td>NaN</td>\n      <td>NaN</td>\n      <td>NaN</td>\n      <td>NaN</td>\n      <td>NaN</td>\n      <td>1781.0</td>\n      <td>NaN</td>\n      <td>2943.0</td>\n      <td>NaN</td>\n      <td>NaN</td>\n      <td>NaN</td>\n      <td>NaN</td>\n      <td>NaN</td>\n    </tr>\n    <tr>\n      <th>2</th>\n      <td>1/3/2015</td>\n      <td>287</td>\n      <td>2769.0</td>\n      <td>8166.0</td>\n      <td>9722.0</td>\n      <td>NaN</td>\n      <td>NaN</td>\n      <td>NaN</td>\n      <td>NaN</td>\n      <td>NaN</td>\n      <td>1767.0</td>\n      <td>3496.0</td>\n      <td>2915.0</td>\n      <td>NaN</td>\n      <td>NaN</td>\n      <td>NaN</td>\n      <td>NaN</td>\n      <td>NaN</td>\n    </tr>\n    <tr>\n      <th>3</th>\n      <td>1/2/2015</td>\n      <td>286</td>\n      <td>NaN</td>\n      <td>8157.0</td>\n      <td>NaN</td>\n      <td>NaN</td>\n      <td>NaN</td>\n      <td>NaN</td>\n      <td>NaN</td>\n      <td>NaN</td>\n      <td>NaN</td>\n      <td>3496.0</td>\n      <td>NaN</td>\n      <td>NaN</td>\n      <td>NaN</td>\n      <td>NaN</td>\n      <td>NaN</td>\n      <td>NaN</td>\n    </tr>\n    <tr>\n      <th>4</th>\n      <td>12/31/2014</td>\n      <td>284</td>\n      <td>2730.0</td>\n      <td>8115.0</td>\n      <td>9633.0</td>\n      <td>NaN</td>\n      <td>NaN</td>\n      <td>NaN</td>\n      <td>NaN</td>\n      <td>NaN</td>\n      <td>1739.0</td>\n      <td>3471.0</td>\n      <td>2827.0</td>\n      <td>NaN</td>\n      <td>NaN</td>\n      <td>NaN</td>\n      <td>NaN</td>\n      <td>NaN</td>\n    </tr>\n  </tbody>\n</table>\n</div>"
     },
     "metadata": {},
     "execution_count": 94
    }
   ],
   "source": [
    "ebola.head()"
   ]
  },
  {
   "cell_type": "code",
   "execution_count": 96,
   "metadata": {},
   "outputs": [
    {
     "output_type": "execute_result",
     "data": {
      "text/plain": "            Date  Day      variable   value\n0       1/5/2015  289  Cases_Guinea  2776.0\n1       1/4/2015  288  Cases_Guinea  2775.0\n2       1/3/2015  287  Cases_Guinea  2769.0\n3       1/2/2015  286  Cases_Guinea     NaN\n4     12/31/2014  284  Cases_Guinea  2730.0\n...          ...  ...           ...     ...\n1947   3/27/2014    5   Deaths_Mali     NaN\n1948   3/26/2014    4   Deaths_Mali     NaN\n1949   3/25/2014    3   Deaths_Mali     NaN\n1950   3/24/2014    2   Deaths_Mali     NaN\n1951   3/22/2014    0   Deaths_Mali     NaN\n\n[1952 rows x 4 columns]",
      "text/html": "<div>\n<style scoped>\n    .dataframe tbody tr th:only-of-type {\n        vertical-align: middle;\n    }\n\n    .dataframe tbody tr th {\n        vertical-align: top;\n    }\n\n    .dataframe thead th {\n        text-align: right;\n    }\n</style>\n<table border=\"1\" class=\"dataframe\">\n  <thead>\n    <tr style=\"text-align: right;\">\n      <th></th>\n      <th>Date</th>\n      <th>Day</th>\n      <th>variable</th>\n      <th>value</th>\n    </tr>\n  </thead>\n  <tbody>\n    <tr>\n      <th>0</th>\n      <td>1/5/2015</td>\n      <td>289</td>\n      <td>Cases_Guinea</td>\n      <td>2776.0</td>\n    </tr>\n    <tr>\n      <th>1</th>\n      <td>1/4/2015</td>\n      <td>288</td>\n      <td>Cases_Guinea</td>\n      <td>2775.0</td>\n    </tr>\n    <tr>\n      <th>2</th>\n      <td>1/3/2015</td>\n      <td>287</td>\n      <td>Cases_Guinea</td>\n      <td>2769.0</td>\n    </tr>\n    <tr>\n      <th>3</th>\n      <td>1/2/2015</td>\n      <td>286</td>\n      <td>Cases_Guinea</td>\n      <td>NaN</td>\n    </tr>\n    <tr>\n      <th>4</th>\n      <td>12/31/2014</td>\n      <td>284</td>\n      <td>Cases_Guinea</td>\n      <td>2730.0</td>\n    </tr>\n    <tr>\n      <th>...</th>\n      <td>...</td>\n      <td>...</td>\n      <td>...</td>\n      <td>...</td>\n    </tr>\n    <tr>\n      <th>1947</th>\n      <td>3/27/2014</td>\n      <td>5</td>\n      <td>Deaths_Mali</td>\n      <td>NaN</td>\n    </tr>\n    <tr>\n      <th>1948</th>\n      <td>3/26/2014</td>\n      <td>4</td>\n      <td>Deaths_Mali</td>\n      <td>NaN</td>\n    </tr>\n    <tr>\n      <th>1949</th>\n      <td>3/25/2014</td>\n      <td>3</td>\n      <td>Deaths_Mali</td>\n      <td>NaN</td>\n    </tr>\n    <tr>\n      <th>1950</th>\n      <td>3/24/2014</td>\n      <td>2</td>\n      <td>Deaths_Mali</td>\n      <td>NaN</td>\n    </tr>\n    <tr>\n      <th>1951</th>\n      <td>3/22/2014</td>\n      <td>0</td>\n      <td>Deaths_Mali</td>\n      <td>NaN</td>\n    </tr>\n  </tbody>\n</table>\n<p>1952 rows × 4 columns</p>\n</div>"
     },
     "metadata": {},
     "execution_count": 96
    }
   ],
   "source": [
    "ebola_long=pd.melt(ebola, id_vars=['Date','Day'])\n",
    "ebola_long"
   ]
  },
  {
   "cell_type": "code",
   "execution_count": 97,
   "metadata": {},
   "outputs": [],
   "source": [
    "var_split=ebola_long.variable.str.split(\"_\")\n",
    "sta_value=var_split.str.get(0)\n",
    "coun_value=var_split.str.get(1)"
   ]
  },
  {
   "cell_type": "code",
   "execution_count": 98,
   "metadata": {},
   "outputs": [
    {
     "output_type": "execute_result",
     "data": {
      "text/plain": "            Date  Day      variable   value  status country\n0       1/5/2015  289  Cases_Guinea  2776.0   Cases  Guinea\n1       1/4/2015  288  Cases_Guinea  2775.0   Cases  Guinea\n2       1/3/2015  287  Cases_Guinea  2769.0   Cases  Guinea\n3       1/2/2015  286  Cases_Guinea     NaN   Cases  Guinea\n4     12/31/2014  284  Cases_Guinea  2730.0   Cases  Guinea\n...          ...  ...           ...     ...     ...     ...\n1947   3/27/2014    5   Deaths_Mali     NaN  Deaths    Mali\n1948   3/26/2014    4   Deaths_Mali     NaN  Deaths    Mali\n1949   3/25/2014    3   Deaths_Mali     NaN  Deaths    Mali\n1950   3/24/2014    2   Deaths_Mali     NaN  Deaths    Mali\n1951   3/22/2014    0   Deaths_Mali     NaN  Deaths    Mali\n\n[1952 rows x 6 columns]",
      "text/html": "<div>\n<style scoped>\n    .dataframe tbody tr th:only-of-type {\n        vertical-align: middle;\n    }\n\n    .dataframe tbody tr th {\n        vertical-align: top;\n    }\n\n    .dataframe thead th {\n        text-align: right;\n    }\n</style>\n<table border=\"1\" class=\"dataframe\">\n  <thead>\n    <tr style=\"text-align: right;\">\n      <th></th>\n      <th>Date</th>\n      <th>Day</th>\n      <th>variable</th>\n      <th>value</th>\n      <th>status</th>\n      <th>country</th>\n    </tr>\n  </thead>\n  <tbody>\n    <tr>\n      <th>0</th>\n      <td>1/5/2015</td>\n      <td>289</td>\n      <td>Cases_Guinea</td>\n      <td>2776.0</td>\n      <td>Cases</td>\n      <td>Guinea</td>\n    </tr>\n    <tr>\n      <th>1</th>\n      <td>1/4/2015</td>\n      <td>288</td>\n      <td>Cases_Guinea</td>\n      <td>2775.0</td>\n      <td>Cases</td>\n      <td>Guinea</td>\n    </tr>\n    <tr>\n      <th>2</th>\n      <td>1/3/2015</td>\n      <td>287</td>\n      <td>Cases_Guinea</td>\n      <td>2769.0</td>\n      <td>Cases</td>\n      <td>Guinea</td>\n    </tr>\n    <tr>\n      <th>3</th>\n      <td>1/2/2015</td>\n      <td>286</td>\n      <td>Cases_Guinea</td>\n      <td>NaN</td>\n      <td>Cases</td>\n      <td>Guinea</td>\n    </tr>\n    <tr>\n      <th>4</th>\n      <td>12/31/2014</td>\n      <td>284</td>\n      <td>Cases_Guinea</td>\n      <td>2730.0</td>\n      <td>Cases</td>\n      <td>Guinea</td>\n    </tr>\n    <tr>\n      <th>...</th>\n      <td>...</td>\n      <td>...</td>\n      <td>...</td>\n      <td>...</td>\n      <td>...</td>\n      <td>...</td>\n    </tr>\n    <tr>\n      <th>1947</th>\n      <td>3/27/2014</td>\n      <td>5</td>\n      <td>Deaths_Mali</td>\n      <td>NaN</td>\n      <td>Deaths</td>\n      <td>Mali</td>\n    </tr>\n    <tr>\n      <th>1948</th>\n      <td>3/26/2014</td>\n      <td>4</td>\n      <td>Deaths_Mali</td>\n      <td>NaN</td>\n      <td>Deaths</td>\n      <td>Mali</td>\n    </tr>\n    <tr>\n      <th>1949</th>\n      <td>3/25/2014</td>\n      <td>3</td>\n      <td>Deaths_Mali</td>\n      <td>NaN</td>\n      <td>Deaths</td>\n      <td>Mali</td>\n    </tr>\n    <tr>\n      <th>1950</th>\n      <td>3/24/2014</td>\n      <td>2</td>\n      <td>Deaths_Mali</td>\n      <td>NaN</td>\n      <td>Deaths</td>\n      <td>Mali</td>\n    </tr>\n    <tr>\n      <th>1951</th>\n      <td>3/22/2014</td>\n      <td>0</td>\n      <td>Deaths_Mali</td>\n      <td>NaN</td>\n      <td>Deaths</td>\n      <td>Mali</td>\n    </tr>\n  </tbody>\n</table>\n<p>1952 rows × 6 columns</p>\n</div>"
     },
     "metadata": {},
     "execution_count": 98
    }
   ],
   "source": [
    "ebola_long['status']=sta_value\n",
    "ebola_long['country']=coun_value\n",
    "ebola_long"
   ]
  },
  {
   "cell_type": "code",
   "execution_count": null,
   "metadata": {},
   "outputs": [],
   "source": []
  }
 ]
}