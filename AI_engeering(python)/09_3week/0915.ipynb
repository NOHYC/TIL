{
 "metadata": {
  "language_info": {
   "codemirror_mode": {
    "name": "ipython",
    "version": 3
   },
   "file_extension": ".py",
   "mimetype": "text/x-python",
   "name": "python",
   "nbconvert_exporter": "python",
   "pygments_lexer": "ipython3",
   "version": "3.8.5-final"
  },
  "orig_nbformat": 2,
  "kernelspec": {
   "name": "python_defaultSpec_1600346900971",
   "display_name": "Python 3.8.5 32-bit"
  }
 },
 "nbformat": 4,
 "nbformat_minor": 2,
 "cells": [
  {
   "cell_type": "code",
   "execution_count": 55,
   "metadata": {},
   "outputs": [],
   "source": [
    "import pandas as pd \n",
    "import numpy as np \n",
    "import matplotlib.pyplot as plt "
   ]
  },
  {
   "cell_type": "code",
   "execution_count": 56,
   "metadata": {},
   "outputs": [
    {
     "output_type": "execute_result",
     "data": {
      "text/plain": "   year        artist                    track  time date.entered  wk1   wk2  \\\n0  2000         2 Pac  Baby Don't Cry (Keep...  4:22   2000-02-26   87  82.0   \n1  2000       2Ge+her  The Hardest Part Of ...  3:15   2000-09-02   91  87.0   \n2  2000  3 Doors Down               Kryptonite  3:53   2000-04-08   81  70.0   \n3  2000  3 Doors Down                    Loser  4:24   2000-10-21   76  76.0   \n4  2000      504 Boyz            Wobble Wobble  3:35   2000-04-15   57  34.0   \n\n    wk3   wk4   wk5  ...  wk67  wk68  wk69  wk70  wk71  wk72  wk73  wk74  \\\n0  72.0  77.0  87.0  ...   NaN   NaN   NaN   NaN   NaN   NaN   NaN   NaN   \n1  92.0   NaN   NaN  ...   NaN   NaN   NaN   NaN   NaN   NaN   NaN   NaN   \n2  68.0  67.0  66.0  ...   NaN   NaN   NaN   NaN   NaN   NaN   NaN   NaN   \n3  72.0  69.0  67.0  ...   NaN   NaN   NaN   NaN   NaN   NaN   NaN   NaN   \n4  25.0  17.0  17.0  ...   NaN   NaN   NaN   NaN   NaN   NaN   NaN   NaN   \n\n   wk75  wk76  \n0   NaN   NaN  \n1   NaN   NaN  \n2   NaN   NaN  \n3   NaN   NaN  \n4   NaN   NaN  \n\n[5 rows x 81 columns]",
      "text/html": "<div>\n<style scoped>\n    .dataframe tbody tr th:only-of-type {\n        vertical-align: middle;\n    }\n\n    .dataframe tbody tr th {\n        vertical-align: top;\n    }\n\n    .dataframe thead th {\n        text-align: right;\n    }\n</style>\n<table border=\"1\" class=\"dataframe\">\n  <thead>\n    <tr style=\"text-align: right;\">\n      <th></th>\n      <th>year</th>\n      <th>artist</th>\n      <th>track</th>\n      <th>time</th>\n      <th>date.entered</th>\n      <th>wk1</th>\n      <th>wk2</th>\n      <th>wk3</th>\n      <th>wk4</th>\n      <th>wk5</th>\n      <th>...</th>\n      <th>wk67</th>\n      <th>wk68</th>\n      <th>wk69</th>\n      <th>wk70</th>\n      <th>wk71</th>\n      <th>wk72</th>\n      <th>wk73</th>\n      <th>wk74</th>\n      <th>wk75</th>\n      <th>wk76</th>\n    </tr>\n  </thead>\n  <tbody>\n    <tr>\n      <th>0</th>\n      <td>2000</td>\n      <td>2 Pac</td>\n      <td>Baby Don't Cry (Keep...</td>\n      <td>4:22</td>\n      <td>2000-02-26</td>\n      <td>87</td>\n      <td>82.0</td>\n      <td>72.0</td>\n      <td>77.0</td>\n      <td>87.0</td>\n      <td>...</td>\n      <td>NaN</td>\n      <td>NaN</td>\n      <td>NaN</td>\n      <td>NaN</td>\n      <td>NaN</td>\n      <td>NaN</td>\n      <td>NaN</td>\n      <td>NaN</td>\n      <td>NaN</td>\n      <td>NaN</td>\n    </tr>\n    <tr>\n      <th>1</th>\n      <td>2000</td>\n      <td>2Ge+her</td>\n      <td>The Hardest Part Of ...</td>\n      <td>3:15</td>\n      <td>2000-09-02</td>\n      <td>91</td>\n      <td>87.0</td>\n      <td>92.0</td>\n      <td>NaN</td>\n      <td>NaN</td>\n      <td>...</td>\n      <td>NaN</td>\n      <td>NaN</td>\n      <td>NaN</td>\n      <td>NaN</td>\n      <td>NaN</td>\n      <td>NaN</td>\n      <td>NaN</td>\n      <td>NaN</td>\n      <td>NaN</td>\n      <td>NaN</td>\n    </tr>\n    <tr>\n      <th>2</th>\n      <td>2000</td>\n      <td>3 Doors Down</td>\n      <td>Kryptonite</td>\n      <td>3:53</td>\n      <td>2000-04-08</td>\n      <td>81</td>\n      <td>70.0</td>\n      <td>68.0</td>\n      <td>67.0</td>\n      <td>66.0</td>\n      <td>...</td>\n      <td>NaN</td>\n      <td>NaN</td>\n      <td>NaN</td>\n      <td>NaN</td>\n      <td>NaN</td>\n      <td>NaN</td>\n      <td>NaN</td>\n      <td>NaN</td>\n      <td>NaN</td>\n      <td>NaN</td>\n    </tr>\n    <tr>\n      <th>3</th>\n      <td>2000</td>\n      <td>3 Doors Down</td>\n      <td>Loser</td>\n      <td>4:24</td>\n      <td>2000-10-21</td>\n      <td>76</td>\n      <td>76.0</td>\n      <td>72.0</td>\n      <td>69.0</td>\n      <td>67.0</td>\n      <td>...</td>\n      <td>NaN</td>\n      <td>NaN</td>\n      <td>NaN</td>\n      <td>NaN</td>\n      <td>NaN</td>\n      <td>NaN</td>\n      <td>NaN</td>\n      <td>NaN</td>\n      <td>NaN</td>\n      <td>NaN</td>\n    </tr>\n    <tr>\n      <th>4</th>\n      <td>2000</td>\n      <td>504 Boyz</td>\n      <td>Wobble Wobble</td>\n      <td>3:35</td>\n      <td>2000-04-15</td>\n      <td>57</td>\n      <td>34.0</td>\n      <td>25.0</td>\n      <td>17.0</td>\n      <td>17.0</td>\n      <td>...</td>\n      <td>NaN</td>\n      <td>NaN</td>\n      <td>NaN</td>\n      <td>NaN</td>\n      <td>NaN</td>\n      <td>NaN</td>\n      <td>NaN</td>\n      <td>NaN</td>\n      <td>NaN</td>\n      <td>NaN</td>\n    </tr>\n  </tbody>\n</table>\n<p>5 rows × 81 columns</p>\n</div>"
     },
     "metadata": {},
     "execution_count": 56
    }
   ],
   "source": [
    "billboard=pd.read_csv(\"C:/Users/nyc15/Desktop/파이썬 공부/drive-download-20200703T073348Z-001/0910/padas_data/data/billboard.csv\")\n",
    "billboard.head()"
   ]
  },
  {
   "cell_type": "code",
   "execution_count": 57,
   "metadata": {},
   "outputs": [
    {
     "output_type": "execute_result",
     "data": {
      "text/plain": "   year        artist                    track  time date.entered week  rating\n0  2000         2 Pac  Baby Don't Cry (Keep...  4:22   2000-02-26  wk1    87.0\n1  2000       2Ge+her  The Hardest Part Of ...  3:15   2000-09-02  wk1    91.0\n2  2000  3 Doors Down               Kryptonite  3:53   2000-04-08  wk1    81.0\n3  2000  3 Doors Down                    Loser  4:24   2000-10-21  wk1    76.0\n4  2000      504 Boyz            Wobble Wobble  3:35   2000-04-15  wk1    57.0",
      "text/html": "<div>\n<style scoped>\n    .dataframe tbody tr th:only-of-type {\n        vertical-align: middle;\n    }\n\n    .dataframe tbody tr th {\n        vertical-align: top;\n    }\n\n    .dataframe thead th {\n        text-align: right;\n    }\n</style>\n<table border=\"1\" class=\"dataframe\">\n  <thead>\n    <tr style=\"text-align: right;\">\n      <th></th>\n      <th>year</th>\n      <th>artist</th>\n      <th>track</th>\n      <th>time</th>\n      <th>date.entered</th>\n      <th>week</th>\n      <th>rating</th>\n    </tr>\n  </thead>\n  <tbody>\n    <tr>\n      <th>0</th>\n      <td>2000</td>\n      <td>2 Pac</td>\n      <td>Baby Don't Cry (Keep...</td>\n      <td>4:22</td>\n      <td>2000-02-26</td>\n      <td>wk1</td>\n      <td>87.0</td>\n    </tr>\n    <tr>\n      <th>1</th>\n      <td>2000</td>\n      <td>2Ge+her</td>\n      <td>The Hardest Part Of ...</td>\n      <td>3:15</td>\n      <td>2000-09-02</td>\n      <td>wk1</td>\n      <td>91.0</td>\n    </tr>\n    <tr>\n      <th>2</th>\n      <td>2000</td>\n      <td>3 Doors Down</td>\n      <td>Kryptonite</td>\n      <td>3:53</td>\n      <td>2000-04-08</td>\n      <td>wk1</td>\n      <td>81.0</td>\n    </tr>\n    <tr>\n      <th>3</th>\n      <td>2000</td>\n      <td>3 Doors Down</td>\n      <td>Loser</td>\n      <td>4:24</td>\n      <td>2000-10-21</td>\n      <td>wk1</td>\n      <td>76.0</td>\n    </tr>\n    <tr>\n      <th>4</th>\n      <td>2000</td>\n      <td>504 Boyz</td>\n      <td>Wobble Wobble</td>\n      <td>3:35</td>\n      <td>2000-04-15</td>\n      <td>wk1</td>\n      <td>57.0</td>\n    </tr>\n  </tbody>\n</table>\n</div>"
     },
     "metadata": {},
     "execution_count": 57
    }
   ],
   "source": [
    "billboard_long=pd.melt(billboard, id_vars=['year','artist','track','time','date.entered'],var_name='week', value_name='rating')\n",
    "billboard_long.head()"
   ]
  },
  {
   "cell_type": "code",
   "execution_count": 58,
   "metadata": {},
   "outputs": [
    {
     "output_type": "execute_result",
     "data": {
      "text/plain": "       year        artist  track  time date.entered  week  rating\n3      2000  3 Doors Down  Loser  4:24   2000-10-21   wk1    76.0\n320    2000  3 Doors Down  Loser  4:24   2000-10-21   wk2    76.0\n637    2000  3 Doors Down  Loser  4:24   2000-10-21   wk3    72.0\n954    2000  3 Doors Down  Loser  4:24   2000-10-21   wk4    69.0\n1271   2000  3 Doors Down  Loser  4:24   2000-10-21   wk5    67.0\n...     ...           ...    ...   ...          ...   ...     ...\n22510  2000  3 Doors Down  Loser  4:24   2000-10-21  wk72     NaN\n22827  2000  3 Doors Down  Loser  4:24   2000-10-21  wk73     NaN\n23144  2000  3 Doors Down  Loser  4:24   2000-10-21  wk74     NaN\n23461  2000  3 Doors Down  Loser  4:24   2000-10-21  wk75     NaN\n23778  2000  3 Doors Down  Loser  4:24   2000-10-21  wk76     NaN\n\n[76 rows x 7 columns]",
      "text/html": "<div>\n<style scoped>\n    .dataframe tbody tr th:only-of-type {\n        vertical-align: middle;\n    }\n\n    .dataframe tbody tr th {\n        vertical-align: top;\n    }\n\n    .dataframe thead th {\n        text-align: right;\n    }\n</style>\n<table border=\"1\" class=\"dataframe\">\n  <thead>\n    <tr style=\"text-align: right;\">\n      <th></th>\n      <th>year</th>\n      <th>artist</th>\n      <th>track</th>\n      <th>time</th>\n      <th>date.entered</th>\n      <th>week</th>\n      <th>rating</th>\n    </tr>\n  </thead>\n  <tbody>\n    <tr>\n      <th>3</th>\n      <td>2000</td>\n      <td>3 Doors Down</td>\n      <td>Loser</td>\n      <td>4:24</td>\n      <td>2000-10-21</td>\n      <td>wk1</td>\n      <td>76.0</td>\n    </tr>\n    <tr>\n      <th>320</th>\n      <td>2000</td>\n      <td>3 Doors Down</td>\n      <td>Loser</td>\n      <td>4:24</td>\n      <td>2000-10-21</td>\n      <td>wk2</td>\n      <td>76.0</td>\n    </tr>\n    <tr>\n      <th>637</th>\n      <td>2000</td>\n      <td>3 Doors Down</td>\n      <td>Loser</td>\n      <td>4:24</td>\n      <td>2000-10-21</td>\n      <td>wk3</td>\n      <td>72.0</td>\n    </tr>\n    <tr>\n      <th>954</th>\n      <td>2000</td>\n      <td>3 Doors Down</td>\n      <td>Loser</td>\n      <td>4:24</td>\n      <td>2000-10-21</td>\n      <td>wk4</td>\n      <td>69.0</td>\n    </tr>\n    <tr>\n      <th>1271</th>\n      <td>2000</td>\n      <td>3 Doors Down</td>\n      <td>Loser</td>\n      <td>4:24</td>\n      <td>2000-10-21</td>\n      <td>wk5</td>\n      <td>67.0</td>\n    </tr>\n    <tr>\n      <th>...</th>\n      <td>...</td>\n      <td>...</td>\n      <td>...</td>\n      <td>...</td>\n      <td>...</td>\n      <td>...</td>\n      <td>...</td>\n    </tr>\n    <tr>\n      <th>22510</th>\n      <td>2000</td>\n      <td>3 Doors Down</td>\n      <td>Loser</td>\n      <td>4:24</td>\n      <td>2000-10-21</td>\n      <td>wk72</td>\n      <td>NaN</td>\n    </tr>\n    <tr>\n      <th>22827</th>\n      <td>2000</td>\n      <td>3 Doors Down</td>\n      <td>Loser</td>\n      <td>4:24</td>\n      <td>2000-10-21</td>\n      <td>wk73</td>\n      <td>NaN</td>\n    </tr>\n    <tr>\n      <th>23144</th>\n      <td>2000</td>\n      <td>3 Doors Down</td>\n      <td>Loser</td>\n      <td>4:24</td>\n      <td>2000-10-21</td>\n      <td>wk74</td>\n      <td>NaN</td>\n    </tr>\n    <tr>\n      <th>23461</th>\n      <td>2000</td>\n      <td>3 Doors Down</td>\n      <td>Loser</td>\n      <td>4:24</td>\n      <td>2000-10-21</td>\n      <td>wk75</td>\n      <td>NaN</td>\n    </tr>\n    <tr>\n      <th>23778</th>\n      <td>2000</td>\n      <td>3 Doors Down</td>\n      <td>Loser</td>\n      <td>4:24</td>\n      <td>2000-10-21</td>\n      <td>wk76</td>\n      <td>NaN</td>\n    </tr>\n  </tbody>\n</table>\n<p>76 rows × 7 columns</p>\n</div>"
     },
     "metadata": {},
     "execution_count": 58
    }
   ],
   "source": [
    "billboard_long[billboard_long.track=='Loser']"
   ]
  },
  {
   "cell_type": "code",
   "execution_count": 59,
   "metadata": {},
   "outputs": [
    {
     "output_type": "execute_result",
     "data": {
      "text/plain": "       year            artist                    track  time\n0      2000             2 Pac  Baby Don't Cry (Keep...  4:22\n1      2000           2Ge+her  The Hardest Part Of ...  3:15\n2      2000      3 Doors Down               Kryptonite  3:53\n3      2000      3 Doors Down                    Loser  4:24\n4      2000          504 Boyz            Wobble Wobble  3:35\n...     ...               ...                      ...   ...\n24087  2000       Yankee Grey     Another Nine Minutes  3:10\n24088  2000  Yearwood, Trisha          Real Live Woman  3:55\n24089  2000   Ying Yang Twins  Whistle While You Tw...  4:19\n24090  2000     Zombie Nation            Kernkraft 400  3:30\n24091  2000   matchbox twenty                     Bent  4:12\n\n[24092 rows x 4 columns]",
      "text/html": "<div>\n<style scoped>\n    .dataframe tbody tr th:only-of-type {\n        vertical-align: middle;\n    }\n\n    .dataframe tbody tr th {\n        vertical-align: top;\n    }\n\n    .dataframe thead th {\n        text-align: right;\n    }\n</style>\n<table border=\"1\" class=\"dataframe\">\n  <thead>\n    <tr style=\"text-align: right;\">\n      <th></th>\n      <th>year</th>\n      <th>artist</th>\n      <th>track</th>\n      <th>time</th>\n    </tr>\n  </thead>\n  <tbody>\n    <tr>\n      <th>0</th>\n      <td>2000</td>\n      <td>2 Pac</td>\n      <td>Baby Don't Cry (Keep...</td>\n      <td>4:22</td>\n    </tr>\n    <tr>\n      <th>1</th>\n      <td>2000</td>\n      <td>2Ge+her</td>\n      <td>The Hardest Part Of ...</td>\n      <td>3:15</td>\n    </tr>\n    <tr>\n      <th>2</th>\n      <td>2000</td>\n      <td>3 Doors Down</td>\n      <td>Kryptonite</td>\n      <td>3:53</td>\n    </tr>\n    <tr>\n      <th>3</th>\n      <td>2000</td>\n      <td>3 Doors Down</td>\n      <td>Loser</td>\n      <td>4:24</td>\n    </tr>\n    <tr>\n      <th>4</th>\n      <td>2000</td>\n      <td>504 Boyz</td>\n      <td>Wobble Wobble</td>\n      <td>3:35</td>\n    </tr>\n    <tr>\n      <th>...</th>\n      <td>...</td>\n      <td>...</td>\n      <td>...</td>\n      <td>...</td>\n    </tr>\n    <tr>\n      <th>24087</th>\n      <td>2000</td>\n      <td>Yankee Grey</td>\n      <td>Another Nine Minutes</td>\n      <td>3:10</td>\n    </tr>\n    <tr>\n      <th>24088</th>\n      <td>2000</td>\n      <td>Yearwood, Trisha</td>\n      <td>Real Live Woman</td>\n      <td>3:55</td>\n    </tr>\n    <tr>\n      <th>24089</th>\n      <td>2000</td>\n      <td>Ying Yang Twins</td>\n      <td>Whistle While You Tw...</td>\n      <td>4:19</td>\n    </tr>\n    <tr>\n      <th>24090</th>\n      <td>2000</td>\n      <td>Zombie Nation</td>\n      <td>Kernkraft 400</td>\n      <td>3:30</td>\n    </tr>\n    <tr>\n      <th>24091</th>\n      <td>2000</td>\n      <td>matchbox twenty</td>\n      <td>Bent</td>\n      <td>4:12</td>\n    </tr>\n  </tbody>\n</table>\n<p>24092 rows × 4 columns</p>\n</div>"
     },
     "metadata": {},
     "execution_count": 59
    }
   ],
   "source": [
    "billboard_songs=billboard_long[['year', 'artist', 'track', 'time']]\n",
    "billboard_songs"
   ]
  },
  {
   "cell_type": "code",
   "execution_count": 60,
   "metadata": {},
   "outputs": [
    {
     "output_type": "execute_result",
     "data": {
      "text/plain": "   year        artist                    track  time\n0  2000         2 Pac  Baby Don't Cry (Keep...  4:22\n1  2000       2Ge+her  The Hardest Part Of ...  3:15\n2  2000  3 Doors Down               Kryptonite  3:53\n3  2000  3 Doors Down                    Loser  4:24\n4  2000      504 Boyz            Wobble Wobble  3:35",
      "text/html": "<div>\n<style scoped>\n    .dataframe tbody tr th:only-of-type {\n        vertical-align: middle;\n    }\n\n    .dataframe tbody tr th {\n        vertical-align: top;\n    }\n\n    .dataframe thead th {\n        text-align: right;\n    }\n</style>\n<table border=\"1\" class=\"dataframe\">\n  <thead>\n    <tr style=\"text-align: right;\">\n      <th></th>\n      <th>year</th>\n      <th>artist</th>\n      <th>track</th>\n      <th>time</th>\n    </tr>\n  </thead>\n  <tbody>\n    <tr>\n      <th>0</th>\n      <td>2000</td>\n      <td>2 Pac</td>\n      <td>Baby Don't Cry (Keep...</td>\n      <td>4:22</td>\n    </tr>\n    <tr>\n      <th>1</th>\n      <td>2000</td>\n      <td>2Ge+her</td>\n      <td>The Hardest Part Of ...</td>\n      <td>3:15</td>\n    </tr>\n    <tr>\n      <th>2</th>\n      <td>2000</td>\n      <td>3 Doors Down</td>\n      <td>Kryptonite</td>\n      <td>3:53</td>\n    </tr>\n    <tr>\n      <th>3</th>\n      <td>2000</td>\n      <td>3 Doors Down</td>\n      <td>Loser</td>\n      <td>4:24</td>\n    </tr>\n    <tr>\n      <th>4</th>\n      <td>2000</td>\n      <td>504 Boyz</td>\n      <td>Wobble Wobble</td>\n      <td>3:35</td>\n    </tr>\n  </tbody>\n</table>\n</div>"
     },
     "metadata": {},
     "execution_count": 60
    }
   ],
   "source": [
    "#중복데이터 제거\n",
    "billboard_songs=billboard_songs.drop_duplicates()\n",
    "billboard_songs.head()"
   ]
  },
  {
   "cell_type": "code",
   "execution_count": 61,
   "metadata": {},
   "outputs": [
    {
     "output_type": "execute_result",
     "data": {
      "text/plain": "   year        artist                    track  time  id\n0  2000         2 Pac  Baby Don't Cry (Keep...  4:22   0\n1  2000       2Ge+her  The Hardest Part Of ...  3:15   1\n2  2000  3 Doors Down               Kryptonite  3:53   2\n3  2000  3 Doors Down                    Loser  4:24   3\n4  2000      504 Boyz            Wobble Wobble  3:35   4",
      "text/html": "<div>\n<style scoped>\n    .dataframe tbody tr th:only-of-type {\n        vertical-align: middle;\n    }\n\n    .dataframe tbody tr th {\n        vertical-align: top;\n    }\n\n    .dataframe thead th {\n        text-align: right;\n    }\n</style>\n<table border=\"1\" class=\"dataframe\">\n  <thead>\n    <tr style=\"text-align: right;\">\n      <th></th>\n      <th>year</th>\n      <th>artist</th>\n      <th>track</th>\n      <th>time</th>\n      <th>id</th>\n    </tr>\n  </thead>\n  <tbody>\n    <tr>\n      <th>0</th>\n      <td>2000</td>\n      <td>2 Pac</td>\n      <td>Baby Don't Cry (Keep...</td>\n      <td>4:22</td>\n      <td>0</td>\n    </tr>\n    <tr>\n      <th>1</th>\n      <td>2000</td>\n      <td>2Ge+her</td>\n      <td>The Hardest Part Of ...</td>\n      <td>3:15</td>\n      <td>1</td>\n    </tr>\n    <tr>\n      <th>2</th>\n      <td>2000</td>\n      <td>3 Doors Down</td>\n      <td>Kryptonite</td>\n      <td>3:53</td>\n      <td>2</td>\n    </tr>\n    <tr>\n      <th>3</th>\n      <td>2000</td>\n      <td>3 Doors Down</td>\n      <td>Loser</td>\n      <td>4:24</td>\n      <td>3</td>\n    </tr>\n    <tr>\n      <th>4</th>\n      <td>2000</td>\n      <td>504 Boyz</td>\n      <td>Wobble Wobble</td>\n      <td>3:35</td>\n      <td>4</td>\n    </tr>\n  </tbody>\n</table>\n</div>"
     },
     "metadata": {},
     "execution_count": 61
    }
   ],
   "source": [
    "## 데이터 입력 시 오타가 날 수 있다는 가정을 염두해 두고\n",
    "#  id 컬럼 추가\n",
    "billboard_songs['id']=range(len(billboard_songs))\n",
    "billboard_songs.head()"
   ]
  },
  {
   "cell_type": "code",
   "execution_count": 62,
   "metadata": {},
   "outputs": [
    {
     "output_type": "execute_result",
     "data": {
      "text/plain": "       year           artist                    track  time date.entered  \\\n0      2000            2 Pac  Baby Don't Cry (Keep...  4:22   2000-02-26   \n1      2000            2 Pac  Baby Don't Cry (Keep...  4:22   2000-02-26   \n2      2000            2 Pac  Baby Don't Cry (Keep...  4:22   2000-02-26   \n3      2000            2 Pac  Baby Don't Cry (Keep...  4:22   2000-02-26   \n4      2000            2 Pac  Baby Don't Cry (Keep...  4:22   2000-02-26   \n...     ...              ...                      ...   ...          ...   \n24087  2000  matchbox twenty                     Bent  4:12   2000-04-29   \n24088  2000  matchbox twenty                     Bent  4:12   2000-04-29   \n24089  2000  matchbox twenty                     Bent  4:12   2000-04-29   \n24090  2000  matchbox twenty                     Bent  4:12   2000-04-29   \n24091  2000  matchbox twenty                     Bent  4:12   2000-04-29   \n\n       week  rating   id  \n0       wk1    87.0    0  \n1       wk2    82.0    0  \n2       wk3    72.0    0  \n3       wk4    77.0    0  \n4       wk5    87.0    0  \n...     ...     ...  ...  \n24087  wk72     NaN  316  \n24088  wk73     NaN  316  \n24089  wk74     NaN  316  \n24090  wk75     NaN  316  \n24091  wk76     NaN  316  \n\n[24092 rows x 8 columns]",
      "text/html": "<div>\n<style scoped>\n    .dataframe tbody tr th:only-of-type {\n        vertical-align: middle;\n    }\n\n    .dataframe tbody tr th {\n        vertical-align: top;\n    }\n\n    .dataframe thead th {\n        text-align: right;\n    }\n</style>\n<table border=\"1\" class=\"dataframe\">\n  <thead>\n    <tr style=\"text-align: right;\">\n      <th></th>\n      <th>year</th>\n      <th>artist</th>\n      <th>track</th>\n      <th>time</th>\n      <th>date.entered</th>\n      <th>week</th>\n      <th>rating</th>\n      <th>id</th>\n    </tr>\n  </thead>\n  <tbody>\n    <tr>\n      <th>0</th>\n      <td>2000</td>\n      <td>2 Pac</td>\n      <td>Baby Don't Cry (Keep...</td>\n      <td>4:22</td>\n      <td>2000-02-26</td>\n      <td>wk1</td>\n      <td>87.0</td>\n      <td>0</td>\n    </tr>\n    <tr>\n      <th>1</th>\n      <td>2000</td>\n      <td>2 Pac</td>\n      <td>Baby Don't Cry (Keep...</td>\n      <td>4:22</td>\n      <td>2000-02-26</td>\n      <td>wk2</td>\n      <td>82.0</td>\n      <td>0</td>\n    </tr>\n    <tr>\n      <th>2</th>\n      <td>2000</td>\n      <td>2 Pac</td>\n      <td>Baby Don't Cry (Keep...</td>\n      <td>4:22</td>\n      <td>2000-02-26</td>\n      <td>wk3</td>\n      <td>72.0</td>\n      <td>0</td>\n    </tr>\n    <tr>\n      <th>3</th>\n      <td>2000</td>\n      <td>2 Pac</td>\n      <td>Baby Don't Cry (Keep...</td>\n      <td>4:22</td>\n      <td>2000-02-26</td>\n      <td>wk4</td>\n      <td>77.0</td>\n      <td>0</td>\n    </tr>\n    <tr>\n      <th>4</th>\n      <td>2000</td>\n      <td>2 Pac</td>\n      <td>Baby Don't Cry (Keep...</td>\n      <td>4:22</td>\n      <td>2000-02-26</td>\n      <td>wk5</td>\n      <td>87.0</td>\n      <td>0</td>\n    </tr>\n    <tr>\n      <th>...</th>\n      <td>...</td>\n      <td>...</td>\n      <td>...</td>\n      <td>...</td>\n      <td>...</td>\n      <td>...</td>\n      <td>...</td>\n      <td>...</td>\n    </tr>\n    <tr>\n      <th>24087</th>\n      <td>2000</td>\n      <td>matchbox twenty</td>\n      <td>Bent</td>\n      <td>4:12</td>\n      <td>2000-04-29</td>\n      <td>wk72</td>\n      <td>NaN</td>\n      <td>316</td>\n    </tr>\n    <tr>\n      <th>24088</th>\n      <td>2000</td>\n      <td>matchbox twenty</td>\n      <td>Bent</td>\n      <td>4:12</td>\n      <td>2000-04-29</td>\n      <td>wk73</td>\n      <td>NaN</td>\n      <td>316</td>\n    </tr>\n    <tr>\n      <th>24089</th>\n      <td>2000</td>\n      <td>matchbox twenty</td>\n      <td>Bent</td>\n      <td>4:12</td>\n      <td>2000-04-29</td>\n      <td>wk74</td>\n      <td>NaN</td>\n      <td>316</td>\n    </tr>\n    <tr>\n      <th>24090</th>\n      <td>2000</td>\n      <td>matchbox twenty</td>\n      <td>Bent</td>\n      <td>4:12</td>\n      <td>2000-04-29</td>\n      <td>wk75</td>\n      <td>NaN</td>\n      <td>316</td>\n    </tr>\n    <tr>\n      <th>24091</th>\n      <td>2000</td>\n      <td>matchbox twenty</td>\n      <td>Bent</td>\n      <td>4:12</td>\n      <td>2000-04-29</td>\n      <td>wk76</td>\n      <td>NaN</td>\n      <td>316</td>\n    </tr>\n  </tbody>\n</table>\n<p>24092 rows × 8 columns</p>\n</div>"
     },
     "metadata": {},
     "execution_count": 62
    }
   ],
   "source": [
    "#billboard_long.merge(billboard_songs)\n",
    "billboard_ratings=billboard_long.merge(billboard_songs, on=['year', 'artist', 'track', 'time'])\n",
    "billboard_ratings"
   ]
  },
  {
   "source": [
    "### 배열 연결 stack, vstack, hstack"
   ],
   "cell_type": "markdown",
   "metadata": {}
  },
  {
   "cell_type": "code",
   "execution_count": 63,
   "metadata": {},
   "outputs": [
    {
     "output_type": "execute_result",
     "data": {
      "text/plain": "array([[1., 1., 1., 0., 0.],\n       [1., 1., 1., 0., 0.]])"
     },
     "metadata": {},
     "execution_count": 63
    }
   ],
   "source": [
    "#hstack : 행의 수가 같은 두 개 이상의 배열을 연결 -> 열이 증가\n",
    "# horizontal\n",
    "a1=np.ones((2,3))\n",
    "a2=np.zeros((2,2))\n",
    "#a1과 a2는 행의 수가 동일 2 x 3 2 x 2\n",
    "np.hstack([a1,a2])"
   ]
  },
  {
   "cell_type": "code",
   "execution_count": 64,
   "metadata": {},
   "outputs": [
    {
     "output_type": "execute_result",
     "data": {
      "text/plain": "array([[1., 1., 1.],\n       [1., 1., 1.],\n       [0., 0., 0.],\n       [0., 0., 0.],\n       [0., 0., 0.]])"
     },
     "metadata": {},
     "execution_count": 64
    }
   ],
   "source": [
    "#vstack : 열의 수가 같은 두 개 이상의 배열을 연결 -> 행이 증가\n",
    "# vertical\n",
    "a1=np.ones((2,3))\n",
    "a2=np.zeros((3,3))\n",
    "#a1과 a2는 열의 수가 동일\n",
    "np.vstack([a1,a2])"
   ]
  },
  {
   "cell_type": "code",
   "execution_count": 65,
   "metadata": {
    "tags": []
   },
   "outputs": [
    {
     "output_type": "stream",
     "name": "stdout",
     "text": "[[[1. 0.]\n  [1. 0.]\n  [1. 0.]\n  [1. 0.]]\n\n [[1. 0.]\n  [1. 0.]\n  [1. 0.]\n  [1. 0.]]\n\n [[1. 0.]\n  [1. 0.]\n  [1. 0.]\n  [1. 0.]]]\n"
    },
    {
     "output_type": "execute_result",
     "data": {
      "text/plain": "(3, 4, 2)"
     },
     "metadata": {},
     "execution_count": 65
    }
   ],
   "source": [
    "#dstack : (depth) 방향으로 배열을 연결\n",
    "#(3*4), (3*4) => dstack => (3*4*2) #2차원 배열 2개 연결하여 3차원 배열 1개 생성\n",
    "a1=np.ones((3,4))\n",
    "a2=np.zeros((3,4))\n",
    "#a1과 a2는 열의 수가 동일\n",
    "print(np.dstack([a1,a2]))\n",
    "np.dstack([a1,a2]).shape #(3, 4, 2)   ==   (행, 열, 깊이)"
   ]
  },
  {
   "cell_type": "code",
   "execution_count": 66,
   "metadata": {},
   "outputs": [],
   "source": [
    "### 인덱서로 배열 연결 (대괄호가 붙는 함수를 인덱서라고 부름)"
   ]
  },
  {
   "cell_type": "code",
   "execution_count": 67,
   "metadata": {},
   "outputs": [
    {
     "output_type": "execute_result",
     "data": {
      "text/plain": "array([1, 2, 3, 4, 5, 6])"
     },
     "metadata": {},
     "execution_count": 67
    }
   ],
   "source": [
    "# r : 차원 증가 row + 좌우 붙이기 \n",
    "np.r_[np.array([1,2,3]),np.array([4,5,6])]\n",
    "#두 배열을 좌우로 연결(hstack함수와 비슷)"
   ]
  },
  {
   "cell_type": "code",
   "execution_count": 68,
   "metadata": {},
   "outputs": [
    {
     "output_type": "execute_result",
     "data": {
      "text/plain": "array([[1, 4],\n       [2, 5],\n       [3, 6]])"
     },
     "metadata": {},
     "execution_count": 68
    }
   ],
   "source": [
    "# c : 차원증가 columns + 좌우 붙이기 \n",
    "np.c_[np.array([1,2,3]),np.array([4,5,6])]\n",
    "#두 배열을 차원을 증가시킨 후 좌우로 연결(차원 증가 -> hstack)\n"
   ]
  },
  {
   "source": [
    "### 데이터프레임 인덱스 조작(설정/제거) \n",
    "set_index:기존 행 인덱스를 제거하고, 데이터 컬럼 중 어느 하나를 인덱스로 설정   \n",
    "reset_index:기존 행 인덱스를 제거하고, 제거된 행 인덱스를 데이터 열로 추가  "
   ],
   "cell_type": "markdown",
   "metadata": {}
  },
  {
   "cell_type": "code",
   "execution_count": 69,
   "metadata": {},
   "outputs": [
    {
     "output_type": "execute_result",
     "data": {
      "text/plain": "  C1    C2    C3    C4\n0  A  0.03  0.02  0.91\n1  B  0.28  0.98  0.39\n2  C  0.65  0.62   0.6\n3  D  0.57   0.9   0.1\n4  E  0.01  0.16  0.81",
      "text/html": "<div>\n<style scoped>\n    .dataframe tbody tr th:only-of-type {\n        vertical-align: middle;\n    }\n\n    .dataframe tbody tr th {\n        vertical-align: top;\n    }\n\n    .dataframe thead th {\n        text-align: right;\n    }\n</style>\n<table border=\"1\" class=\"dataframe\">\n  <thead>\n    <tr style=\"text-align: right;\">\n      <th></th>\n      <th>C1</th>\n      <th>C2</th>\n      <th>C3</th>\n      <th>C4</th>\n    </tr>\n  </thead>\n  <tbody>\n    <tr>\n      <th>0</th>\n      <td>A</td>\n      <td>0.03</td>\n      <td>0.02</td>\n      <td>0.91</td>\n    </tr>\n    <tr>\n      <th>1</th>\n      <td>B</td>\n      <td>0.28</td>\n      <td>0.98</td>\n      <td>0.39</td>\n    </tr>\n    <tr>\n      <th>2</th>\n      <td>C</td>\n      <td>0.65</td>\n      <td>0.62</td>\n      <td>0.6</td>\n    </tr>\n    <tr>\n      <th>3</th>\n      <td>D</td>\n      <td>0.57</td>\n      <td>0.9</td>\n      <td>0.1</td>\n    </tr>\n    <tr>\n      <th>4</th>\n      <td>E</td>\n      <td>0.01</td>\n      <td>0.16</td>\n      <td>0.81</td>\n    </tr>\n  </tbody>\n</table>\n</div>"
     },
     "metadata": {},
     "execution_count": 69
    }
   ],
   "source": [
    "myList=list(\"ABCDE\") \n",
    "myArr=np.round(np.random.rand(3,5),2) # 소수점 이하 2\n",
    "np.vstack([myList,myArr]) #4,5\n",
    "df1=pd.DataFrame(np.vstack([myList,myArr]).T,columns=['C1','C2','C3','C4']) \n",
    "df1"
   ]
  },
  {
   "cell_type": "code",
   "execution_count": 70,
   "metadata": {},
   "outputs": [
    {
     "output_type": "execute_result",
     "data": {
      "text/plain": "      C2    C3    C4\nC1                  \nA   0.03  0.02  0.91\nB   0.28  0.98  0.39\nC   0.65  0.62   0.6\nD   0.57   0.9   0.1\nE   0.01  0.16  0.81",
      "text/html": "<div>\n<style scoped>\n    .dataframe tbody tr th:only-of-type {\n        vertical-align: middle;\n    }\n\n    .dataframe tbody tr th {\n        vertical-align: top;\n    }\n\n    .dataframe thead th {\n        text-align: right;\n    }\n</style>\n<table border=\"1\" class=\"dataframe\">\n  <thead>\n    <tr style=\"text-align: right;\">\n      <th></th>\n      <th>C2</th>\n      <th>C3</th>\n      <th>C4</th>\n    </tr>\n    <tr>\n      <th>C1</th>\n      <th></th>\n      <th></th>\n      <th></th>\n    </tr>\n  </thead>\n  <tbody>\n    <tr>\n      <th>A</th>\n      <td>0.03</td>\n      <td>0.02</td>\n      <td>0.91</td>\n    </tr>\n    <tr>\n      <th>B</th>\n      <td>0.28</td>\n      <td>0.98</td>\n      <td>0.39</td>\n    </tr>\n    <tr>\n      <th>C</th>\n      <td>0.65</td>\n      <td>0.62</td>\n      <td>0.6</td>\n    </tr>\n    <tr>\n      <th>D</th>\n      <td>0.57</td>\n      <td>0.9</td>\n      <td>0.1</td>\n    </tr>\n    <tr>\n      <th>E</th>\n      <td>0.01</td>\n      <td>0.16</td>\n      <td>0.81</td>\n    </tr>\n  </tbody>\n</table>\n</div>"
     },
     "metadata": {},
     "execution_count": 70
    }
   ],
   "source": [
    "df2=df1.set_index('C1') # 열을 인덱스로 지정\n",
    "df2"
   ]
  },
  {
   "cell_type": "code",
   "execution_count": 71,
   "metadata": {},
   "outputs": [
    {
     "output_type": "execute_result",
     "data": {
      "text/plain": "  C1    C2    C3    C4\n0  A  0.03  0.02  0.91\n1  B  0.28  0.98  0.39\n2  C  0.65  0.62   0.6\n3  D  0.57   0.9   0.1\n4  E  0.01  0.16  0.81",
      "text/html": "<div>\n<style scoped>\n    .dataframe tbody tr th:only-of-type {\n        vertical-align: middle;\n    }\n\n    .dataframe tbody tr th {\n        vertical-align: top;\n    }\n\n    .dataframe thead th {\n        text-align: right;\n    }\n</style>\n<table border=\"1\" class=\"dataframe\">\n  <thead>\n    <tr style=\"text-align: right;\">\n      <th></th>\n      <th>C1</th>\n      <th>C2</th>\n      <th>C3</th>\n      <th>C4</th>\n    </tr>\n  </thead>\n  <tbody>\n    <tr>\n      <th>0</th>\n      <td>A</td>\n      <td>0.03</td>\n      <td>0.02</td>\n      <td>0.91</td>\n    </tr>\n    <tr>\n      <th>1</th>\n      <td>B</td>\n      <td>0.28</td>\n      <td>0.98</td>\n      <td>0.39</td>\n    </tr>\n    <tr>\n      <th>2</th>\n      <td>C</td>\n      <td>0.65</td>\n      <td>0.62</td>\n      <td>0.6</td>\n    </tr>\n    <tr>\n      <th>3</th>\n      <td>D</td>\n      <td>0.57</td>\n      <td>0.9</td>\n      <td>0.1</td>\n    </tr>\n    <tr>\n      <th>4</th>\n      <td>E</td>\n      <td>0.01</td>\n      <td>0.16</td>\n      <td>0.81</td>\n    </tr>\n  </tbody>\n</table>\n</div>"
     },
     "metadata": {},
     "execution_count": 71
    }
   ],
   "source": [
    "df2.reset_index()"
   ]
  },
  {
   "source": [
    "### 다중 인덱스 MultiIndex.from_tuple / columns = [[],[]]"
   ],
   "cell_type": "markdown",
   "metadata": {}
  },
  {
   "cell_type": "code",
   "execution_count": 72,
   "metadata": {},
   "outputs": [
    {
     "output_type": "execute_result",
     "data": {
      "text/plain": "          A                   B          \n         C1        C2        C3        C4\n0  0.128324  0.182475  1.202036  0.233762\n1 -0.840480 -0.210597  0.452724 -0.063061\n2 -0.504372  0.248918 -1.142993 -0.161620\n3 -1.079285 -0.229096 -1.639086  0.778173\n4  1.012349 -0.066505 -0.174302  0.086727",
      "text/html": "<div>\n<style scoped>\n    .dataframe tbody tr th:only-of-type {\n        vertical-align: middle;\n    }\n\n    .dataframe tbody tr th {\n        vertical-align: top;\n    }\n\n    .dataframe thead tr th {\n        text-align: left;\n    }\n</style>\n<table border=\"1\" class=\"dataframe\">\n  <thead>\n    <tr>\n      <th></th>\n      <th colspan=\"2\" halign=\"left\">A</th>\n      <th colspan=\"2\" halign=\"left\">B</th>\n    </tr>\n    <tr>\n      <th></th>\n      <th>C1</th>\n      <th>C2</th>\n      <th>C3</th>\n      <th>C4</th>\n    </tr>\n  </thead>\n  <tbody>\n    <tr>\n      <th>0</th>\n      <td>0.128324</td>\n      <td>0.182475</td>\n      <td>1.202036</td>\n      <td>0.233762</td>\n    </tr>\n    <tr>\n      <th>1</th>\n      <td>-0.840480</td>\n      <td>-0.210597</td>\n      <td>0.452724</td>\n      <td>-0.063061</td>\n    </tr>\n    <tr>\n      <th>2</th>\n      <td>-0.504372</td>\n      <td>0.248918</td>\n      <td>-1.142993</td>\n      <td>-0.161620</td>\n    </tr>\n    <tr>\n      <th>3</th>\n      <td>-1.079285</td>\n      <td>-0.229096</td>\n      <td>-1.639086</td>\n      <td>0.778173</td>\n    </tr>\n    <tr>\n      <th>4</th>\n      <td>1.012349</td>\n      <td>-0.066505</td>\n      <td>-0.174302</td>\n      <td>0.086727</td>\n    </tr>\n  </tbody>\n</table>\n</div>"
     },
     "metadata": {},
     "execution_count": 72
    }
   ],
   "source": [
    "mi=pd.MultiIndex.from_tuples([('A','C1'),('A','C2'),\n",
    "                          ('B','C3'),('B','C4')])\n",
    "data=pd.DataFrame(np.random.randn(5,4),\n",
    "            columns=mi)\n",
    "data"
   ]
  },
  {
   "cell_type": "code",
   "execution_count": 73,
   "metadata": {},
   "outputs": [
    {
     "output_type": "execute_result",
     "data": {
      "text/plain": "          A                   B          \n         C1        C2        C3        C4\n0 -0.865824  0.769329 -0.875141 -0.074405\n1 -1.188551 -0.654996  0.822876 -0.492696\n2 -1.025838  0.633095 -1.052431  0.813304\n3 -2.022808  0.327290 -1.876824  1.175752\n4  0.809385  1.542866 -0.893088  0.298686",
      "text/html": "<div>\n<style scoped>\n    .dataframe tbody tr th:only-of-type {\n        vertical-align: middle;\n    }\n\n    .dataframe tbody tr th {\n        vertical-align: top;\n    }\n\n    .dataframe thead tr th {\n        text-align: left;\n    }\n</style>\n<table border=\"1\" class=\"dataframe\">\n  <thead>\n    <tr>\n      <th></th>\n      <th colspan=\"2\" halign=\"left\">A</th>\n      <th colspan=\"2\" halign=\"left\">B</th>\n    </tr>\n    <tr>\n      <th></th>\n      <th>C1</th>\n      <th>C2</th>\n      <th>C3</th>\n      <th>C4</th>\n    </tr>\n  </thead>\n  <tbody>\n    <tr>\n      <th>0</th>\n      <td>-0.865824</td>\n      <td>0.769329</td>\n      <td>-0.875141</td>\n      <td>-0.074405</td>\n    </tr>\n    <tr>\n      <th>1</th>\n      <td>-1.188551</td>\n      <td>-0.654996</td>\n      <td>0.822876</td>\n      <td>-0.492696</td>\n    </tr>\n    <tr>\n      <th>2</th>\n      <td>-1.025838</td>\n      <td>0.633095</td>\n      <td>-1.052431</td>\n      <td>0.813304</td>\n    </tr>\n    <tr>\n      <th>3</th>\n      <td>-2.022808</td>\n      <td>0.327290</td>\n      <td>-1.876824</td>\n      <td>1.175752</td>\n    </tr>\n    <tr>\n      <th>4</th>\n      <td>0.809385</td>\n      <td>1.542866</td>\n      <td>-0.893088</td>\n      <td>0.298686</td>\n    </tr>\n  </tbody>\n</table>\n</div>"
     },
     "metadata": {},
     "execution_count": 73
    }
   ],
   "source": [
    "df3=pd.DataFrame(np.random.randn(5,4),\n",
    "                 columns=[[\"A\",\"A\",\"B\",\"B\"],\n",
    "                          [\"C1\",\"C2\",\"C3\",\"C4\"]])\n",
    "df3"
   ]
  },
  {
   "cell_type": "code",
   "execution_count": 74,
   "metadata": {},
   "outputs": [
    {
     "output_type": "execute_result",
     "data": {
      "text/plain": "cidx1               A                   B          \ncidx2               C         D         C         D\nridx1 ridx2                                        \nM     id1   -0.409303  1.339076  0.141371  0.823284\n      id2    0.017476 -1.076229 -1.228130  0.318431\n      id3    0.810652 -0.474500  0.814865  0.111410\nF     id1    0.688840  0.316169 -1.164735 -0.033924\n      id2   -0.443356  1.154532 -0.031518  0.316356\n      id3    0.195304  1.133345 -0.008701  1.927048",
      "text/html": "<div>\n<style scoped>\n    .dataframe tbody tr th:only-of-type {\n        vertical-align: middle;\n    }\n\n    .dataframe tbody tr th {\n        vertical-align: top;\n    }\n\n    .dataframe thead tr th {\n        text-align: left;\n    }\n\n    .dataframe thead tr:last-of-type th {\n        text-align: right;\n    }\n</style>\n<table border=\"1\" class=\"dataframe\">\n  <thead>\n    <tr>\n      <th></th>\n      <th>cidx1</th>\n      <th colspan=\"2\" halign=\"left\">A</th>\n      <th colspan=\"2\" halign=\"left\">B</th>\n    </tr>\n    <tr>\n      <th></th>\n      <th>cidx2</th>\n      <th>C</th>\n      <th>D</th>\n      <th>C</th>\n      <th>D</th>\n    </tr>\n    <tr>\n      <th>ridx1</th>\n      <th>ridx2</th>\n      <th></th>\n      <th></th>\n      <th></th>\n      <th></th>\n    </tr>\n  </thead>\n  <tbody>\n    <tr>\n      <th rowspan=\"3\" valign=\"top\">M</th>\n      <th>id1</th>\n      <td>-0.409303</td>\n      <td>1.339076</td>\n      <td>0.141371</td>\n      <td>0.823284</td>\n    </tr>\n    <tr>\n      <th>id2</th>\n      <td>0.017476</td>\n      <td>-1.076229</td>\n      <td>-1.228130</td>\n      <td>0.318431</td>\n    </tr>\n    <tr>\n      <th>id3</th>\n      <td>0.810652</td>\n      <td>-0.474500</td>\n      <td>0.814865</td>\n      <td>0.111410</td>\n    </tr>\n    <tr>\n      <th rowspan=\"3\" valign=\"top\">F</th>\n      <th>id1</th>\n      <td>0.688840</td>\n      <td>0.316169</td>\n      <td>-1.164735</td>\n      <td>-0.033924</td>\n    </tr>\n    <tr>\n      <th>id2</th>\n      <td>-0.443356</td>\n      <td>1.154532</td>\n      <td>-0.031518</td>\n      <td>0.316356</td>\n    </tr>\n    <tr>\n      <th>id3</th>\n      <td>0.195304</td>\n      <td>1.133345</td>\n      <td>-0.008701</td>\n      <td>1.927048</td>\n    </tr>\n  </tbody>\n</table>\n</div>"
     },
     "metadata": {},
     "execution_count": 74
    }
   ],
   "source": [
    "df4=pd.DataFrame(np.random.randn(6,4),\n",
    "            columns=[['A','A','B','B'],\n",
    "                    ['C','D','C','D']],\n",
    "            index=[['M','M','M','F','F','F'],\n",
    "                  [\"id\"+str(i+1) for i in range(3)]*2])\n",
    "df4.columns.names=['cidx1', 'cidx2']\n",
    "df4.index.names=['ridx1','ridx2']\n",
    "df4"
   ]
  },
  {
   "source": [
    "# 연관 규칙"
   ],
   "cell_type": "markdown",
   "metadata": {}
  },
  {
   "cell_type": "code",
   "execution_count": 75,
   "metadata": {},
   "outputs": [
    {
     "output_type": "execute_result",
     "data": {
      "text/plain": "'\\n연관규칙\\n규칙?(rules) : if 조건식 then 결과   (if A -> B)\\n연관규칙 : 특정 사건 발생 -> 함께 발생하는 또 다른 사건 간의 규칙\\n항목집합(item set):전체 항목 집합으로부터 만들어 질 수 있는 모든 각각의 부분 집합\\nX={a,b,c}= 2의 3승\\n   2*2*2\\nX의 부분집합? 공집합...전체집합\\n공집합, a, b, c, ab, ac, bc, abc\\n\\na->b\\nac->b\\n...\\n\\n이마트 : item이 1만가지 => 이마트전체상품집합={a1,a2,...a10000}=>2의 10000승\\n=> 돈 워리 => 연관규칙(apriori) => pruning(prune, 가지치기)\\n\\n연관규칙?특정 항목 집합이 발생했을 때 또 다른 항목 집합이 발생하는 규칙\\n연관규칙의 예 : {채소} -> {마요네즈}, {채소, 음료} -> {마요네즈}, ...\\n{채소}->{시럽, 식초}, ...\\n\\n*의미있는 연관 규칙을 발견 -> 기준(support(지지도),confidence(신뢰도),lift(향상도))에 부합되는 연관 규칙을 필터링\\n=> 특히 향상도가 중요함.\\n\\n{맥주}->{땅콩}\\n\\n{물티슈}->{강아지사료}\\n\\n{물티슈}->{컵라면}?물티슈를 사고, 강아지와 함께 산책을 나가고, 공원에서 컵라면\\n\\n{건전지}->{컵라면}?서귀포점 이마트 -> adaptive recommender system\\n'"
     },
     "metadata": {},
     "execution_count": 75
    }
   ],
   "source": [
    "\"\"\"\n",
    "연관규칙\n",
    "규칙?(rules) : if 조건식 then 결과   (if A -> B)\n",
    "연관규칙 : 특정 사건 발생 -> 함께 발생하는 또 다른 사건 간의 규칙\n",
    "항목집합(item set):전체 항목 집합으로부터 만들어 질 수 있는 모든 각각의 부분 집합\n",
    "X={a,b,c}= 2의 3승\n",
    "   2*2*2\n",
    "X의 부분집합? 공집합...전체집합\n",
    "공집합, a, b, c, ab, ac, bc, abc\n",
    "\n",
    "a->b\n",
    "ac->b\n",
    "...\n",
    "\n",
    "이마트 : item이 1만가지 => 이마트전체상품집합={a1,a2,...a10000}=>2의 10000승\n",
    "=> 돈 워리 => 연관규칙(apriori) => pruning(prune, 가지치기)\n",
    "\n",
    "연관규칙?특정 항목 집합이 발생했을 때 또 다른 항목 집합이 발생하는 규칙\n",
    "연관규칙의 예 : {채소} -> {마요네즈}, {채소, 음료} -> {마요네즈}, ...\n",
    "{채소}->{시럽, 식초}, ...\n",
    "\n",
    "*의미있는 연관 규칙을 발견 -> 기준(support(지지도),confidence(신뢰도),lift(향상도))에 부합되는 연관 규칙을 필터링\n",
    "=> 특히 향상도가 중요함.\n",
    "\n",
    "{맥주}->{땅콩}\n",
    "\n",
    "{물티슈}->{강아지사료}\n",
    "\n",
    "{물티슈}->{컵라면}?물티슈를 사고, 강아지와 함께 산책을 나가고, 공원에서 컵라면\n",
    "\n",
    "{건전지}->{컵라면}?서귀포점 이마트 -> adaptive recommender system\n",
    "\"\"\""
   ]
  },
  {
   "cell_type": "code",
   "execution_count": 76,
   "metadata": {},
   "outputs": [
    {
     "output_type": "execute_result",
     "data": {
      "text/plain": "'\\nX,Y : 공통 원소가 없는 항목 집합\\nex)X -> Y : {건전지}->{컵라면} \\nX->Y : if X then Y라는 연관 규칙\\nN : 전체 거래 건수\\nn(X) : 항목 집합 X의 거래 건수\\nn(Y) : 항목 집합 Y의 거래 건수\\n\\n1) 지지도?\\n두 항목 집합 X와 Y의 지지도? 전체 거래 건수 중에서 항목 집합 X와 Y를 모두 포함하는\\n거래건수의 비율.\\n표기 예) s(X->Y) : X를 구매하면 Y를 구매한다 라는 규칙에 대한 지지도\\ns(X->Y) =  X와 Y를 모두 포함하는 거래 건수 / 전체 거래 건수\\n\\n2)신뢰도?\\n항목 집합 X를 포함하는 거래(n(X)) 중에서, 항목 집합 Y를 포함하고 있는 거래의 비율\\n(조건부 확률).\\n표기 예) c(X->Y) : X를 구매하면 Y를 구매한다 라는 규칙에 대한 신뢰도\\nc(X->Y) =  X와 Y를 모두 포함하는 거래 건수 / 항목 집합 X가 포함된 거래 건수\\n\\n3)향상도?\\n항목 집합 X가 주어지지 않았을때의 항목집합 Y의 확률 대비 \\n항목 집합 X가 주어졌을때의 항목집합 Y의 확률 증가 비율.\\n=> 향상도가 1보다 크거나(+관계) 작다면(-관계) 우연적 기회(random chance)보다\\n우수함을 의미. (X와 Y가 서로 독립이면 Lift=1)\\n\\n표기 예) Lift(X->Y) : 연관규칙의 신뢰도 / 지지도 = c(X->Y) / s(Y)\\n-------------------------------------------------------------------------------------\\n*예시 데이터( 총 5건, 각 아이템이 2개 이상 중복되는 경우에도 아이템 1개로 간주)*\\n거래번호   아이템\\n1         계란, 우유\\n2         계란, 기저귀, 맥주, 사과\\n3         우유, 기저귀, 맥주, 콜라\\n4         계란, 우유, 맥주, 기저귀 \\n5         계란, 우유, 맥주, 콜라\\n\\nN=5(전체 거래 건수)\\nn(기저귀)=3\\nn({계란,우유})=3\\n\\nX={계란, 맥주}, Y={기저귀} 인 경우.\\n1)지지도 계산(s(X->Y))\\n   2  /  5 = 0.4\\n   \\n2)신뢰도 계산(c(X->Y))   \\n      2  /  3 = 0.667\\n      \\n3)향상도 계산(Lift(X->Y)) = c(X->Y) / s(Y)\\ns(Y): 전체 거래 중에서 Y거래 건수의 비율\\n\\n\\nLift(X->Y) ? Lift({계란, 맥주} -> {기저귀})\\n\\n=                           (  2  /    3  )                 /  (   3      /   5   )\\n= (계란,맥주,기저귀가 모두 포함된수/계란,맥주가 모두 포함된수)/ (기저귀건수/전체건수)\\n=   0.333 / 0.6 => 1보다 약간 큼\\n\\n= 0.01  / 0.2\\n\\n\\nc(X->Y) =  X와 Y를 모두 포함하는 거래 건수 / 항목 집합 X가 포함된 거래 건수\\n'"
     },
     "metadata": {},
     "execution_count": 76
    }
   ],
   "source": [
    "\"\"\"\n",
    "X,Y : 공통 원소가 없는 항목 집합\n",
    "ex)X -> Y : {건전지}->{컵라면} \n",
    "X->Y : if X then Y라는 연관 규칙\n",
    "N : 전체 거래 건수\n",
    "n(X) : 항목 집합 X의 거래 건수\n",
    "n(Y) : 항목 집합 Y의 거래 건수\n",
    "\n",
    "1) 지지도?\n",
    "두 항목 집합 X와 Y의 지지도? 전체 거래 건수 중에서 항목 집합 X와 Y를 모두 포함하는\n",
    "거래건수의 비율.\n",
    "표기 예) s(X->Y) : X를 구매하면 Y를 구매한다 라는 규칙에 대한 지지도\n",
    "s(X->Y) =  X와 Y를 모두 포함하는 거래 건수 / 전체 거래 건수\n",
    "\n",
    "2)신뢰도?\n",
    "항목 집합 X를 포함하는 거래(n(X)) 중에서, 항목 집합 Y를 포함하고 있는 거래의 비율\n",
    "(조건부 확률).\n",
    "표기 예) c(X->Y) : X를 구매하면 Y를 구매한다 라는 규칙에 대한 신뢰도\n",
    "c(X->Y) =  X와 Y를 모두 포함하는 거래 건수 / 항목 집합 X가 포함된 거래 건수\n",
    "\n",
    "3)향상도?\n",
    "항목 집합 X가 주어지지 않았을때의 항목집합 Y의 확률 대비 \n",
    "항목 집합 X가 주어졌을때의 항목집합 Y의 확률 증가 비율.\n",
    "=> 향상도가 1보다 크거나(+관계) 작다면(-관계) 우연적 기회(random chance)보다\n",
    "우수함을 의미. (X와 Y가 서로 독립이면 Lift=1)\n",
    "\n",
    "표기 예) Lift(X->Y) : 연관규칙의 신뢰도 / 지지도 = c(X->Y) / s(Y)\n",
    "-------------------------------------------------------------------------------------\n",
    "*예시 데이터( 총 5건, 각 아이템이 2개 이상 중복되는 경우에도 아이템 1개로 간주)*\n",
    "거래번호   아이템\n",
    "1         계란, 우유\n",
    "2         계란, 기저귀, 맥주, 사과\n",
    "3         우유, 기저귀, 맥주, 콜라\n",
    "4         계란, 우유, 맥주, 기저귀 \n",
    "5         계란, 우유, 맥주, 콜라\n",
    "\n",
    "N=5(전체 거래 건수)\n",
    "n(기저귀)=3\n",
    "n({계란,우유})=3\n",
    "\n",
    "X={계란, 맥주}, Y={기저귀} 인 경우.\n",
    "1)지지도 계산(s(X->Y))\n",
    "   2  /  5 = 0.4\n",
    "   \n",
    "2)신뢰도 계산(c(X->Y))   \n",
    "      2  /  3 = 0.667\n",
    "      \n",
    "3)향상도 계산(Lift(X->Y)) = c(X->Y) / s(Y)\n",
    "s(Y): 전체 거래 중에서 Y거래 건수의 비율\n",
    "\n",
    "\n",
    "Lift(X->Y) ? Lift({계란, 맥주} -> {기저귀})\n",
    "\n",
    "=                           (  2  /    3  )                 /  (   3      /   5   )\n",
    "= (계란,맥주,기저귀가 모두 포함된수/계란,맥주가 모두 포함된수)/ (기저귀건수/전체건수)\n",
    "=   0.333 / 0.6 => 1보다 약간 큼\n",
    "\n",
    "= 0.01  / 0.2\n",
    "\n",
    "\n",
    "c(X->Y) =  X와 Y를 모두 포함하는 거래 건수 / 항목 집합 X가 포함된 거래 건수\n",
    "\"\"\"\n",
    "\n",
    "# 항목 집합 X가 주어지지 않았을때의 항목집합 Y의 확률 (분모) 대비 \n",
    "# 항목 집합 X가 주어졌을때의 항목집합 Y의 확률 증가 비율.\n",
    "# => 향상도가 1보다 크거나(+관계) 작다면(-관계) 우연적 기회(random chance)보다\n",
    "# 우수함을 의미. (X와 Y가 서로 독립이면 Lift=1)\n",
    "\n",
    "\n",
    "\n",
    "\n",
    "\n",
    "\n"
   ]
  }
 ]
}