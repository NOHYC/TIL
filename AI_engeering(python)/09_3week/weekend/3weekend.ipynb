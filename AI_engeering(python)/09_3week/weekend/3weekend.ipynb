{
 "metadata": {
  "language_info": {
   "codemirror_mode": {
    "name": "ipython",
    "version": 3
   },
   "file_extension": ".py",
   "mimetype": "text/x-python",
   "name": "python",
   "nbconvert_exporter": "python",
   "pygments_lexer": "ipython3",
   "version": "3.8.5-final"
  },
  "orig_nbformat": 2,
  "kernelspec": {
   "name": "python_defaultSpec_1600510883854",
   "display_name": "Python 3.8.5 32-bit"
  }
 },
 "nbformat": 4,
 "nbformat_minor": 2,
 "cells": [
  {
   "source": [
    "# 연관 규칙을 이용한 상품 추천\n",
    "### 구입한 상품을 입력하면 향상도(lift)가 2이상인 상품 추천"
   ],
   "cell_type": "markdown",
   "metadata": {}
  },
  {
   "cell_type": "code",
   "execution_count": 2,
   "metadata": {},
   "outputs": [],
   "source": [
    "import pandas as pd \n",
    "import numpy as np \n",
    "from mlxtend.frequent_patterns import apriori\n",
    "from mlxtend.frequent_patterns import association_rules\n",
    "from mlxtend.preprocessing import TransactionEncoder\n",
    "import seaborn as sns\n",
    "import matplotlib.pyplot as plt "
   ]
  },
  {
   "cell_type": "code",
   "execution_count": 3,
   "metadata": {},
   "outputs": [
    {
     "output_type": "execute_result",
     "data": {
      "text/plain": "7676"
     },
     "metadata": {},
     "execution_count": 3
    }
   ],
   "source": [
    "# 하나 사신분은 제외 \n",
    "data1 = open(\"groceries.csv\",encoding='utf-8').read().split('\\n')\n",
    "data1 = [x.split(',') for x in data1 if len(x.split(',')) >1]\n",
    "len(data1)"
   ]
  },
  {
   "cell_type": "code",
   "execution_count": 4,
   "metadata": {},
   "outputs": [
    {
     "output_type": "execute_result",
     "data": {
      "text/plain": "5747"
     },
     "metadata": {},
     "execution_count": 4
    }
   ],
   "source": [
    "data2 = open(\"Market_Basket_Optimisation.csv\",encoding='utf-8').read().split('\\n')\n",
    "data2 = [x.split(',') for x in data2 if len(x.split(','))>1]\n",
    "len(data2)"
   ]
  },
  {
   "cell_type": "code",
   "execution_count": 5,
   "metadata": {},
   "outputs": [
    {
     "output_type": "execute_result",
     "data": {
      "text/plain": "13423"
     },
     "metadata": {},
     "execution_count": 5
    }
   ],
   "source": [
    "data = data1 + data2\n",
    "len(data)"
   ]
  },
  {
   "cell_type": "code",
   "execution_count": 6,
   "metadata": {},
   "outputs": [
    {
     "output_type": "execute_result",
     "data": {
      "text/plain": "        asparagus  Instant food products  UHT-milk  abrasive cleaner  almonds  \\\n0           False                  False     False             False    False   \n1           False                  False     False             False    False   \n2           False                  False     False             False    False   \n3           False                  False     False             False    False   \n4           False                  False     False              True    False   \n...           ...                    ...       ...               ...      ...   \n13418       False                  False     False             False    False   \n13419       False                  False     False             False    False   \n13420       False                  False     False             False    False   \n13421       False                  False     False             False    False   \n13422       False                  False     False             False    False   \n\n       antioxydant juice  artif. sweetener  asparagus  avocado  babies food  \\\n0                  False             False      False    False        False   \n1                  False             False      False    False        False   \n2                  False             False      False    False        False   \n3                  False             False      False    False        False   \n4                  False             False      False    False        False   \n...                  ...               ...        ...      ...          ...   \n13418              False             False      False    False        False   \n13419              False             False      False    False        False   \n13420              False             False      False    False        False   \n13421              False             False      False    False        False   \n13422              False             False      False    False        False   \n\n       ...  white wine  whole milk  whole weat flour  whole wheat pasta  \\\n0      ...       False       False             False              False   \n1      ...       False       False             False              False   \n2      ...       False       False             False              False   \n3      ...       False        True             False              False   \n4      ...       False        True             False              False   \n...    ...         ...         ...               ...                ...   \n13418  ...       False       False             False              False   \n13419  ...       False       False             False              False   \n13420  ...       False       False             False              False   \n13421  ...       False       False             False              False   \n13422  ...       False       False             False              False   \n\n       whole wheat rice   yams  yogurt  yogurt cake  zucchini  zwieback  \n0                 False  False   False        False     False     False  \n1                 False  False    True        False     False     False  \n2                 False  False    True        False     False     False  \n3                 False  False   False        False     False     False  \n4                 False  False    True        False     False     False  \n...                 ...    ...     ...          ...       ...       ...  \n13418             False  False   False        False     False     False  \n13419             False  False   False        False     False     False  \n13420             False  False   False        False     False     False  \n13421             False  False   False        False     False     False  \n13422             False  False   False         True     False     False  \n\n[13423 rows x 270 columns]",
      "text/html": "<div>\n<style scoped>\n    .dataframe tbody tr th:only-of-type {\n        vertical-align: middle;\n    }\n\n    .dataframe tbody tr th {\n        vertical-align: top;\n    }\n\n    .dataframe thead th {\n        text-align: right;\n    }\n</style>\n<table border=\"1\" class=\"dataframe\">\n  <thead>\n    <tr style=\"text-align: right;\">\n      <th></th>\n      <th>asparagus</th>\n      <th>Instant food products</th>\n      <th>UHT-milk</th>\n      <th>abrasive cleaner</th>\n      <th>almonds</th>\n      <th>antioxydant juice</th>\n      <th>artif. sweetener</th>\n      <th>asparagus</th>\n      <th>avocado</th>\n      <th>babies food</th>\n      <th>...</th>\n      <th>white wine</th>\n      <th>whole milk</th>\n      <th>whole weat flour</th>\n      <th>whole wheat pasta</th>\n      <th>whole wheat rice</th>\n      <th>yams</th>\n      <th>yogurt</th>\n      <th>yogurt cake</th>\n      <th>zucchini</th>\n      <th>zwieback</th>\n    </tr>\n  </thead>\n  <tbody>\n    <tr>\n      <th>0</th>\n      <td>False</td>\n      <td>False</td>\n      <td>False</td>\n      <td>False</td>\n      <td>False</td>\n      <td>False</td>\n      <td>False</td>\n      <td>False</td>\n      <td>False</td>\n      <td>False</td>\n      <td>...</td>\n      <td>False</td>\n      <td>False</td>\n      <td>False</td>\n      <td>False</td>\n      <td>False</td>\n      <td>False</td>\n      <td>False</td>\n      <td>False</td>\n      <td>False</td>\n      <td>False</td>\n    </tr>\n    <tr>\n      <th>1</th>\n      <td>False</td>\n      <td>False</td>\n      <td>False</td>\n      <td>False</td>\n      <td>False</td>\n      <td>False</td>\n      <td>False</td>\n      <td>False</td>\n      <td>False</td>\n      <td>False</td>\n      <td>...</td>\n      <td>False</td>\n      <td>False</td>\n      <td>False</td>\n      <td>False</td>\n      <td>False</td>\n      <td>False</td>\n      <td>True</td>\n      <td>False</td>\n      <td>False</td>\n      <td>False</td>\n    </tr>\n    <tr>\n      <th>2</th>\n      <td>False</td>\n      <td>False</td>\n      <td>False</td>\n      <td>False</td>\n      <td>False</td>\n      <td>False</td>\n      <td>False</td>\n      <td>False</td>\n      <td>False</td>\n      <td>False</td>\n      <td>...</td>\n      <td>False</td>\n      <td>False</td>\n      <td>False</td>\n      <td>False</td>\n      <td>False</td>\n      <td>False</td>\n      <td>True</td>\n      <td>False</td>\n      <td>False</td>\n      <td>False</td>\n    </tr>\n    <tr>\n      <th>3</th>\n      <td>False</td>\n      <td>False</td>\n      <td>False</td>\n      <td>False</td>\n      <td>False</td>\n      <td>False</td>\n      <td>False</td>\n      <td>False</td>\n      <td>False</td>\n      <td>False</td>\n      <td>...</td>\n      <td>False</td>\n      <td>True</td>\n      <td>False</td>\n      <td>False</td>\n      <td>False</td>\n      <td>False</td>\n      <td>False</td>\n      <td>False</td>\n      <td>False</td>\n      <td>False</td>\n    </tr>\n    <tr>\n      <th>4</th>\n      <td>False</td>\n      <td>False</td>\n      <td>False</td>\n      <td>True</td>\n      <td>False</td>\n      <td>False</td>\n      <td>False</td>\n      <td>False</td>\n      <td>False</td>\n      <td>False</td>\n      <td>...</td>\n      <td>False</td>\n      <td>True</td>\n      <td>False</td>\n      <td>False</td>\n      <td>False</td>\n      <td>False</td>\n      <td>True</td>\n      <td>False</td>\n      <td>False</td>\n      <td>False</td>\n    </tr>\n    <tr>\n      <th>...</th>\n      <td>...</td>\n      <td>...</td>\n      <td>...</td>\n      <td>...</td>\n      <td>...</td>\n      <td>...</td>\n      <td>...</td>\n      <td>...</td>\n      <td>...</td>\n      <td>...</td>\n      <td>...</td>\n      <td>...</td>\n      <td>...</td>\n      <td>...</td>\n      <td>...</td>\n      <td>...</td>\n      <td>...</td>\n      <td>...</td>\n      <td>...</td>\n      <td>...</td>\n      <td>...</td>\n    </tr>\n    <tr>\n      <th>13418</th>\n      <td>False</td>\n      <td>False</td>\n      <td>False</td>\n      <td>False</td>\n      <td>False</td>\n      <td>False</td>\n      <td>False</td>\n      <td>False</td>\n      <td>False</td>\n      <td>False</td>\n      <td>...</td>\n      <td>False</td>\n      <td>False</td>\n      <td>False</td>\n      <td>False</td>\n      <td>False</td>\n      <td>False</td>\n      <td>False</td>\n      <td>False</td>\n      <td>False</td>\n      <td>False</td>\n    </tr>\n    <tr>\n      <th>13419</th>\n      <td>False</td>\n      <td>False</td>\n      <td>False</td>\n      <td>False</td>\n      <td>False</td>\n      <td>False</td>\n      <td>False</td>\n      <td>False</td>\n      <td>False</td>\n      <td>False</td>\n      <td>...</td>\n      <td>False</td>\n      <td>False</td>\n      <td>False</td>\n      <td>False</td>\n      <td>False</td>\n      <td>False</td>\n      <td>False</td>\n      <td>False</td>\n      <td>False</td>\n      <td>False</td>\n    </tr>\n    <tr>\n      <th>13420</th>\n      <td>False</td>\n      <td>False</td>\n      <td>False</td>\n      <td>False</td>\n      <td>False</td>\n      <td>False</td>\n      <td>False</td>\n      <td>False</td>\n      <td>False</td>\n      <td>False</td>\n      <td>...</td>\n      <td>False</td>\n      <td>False</td>\n      <td>False</td>\n      <td>False</td>\n      <td>False</td>\n      <td>False</td>\n      <td>False</td>\n      <td>False</td>\n      <td>False</td>\n      <td>False</td>\n    </tr>\n    <tr>\n      <th>13421</th>\n      <td>False</td>\n      <td>False</td>\n      <td>False</td>\n      <td>False</td>\n      <td>False</td>\n      <td>False</td>\n      <td>False</td>\n      <td>False</td>\n      <td>False</td>\n      <td>False</td>\n      <td>...</td>\n      <td>False</td>\n      <td>False</td>\n      <td>False</td>\n      <td>False</td>\n      <td>False</td>\n      <td>False</td>\n      <td>False</td>\n      <td>False</td>\n      <td>False</td>\n      <td>False</td>\n    </tr>\n    <tr>\n      <th>13422</th>\n      <td>False</td>\n      <td>False</td>\n      <td>False</td>\n      <td>False</td>\n      <td>False</td>\n      <td>False</td>\n      <td>False</td>\n      <td>False</td>\n      <td>False</td>\n      <td>False</td>\n      <td>...</td>\n      <td>False</td>\n      <td>False</td>\n      <td>False</td>\n      <td>False</td>\n      <td>False</td>\n      <td>False</td>\n      <td>False</td>\n      <td>True</td>\n      <td>False</td>\n      <td>False</td>\n    </tr>\n  </tbody>\n</table>\n<p>13423 rows × 270 columns</p>\n</div>"
     },
     "metadata": {},
     "execution_count": 6
    }
   ],
   "source": [
    "te = TransactionEncoder()\n",
    "te_array = te.fit_transform(data)\n",
    "df = pd.DataFrame(te_array,columns = te.columns_)\n",
    "df"
   ]
  },
  {
   "cell_type": "code",
   "execution_count": 58,
   "metadata": {
    "tags": []
   },
   "outputs": [
    {
     "output_type": "stream",
     "name": "stdout",
     "text": "추천해드릴 상품이 없어요ㅠ\n"
    }
   ],
   "source": [
    "item_name = list(df.columns)\n",
    "item = input(f'구매했던 상품을 입력하세요. 상품 종류 :  {item_name}')\n",
    "recom_df = pd.DataFrame([])\n",
    "for i in [0.1,0.05,0.04,0.03,0.02,0.01]:\n",
    "    apri = apriori(df, min_support=i,use_colnames=True) \n",
    "    asso = association_rules(apri,metric='lift',min_threshold=2)\n",
    "    if {item} in asso['antecedents'].values :\n",
    "        recom_df = asso[asso['antecedents'] == {item}].copy()\n",
    "        break\n",
    "if len(recom_df.values) >0:\n",
    "    print(item,'을(를) 구매하셨으면....')\n",
    "    print('='*50)\n",
    "    for i in range(len(recom_df.index)):\n",
    "        print(*recom_df.iloc[i,1])\n",
    "    print('='*50)\n",
    "    print('추천합니다.')\n",
    "else :\n",
    "    print('추천해드릴 상품이 없어요ㅠ')"
   ]
  }
 ]
}