{
 "cells": [
  {
   "cell_type": "markdown",
   "metadata": {},
   "source": [
    "# 머신 러닝 4 분류\n",
    "## 지도학습\n",
    "- 시퀀스 생성 : 사진이 주어지면 이를 설명하는 캡션 설명\n",
    "- 구문 트리 예측 : 문장이 주어지면 분해된 구문트리 예측\n",
    "- 물체 감지 : 사진이 주어지면 사진 안의 특정 물체 주위에 경계상자가 그림\n",
    "- 이미지 분할 : 사진이 주어졌을 때 픽셀 단위로 특정 물체에 마스킹\n",
    "## 비지도 학습\n",
    "- 입력 데이터에 대한 흥미로운 변환을 찾는다.\n",
    "- 차원 축소, 군집\n",
    "## 자기 지도학습\n",
    "- 지도학습의 특별한 경우\n",
    "- 사람이 만든 레이블 사용 x 사람 개입 x\n",
    "- 레이블이 필요하지만 보통 경험적 알고리즘을 사용해서 입력 데이터로부터 생성\n",
    "- 오토인코더\n",
    "## 강화학습\n",
    "- 에이전트는 환경에 대한 정보를 받아 보상을 최대화\n",
    "- 게임 이외 성공 x"
   ]
  },
  {
   "cell_type": "markdown",
   "metadata": {},
   "source": [
    "- 하이퍼파라미터 조정 : 층의 수나 유닛 변경\n",
    "- 정보 누설 : 검증 세트의 모델 성능에 기반하여 모델의 하이퍼파라미터를 조정할 때마다 검증 데이터에 관한 정보가 모델로 새는 것\n",
    "- 데이터의 수가 부족할 때 hold out validation / k fold cross validateion / shufflin을 사용한 iterated k fold cross validation\n",
    "## 평가 방식을 선택할 때 유의할 것\n",
    "- 대표성 있는 데이터 인가? => 훈련과 테스트 셋을 나누기전 shuffle 골고루 섞는다.\n",
    "- 시간의 방향이 맞는가? => 과거로 부터 미래를 예측한다고하면 훈련, 테스트 데이터 분할 전 shuffle x\n",
    "- 데이터 중복이 있는가 ? 훈련 데이터 일부로 테스트하는 격"
   ]
  },
  {
   "cell_type": "markdown",
   "metadata": {},
   "source": [
    "# 과대 적합과 과소 적합\n",
    "- 머신 러닝의 근본적인 이슈는 최적화와 일반화 사이 줄다리기\n",
    "- 훈련 데이터 손실이 낮아지고, 테스트 데이터 손실이 낮아지는 중 => 과소적합( 성능의 개선 여지 o )\n",
    "- 과대 적합을 줄이는 가장 단순하 방법 모델의 크기, 즉 모델에 있는 학습 파라미터의 수를 줄이는 것 ( 층의 수와 유닛의 수에 의해 결정 )\n"
   ]
  },
  {
   "cell_type": "markdown",
   "metadata": {},
   "source": [
    "# 네트워크 크기 축소\n",
    "- 알맞은 층의 수나 각 층의 유닛 수를 결정하는 공식 x\n",
    "- 데이터에 알맞은 모델의 크기를 찾으려면 각기 다른 구조를 평가 ( 적은 층 수와 적은 파라미터로 시작해보고 검증 loss가 감소되기 시작할 때 층이나 유닛 수를 늘린다.)"
   ]
  },
  {
   "cell_type": "code",
   "execution_count": 1,
   "metadata": {},
   "outputs": [],
   "source": [
    "# 영화 분류 모델\n",
    "from keras.datasets import imdb\n",
    "import numpy as np\n",
    "from keras import models, layers\n",
    "\n",
    "(train_data, train_labels),(test_data,test_labels) = imdb.load_data(num_words = 10000)\n",
    "word_index = imdb.get_word_index()\n",
    "revere_index = dict([ (value,key) for key,value in word_index.items()])\n",
    "decode_review = ' '.join( [revere_index.get(i-3,'?') for i in train_data[0]])\n",
    "def vectorizer_seq(sequence,dim = 10000):\n",
    "    res = np.zeros((len(sequence),dim))\n",
    "    for i, seq in enumerate(sequence):\n",
    "        res[i,seq] = 1\n",
    "    return res\n",
    "x_train = vectorizer_seq(train_data)\n",
    "x_test = vectorizer_seq(test_data)\n",
    "y_train = np.asarray(train_labels).astype('float32')\n",
    "y_test = np.asarray(test_labels).astype('float32')\n",
    "\n",
    "# 원본 모델\n",
    "model = models.Sequential()\n",
    "model.add(layers.Dense(16,activation = 'relu',input_shape = (10000,)))\n",
    "model.add(layers.Dense(16,activation = 'relu'))\n",
    "model.add(layers.Dense(1,activation = 'sigmoid'))\n",
    "\n",
    "# 작은 네트워크 모델\n",
    "smodel = models.Sequential()\n",
    "smodel.add(layers.Dense(6,activation = 'relu',input_shape = (10000,)))\n",
    "smodel.add(layers.Dense(6,activation = 'relu'))\n",
    "smodel.add(layers.Dense(1,activation = 'sigmoid'))\n",
    "\n"
   ]
  },
  {
   "cell_type": "code",
   "execution_count": 2,
   "metadata": {},
   "outputs": [],
   "source": [
    "model.compile(optimizer='rmsprop',loss='binary_crossentropy',metrics=['accuracy'])\n",
    "smodel.compile(optimizer='rmsprop',loss='binary_crossentropy',metrics=['accuracy'])"
   ]
  },
  {
   "cell_type": "code",
   "execution_count": 3,
   "metadata": {},
   "outputs": [],
   "source": [
    "x_val = x_train[:10000]\n",
    "part_x_train = x_train[10000:]\n",
    "y_val = y_train[:10000]\n",
    "part_y_train = y_train[10000:]"
   ]
  },
  {
   "cell_type": "code",
   "execution_count": 4,
   "metadata": {},
   "outputs": [
    {
     "name": "stdout",
     "output_type": "stream",
     "text": [
      "Epoch 1/20\n",
      "30/30 [==============================] - 1s 32ms/step - loss: 0.5403 - accuracy: 0.7777 - val_loss: 0.4395 - val_accuracy: 0.8249\n",
      "Epoch 2/20\n",
      "30/30 [==============================] - 1s 17ms/step - loss: 0.3374 - accuracy: 0.8998 - val_loss: 0.3239 - val_accuracy: 0.8835\n",
      "Epoch 3/20\n",
      "30/30 [==============================] - 1s 17ms/step - loss: 0.2406 - accuracy: 0.9253 - val_loss: 0.3137 - val_accuracy: 0.8747\n",
      "Epoch 4/20\n",
      "30/30 [==============================] - 0s 16ms/step - loss: 0.1863 - accuracy: 0.9402 - val_loss: 0.2786 - val_accuracy: 0.8914\n",
      "Epoch 5/20\n",
      "30/30 [==============================] - 0s 16ms/step - loss: 0.1466 - accuracy: 0.9557 - val_loss: 0.2900 - val_accuracy: 0.8863\n",
      "Epoch 6/20\n",
      "30/30 [==============================] - 0s 16ms/step - loss: 0.1208 - accuracy: 0.9637 - val_loss: 0.3084 - val_accuracy: 0.8828\n",
      "Epoch 7/20\n",
      "30/30 [==============================] - 0s 16ms/step - loss: 0.0985 - accuracy: 0.9710 - val_loss: 0.3437 - val_accuracy: 0.8775\n",
      "Epoch 8/20\n",
      "30/30 [==============================] - 0s 16ms/step - loss: 0.0791 - accuracy: 0.9787 - val_loss: 0.3348 - val_accuracy: 0.8809\n",
      "Epoch 9/20\n",
      "30/30 [==============================] - 1s 17ms/step - loss: 0.0680 - accuracy: 0.9806 - val_loss: 0.3569 - val_accuracy: 0.8784\n",
      "Epoch 10/20\n",
      "30/30 [==============================] - 1s 17ms/step - loss: 0.0524 - accuracy: 0.9873 - val_loss: 0.3870 - val_accuracy: 0.8791\n",
      "Epoch 11/20\n",
      "30/30 [==============================] - 0s 16ms/step - loss: 0.0426 - accuracy: 0.9909 - val_loss: 0.4157 - val_accuracy: 0.8800\n",
      "Epoch 12/20\n",
      "30/30 [==============================] - 0s 16ms/step - loss: 0.0324 - accuracy: 0.9936 - val_loss: 0.4522 - val_accuracy: 0.8764\n",
      "Epoch 13/20\n",
      "30/30 [==============================] - 0s 16ms/step - loss: 0.0272 - accuracy: 0.9944 - val_loss: 0.4751 - val_accuracy: 0.8779\n",
      "Epoch 14/20\n",
      "30/30 [==============================] - 0s 16ms/step - loss: 0.0188 - accuracy: 0.9973 - val_loss: 0.5067 - val_accuracy: 0.8718\n",
      "Epoch 15/20\n",
      "30/30 [==============================] - 0s 16ms/step - loss: 0.0154 - accuracy: 0.9983 - val_loss: 0.5503 - val_accuracy: 0.8725\n",
      "Epoch 16/20\n",
      "30/30 [==============================] - 0s 15ms/step - loss: 0.0126 - accuracy: 0.9979 - val_loss: 0.5784 - val_accuracy: 0.8713\n",
      "Epoch 17/20\n",
      "30/30 [==============================] - 0s 16ms/step - loss: 0.0073 - accuracy: 0.9995 - val_loss: 0.6171 - val_accuracy: 0.8719\n",
      "Epoch 18/20\n",
      "30/30 [==============================] - 0s 16ms/step - loss: 0.0099 - accuracy: 0.9979 - val_loss: 0.6539 - val_accuracy: 0.8698\n",
      "Epoch 19/20\n",
      "30/30 [==============================] - 0s 16ms/step - loss: 0.0037 - accuracy: 0.9997 - val_loss: 0.6918 - val_accuracy: 0.8695\n",
      "Epoch 20/20\n",
      "30/30 [==============================] - 0s 16ms/step - loss: 0.0087 - accuracy: 0.9977 - val_loss: 0.7193 - val_accuracy: 0.8682\n",
      "Epoch 1/20\n",
      "30/30 [==============================] - 1s 23ms/step - loss: 0.5586 - accuracy: 0.7807 - val_loss: 0.4566 - val_accuracy: 0.8585\n",
      "Epoch 2/20\n",
      "30/30 [==============================] - 0s 15ms/step - loss: 0.3764 - accuracy: 0.8889 - val_loss: 0.3594 - val_accuracy: 0.8733\n",
      "Epoch 3/20\n",
      "30/30 [==============================] - 0s 14ms/step - loss: 0.2782 - accuracy: 0.9176 - val_loss: 0.3097 - val_accuracy: 0.8839\n",
      "Epoch 4/20\n",
      "30/30 [==============================] - 0s 15ms/step - loss: 0.2200 - accuracy: 0.9353 - val_loss: 0.2922 - val_accuracy: 0.8845\n",
      "Epoch 5/20\n",
      "30/30 [==============================] - 0s 16ms/step - loss: 0.1822 - accuracy: 0.9467 - val_loss: 0.2781 - val_accuracy: 0.8887\n",
      "Epoch 6/20\n",
      "30/30 [==============================] - 0s 15ms/step - loss: 0.1539 - accuracy: 0.9552 - val_loss: 0.2811 - val_accuracy: 0.8868\n",
      "Epoch 7/20\n",
      "30/30 [==============================] - 0s 15ms/step - loss: 0.1325 - accuracy: 0.9610 - val_loss: 0.2805 - val_accuracy: 0.8876\n",
      "Epoch 8/20\n",
      "30/30 [==============================] - 0s 16ms/step - loss: 0.1132 - accuracy: 0.9688 - val_loss: 0.3144 - val_accuracy: 0.8797\n",
      "Epoch 9/20\n",
      "30/30 [==============================] - 0s 16ms/step - loss: 0.0947 - accuracy: 0.9742 - val_loss: 0.3069 - val_accuracy: 0.8832\n",
      "Epoch 10/20\n",
      "30/30 [==============================] - 0s 16ms/step - loss: 0.0808 - accuracy: 0.9800 - val_loss: 0.3213 - val_accuracy: 0.8822\n",
      "Epoch 11/20\n",
      "30/30 [==============================] - 0s 15ms/step - loss: 0.0699 - accuracy: 0.9824 - val_loss: 0.3378 - val_accuracy: 0.8801\n",
      "Epoch 12/20\n",
      "30/30 [==============================] - 0s 16ms/step - loss: 0.0600 - accuracy: 0.9861 - val_loss: 0.3561 - val_accuracy: 0.8774\n",
      "Epoch 13/20\n",
      "30/30 [==============================] - 0s 15ms/step - loss: 0.0496 - accuracy: 0.9895 - val_loss: 0.3827 - val_accuracy: 0.8756\n",
      "Epoch 14/20\n",
      "30/30 [==============================] - 0s 16ms/step - loss: 0.0430 - accuracy: 0.9915 - val_loss: 0.3986 - val_accuracy: 0.8757\n",
      "Epoch 15/20\n",
      "30/30 [==============================] - 0s 16ms/step - loss: 0.0365 - accuracy: 0.9934 - val_loss: 0.4199 - val_accuracy: 0.8744\n",
      "Epoch 16/20\n",
      "30/30 [==============================] - 1s 17ms/step - loss: 0.0306 - accuracy: 0.9946 - val_loss: 0.4435 - val_accuracy: 0.8729\n",
      "Epoch 17/20\n",
      "30/30 [==============================] - 0s 16ms/step - loss: 0.0248 - accuracy: 0.9961 - val_loss: 0.4772 - val_accuracy: 0.8693\n",
      "Epoch 18/20\n",
      "30/30 [==============================] - 0s 17ms/step - loss: 0.0220 - accuracy: 0.9970 - val_loss: 0.4961 - val_accuracy: 0.8722\n",
      "Epoch 19/20\n",
      "30/30 [==============================] - 0s 15ms/step - loss: 0.0162 - accuracy: 0.9983 - val_loss: 0.5229 - val_accuracy: 0.8699\n",
      "Epoch 20/20\n",
      "30/30 [==============================] - 0s 15ms/step - loss: 0.0139 - accuracy: 0.9987 - val_loss: 0.5564 - val_accuracy: 0.8684\n"
     ]
    }
   ],
   "source": [
    "history = model.fit(part_x_train,part_y_train,epochs=20,batch_size=512,validation_data=(x_val,y_val))\n",
    "shistory = smodel.fit(part_x_train,part_y_train,epochs=20,batch_size=512,validation_data=(x_val,y_val))"
   ]
  },
  {
   "cell_type": "code",
   "execution_count": 7,
   "metadata": {},
   "outputs": [
    {
     "data": {
      "image/png": "[encoded data removed]",
      "text/plain": [
       "<Figure size 432x288 with 1 Axes>"
      ]
     },
     "metadata": {
      "needs_background": "light"
     },
     "output_type": "display_data"
    }
   ],
   "source": [
    "import matplotlib.pyplot as plt\n",
    "\n",
    "def plt_hist(history,shistory):\n",
    "    history_dict = history.history\n",
    "    shistory_dict = shistory.history\n",
    "\n",
    "    sloss = shistory_dict['val_loss']\n",
    "    loss = history_dict['val_loss']\n",
    "    epochs = range(1,len(loss)+1)\n",
    "    plt.plot(epochs,loss,'bo',label = 'original loss')\n",
    "    plt.plot(epochs,sloss,'b',label = 'smaller loss')\n",
    "    plt.title('original vs smaller')\n",
    "    plt.xlabel('epochs')\n",
    "    plt.ylabel('loss')\n",
    "    plt.legend()\n",
    "    plt.show()\n",
    "plt_hist(history,shistory)"
   ]
  },
  {
   "cell_type": "markdown",
   "metadata": {},
   "source": [
    "작은 네트워크가 원본 네트워크보다 나중에 과대적합되는 것을 볼 수 있다.또한 과대 적합됬을 때 성능의 감소는 원본이 크고 작은 네트워크가 작다."
   ]
  },
  {
   "cell_type": "markdown",
   "metadata": {},
   "source": [
    "반대로 용량이 큰 네트워크와 차이를 보자"
   ]
  },
  {
   "cell_type": "code",
   "execution_count": 8,
   "metadata": {},
   "outputs": [
    {
     "name": "stdout",
     "output_type": "stream",
     "text": [
      "Epoch 1/20\n",
      "30/30 [==============================] - 8s 277ms/step - loss: 0.6601 - accuracy: 0.7353 - val_loss: 0.3073 - val_accuracy: 0.8785\n",
      "Epoch 2/20\n",
      "30/30 [==============================] - 8s 266ms/step - loss: 0.2514 - accuracy: 0.9005 - val_loss: 0.4965 - val_accuracy: 0.7644\n",
      "Epoch 3/20\n",
      "30/30 [==============================] - 8s 277ms/step - loss: 0.1599 - accuracy: 0.9394 - val_loss: 0.2919 - val_accuracy: 0.8922\n",
      "Epoch 4/20\n",
      "30/30 [==============================] - 9s 283ms/step - loss: 0.0873 - accuracy: 0.9725 - val_loss: 0.3649 - val_accuracy: 0.8769\n",
      "Epoch 5/20\n",
      "30/30 [==============================] - 8s 281ms/step - loss: 0.0061 - accuracy: 0.9989 - val_loss: 0.5633 - val_accuracy: 0.8711\n",
      "Epoch 6/20\n",
      "30/30 [==============================] - 9s 292ms/step - loss: 4.5255e-04 - accuracy: 1.0000 - val_loss: 0.5908 - val_accuracy: 0.8883\n",
      "Epoch 7/20\n",
      "30/30 [==============================] - 9s 289ms/step - loss: 3.2095e-05 - accuracy: 1.0000 - val_loss: 0.6854 - val_accuracy: 0.8880\n",
      "Epoch 8/20\n",
      "30/30 [==============================] - 8s 282ms/step - loss: 5.8511e-06 - accuracy: 1.0000 - val_loss: 0.7687 - val_accuracy: 0.8877\n",
      "Epoch 9/20\n",
      "30/30 [==============================] - 9s 284ms/step - loss: 1.4398e-06 - accuracy: 1.0000 - val_loss: 0.8620 - val_accuracy: 0.8878\n",
      "Epoch 10/20\n",
      "30/30 [==============================] - 9s 285ms/step - loss: 4.0990e-07 - accuracy: 1.0000 - val_loss: 0.9302 - val_accuracy: 0.8878\n",
      "Epoch 11/20\n",
      "30/30 [==============================] - 9s 288ms/step - loss: 1.3915e-07 - accuracy: 1.0000 - val_loss: 0.9898 - val_accuracy: 0.8872\n",
      "Epoch 12/20\n",
      "30/30 [==============================] - 9s 303ms/step - loss: 5.5669e-08 - accuracy: 1.0000 - val_loss: 1.0418 - val_accuracy: 0.8877\n",
      "Epoch 13/20\n",
      "30/30 [==============================] - 10s 321ms/step - loss: 2.8314e-08 - accuracy: 1.0000 - val_loss: 1.0796 - val_accuracy: 0.8878\n",
      "Epoch 14/20\n",
      "30/30 [==============================] - 10s 334ms/step - loss: 1.7801e-08 - accuracy: 1.0000 - val_loss: 1.1010 - val_accuracy: 0.8877\n",
      "Epoch 15/20\n",
      "30/30 [==============================] - 11s 352ms/step - loss: 1.2834e-08 - accuracy: 1.0000 - val_loss: 1.1187 - val_accuracy: 0.8877\n",
      "Epoch 16/20\n",
      "30/30 [==============================] - 11s 372ms/step - loss: 1.0030e-08 - accuracy: 1.0000 - val_loss: 1.1316 - val_accuracy: 0.8876\n",
      "Epoch 17/20\n",
      "30/30 [==============================] - 10s 343ms/step - loss: 8.2470e-09 - accuracy: 1.0000 - val_loss: 1.1414 - val_accuracy: 0.8877\n",
      "Epoch 18/20\n",
      "30/30 [==============================] - 10s 318ms/step - loss: 7.0534e-09 - accuracy: 1.0000 - val_loss: 1.1526 - val_accuracy: 0.8880\n",
      "Epoch 19/20\n",
      "30/30 [==============================] - 9s 304ms/step - loss: 6.1287e-09 - accuracy: 1.0000 - val_loss: 1.1589 - val_accuracy: 0.8880\n",
      "Epoch 20/20\n",
      "30/30 [==============================] - 9s 295ms/step - loss: 5.4465e-09 - accuracy: 1.0000 - val_loss: 1.1649 - val_accuracy: 0.8879\n"
     ]
    },
    {
     "data": {
      "image/png": "[encoded data removed]",
      "text/plain": [
       "<Figure size 432x288 with 1 Axes>"
      ]
     },
     "metadata": {
      "needs_background": "light"
     },
     "output_type": "display_data"
    }
   ],
   "source": [
    "bmodel = models.Sequential()\n",
    "bmodel.add(layers.Dense(1024,activation = 'relu',input_shape = (10000,)))\n",
    "bmodel.add(layers.Dense(1024,activation = 'relu'))\n",
    "bmodel.add(layers.Dense(1,activation = 'sigmoid'))\n",
    "bmodel.compile(optimizer='rmsprop',loss='binary_crossentropy',metrics=['accuracy'])\n",
    "bhistory = bmodel.fit(part_x_train,part_y_train,epochs=20,batch_size=512,validation_data=(x_val,y_val))\n",
    "plt_hist(history,bhistory)"
   ]
  },
  {
   "cell_type": "code",
   "execution_count": 9,
   "metadata": {},
   "outputs": [],
   "source": [
    "# 용량이 큰 네크워크는 첫번째 이후 과대적합이 이루어져 점점 더 심해짐 ( smaller loss => bigger loss )\n",
    "# 용량이 큰 네트워크는 훈련 손실이 매우 빠르게 0에 가까워 진다! => 용량이 많은 네트워크일 수록 더 빠르게 훈련 데이터를 모델링 할 수 있다.\n",
    "# 하지만 과대 적합에 민감해진다."
   ]
  },
  {
   "cell_type": "markdown",
   "metadata": {},
   "source": [
    "# 가중치 규제 추가\n",
    "## 과대 적합 완화\n",
    "- 오캄의 면도날 이론과 같이 어떤 훈련 데이터와 네트워크 구조가 주어졌을 때 데이터를 설명할 수 있는 가중치 값의 집합은 여러개 모델. 간단한 모델이 복잡한 모델보다 덜 과대적합된다.\n",
    "- 파리미터 값 분포의 엔트로피가 작은 모델\n",
    "- 적은 파리미터 수를 가진 모델\n",
    "- 네트워크 복잡도에 제한을 두어 가중치가 작은 값을 가지도록 강제 => 가중치 값의 분포가 균일 == 가중치 규제\n",
    "- 네트워크의 손실함수에 큰 가중치에 연관된 비용을 추가\n",
    "1. L1 규제 : 가중치의 절대값에 비례하는 비용이 추가\n",
    "2. L2 규제 : 가중치의 제곱에 비례하는 비용이 추가 ==> 가중치 감쇠라고도 불림"
   ]
  },
  {
   "cell_type": "code",
   "execution_count": 14,
   "metadata": {},
   "outputs": [
    {
     "name": "stdout",
     "output_type": "stream",
     "text": [
      "Epoch 1/20\n",
      "30/30 [==============================] - 1s 30ms/step - loss: 0.5822 - accuracy: 0.7758 - val_loss: 0.4678 - val_accuracy: 0.8432\n",
      "Epoch 2/20\n",
      "30/30 [==============================] - 0s 17ms/step - loss: 0.3860 - accuracy: 0.8972 - val_loss: 0.3723 - val_accuracy: 0.8841\n",
      "Epoch 3/20\n",
      "30/30 [==============================] - 1s 17ms/step - loss: 0.3065 - accuracy: 0.9188 - val_loss: 0.3646 - val_accuracy: 0.8736\n",
      "Epoch 4/20\n",
      "30/30 [==============================] - 1s 17ms/step - loss: 0.2674 - accuracy: 0.9320 - val_loss: 0.3323 - val_accuracy: 0.8889\n",
      "Epoch 5/20\n",
      "30/30 [==============================] - 0s 16ms/step - loss: 0.2415 - accuracy: 0.9385 - val_loss: 0.3317 - val_accuracy: 0.8887\n",
      "Epoch 6/20\n",
      "30/30 [==============================] - 0s 16ms/step - loss: 0.2250 - accuracy: 0.9447 - val_loss: 0.3392 - val_accuracy: 0.8836\n",
      "Epoch 7/20\n",
      "30/30 [==============================] - 0s 16ms/step - loss: 0.2134 - accuracy: 0.9491 - val_loss: 0.3481 - val_accuracy: 0.8805\n",
      "Epoch 8/20\n",
      "30/30 [==============================] - 1s 17ms/step - loss: 0.2034 - accuracy: 0.9531 - val_loss: 0.3536 - val_accuracy: 0.8830\n",
      "Epoch 9/20\n",
      "30/30 [==============================] - 1s 17ms/step - loss: 0.1920 - accuracy: 0.9587 - val_loss: 0.3864 - val_accuracy: 0.8756\n",
      "Epoch 10/20\n",
      "30/30 [==============================] - 0s 16ms/step - loss: 0.1898 - accuracy: 0.9591 - val_loss: 0.3568 - val_accuracy: 0.8831\n",
      "Epoch 11/20\n",
      "30/30 [==============================] - 0s 16ms/step - loss: 0.1809 - accuracy: 0.9628 - val_loss: 0.3685 - val_accuracy: 0.8815\n",
      "Epoch 12/20\n",
      "30/30 [==============================] - 1s 17ms/step - loss: 0.1763 - accuracy: 0.9625 - val_loss: 0.3803 - val_accuracy: 0.8808\n",
      "Epoch 13/20\n",
      "30/30 [==============================] - 1s 17ms/step - loss: 0.1740 - accuracy: 0.9650 - val_loss: 0.3943 - val_accuracy: 0.8729\n",
      "Epoch 14/20\n",
      "30/30 [==============================] - 0s 16ms/step - loss: 0.1658 - accuracy: 0.9685 - val_loss: 0.3895 - val_accuracy: 0.8751\n",
      "Epoch 15/20\n",
      "30/30 [==============================] - 1s 17ms/step - loss: 0.1663 - accuracy: 0.9671 - val_loss: 0.4122 - val_accuracy: 0.8767\n",
      "Epoch 16/20\n",
      "30/30 [==============================] - 1s 17ms/step - loss: 0.1630 - accuracy: 0.9678 - val_loss: 0.4560 - val_accuracy: 0.8578\n",
      "Epoch 17/20\n",
      "30/30 [==============================] - 0s 16ms/step - loss: 0.1516 - accuracy: 0.9749 - val_loss: 0.4096 - val_accuracy: 0.8722\n",
      "Epoch 18/20\n",
      "30/30 [==============================] - 1s 17ms/step - loss: 0.1543 - accuracy: 0.9709 - val_loss: 0.4164 - val_accuracy: 0.8759\n",
      "Epoch 19/20\n",
      "30/30 [==============================] - 0s 17ms/step - loss: 0.1473 - accuracy: 0.9744 - val_loss: 0.4273 - val_accuracy: 0.8691\n",
      "Epoch 20/20\n",
      "30/30 [==============================] - 0s 16ms/step - loss: 0.1501 - accuracy: 0.9726 - val_loss: 0.4761 - val_accuracy: 0.8638\n"
     ]
    },
    {
     "data": {
      "image/png": "[encoded data removed]",
      "text/plain": [
       "<Figure size 432x288 with 1 Axes>"
      ]
     },
     "metadata": {
      "needs_background": "light"
     },
     "output_type": "display_data"
    }
   ],
   "source": [
    "# 모델에 L2 가중치 추가하기\n",
    "from keras import regularizers\n",
    "\n",
    "l2model = models.Sequential()\n",
    "l2model.add(layers.Dense(16,kernel_regularizer = regularizers.l2(0.001),activation='relu',input_shape=(10000,)))\n",
    "l2model.add(layers.Dense(16,kernel_regularizer = regularizers.l2(0.001),activation = 'relu'))\n",
    "l2model.add(layers.Dense(1,activation = 'sigmoid'))\n",
    "l2model.compile(optimizer='rmsprop',loss='binary_crossentropy',metrics=['accuracy'])\n",
    "l2history = l2model.fit(part_x_train,part_y_train,epochs=20,batch_size=512,validation_data=(x_val,y_val))\n",
    "history_dict = history.history\n",
    "l2history_dict = l2history.history\n",
    "sloss = l2history_dict['val_loss']\n",
    "loss = history_dict['val_loss']\n",
    "epochs = range(1,len(loss)+1)\n",
    "plt.plot(epochs,loss,'bo',label = 'original loss')\n",
    "plt.plot(epochs,sloss,'b',label = 'l2 loss')\n",
    "\n",
    "plt.xlabel('epochs')\n",
    "plt.ylabel('loss')\n",
    "plt.legend()\n",
    "plt.show()"
   ]
  },
  {
   "cell_type": "code",
   "execution_count": 15,
   "metadata": {},
   "outputs": [],
   "source": [
    "# 이 때 l2(0.001)는 가중치 행렬의 모든 원소를 제곱하고 0.001를 곱하여 네트워크의 전체 손실에 더해진다는 의미\n",
    "# 이 패널티 항은 훈련 때만 추가된다.\n",
    "# L2가 과대 적합에 잘 버티는것 확인"
   ]
  },
  {
   "cell_type": "code",
   "execution_count": 16,
   "metadata": {},
   "outputs": [
    {
     "name": "stdout",
     "output_type": "stream",
     "text": [
      "Epoch 1/20\n",
      "30/30 [==============================] - 1s 26ms/step - loss: 1.1281 - accuracy: 0.6192 - val_loss: 0.7722 - val_accuracy: 0.7104\n",
      "Epoch 2/20\n",
      "30/30 [==============================] - 0s 16ms/step - loss: 0.7426 - accuracy: 0.7803 - val_loss: 0.7188 - val_accuracy: 0.8427\n",
      "Epoch 3/20\n",
      "30/30 [==============================] - 1s 17ms/step - loss: 0.6888 - accuracy: 0.8309 - val_loss: 0.6742 - val_accuracy: 0.8134\n",
      "Epoch 4/20\n",
      "30/30 [==============================] - 0s 16ms/step - loss: 0.6431 - accuracy: 0.8469 - val_loss: 0.6565 - val_accuracy: 0.8454\n",
      "Epoch 5/20\n",
      "30/30 [==============================] - 1s 17ms/step - loss: 0.6042 - accuracy: 0.8614 - val_loss: 0.6083 - val_accuracy: 0.8413\n",
      "Epoch 6/20\n",
      "30/30 [==============================] - 0s 17ms/step - loss: 0.5776 - accuracy: 0.8660 - val_loss: 0.5787 - val_accuracy: 0.8609\n",
      "Epoch 7/20\n",
      "30/30 [==============================] - 1s 17ms/step - loss: 0.5577 - accuracy: 0.8673 - val_loss: 0.5666 - val_accuracy: 0.8654\n",
      "Epoch 8/20\n",
      "30/30 [==============================] - 1s 17ms/step - loss: 0.5427 - accuracy: 0.8725 - val_loss: 0.5561 - val_accuracy: 0.8674\n",
      "Epoch 9/20\n",
      "30/30 [==============================] - 1s 17ms/step - loss: 0.5339 - accuracy: 0.8774 - val_loss: 0.5477 - val_accuracy: 0.8707\n",
      "Epoch 10/20\n",
      "30/30 [==============================] - 0s 16ms/step - loss: 0.5280 - accuracy: 0.8752 - val_loss: 0.5452 - val_accuracy: 0.8726\n",
      "Epoch 11/20\n",
      "30/30 [==============================] - 1s 17ms/step - loss: 0.5191 - accuracy: 0.8797 - val_loss: 0.5410 - val_accuracy: 0.8683\n",
      "Epoch 12/20\n",
      "30/30 [==============================] - 0s 16ms/step - loss: 0.5115 - accuracy: 0.8840 - val_loss: 0.5482 - val_accuracy: 0.8640\n",
      "Epoch 13/20\n",
      "30/30 [==============================] - 0s 16ms/step - loss: 0.5111 - accuracy: 0.8836 - val_loss: 0.5284 - val_accuracy: 0.8756\n",
      "Epoch 14/20\n",
      "30/30 [==============================] - 0s 17ms/step - loss: 0.5051 - accuracy: 0.8849 - val_loss: 0.5321 - val_accuracy: 0.8709\n",
      "Epoch 15/20\n",
      "30/30 [==============================] - 1s 17ms/step - loss: 0.4979 - accuracy: 0.8894 - val_loss: 0.5516 - val_accuracy: 0.8612\n",
      "Epoch 16/20\n",
      "30/30 [==============================] - 0s 17ms/step - loss: 0.4987 - accuracy: 0.8869 - val_loss: 0.5226 - val_accuracy: 0.8772\n",
      "Epoch 17/20\n",
      "30/30 [==============================] - 0s 16ms/step - loss: 0.4926 - accuracy: 0.8890 - val_loss: 0.5403 - val_accuracy: 0.8663\n",
      "Epoch 18/20\n",
      "30/30 [==============================] - 0s 15ms/step - loss: 0.4938 - accuracy: 0.8883 - val_loss: 0.5442 - val_accuracy: 0.8606\n",
      "Epoch 19/20\n",
      "30/30 [==============================] - 0s 16ms/step - loss: 0.4898 - accuracy: 0.8903 - val_loss: 0.5187 - val_accuracy: 0.8771\n",
      "Epoch 20/20\n",
      "30/30 [==============================] - 0s 16ms/step - loss: 0.4822 - accuracy: 0.8955 - val_loss: 0.5243 - val_accuracy: 0.8761\n"
     ]
    },
    {
     "data": {
      "image/png": "[encoded data removed]",
      "text/plain": [
       "<Figure size 432x288 with 1 Axes>"
      ]
     },
     "metadata": {
      "needs_background": "light"
     },
     "output_type": "display_data"
    }
   ],
   "source": [
    "# 규제를 병행 가능 l1_l2\n",
    "l1_l2model = models.Sequential()\n",
    "l1_l2model.add(layers.Dense(16,kernel_regularizer = regularizers.l1_l2(l1=0.001,l2 = 0.001),activation='relu',input_shape=(10000,)))\n",
    "l1_l2model.add(layers.Dense(16,kernel_regularizer = regularizers.l1_l2(l1 = 0.001,l2 = 0.001),activation = 'relu'))\n",
    "l1_l2model.add(layers.Dense(1,activation = 'sigmoid'))\n",
    "l1_l2model.compile(optimizer='rmsprop',loss='binary_crossentropy',metrics=['accuracy'])\n",
    "l1_l2history = l1_l2model.fit(part_x_train,part_y_train,epochs=20,batch_size=512,validation_data=(x_val,y_val))\n",
    "history_dict = history.history\n",
    "l1_l2history_dict = l1_l2history.history\n",
    "sloss = l1_l2history_dict['val_loss']\n",
    "loss = history_dict['val_loss']\n",
    "epochs = range(1,len(loss)+1)\n",
    "plt.plot(epochs,loss,'bo',label = 'original loss')\n",
    "plt.plot(epochs,sloss,'b',label = 'l1_l2 loss')\n",
    "\n",
    "plt.xlabel('epochs')\n",
    "plt.ylabel('loss')\n",
    "plt.legend()\n",
    "plt.show()"
   ]
  },
  {
   "cell_type": "code",
   "execution_count": 17,
   "metadata": {},
   "outputs": [],
   "source": [
    "# 과대 적합에 잘 버틴다. 근데 loss의 감소가 작다"
   ]
  },
  {
   "cell_type": "markdown",
   "metadata": {},
   "source": [
    "# 드롭아웃\n",
    "- 신경망에 사용되는 규제 기법 중에서 가장 효과적이고 널리 사용되는 방법\n",
    "- 네트워크 층에 드롭아웃을 적용하면 훈련하는 동안 무작위로 층의 일부 출력 특성을 제외시킨다.( 0으로 만든다. )\n",
    "- 드롭 아웃이 과대적합을 줄이는 데 도움이 되는 이유 : 각 샘플에 대해 뉴런의 일부를 무작위하게 제거하면 뉴런의 부정한 협업을 방지하고 과대적합을 감소시킨다.\n",
    "- 층의 출력 값에 노이즈를 추가혀 종요하지 않은 우연한 패턴을 깨트리는 것"
   ]
  },
  {
   "cell_type": "code",
   "execution_count": 18,
   "metadata": {},
   "outputs": [
    {
     "name": "stdout",
     "output_type": "stream",
     "text": [
      "Epoch 1/20\n",
      "30/30 [==============================] - 1s 29ms/step - loss: 0.6653 - accuracy: 0.6530 - val_loss: 0.5601 - val_accuracy: 0.8418\n",
      "Epoch 2/20\n",
      "30/30 [==============================] - 0s 16ms/step - loss: 0.5473 - accuracy: 0.7748 - val_loss: 0.4514 - val_accuracy: 0.8703\n",
      "Epoch 3/20\n",
      "30/30 [==============================] - 1s 17ms/step - loss: 0.4723 - accuracy: 0.8263 - val_loss: 0.4075 - val_accuracy: 0.8751\n",
      "Epoch 4/20\n",
      "30/30 [==============================] - 0s 16ms/step - loss: 0.4163 - accuracy: 0.8628 - val_loss: 0.3602 - val_accuracy: 0.8840\n",
      "Epoch 5/20\n",
      "30/30 [==============================] - 0s 16ms/step - loss: 0.3740 - accuracy: 0.8831 - val_loss: 0.3341 - val_accuracy: 0.8869\n",
      "Epoch 6/20\n",
      "30/30 [==============================] - 0s 16ms/step - loss: 0.3376 - accuracy: 0.8967 - val_loss: 0.3331 - val_accuracy: 0.8850\n",
      "Epoch 7/20\n",
      "30/30 [==============================] - 0s 16ms/step - loss: 0.3123 - accuracy: 0.9120 - val_loss: 0.3455 - val_accuracy: 0.8786\n",
      "Epoch 8/20\n",
      "30/30 [==============================] - 0s 17ms/step - loss: 0.2940 - accuracy: 0.9180 - val_loss: 0.3375 - val_accuracy: 0.8849\n",
      "Epoch 9/20\n",
      "30/30 [==============================] - 0s 16ms/step - loss: 0.2766 - accuracy: 0.9233 - val_loss: 0.3388 - val_accuracy: 0.8850\n",
      "Epoch 10/20\n",
      "30/30 [==============================] - 0s 16ms/step - loss: 0.2628 - accuracy: 0.9298 - val_loss: 0.3464 - val_accuracy: 0.8843\n",
      "Epoch 11/20\n",
      "30/30 [==============================] - 0s 16ms/step - loss: 0.2511 - accuracy: 0.9370 - val_loss: 0.3705 - val_accuracy: 0.8822\n",
      "Epoch 12/20\n",
      "30/30 [==============================] - 1s 17ms/step - loss: 0.2301 - accuracy: 0.9422 - val_loss: 0.3761 - val_accuracy: 0.8822\n",
      "Epoch 13/20\n",
      "30/30 [==============================] - 1s 17ms/step - loss: 0.2239 - accuracy: 0.9447 - val_loss: 0.3803 - val_accuracy: 0.8802\n",
      "Epoch 14/20\n",
      "30/30 [==============================] - 0s 17ms/step - loss: 0.2205 - accuracy: 0.9465 - val_loss: 0.3903 - val_accuracy: 0.8769\n",
      "Epoch 15/20\n",
      "30/30 [==============================] - 0s 16ms/step - loss: 0.2121 - accuracy: 0.9503 - val_loss: 0.4094 - val_accuracy: 0.8779\n",
      "Epoch 16/20\n",
      "30/30 [==============================] - 1s 17ms/step - loss: 0.2080 - accuracy: 0.9489 - val_loss: 0.4397 - val_accuracy: 0.8762\n",
      "Epoch 17/20\n",
      "30/30 [==============================] - 0s 16ms/step - loss: 0.2090 - accuracy: 0.9499 - val_loss: 0.4147 - val_accuracy: 0.8749\n",
      "Epoch 18/20\n",
      "30/30 [==============================] - 0s 16ms/step - loss: 0.2026 - accuracy: 0.9512 - val_loss: 0.4249 - val_accuracy: 0.8800\n",
      "Epoch 19/20\n",
      "30/30 [==============================] - 1s 17ms/step - loss: 0.1952 - accuracy: 0.9543 - val_loss: 0.4655 - val_accuracy: 0.8699\n",
      "Epoch 20/20\n",
      "30/30 [==============================] - 0s 16ms/step - loss: 0.1973 - accuracy: 0.9528 - val_loss: 0.4384 - val_accuracy: 0.8783\n"
     ]
    },
    {
     "data": {
      "image/png": "[encoded data removed]",
      "text/plain": [
       "<Figure size 432x288 with 1 Axes>"
      ]
     },
     "metadata": {
      "needs_background": "light"
     },
     "output_type": "display_data"
    }
   ],
   "source": [
    "dmodel = models.Sequential()\n",
    "dmodel.add(layers.Dense(16,kernel_regularizer = regularizers.l2(0.001),activation='relu',input_shape=(10000,)))\n",
    "dmodel.add(layers.Dropout(0.5))\n",
    "dmodel.add(layers.Dense(16,kernel_regularizer = regularizers.l2(0.001),activation = 'relu'))\n",
    "dmodel.add(layers.Dropout(0.5))\n",
    "dmodel.add(layers.Dense(1,activation = 'sigmoid'))\n",
    "\n",
    "dmodel.compile(optimizer='rmsprop',loss='binary_crossentropy',metrics=['accuracy'])\n",
    "\n",
    "dhistory = dmodel.fit(part_x_train,part_y_train,epochs=20,batch_size=512,validation_data=(x_val,y_val))\n",
    "history_dict = history.history\n",
    "dhistory_dict = dhistory.history\n",
    "sloss = dhistory_dict['val_loss']\n",
    "loss = history_dict['val_loss']\n",
    "epochs = range(1,len(loss)+1)\n",
    "plt.plot(epochs,loss,'bo',label = 'original loss')\n",
    "plt.plot(epochs,sloss,'b',label = 'drop loss')\n",
    "\n",
    "plt.xlabel('epochs')\n",
    "plt.ylabel('loss')\n",
    "plt.legend()\n",
    "plt.show()"
   ]
  },
  {
   "cell_type": "code",
   "execution_count": 19,
   "metadata": {},
   "outputs": [],
   "source": [
    "# 기존 네트워크보다 확실히 향상"
   ]
  },
  {
   "cell_type": "code",
   "execution_count": null,
   "metadata": {},
   "outputs": [],
   "source": []
  }
 ],
 "metadata": {
  "kernelspec": {
   "display_name": "Python 3",
   "language": "python",
   "name": "python3"
  },
  "language_info": {
   "codemirror_mode": {
    "name": "ipython",
    "version": 3
   },
   "file_extension": ".py",
   "mimetype": "text/x-python",
   "name": "python",
   "nbconvert_exporter": "python",
   "pygments_lexer": "ipython3",
   "version": "3.8.5"
  }
 },
 "nbformat": 4,
 "nbformat_minor": 4
}
