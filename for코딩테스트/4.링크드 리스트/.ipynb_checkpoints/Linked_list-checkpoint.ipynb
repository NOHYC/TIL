{
 "cells": [
  {
   "cell_type": "code",
   "execution_count": 1,
   "metadata": {},
   "outputs": [],
   "source": [
    "class Node(object):\n",
    "    def __init__(self,data = None,pointer = None):\n",
    "        self.data = data\n",
    "        self.pointer = None\n",
    "        \n",
    "    def getData(self):\n",
    "        return self.data\n",
    "    \n",
    "    def getNext(self):\n",
    "        return self.pointer\n",
    "    \n",
    "    def setData(self,new_data):\n",
    "        self.data = new_data\n",
    "        \n",
    "    def setNext(self,newpointer):\n",
    "        self.pointer = newpointer\n",
    "        "
   ]
  },
  {
   "cell_type": "code",
   "execution_count": 2,
   "metadata": {},
   "outputs": [],
   "source": [
    "class linked_list(object):# 선입 선출\n",
    "    def __init__(self):\n",
    "        self.head = None\n",
    "        self.tail = None\n",
    "        self.length = 0\n",
    "        \n",
    "    def print_node(self):\n",
    "        node = self.head\n",
    "        while node:\n",
    "            print(node.data)\n",
    "            node = node.pointer\n",
    "            \n",
    "    \n",
    "    def _addFirst(self,value):\n",
    "        self.length = 1\n",
    "        node = Node(value)\n",
    "        self.head = node\n",
    "        self.tail = node\n",
    "        \n",
    "    def _delFirst(self):\n",
    "        self.length = 0\n",
    "        self.head = None\n",
    "        self.tail = None\n",
    "        print('연결리스트가 비었습니다.')\n",
    "        \n",
    "    def _add(self,value):\n",
    "        self.length +=1\n",
    "        node = Node(value)\n",
    "        if self.tail:\n",
    "            self.tail.pointer = node\n",
    "        self.tail = node\n",
    "    \n",
    "    def addNode(self,value):\n",
    "        if not self.head:\n",
    "            self._addFirst(value)\n",
    "        else:\n",
    "            self._add(value)\n",
    "    \n",
    "    def _findind(self,index):\n",
    "        prev = None\n",
    "        node = self.head\n",
    "        i = 0\n",
    "        while node and i < index:\n",
    "            prev = node\n",
    "            node = node.pointer\n",
    "            i +=1\n",
    "        return node , prev , i\n",
    "    \n",
    "    def _findval(self,value):\n",
    "        prev = None\n",
    "        node = self.head\n",
    "        found = False\n",
    "        while node and not found:\n",
    "            if node.data == value:\n",
    "                found = True\n",
    "            else:\n",
    "                prev = node\n",
    "                node = node.pointer\n",
    "        return node,prev,found\n",
    "    \n",
    "    def delNodeind(self,index):\n",
    "        if not self.head or not self.head.pointer:\n",
    "            self._delFirst()\n",
    "        else:\n",
    "            node,prev,i = self._findind(index)\n",
    "            if i == index and node:\n",
    "                self.length -=1\n",
    "                if i ==0 or not prev:\n",
    "                    self.head = node.pointer\n",
    "                    self.tail = node.pointer\n",
    "                else:\n",
    "                    prev.pointer = node.pointer\n",
    "            else:\n",
    "                print(f\"{index}에 해당하는 노드가 없습니다.\")\n",
    "    def delNodeval(self,value):\n",
    "        if not self.head or not self.head.pointer:\n",
    "            self._delFirst()\n",
    "        else:\n",
    "            node,prev,found = self._findval(value)\n",
    "            if value == node.data  and node:\n",
    "                self.length -= 1\n",
    "                if found == 0 or not prev:\n",
    "                    self.head = node.pointer\n",
    "                    self.tail = node.pointer\n",
    "                else:\n",
    "                    prev.pointer = node.pointer\n",
    "            else:\n",
    "                print(f'{value}에 해당되는 노드가 없습니다.')"
   ]
  },
  {
   "cell_type": "code",
   "execution_count": 3,
   "metadata": {},
   "outputs": [],
   "source": [
    "ll = linked_list()"
   ]
  },
  {
   "cell_type": "code",
   "execution_count": 4,
   "metadata": {},
   "outputs": [
    {
     "name": "stdout",
     "output_type": "stream",
     "text": [
      "0\n",
      "1\n",
      "2\n",
      "3\n",
      "4\n",
      "5\n",
      "6\n",
      "7\n",
      "8\n",
      "9\n"
     ]
    }
   ],
   "source": [
    "for i in range(10):\n",
    "    ll.addNode(i)\n",
    "ll.print_node()"
   ]
  },
  {
   "cell_type": "code",
   "execution_count": 5,
   "metadata": {},
   "outputs": [
    {
     "name": "stdout",
     "output_type": "stream",
     "text": [
      "연결리스트가 비었습니다.\n"
     ]
    }
   ],
   "source": [
    "for i in range(10):\n",
    "    ll.delNodeval(i)"
   ]
  },
  {
   "cell_type": "code",
   "execution_count": 14,
   "metadata": {},
   "outputs": [],
   "source": [
    "class Linkedlist2(object):\n",
    "    def __init__(self):\n",
    "        self.head = None\n",
    "        self.length = 0\n",
    "    def printlist(self):\n",
    "        node = self.head\n",
    "        while node:\n",
    "            print(node.data)\n",
    "            node = node.pointer\n",
    "    def delp(self,prev,node):\n",
    "        self.length -=1\n",
    "        if not prev:\n",
    "            self.head = node.pointer\n",
    "        else:\n",
    "            prev.pointer = node.pointer\n",
    "    def add(self,value):\n",
    "        self.length += 1\n",
    "        self.head = Node(value,self.head)\n",
    "        \n",
    "    def findidx(self,index):\n",
    "        prev =None\n",
    "        node = self.head\n",
    "        i = 0\n",
    "        while node and i < index:\n",
    "            prev = node\n",
    "            node = node.pointer\n",
    "            i +=1\n",
    "        return node, prev, i\n",
    "    \n",
    "    def findval(self,value):\n",
    "        prev = None\n",
    "        node = self.head\n",
    "        found = False\n",
    "        while node and not found:\n",
    "            if value == node.value:\n",
    "                found = True\n",
    "            else:\n",
    "                prev = node\n",
    "                node = node.pointer\n",
    "        return node, prev, found\n",
    "    \n",
    "    def delidx(self,index):\n",
    "        node,prev,i = findidx(index)\n",
    "        if index == i:\n",
    "            self.delp(prev,node)\n",
    "        else:\n",
    "            print(f'{index}에 해당하는 노드가 없습니다.')\n",
    "    def delval(self,value):\n",
    "        node,prev,found = findval(value)\n",
    "        if found:\n",
    "            self.delp(prev,node)\n",
    "        else:\n",
    "            print(f\"{value}해당하는 노드가 없습니다.\")\n"
   ]
  },
  {
   "cell_type": "code",
   "execution_count": 15,
   "metadata": {},
   "outputs": [],
   "source": [
    "l2 = Linkedlist2()"
   ]
  },
  {
   "cell_type": "code",
   "execution_count": 18,
   "metadata": {},
   "outputs": [
    {
     "name": "stdout",
     "output_type": "stream",
     "text": [
      "9\n"
     ]
    }
   ],
   "source": [
    "for i in range(10):\n",
    "    l2.add(i)\n",
    "l2.printlist()"
   ]
  },
  {
   "cell_type": "code",
   "execution_count": null,
   "metadata": {},
   "outputs": [],
   "source": []
  }
 ],
 "metadata": {
  "kernelspec": {
   "display_name": "Python 3",
   "language": "python",
   "name": "python3"
  },
  "language_info": {
   "codemirror_mode": {
    "name": "ipython",
    "version": 3
   },
   "file_extension": ".py",
   "mimetype": "text/x-python",
   "name": "python",
   "nbconvert_exporter": "python",
   "pygments_lexer": "ipython3",
   "version": "3.8.5"
  }
 },
 "nbformat": 4,
 "nbformat_minor": 4
}
