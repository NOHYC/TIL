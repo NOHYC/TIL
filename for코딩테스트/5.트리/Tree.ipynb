{
 "cells": [
  {
   "cell_type": "code",
   "execution_count": 1,
   "metadata": {},
   "outputs": [],
   "source": [
    "# 노드 클래스 만들기\n",
    "class Node(object):\n",
    "    def __init__(self,value):\n",
    "        self.value = value\n",
    "        self.left,self.right = None,None"
   ]
  },
  {
   "cell_type": "code",
   "execution_count": 3,
   "metadata": {},
   "outputs": [],
   "source": [
    "# 이진 탐색 트리\n",
    "class binarytree(object):\n",
    "    def __init__(self,node):\n",
    "        self.head = node\n",
    "        \n",
    "    def insert(self,value):\n",
    "        self.current_node = self.head\n",
    "        while True:\n",
    "            if value < self.current_node.value:\n",
    "                if self.current_node.left != None:\n",
    "                    self.current_node = self.current_node.left\n",
    "                else:\n",
    "                    self.current_node.left = Node(value)\n",
    "                    break\n",
    "            else:\n",
    "                if self.current_node.right != None :\n",
    "                    self.current_node = self.current_node.right\n",
    "                else:\n",
    "                    self.current_node.right = Node(value)\n",
    "                    break\n",
    "        def search(self,value):\n",
    "            self.current_node = self.head\n",
    "            while self.current_node:\n",
    "                if self.current_node == value:\n",
    "                    return True\n",
    "                elif self.current_node.value > value:\n",
    "                    self.current_node = self.current_node.left\n",
    "                else:\n",
    "                    self.current_node = self.current_node.right\n",
    "            return False\n",
    "        \n",
    "        "
   ]
  },
  {
   "cell_type": "markdown",
   "metadata": {},
   "source": [
    "# 이진 탐색 트리 \n",
    "## 노드 삭제\n",
    "- 먼저 삭제할 노드를 탐색한다.\n",
    "- 노드를 삭제한다.\n",
    "\n",
    "- 삭제는 총 3가지 case가 존재\n",
    "1. 삭제할 node가 leaf node인 경우\n",
    "2. 삭제할 node가 child node를 한개 가지고 있는 경우\n",
    "3. 삭제할 node가 child node를 두개 가지고 있는 경우\n",
    "- 삭제할 노드가 parent node 왼쪽에 있을 경우\n",
    "- 삭제할 노드가 parent node 오른쪽에 있을 경우"
   ]
  },
  {
   "cell_type": "code",
   "execution_count": 4,
   "metadata": {},
   "outputs": [
    {
     "ename": "SyntaxError",
     "evalue": "invalid syntax (<ipython-input-4-72b512e4e781>, line 2)",
     "output_type": "error",
     "traceback": [
      "\u001b[1;36m  File \u001b[1;32m\"<ipython-input-4-72b512e4e781>\"\u001b[1;36m, line \u001b[1;32m2\u001b[0m\n\u001b[1;33m    def del(self,value):\u001b[0m\n\u001b[1;37m        ^\u001b[0m\n\u001b[1;31mSyntaxError\u001b[0m\u001b[1;31m:\u001b[0m invalid syntax\n"
     ]
    }
   ],
   "source": [
    "# 삭제할 node 탐색\n",
    "def del(self,value):\n",
    "    searched = False # 삭제할 node가 있는지 판단 \n",
    "    self.current_node, self.parent = self.head,self.head\n",
    "    while self.current_node:\n",
    "        if self.current_node.value == value:\n",
    "            searched = True\n",
    "            break\n",
    "        elif value < self.current_node.value:\n",
    "            self.parent = self.current_node\n",
    "            self.current_node = self.current_node.left\n",
    "        else:\n",
    "            self.parent = self.current_node\n",
    "            self.current_node = self.current_node.right\n",
    "            \n",
    "    if searched == False: # 삭제할 node가 없는 경우\n",
    "        return False\n",
    "# 이 라인에 오면 self.current_node 가 삭제할 node에 오고 \n",
    "# self.parent 는 삭제학 node의 parent node 상태가 됨\n"
   ]
  },
  {
   "cell_type": "code",
   "execution_count": 5,
   "metadata": {},
   "outputs": [
    {
     "ename": "NameError",
     "evalue": "name 'self' is not defined",
     "output_type": "error",
     "traceback": [
      "\u001b[1;31m---------------------------------------------------------------------------\u001b[0m",
      "\u001b[1;31mNameError\u001b[0m                                 Traceback (most recent call last)",
      "\u001b[1;32m<ipython-input-5-ea2758502bbe>\u001b[0m in \u001b[0;36m<module>\u001b[1;34m\u001b[0m\n\u001b[0;32m      2\u001b[0m \u001b[1;31m# self.current_node 가 삭제할 노드\u001b[0m\u001b[1;33m\u001b[0m\u001b[1;33m\u001b[0m\u001b[1;33m\u001b[0m\u001b[0m\n\u001b[0;32m      3\u001b[0m \u001b[1;31m# self.parent는 삭제할 노드의 parent node\u001b[0m\u001b[1;33m\u001b[0m\u001b[1;33m\u001b[0m\u001b[1;33m\u001b[0m\u001b[0m\n\u001b[1;32m----> 4\u001b[1;33m \u001b[1;32mif\u001b[0m \u001b[0mself\u001b[0m\u001b[1;33m.\u001b[0m\u001b[0mcurrent_node\u001b[0m\u001b[1;33m.\u001b[0m\u001b[0mleft\u001b[0m \u001b[1;33m==\u001b[0m \u001b[1;32mNone\u001b[0m \u001b[1;32mand\u001b[0m \u001b[0mself\u001b[0m\u001b[1;33m.\u001b[0m\u001b[0mcurrent_node\u001b[0m\u001b[1;33m.\u001b[0m\u001b[0mright\u001b[0m \u001b[1;33m==\u001b[0m\u001b[1;32mNone\u001b[0m\u001b[1;33m:\u001b[0m\u001b[1;33m\u001b[0m\u001b[1;33m\u001b[0m\u001b[0m\n\u001b[0m\u001b[0;32m      5\u001b[0m     \u001b[1;32mif\u001b[0m \u001b[0mvalue\u001b[0m \u001b[1;33m<\u001b[0m \u001b[0mself\u001b[0m\u001b[1;33m.\u001b[0m\u001b[0mparent\u001b[0m\u001b[1;33m.\u001b[0m\u001b[0mvalue\u001b[0m\u001b[1;33m:\u001b[0m\u001b[1;33m\u001b[0m\u001b[1;33m\u001b[0m\u001b[0m\n\u001b[0;32m      6\u001b[0m         \u001b[0mself\u001b[0m\u001b[1;33m.\u001b[0m\u001b[0mparent\u001b[0m\u001b[1;33m.\u001b[0m\u001b[0mleft\u001b[0m \u001b[1;33m=\u001b[0m \u001b[1;32mNone\u001b[0m\u001b[1;33m\u001b[0m\u001b[1;33m\u001b[0m\u001b[0m\n",
      "\u001b[1;31mNameError\u001b[0m: name 'self' is not defined"
     ]
    }
   ],
   "source": [
    "# 삭제할 node가 leaf node 인 경우\n",
    "# self.current_node 가 삭제할 노드\n",
    "# self.parent는 삭제할 노드의 parent node\n",
    "if self.current_node.left == None and self.current_node.right ==None:\n",
    "    if value < self.parent.value:\n",
    "        self.parent.left = None \n",
    "    else:\n",
    "        self.parent.right = None"
   ]
  },
  {
   "cell_type": "code",
   "execution_count": null,
   "metadata": {},
   "outputs": [],
   "source": [
    "# 삭제할 노드가 child node를 한개 가지고 있는 경우\n",
    "if self.current_node.left != None and self.current_node.right == None:\n",
    "    if value < self.parent.value:\n",
    "        self.parent.left = self.current_node.left\n",
    "    else:\n",
    "        self.parent.right = self.current_node.left\n",
    "elif self.current_node.left == None and self.current_node != None:\n",
    "    if value < self.parent.value:\n",
    "        self.parent.left = self.current_node.right\n",
    "    else:\n",
    "        self.parent.right = self.current_node.right"
   ]
  },
  {
   "cell_type": "code",
   "execution_count": null,
   "metadata": {},
   "outputs": [],
   "source": [
    "# 삭제할 노드가 child node를 두개 가지고 있을 경우\n",
    "# 삭제할 노드의 오른쪽 자식 중 가장 작은 값을 삭지할 노드의 \n",
    "# parent node가 가리키도록 한다.\n",
    "# 삭제할 노드가 부모 노드의 왼쪽에 있고 삭제할 노드의 오른쪽\n",
    "# 자식 중 가장 작은 값을 가진 노드의 자식 노드가 있을 때\n",
    "# 삭제할 노드가 부모 노드의 왼족에 있고 삭제할 노드의 오른쪽\n",
    "# 자식 중 가장 작은 값을 가진 노드의 오른쪽에 자식 노드가 있을 때"
   ]
  },
  {
   "cell_type": "code",
   "execution_count": null,
   "metadata": {},
   "outputs": [],
   "source": [
    "if self.current_node.left != None and self.current_node.right != None:\n",
    "    if value < self.parent.value:\n",
    "        self.change_node = self.current_node.right\n",
    "        self.current_node_parent = self.current_node.right\n",
    "        while self.change_node.left != None:\n",
    "            self"
   ]
  }
 ],
 "metadata": {
  "kernelspec": {
   "display_name": "Python 3",
   "language": "python",
   "name": "python3"
  },
  "language_info": {
   "codemirror_mode": {
    "name": "ipython",
    "version": 3
   },
   "file_extension": ".py",
   "mimetype": "text/x-python",
   "name": "python",
   "nbconvert_exporter": "python",
   "pygments_lexer": "ipython3",
   "version": "3.8.5"
  }
 },
 "nbformat": 4,
 "nbformat_minor": 4
}
