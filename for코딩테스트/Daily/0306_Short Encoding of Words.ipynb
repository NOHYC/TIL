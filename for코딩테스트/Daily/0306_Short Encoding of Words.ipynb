{
 "cells": [
  {
   "cell_type": "code",
   "execution_count": null,
   "metadata": {},
   "outputs": [],
   "source": [
    "class Solution:\n",
    "    def minimumLengthEncoding(self, words: List[str]) -> int:\n",
    "        s = ''\n",
    "        words = sorted(words,key= lambda x: len(x))[::-1]\n",
    "        for i in words:\n",
    "            if i not in s:\n",
    "                s += i\n",
    "                s+='#'\n",
    "            else:\n",
    "                idx = 0\n",
    "                for n in range(len(s)-len(i),0,-1):\n",
    "                    if s[n:n+len(i)] == i:\n",
    "                        idx = n\n",
    "                        break\n",
    "                if '#' not in s[idx:idx+len(i)+1]:\n",
    "                    s+=i\n",
    "                    s+='#'\n",
    "        return len(s)"
   ]
  }
 ],
 "metadata": {
  "kernelspec": {
   "display_name": "Python 3",
   "language": "python",
   "name": "python3"
  },
  "language_info": {
   "codemirror_mode": {
    "name": "ipython",
    "version": 3
   },
   "file_extension": ".py",
   "mimetype": "text/x-python",
   "name": "python",
   "nbconvert_exporter": "python",
   "pygments_lexer": "ipython3",
   "version": "3.8.5"
  }
 },
 "nbformat": 4,
 "nbformat_minor": 4
}
