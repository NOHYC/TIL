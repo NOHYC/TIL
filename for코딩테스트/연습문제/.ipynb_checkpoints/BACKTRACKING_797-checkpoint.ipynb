{
 "cells": [
  {
   "cell_type": "code",
   "execution_count": null,
   "metadata": {},
   "outputs": [],
   "source": [
    "class Solution:\n",
    "    def allPathsSourceTarget(self, graph: List[List[int]]) -> List[List[int]]:\n",
    "        \n",
    "        g_len = len(graph)\n",
    "        check = [ 0 for _ in range(g_len)]\n",
    "        \n",
    "        def bak(node,graph,check,lis,last):\n",
    "            if last == node:\n",
    "                return [[0]+lis]\n",
    "            res = []\n",
    "            for i in graph[node]:\n",
    "                if check[i] == 0:\n",
    "                    check[i] = 1\n",
    "                    lis.append(i)\n",
    "                    res.extend(bak(i,graph,check,lis,last))\n",
    "                    lis.pop()\n",
    "                    check[i] = 0\n",
    "            return res\n",
    "        check[0]= 1\n",
    "        return bak(0,graph,check,[],g_len-1)"
   ]
  },
  {
   "cell_type": "markdown",
   "metadata": {},
   "source": [
    "Runtime: 92 ms, faster than 96.51% of Python3 online submissions for All Paths From Source to Target.\n",
    "    \n",
    "Memory Usage: 15.5 MB, less than 76.79% of Python3 online submissions for All Paths From Source to Target."
   ]
  },
  {
   "cell_type": "code",
   "execution_count": null,
   "metadata": {},
   "outputs": [],
   "source": [
    "class Solution:\n",
    "    def allPathsSourceTarget(self, graph: List[List[int]]) -> List[List[int]]:\n",
    "        last = len(graph)\n",
    "        check = [ 0 for _ in range(last)]\n",
    "        def bak(node,lis):\n",
    "            if last-1 == node:\n",
    "                return [[0]+lis]\n",
    "            res = []\n",
    "            for i in graph[node]:\n",
    "                if check[i] == 0:\n",
    "                    check[i] = 1\n",
    "                    res.extend(bak(i,lis+[i]))\n",
    "                    check[i] = 0\n",
    "            return res\n",
    "        check[0]= 1\n",
    "        return bak(0,[])"
   ]
  },
  {
   "cell_type": "markdown",
   "metadata": {},
   "source": [
    "Runtime: 104 ms, faster than 48.55% of Python3 online submissions for All Paths From Source to Target.\n",
    "\n",
    "Memory Usage: 15.7 MB, less than 44.64% of Python3 online submissions for All Paths From Source to Target."
   ]
  }
 ],
 "metadata": {
  "kernelspec": {
   "display_name": "Python 3",
   "language": "python",
   "name": "python3"
  },
  "language_info": {
   "codemirror_mode": {
    "name": "ipython",
    "version": 3
   },
   "file_extension": ".py",
   "mimetype": "text/x-python",
   "name": "python",
   "nbconvert_exporter": "python",
   "pygments_lexer": "ipython3",
   "version": "3.8.5"
  }
 },
 "nbformat": 4,
 "nbformat_minor": 4
}
