{
 "cells": [
  {
   "cell_type": "code",
   "execution_count": null,
   "metadata": {},
   "outputs": [],
   "source": [
    "class Solution:\n",
    "    def minDeletionSize(self, A: List[str]) -> int:\n",
    "        Alen = len(A)\n",
    "        Aulen = len(A[0])\n",
    "        lis =[list(i) for i in A]\n",
    "        count = 0\n",
    "        for i in range(Aulen):\n",
    "            num = 0\n",
    "            for j in range(Alen):\n",
    "                if ord(lis[j][i]) >= num:\n",
    "                    num = ord(lis[j][i])\n",
    "                else:\n",
    "                    count += 1\n",
    "                    break\n",
    "        return count"
   ]
  },
  {
   "cell_type": "markdown",
   "metadata": {},
   "source": [
    "Runtime: 316 ms, faster than 5.76% of Python3 online submissions for Delete Columns to Make Sorted.\n",
    "Memory Usage: 15.4 MB, less than 7.12% of Python3 online submissions for Delete Columns to Make Sorted."
   ]
  },
  {
   "cell_type": "code",
   "execution_count": null,
   "metadata": {},
   "outputs": [],
   "source": [
    "class Solution:\n",
    "    def minDeletionSize(self, A: List[str]) -> int:\n",
    "        answer = []\n",
    "        for i in range(len(A[0])):\n",
    "            prev = A[0][i]\n",
    "            for j in range(1, len(A)):\n",
    "                if A[j][i] < prev:\n",
    "                    answer.append(i)\n",
    "                    break\n",
    "                else:\n",
    "                    prev = A[j][i]\n",
    "        return len(answer)"
   ]
  },
  {
   "cell_type": "markdown",
   "metadata": {},
   "source": [
    "160 ms submission"
   ]
  }
 ],
 "metadata": {
  "kernelspec": {
   "display_name": "Python 3",
   "language": "python",
   "name": "python3"
  },
  "language_info": {
   "codemirror_mode": {
    "name": "ipython",
    "version": 3
   },
   "file_extension": ".py",
   "mimetype": "text/x-python",
   "name": "python",
   "nbconvert_exporter": "python",
   "pygments_lexer": "ipython3",
   "version": "3.8.5"
  }
 },
 "nbformat": 4,
 "nbformat_minor": 4
}
