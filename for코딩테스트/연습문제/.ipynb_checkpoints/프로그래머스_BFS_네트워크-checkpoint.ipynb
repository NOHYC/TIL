{
 "cells": [
  {
   "cell_type": "code",
   "execution_count": null,
   "metadata": {},
   "outputs": [],
   "source": [
    "def solution(n, computers):\n",
    "    from collections import deque\n",
    "    q = deque([0])\n",
    "    check = [0 for i in range(len(computers))]\n",
    "    count = 0\n",
    "    count_list =[]\n",
    "    while q:\n",
    "        node = q.popleft()\n",
    "        check[node] = 1\n",
    "        for num,i in enumerate(computers[node]):\n",
    "            if node != num and i == 1 and check[num] == 0:\n",
    "                q.append(num)\n",
    "        count +=1\n",
    "        if not q:\n",
    "            if 0 in check:\n",
    "                count_list.append(count)\n",
    "                q.append(check.index(0))\n",
    "                count = 0\n",
    "            else:\n",
    "                count_list.append(count)\n",
    "    return len(count_list)"
   ]
  },
  {
   "cell_type": "markdown",
   "metadata": {},
   "source": [
    "테스트 1 〉\t통과 (0.02ms, 10.2MB)\n",
    "\n",
    "테스트 2 〉\t통과 (0.02ms, 10.3MB)\n",
    "\n",
    "테스트 3 〉\t통과 (0.09ms, 10.2MB)\n",
    "\n",
    "테스트 4 〉\t통과 (0.11ms, 10.1MB)\n",
    "\n",
    "테스트 5 〉\t통과 (0.01ms, 10.2MB)\n",
    "\n",
    "테스트 6 〉\t통과 (1.11ms, 10.2MB)\n",
    "\n",
    "테스트 7 〉\t통과 (0.03ms, 10.2MB)\n",
    "\n",
    "테스트 8 〉\t통과 (0.54ms, 10.2MB)\n",
    "\n",
    "테스트 9 〉\t통과 (0.22ms, 10.1MB)\n",
    "\n",
    "테스트 10 〉\t통과 (0.33ms, 10.1MB)\n",
    "\n",
    "테스트 11 〉\t통과 (3.34ms, 10.3MB)\n",
    "\n",
    "테스트 12 〉\t통과 (1.83ms, 10.2MB)\n",
    "\n",
    "테스트 13 〉\t통과 (0.92ms, 10.2MB)\n"
   ]
  },
  {
   "cell_type": "code",
   "execution_count": null,
   "metadata": {},
   "outputs": [],
   "source": []
  }
 ],
 "metadata": {
  "kernelspec": {
   "display_name": "Python 3",
   "language": "python",
   "name": "python3"
  },
  "language_info": {
   "codemirror_mode": {
    "name": "ipython",
    "version": 3
   },
   "file_extension": ".py",
   "mimetype": "text/x-python",
   "name": "python",
   "nbconvert_exporter": "python",
   "pygments_lexer": "ipython3",
   "version": "3.8.5"
  }
 },
 "nbformat": 4,
 "nbformat_minor": 4
}
