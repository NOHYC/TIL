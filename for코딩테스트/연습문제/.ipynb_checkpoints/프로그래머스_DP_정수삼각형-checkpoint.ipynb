{
 "cells": [
  {
   "cell_type": "code",
   "execution_count": null,
   "metadata": {},
   "outputs": [],
   "source": [
    "def solution(triangle):\n",
    "    len_tri = len(triangle)\n",
    "    for i in range(1,len_tri):\n",
    "        t_len = len(triangle[i])\n",
    "        for j in range(t_len):\n",
    "            if j == 0:\n",
    "                triangle[i][j] = triangle[i][j] + triangle[i-1][j]\n",
    "            elif j == t_len-1:\n",
    "                triangle[i][j] = triangle[i][j] + triangle[i-1][j-1]\n",
    "            else:\n",
    "                triangle[i][j] = triangle[i][j] + max(triangle[i-1][j],triangle[i-1][j-1])\n",
    "    return max(triangle[len_tri-1])"
   ]
  },
  {
   "cell_type": "markdown",
   "metadata": {},
   "source": [
    "정확성  테스트\n",
    "\n",
    "테스트 1 〉\t통과 (0.02ms, 10.2MB)\n",
    "\n",
    "테스트 2 〉\t통과 (0.04ms, 10.2MB)\n",
    "\n",
    "테스트 3 〉\t통과 (0.07ms, 10.2MB)\n",
    "\n",
    "테스트 4 〉\t통과 (0.29ms, 10.2MB)\n",
    "\n",
    "테스트 5 〉\t통과 (1.56ms, 10.3MB)\n",
    "\n",
    "테스트 6 〉\t통과 (0.61ms, 10.3MB)\n",
    "\n",
    "테스트 7 〉\t통과 (1.65ms, 10.3MB)\n",
    "\n",
    "테스트 8 〉\t통과 (0.47ms, 10.1MB)\n",
    "\n",
    "테스트 9 〉\t통과 (0.02ms, 10.2MB)\n",
    "\n",
    "테스트 10 〉\t통과 (0.26ms, 10.3MB)\n",
    "\n",
    "효율성  테스트\n",
    "\n",
    "테스트 1 〉\t통과 (40.93ms, 14.3MB)\n",
    "\n",
    "테스트 2 〉\t통과 (31.65ms, 13.1MB)\n",
    "\n",
    "테스트 3 〉\t통과 (47.20ms, 14.9MB)\n",
    "\n",
    "테스트 4 〉\t통과 (41.83ms, 14.3MB)\n",
    "\n",
    "테스트 5 〉\t통과 (38.16ms, 13.9MB)\n",
    "\n",
    "테스트 6 〉\t통과 (47.85ms, 14.7MB)\n",
    "\n",
    "테스트 7 〉\t통과 (43.64ms, 14.6MB)\n",
    "\n",
    "테스트 8 〉\t통과 (36.41ms, 13.7MB)\n",
    "\n",
    "테스트 9 〉\t통과 (38.20ms, 14.1MB)\n",
    "\n",
    "테스트 10 〉\t통과 (45.05ms, 14.6MB)"
   ]
  },
  {
   "cell_type": "code",
   "execution_count": null,
   "metadata": {},
   "outputs": [],
   "source": []
  }
 ],
 "metadata": {
  "kernelspec": {
   "display_name": "Python 3",
   "language": "python",
   "name": "python3"
  },
  "language_info": {
   "codemirror_mode": {
    "name": "ipython",
    "version": 3
   },
   "file_extension": ".py",
   "mimetype": "text/x-python",
   "name": "python",
   "nbconvert_exporter": "python",
   "pygments_lexer": "ipython3",
   "version": "3.8.5"
  }
 },
 "nbformat": 4,
 "nbformat_minor": 4
}
