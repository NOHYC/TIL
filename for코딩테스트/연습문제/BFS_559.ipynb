{
 "cells": [
  {
   "cell_type": "code",
   "execution_count": null,
   "metadata": {},
   "outputs": [],
   "source": [
    "\"\"\"\n",
    "# Definition for a Node.\n",
    "class Node:\n",
    "    def __init__(self, val=None, children=None):\n",
    "        self.val = val\n",
    "        self.children = children\n",
    "\"\"\"\n",
    "\n",
    "class Solution:\n",
    "    def maxDepth(self, root: 'Node') -> int:\n",
    "        if not root:\n",
    "            return 0\n",
    "        from collections import deque\n",
    "        q = deque([root])\n",
    "        node_count = 1\n",
    "        count = 0\n",
    "        c = 0\n",
    "        while q:\n",
    "            node = q.popleft()\n",
    "            node_count -=1\n",
    "            if node.children:\n",
    "                count += len(node.children)\n",
    "                q.extend(node.children)\n",
    "            if node_count == 0:\n",
    "                node_count = count\n",
    "                count = 0\n",
    "                c +=1\n",
    "        return c\n"
   ]
  },
  {
   "cell_type": "markdown",
   "metadata": {},
   "source": [
    "Runtime: 40 ms, faster than 93.24% of Python3 online submissions for Maximum Depth of N-ary Tree.\n",
    "\n",
    "Memory Usage: 16 MB, less than 50.86% of Python3 online submissions for Maximum Depth of N-ary Tree."
   ]
  },
  {
   "cell_type": "code",
   "execution_count": null,
   "metadata": {},
   "outputs": [],
   "source": []
  }
 ],
 "metadata": {
  "kernelspec": {
   "display_name": "Python 3",
   "language": "python",
   "name": "python3"
  },
  "language_info": {
   "codemirror_mode": {
    "name": "ipython",
    "version": 3
   },
   "file_extension": ".py",
   "mimetype": "text/x-python",
   "name": "python",
   "nbconvert_exporter": "python",
   "pygments_lexer": "ipython3",
   "version": "3.8.5"
  }
 },
 "nbformat": 4,
 "nbformat_minor": 4
}
