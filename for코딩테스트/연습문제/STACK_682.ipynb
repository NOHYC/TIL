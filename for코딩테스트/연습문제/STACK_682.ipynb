{
 "cells": [
  {
   "cell_type": "markdown",
   "metadata": {},
   "source": [
    "# STACK 682"
   ]
  },
  {
   "cell_type": "code",
   "execution_count": 5,
   "metadata": {},
   "outputs": [
    {
     "data": {
      "text/plain": [
       "30"
      ]
     },
     "execution_count": 5,
     "metadata": {},
     "output_type": "execute_result"
    }
   ],
   "source": [
    "\n",
    "def calPoints(ops):\n",
    "    stack =[]\n",
    "\n",
    "    num = 0\n",
    "    while num < len(ops):\n",
    "\n",
    "        if ops[num] not in ['C',\"D\",\"+\"]:\n",
    "            stack.append(int(ops[num]))\n",
    "        elif ops[num] == 'C':\n",
    "            stack.pop()\n",
    "        elif ops[num] == 'D':\n",
    "            stack.append(int(stack[-1])*2)\n",
    "        else:\n",
    "            stack.append(int(stack[-1]) + int(stack[-2]))\n",
    "        num+=1\n",
    "    return sum(stack)\n",
    "calPoints([\"5\",\"2\",\"C\",\"D\",\"+\"])"
   ]
  },
  {
   "cell_type": "markdown",
   "metadata": {},
   "source": [
    "Runtime: 64 ms, faster than 9.79% of Python3 online submissions for Baseball Game.   \n",
    "Memory Usage: 14.6 MB, less than 14.36% of Python3 online submissions for Baseball Game.   "
   ]
  },
  {
   "cell_type": "code",
   "execution_count": 7,
   "metadata": {},
   "outputs": [
    {
     "data": {
      "text/plain": [
       "30"
      ]
     },
     "execution_count": 7,
     "metadata": {},
     "output_type": "execute_result"
    }
   ],
   "source": [
    "def calPoints(ops):\n",
    "    stack = []\n",
    "    for i in ops:\n",
    "        if i not in [\"C\",\"D\",\"+\"]:\n",
    "            stack.append(int(i))\n",
    "        if i == 'D':\n",
    "            stack.append(int(stack[-1])*2)\n",
    "        elif i == 'C':\n",
    "            stack.pop()\n",
    "        elif i == '+':\n",
    "            stack.append(stack[-1]+stack[-2])\n",
    "    return sum(stack)\n",
    "calPoints([\"5\",\"2\",\"C\",\"D\",\"+\"])"
   ]
  },
  {
   "cell_type": "markdown",
   "metadata": {},
   "source": [
    "Runtime: 40 ms, faster than 65.37% of Python3 online submissions for Baseball Game.    \n",
    "Memory Usage: 14.5 MB, less than 42.39% of Python3 online submissions for Baseball Game."
   ]
  },
  {
   "cell_type": "code",
   "execution_count": null,
   "metadata": {},
   "outputs": [],
   "source": []
  }
 ],
 "metadata": {
  "kernelspec": {
   "display_name": "Python 3",
   "language": "python",
   "name": "python3"
  },
  "language_info": {
   "codemirror_mode": {
    "name": "ipython",
    "version": 3
   },
   "file_extension": ".py",
   "mimetype": "text/x-python",
   "name": "python",
   "nbconvert_exporter": "python",
   "pygments_lexer": "ipython3",
   "version": "3.8.5"
  }
 },
 "nbformat": 4,
 "nbformat_minor": 4
}
