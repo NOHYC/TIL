{
 "cells": [
  {
   "cell_type": "markdown",
   "metadata": {},
   "source": [
    "민혁이는 소셜 네트워크 사이트에서 친구를 만드는 것을 좋아하는 친구이다. 우표를 모으는 취미가 있듯이, 민혁이는 소셜 네트워크 사이트에서 친구를 모으는 것이 취미이다.\n",
    "\n",
    "어떤 사이트의 친구 관계가 생긴 순서대로 주어졌을 때, 두 사람의 친구 네트워크에 몇 명이 있는지 구하는 프로그램을 작성하시오.\n",
    "\n",
    "친구 네트워크란 친구 관계만으로 이동할 수 있는 사이를 말한다\n",
    "\n",
    "입력\n",
    "\n",
    "\n",
    "첫째 줄에 테스트 케이스의 개수가 주어진다. 각 테스트 케이스의 첫째 줄에는 친구 관계의 수 F가 주어지며, 이 값은 100,000을 넘지 않는다.\n",
    "\n",
    "다음 F개의 줄에는 친구 관계가 생긴 순서대로 주어진다. 친구 관계는 두 사용자의 아이디로 이루어져 있으며, 알파벳 대문자 또는 소문자로만 이루어진 길이 20 이하의 문자열이다.\n",
    "\n",
    "출력\n",
    "\n",
    "\n",
    "친구 관계가 생길 때마다, 두 사람의 친구 네트워크에 몇 명이 있는지 구하는 프로그램을 작성하시오.."
   ]
  },
  {
   "cell_type": "code",
   "execution_count": 1,
   "metadata": {},
   "outputs": [],
   "source": [
    "A=[['Fred', 'Barney'],\n",
    "['Barney' ,'Betty'],\n",
    "['Betty', 'Wilma']]\n",
    "\n",
    "B = [['Fred' ,'Barney'],\n",
    "['Betty', 'Wilma'],\n",
    "['Barney', 'Betty']]"
   ]
  },
  {
   "cell_type": "code",
   "execution_count": 97,
   "metadata": {},
   "outputs": [
    {
     "name": "stdout",
     "output_type": "stream",
     "text": [
      "2\n",
      "2\n",
      "4\n"
     ]
    }
   ],
   "source": [
    "def find(node):\n",
    "    if parent[node] == node:\n",
    "        return node\n",
    "    \n",
    "    parent[node] = find(parent[node])\n",
    "    return parent[node]\n",
    "\n",
    "def union(node_a,node_b):\n",
    "    head_a = find(node_a)\n",
    "    head_b = find(node_b)\n",
    "    if rank[head_a] > rank[head_b]:\n",
    "        parent[head_b] = head_a\n",
    "        cnt[head_a] += cnt[head_b]\n",
    "        #print(cnt[head_b])\n",
    "    else:\n",
    "        parent[head_a] = head_b\n",
    "        cnt[head_b] += cnt[head_a]\n",
    "        #print(cnt[head_a])\n",
    "        if rank[head_a] == rank[head_b]:\n",
    "            rank[head_b] +=1\n",
    "        \n",
    "    return\n",
    "parent = []\n",
    "rank = []\n",
    "name = {}\n",
    "cnt={}\n",
    "num = 0\n",
    "for i in B:\n",
    "    for friend in i:\n",
    "        if friend not in name:\n",
    "            name[friend] = num\n",
    "            parent.extend([num])\n",
    "            rank.extend([0])\n",
    "            cnt[num] = 1\n",
    "            num+=1\n",
    "    if find(name[i[0]]) != find(name[i[1]]):\n",
    "        union(name[i[0]],name[i[1]])\n",
    "    print(cnt[find(name[i[1]])])"
   ]
  },
  {
   "cell_type": "code",
   "execution_count": 56,
   "metadata": {},
   "outputs": [
    {
     "ename": "ValueError",
     "evalue": "invalid literal for int() with base 10: ''",
     "output_type": "error",
     "traceback": [
      "\u001b[1;31m---------------------------------------------------------------------------\u001b[0m",
      "\u001b[1;31mValueError\u001b[0m                                Traceback (most recent call last)",
      "\u001b[1;32m<ipython-input-56-28d0e9e5f569>\u001b[0m in \u001b[0;36m<module>\u001b[1;34m\u001b[0m\n\u001b[0;32m     23\u001b[0m \u001b[1;33m\u001b[0m\u001b[0m\n\u001b[0;32m     24\u001b[0m     \u001b[0minput\u001b[0m \u001b[1;33m=\u001b[0m \u001b[0msys\u001b[0m\u001b[1;33m.\u001b[0m\u001b[0mstdin\u001b[0m\u001b[1;33m.\u001b[0m\u001b[0mreadline\u001b[0m\u001b[1;33m\u001b[0m\u001b[1;33m\u001b[0m\u001b[0m\n\u001b[1;32m---> 25\u001b[1;33m     \u001b[0mT\u001b[0m \u001b[1;33m=\u001b[0m \u001b[0mint\u001b[0m\u001b[1;33m(\u001b[0m\u001b[0minput\u001b[0m\u001b[1;33m(\u001b[0m\u001b[1;33m)\u001b[0m\u001b[1;33m.\u001b[0m\u001b[0mstrip\u001b[0m\u001b[1;33m(\u001b[0m\u001b[1;33m)\u001b[0m\u001b[1;33m)\u001b[0m\u001b[1;33m\u001b[0m\u001b[1;33m\u001b[0m\u001b[0m\n\u001b[0m\u001b[0;32m     26\u001b[0m \u001b[1;33m\u001b[0m\u001b[0m\n\u001b[0;32m     27\u001b[0m     \u001b[1;32mfor\u001b[0m \u001b[0m_\u001b[0m \u001b[1;32min\u001b[0m \u001b[0mrange\u001b[0m\u001b[1;33m(\u001b[0m\u001b[0mT\u001b[0m\u001b[1;33m)\u001b[0m\u001b[1;33m:\u001b[0m\u001b[1;33m\u001b[0m\u001b[1;33m\u001b[0m\u001b[0m\n",
      "\u001b[1;31mValueError\u001b[0m: invalid literal for int() with base 10: ''"
     ]
    }
   ],
   "source": [
    "import sys\n",
    "sys.setrecursionlimit(10**5)\n",
    "\n",
    "if __name__ == \"__main__\" :\n",
    "    def find(node):\n",
    "        if parent[node] == node:\n",
    "            return node\n",
    "        parent[node] = find(parent[node])\n",
    "        return parent[node]\n",
    "    def union(node_a,node_b):\n",
    "        head_a,head_b = find(node_a),find(node_b)\n",
    "        if rank[head_a] > rank[head_b]:\n",
    "            parent[head_b] = head_a\n",
    "        else:\n",
    "            parent[head_a] = head_b\n",
    "            if rank[head_a] == rank[head_b]:\n",
    "                rank[head_b] +=1\n",
    "        return\n",
    "    parent = []\n",
    "    rank = []\n",
    "    name = {}\n",
    "    num = 0\n",
    "    \n",
    "    input = sys.stdin.readline\n",
    "    T = int(input().strip())\n",
    "\n",
    "    for _ in range(T):\n",
    "        F = int(input().strip())\n",
    "        \n",
    "        for connection in range(F):\n",
    "            l =  input().strip().split()\n",
    "            for i in l : \n",
    "                if i not in name:\n",
    "                    name[i] = num\n",
    "                    parent.extend([num])\n",
    "                    rank.extend([0])\n",
    "                    num+=1\n",
    "            if find(name[l[0]]) != find(name[l[1]]):\n",
    "                union(name[l[0]],name[l[1]])\n",
    "            else:\n",
    "                parent = [find(i) for i in parent]\n",
    "            \n",
    "            print(parent.count(find(name[l[0]])))"
   ]
  },
  {
   "cell_type": "code",
   "execution_count": null,
   "metadata": {},
   "outputs": [],
   "source": [
    "import sys\n",
    "sys.setrecursionlimit(10**5)\n",
    "\n",
    "if __name__ == \"__main__\" :\n",
    "    def find(node):\n",
    "        if parent[node] == node:\n",
    "            return node\n",
    "        parent[node] = find(parent[node])\n",
    "        return parent[node]\n",
    "    \n",
    "    def union(node_a,node_b):\n",
    "        head_a,head_b = find(node_a),find(node_b)\n",
    "        if rank[head_a] > rank[head_b]:\n",
    "            parent[head_b] = head_a\n",
    "            cnt[head_a] += cnt[head_b]\n",
    "        else:\n",
    "            parent[head_a] = head_b\n",
    "            cnt[head_b] += cnt[head_a]\n",
    "       \n",
    "            if rank[head_a] == rank[head_b]:\n",
    "                rank[head_b] +=1\n",
    "        return\n",
    "    parent = []\n",
    "    rank = []\n",
    "    name = {}\n",
    "    cnt ={}\n",
    "    num = 0\n",
    "    \n",
    "    input = sys.stdin.readline\n",
    "    T = int(input().strip())\n",
    "    for _ in range(T):\n",
    "        F = int(input().strip())\n",
    "        for connection in range(F):\n",
    "            l =  input().strip().split()\n",
    "            for i in l : \n",
    "                if i not in name:\n",
    "                    name[i] = num\n",
    "                    parent.extend([num])\n",
    "                    rank.extend([0])\n",
    "                    cnt[num] = 1\n",
    "                    num+=1\n",
    "                    \n",
    "            if find(name[l[0]]) != find(name[l[1]]):\n",
    "                union(name[l[0]],name[l[1]])\n",
    "            print(cnt[find(name[l[0]])])"
   ]
  },
  {
   "cell_type": "code",
   "execution_count": 7,
   "metadata": {},
   "outputs": [
    {
     "ename": "ValueError",
     "evalue": "invalid literal for int() with base 10: ''",
     "output_type": "error",
     "traceback": [
      "\u001b[1;31m---------------------------------------------------------------------------\u001b[0m",
      "\u001b[1;31mValueError\u001b[0m                                Traceback (most recent call last)",
      "\u001b[1;32m<ipython-input-7-cc79a0f95cb9>\u001b[0m in \u001b[0;36m<module>\u001b[1;34m\u001b[0m\n\u001b[0;32m     29\u001b[0m \u001b[1;33m\u001b[0m\u001b[0m\n\u001b[0;32m     30\u001b[0m \u001b[0minput\u001b[0m \u001b[1;33m=\u001b[0m \u001b[0msys\u001b[0m\u001b[1;33m.\u001b[0m\u001b[0mstdin\u001b[0m\u001b[1;33m.\u001b[0m\u001b[0mreadline\u001b[0m\u001b[1;33m\u001b[0m\u001b[1;33m\u001b[0m\u001b[0m\n\u001b[1;32m---> 31\u001b[1;33m \u001b[0mT\u001b[0m \u001b[1;33m=\u001b[0m \u001b[0mint\u001b[0m\u001b[1;33m(\u001b[0m\u001b[0minput\u001b[0m\u001b[1;33m(\u001b[0m\u001b[1;33m)\u001b[0m\u001b[1;33m.\u001b[0m\u001b[0mstrip\u001b[0m\u001b[1;33m(\u001b[0m\u001b[1;33m)\u001b[0m\u001b[1;33m)\u001b[0m\u001b[1;33m\u001b[0m\u001b[1;33m\u001b[0m\u001b[0m\n\u001b[0m\u001b[0;32m     32\u001b[0m \u001b[1;32mfor\u001b[0m \u001b[0m_\u001b[0m \u001b[1;32min\u001b[0m \u001b[0mrange\u001b[0m\u001b[1;33m(\u001b[0m\u001b[0mT\u001b[0m\u001b[1;33m)\u001b[0m\u001b[1;33m:\u001b[0m\u001b[1;33m\u001b[0m\u001b[1;33m\u001b[0m\u001b[0m\n\u001b[0;32m     33\u001b[0m     \u001b[0mF\u001b[0m \u001b[1;33m=\u001b[0m \u001b[0mint\u001b[0m\u001b[1;33m(\u001b[0m\u001b[0minput\u001b[0m\u001b[1;33m(\u001b[0m\u001b[1;33m)\u001b[0m\u001b[1;33m.\u001b[0m\u001b[0mstrip\u001b[0m\u001b[1;33m(\u001b[0m\u001b[1;33m)\u001b[0m\u001b[1;33m)\u001b[0m\u001b[1;33m\u001b[0m\u001b[1;33m\u001b[0m\u001b[0m\n",
      "\u001b[1;31mValueError\u001b[0m: invalid literal for int() with base 10: ''"
     ]
    }
   ],
   "source": [
    "import sys\n",
    "sys.setrecursionlimit(10**5)\n",
    "\n",
    "\n",
    "def find(node):\n",
    "    global parent\n",
    "    if parent[node] == node:\n",
    "        return node\n",
    "    parent[node] = find(parent[node])\n",
    "    return parent[node]\n",
    "\n",
    "def union(node_a,node_b):\n",
    "    global cnt,parent,rank\n",
    "    head_a,head_b = find(node_a),find(node_b)\n",
    "    if rank[head_a] > rank[head_b]:\n",
    "        parent[head_b] = head_a\n",
    "        cnt[head_a] += cnt[head_b]\n",
    "    else:\n",
    "        parent[head_a] = head_b\n",
    "        cnt[head_b] += cnt[head_a]\n",
    "        if rank[head_a] == rank[head_b]:\n",
    "            rank[head_b] +=1\n",
    "    return\n",
    "parent = []\n",
    "rank = []\n",
    "name = {}\n",
    "cnt =[]\n",
    "num = 0\n",
    "\n",
    "input = sys.stdin.readline\n",
    "T = int(input().strip())\n",
    "for _ in range(T):\n",
    "    F = int(input().strip())\n",
    "    for connection in range(F):\n",
    "        l =  input().strip().split()\n",
    "        for i in l : \n",
    "            if i not in name:\n",
    "                name[i] = num\n",
    "                parent.extend([num])\n",
    "                rank.extend([0])\n",
    "                cnt.extend([1])\n",
    "                num+=1\n",
    "        if find(name[l[0]]) != find(name[l[1]]):\n",
    "            union(name[l[0]],name[l[1]])\n",
    "        print(cnt[find(name[l[0]])])"
   ]
  },
  {
   "cell_type": "code",
   "execution_count": 11,
   "metadata": {},
   "outputs": [
    {
     "data": {
      "text/plain": [
       "''"
      ]
     },
     "execution_count": 11,
     "metadata": {},
     "output_type": "execute_result"
    }
   ],
   "source": [
    "input()"
   ]
  },
  {
   "cell_type": "code",
   "execution_count": null,
   "metadata": {},
   "outputs": [],
   "source": []
  }
 ],
 "metadata": {
  "kernelspec": {
   "display_name": "Python 3",
   "language": "python",
   "name": "python3"
  },
  "language_info": {
   "codemirror_mode": {
    "name": "ipython",
    "version": 3
   },
   "file_extension": ".py",
   "mimetype": "text/x-python",
   "name": "python",
   "nbconvert_exporter": "python",
   "pygments_lexer": "ipython3",
   "version": "3.8.5"
  }
 },
 "nbformat": 4,
 "nbformat_minor": 4
}
