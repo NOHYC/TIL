{
 "cells": [
  {
   "cell_type": "code",
   "execution_count": null,
   "metadata": {},
   "outputs": [],
   "source": [
    "def solution(skill, skill_trees):\n",
    "    count = 0\n",
    "    for tree in skill_trees:\n",
    "        if set(skill) & set(tree):\n",
    "            i = 0\n",
    "            for n,sk in enumerate(tree):\n",
    "                if i == len(skill)-1:\n",
    "                    count +=1\n",
    "                    break\n",
    "                if sk in skill:\n",
    "                    if sk == skill[i]:\n",
    "                        i +=1\n",
    "                    else:\n",
    "                        i = 0\n",
    "                        break\n",
    "                if n == len(tree)-1:\n",
    "                    if i:\n",
    "                        count +=1\n",
    "                    i = 0\n",
    "        else:\n",
    "            count +=1\n",
    "    return count"
   ]
  },
  {
   "cell_type": "markdown",
   "metadata": {},
   "source": [
    "정확성  테스트\n",
    "\n",
    "테스트 1 〉\t통과 (0.01ms, 10.2MB)\n",
    "\n",
    "테스트 2 〉\t통과 (0.02ms, 10.2MB)\n",
    "\n",
    "테스트 3 〉\t통과 (0.02ms, 10.2MB)\n",
    "\n",
    "테스트 4 〉\t통과 (0.02ms, 10.2MB)\n",
    "\n",
    "테스트 5 〉\t통과 (0.03ms, 10.2MB)\n",
    "\n",
    "테스트 6 〉\t통과 (0.02ms, 10.2MB)\n",
    "\n",
    "테스트 7 〉\t통과 (0.03ms, 10.2MB)\n",
    "\n",
    "테스트 8 〉\t통과 (0.02ms, 10MB)\n",
    "\n",
    "테스트 9 〉\t통과 (0.02ms, 10.2MB)\n",
    "\n",
    "테스트 10 〉\t통과 (0.03ms, 10.2MB)\n",
    "\n",
    "테스트 11 〉\t통과 (0.04ms, 10.3MB)\n",
    "\n",
    "테스트 12 〉\t통과 (0.05ms, 10.1MB)\n",
    "\n",
    "테스트 13 〉\t통과 (0.04ms, 10.2MB)\n",
    "\n",
    "테스트 14 〉\t통과 (0.02ms, 10.2MB)"
   ]
  }
 ],
 "metadata": {
  "kernelspec": {
   "display_name": "Python 3",
   "language": "python",
   "name": "python3"
  },
  "language_info": {
   "codemirror_mode": {
    "name": "ipython",
    "version": 3
   },
   "file_extension": ".py",
   "mimetype": "text/x-python",
   "name": "python",
   "nbconvert_exporter": "python",
   "pygments_lexer": "ipython3",
   "version": "3.8.5"
  }
 },
 "nbformat": 4,
 "nbformat_minor": 4
}
