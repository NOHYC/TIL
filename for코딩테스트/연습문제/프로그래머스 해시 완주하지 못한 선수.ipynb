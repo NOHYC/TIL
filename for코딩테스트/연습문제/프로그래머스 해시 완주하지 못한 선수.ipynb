{
 "cells": [
  {
   "cell_type": "code",
   "execution_count": null,
   "metadata": {},
   "outputs": [],
   "source": [
    "def solution(participant, completion):\n",
    "    pdic = {}\n",
    "    for name in participant:\n",
    "        if name not in pdic:\n",
    "            pdic[name] = 1\n",
    "        else:\n",
    "            pdic[name] +=1\n",
    "    for cname in completion:\n",
    "        pdic[cname] -=1\n",
    "    for key,val in pdic.items():\n",
    "        if val >0:\n",
    "            return key"
   ]
  },
  {
   "cell_type": "markdown",
   "metadata": {},
   "source": [
    "정확성  테스트\n",
    "\n",
    "테스트 1 〉\t통과 (0.01ms, 10.2MB)\n",
    "\n",
    "테스트 2 〉\t통과 (0.01ms, 10.2MB)\n",
    "\n",
    "테스트 3 〉\t통과 (0.19ms, 10.3MB)\n",
    "\n",
    "테스트 4 〉\t통과 (0.53ms, 10.3MB)\n",
    "\n",
    "테스트 5 〉\t통과 (0.52ms, 10.3MB)\n",
    "\n",
    "효율성  테스트\n",
    "\n",
    "테스트 1 〉\t통과 (17.72ms, 21.8MB)\n",
    "\n",
    "테스트 2 〉\t통과 (26.95ms, 25.3MB)\n",
    "\n",
    "테스트 3 〉\t통과 (37.39ms, 27.6MB)\n",
    "\n",
    "테스트 4 〉\t통과 (46.74ms, 33.9MB)\n",
    "\n",
    "테스트 5 〉\t통과 (47.19ms, 33.9MB)\n"
   ]
  },
  {
   "cell_type": "code",
   "execution_count": null,
   "metadata": {},
   "outputs": [],
   "source": [
    "def solution(participant, completion):\n",
    "    completion.sort()\n",
    "    participant.sort()\n",
    "    for num,i in enumerate(completion):\n",
    "        if i != participant[num]:\n",
    "            return participant[num]\n",
    "    return participant.pop()"
   ]
  },
  {
   "cell_type": "markdown",
   "metadata": {},
   "source": [
    "정확성  테스트\n",
    "\n",
    "테스트 1 〉\t통과 (0.01ms, 10.2MB)\n",
    "\n",
    "테스트 2 〉\t통과 (0.01ms, 10.3MB)\n",
    "\n",
    "테스트 3 〉\t통과 (0.28ms, 10.2MB)\n",
    "\n",
    "테스트 4 〉\t통과 (0.62ms, 10.4MB)\n",
    "\n",
    "테스트 5 〉\t통과 (0.59ms, 10.3MB)\n",
    "\n",
    "효율성  테스트\n",
    "\n",
    "테스트 1 〉\t통과 (36.18ms, 18.1MB)\n",
    "\n",
    "테스트 2 〉\t통과 (65.43ms, 22.2MB)\n",
    "\n",
    "테스트 3 〉\t통과 (85.18ms, 24.8MB)\n",
    "\n",
    "테스트 4 〉\t통과 (77.80ms, 26.4MB)\n",
    "\n",
    "테스트 5 〉\t통과 (81.11ms, 26.3MB)"
   ]
  },
  {
   "cell_type": "code",
   "execution_count": null,
   "metadata": {},
   "outputs": [],
   "source": []
  }
 ],
 "metadata": {
  "kernelspec": {
   "display_name": "Python 3",
   "language": "python",
   "name": "python3"
  },
  "language_info": {
   "codemirror_mode": {
    "name": "ipython",
    "version": 3
   },
   "file_extension": ".py",
   "mimetype": "text/x-python",
   "name": "python",
   "nbconvert_exporter": "python",
   "pygments_lexer": "ipython3",
   "version": "3.8.5"
  }
 },
 "nbformat": 4,
 "nbformat_minor": 4
}
