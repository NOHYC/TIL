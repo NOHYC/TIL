{
 "cells": [
  {
   "cell_type": "code",
   "execution_count": null,
   "metadata": {},
   "outputs": [],
   "source": [
    "def solution(n, computers):\n",
    "    check = [0 for _ in computers]\n",
    "    count = 0\n",
    "    for com in range(len(computers)):\n",
    "        if check[com] == 0:\n",
    "            go = [com]\n",
    "            while go:\n",
    "                idx = go.pop()\n",
    "                node = computers[idx]\n",
    "                check[idx] = 1\n",
    "                for i,num in enumerate(node):\n",
    "                    if num == 1 and check[i] == 0:\n",
    "                        go.append(i)\n",
    "            count+=1\n",
    "\n",
    "    return count"
   ]
  },
  {
   "cell_type": "markdown",
   "metadata": {},
   "source": [
    "정확성  테스트\n",
    "\n",
    "테스트 1 〉\t통과 (0.01ms, 10.2MB)\n",
    "\n",
    "테스트 2 〉\t통과 (0.01ms, 10.2MB)\n",
    "\n",
    "테스트 3 〉\t통과 (0.06ms, 10.3MB)\n",
    "\n",
    "테스트 4 〉\t통과 (0.07ms, 10.2MB)\n",
    "\n",
    "테스트 5 〉\t통과 (0.01ms, 10.2MB)\n",
    "\n",
    "테스트 6 〉\t통과 (0.50ms, 10.3MB)\n",
    "\n",
    "테스트 7 〉\t통과 (0.02ms, 10.2MB)\n",
    "\n",
    "테스트 8 〉\t통과 (0.24ms, 10.2MB)\n",
    "\n",
    "테스트 9 〉\t통과 (0.11ms, 10.2MB)\n",
    "\n",
    "테스트 10 〉\t통과 (0.15ms, 10.3MB)\n",
    "\n",
    "테스트 11 〉\t통과 (1.68ms, 10.3MB)\n",
    "\n",
    "테스트 12 〉\t통과 (1.05ms, 10.3MB)\n",
    "\n",
    "테스트 13 〉\t통과 (0.58ms, 10.2MB)"
   ]
  },
  {
   "cell_type": "code",
   "execution_count": null,
   "metadata": {},
   "outputs": [],
   "source": []
  }
 ],
 "metadata": {
  "kernelspec": {
   "display_name": "Python 3",
   "language": "python",
   "name": "python3"
  },
  "language_info": {
   "codemirror_mode": {
    "name": "ipython",
    "version": 3
   },
   "file_extension": ".py",
   "mimetype": "text/x-python",
   "name": "python",
   "nbconvert_exporter": "python",
   "pygments_lexer": "ipython3",
   "version": "3.8.5"
  }
 },
 "nbformat": 4,
 "nbformat_minor": 4
}
