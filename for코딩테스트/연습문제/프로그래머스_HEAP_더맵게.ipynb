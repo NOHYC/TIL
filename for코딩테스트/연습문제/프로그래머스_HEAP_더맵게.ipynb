{
 "cells": [
  {
   "cell_type": "code",
   "execution_count": null,
   "metadata": {},
   "outputs": [],
   "source": [
    "def solution(scoville, K):\n",
    "    from heapq import heapify,heappop,heappush\n",
    "    heapify(scoville)\n",
    "    num = 0\n",
    "    while scoville[0] < K:\n",
    "        try:\n",
    "            first = heappop(scoville)\n",
    "            second = heappop(scoville)\n",
    "            scoville.append(first+second*2)\n",
    "            num +=1\n",
    "        except:\n",
    "            return -1\n",
    "    return num"
   ]
  },
  {
   "cell_type": "markdown",
   "metadata": {},
   "source": [
    "정확성  테스트\n",
    "\n",
    "테스트 1 〉\t통과 (0.01ms, 10.1MB)\n",
    "\n",
    "테스트 2 〉\t통과 (0.01ms, 10.2MB)\n",
    "\n",
    "테스트 3 〉\t통과 (0.01ms, 10.2MB)\n",
    "\n",
    "테스트 4 〉\t통과 (0.01ms, 10.1MB)\n",
    "\n",
    "테스트 5 〉\t통과 (0.01ms, 10.1MB)\n",
    "\n",
    "테스트 6 〉\t통과 (0.57ms, 10.2MB)\n",
    "\n",
    "테스트 7 〉\t통과 (0.47ms, 10.3MB)\n",
    "\n",
    "테스트 8 〉\t통과 (0.06ms, 10.2MB)\n",
    "\n",
    "테스트 9 〉\t통과 (0.48ms, 10.2MB)\n",
    "\n",
    "테스트 10 〉\t통과 (0.38ms, 10.2MB)\n",
    "\n",
    "테스트 11 〉\t통과 (0.23ms, 10.2MB)\n",
    "\n",
    "테스트 12 〉\t통과 (1.12ms, 10.2MB)\n",
    "\n",
    "테스트 13 〉\t통과 (0.50ms, 10.2MB)\n",
    "\n",
    "테스트 14 〉\t통과 (0.02ms, 10.2MB)\n",
    "\n",
    "테스트 15 〉\t통과 (0.64ms, 10.2MB)\n",
    "\n",
    "테스트 16 〉\t통과 (0.01ms, 10.2MB)\n",
    "\n",
    "효율성  테스트\n",
    "\n",
    "테스트 1 〉\t통과 (156.33ms, 16.3MB)\n",
    "\n",
    "테스트 2 〉\t통과 (336.45ms, 21.9MB)\n",
    "\n",
    "테스트 3 〉\t통과 (2097.51ms, 49.8MB)\n",
    "\n",
    "테스트 4 〉\t통과 (124.73ms, 14.9MB)\n",
    "\n",
    "테스트 5 〉\t통과 (1828.23ms, 51.8MB)"
   ]
  },
  {
   "cell_type": "code",
   "execution_count": null,
   "metadata": {},
   "outputs": [],
   "source": []
  }
 ],
 "metadata": {
  "kernelspec": {
   "display_name": "Python 3",
   "language": "python",
   "name": "python3"
  },
  "language_info": {
   "codemirror_mode": {
    "name": "ipython",
    "version": 3
   },
   "file_extension": ".py",
   "mimetype": "text/x-python",
   "name": "python",
   "nbconvert_exporter": "python",
   "pygments_lexer": "ipython3",
   "version": "3.8.5"
  }
 },
 "nbformat": 4,
 "nbformat_minor": 4
}
