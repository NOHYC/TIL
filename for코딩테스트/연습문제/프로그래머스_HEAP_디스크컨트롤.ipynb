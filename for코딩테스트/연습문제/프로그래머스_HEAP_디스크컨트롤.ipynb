{
 "cells": [
  {
   "cell_type": "code",
   "execution_count": null,
   "metadata": {},
   "outputs": [],
   "source": [
    "def solution(jobs):\n",
    "    from heapq import heappush,heappop\n",
    "    ans = 0\n",
    "    now = 0\n",
    "    move = 0\n",
    "    start = -1\n",
    "    lis = []\n",
    "    while move < len(jobs):\n",
    "        for i in jobs:\n",
    "            if start < i[0] and now >= i[0]:\n",
    "                heappush(lis,[i[1],i[0]])\n",
    "        if len(lis) > 0:\n",
    "            curr = heappop(lis)\n",
    "            start = now\n",
    "            now += curr[0]\n",
    "            ans += (now - curr[1])\n",
    "            move +=1\n",
    "        else:\n",
    "            now += 1\n",
    "    return int(ans/len(jobs))"
   ]
  },
  {
   "cell_type": "markdown",
   "metadata": {},
   "source": [
    "정확성  테스트\n",
    "\n",
    "테스트 1 〉\t통과 (8.33ms, 10.3MB)\n",
    "\n",
    "테스트 2 〉\t통과 (6.30ms, 10.2MB)\n",
    "\n",
    "테스트 3 〉\t통과 (7.11ms, 10.3MB)\n",
    "\n",
    "테스트 4 〉\t통과 (6.73ms, 10.2MB)\n",
    "\n",
    "테스트 5 〉\t통과 (7.72ms, 10.2MB)\n",
    "\n",
    "테스트 6 〉\t통과 (0.11ms, 10.2MB)\n",
    "\n",
    "테스트 7 〉\t통과 (4.51ms, 10.3MB)\n",
    "\n",
    "테스트 8 〉\t통과 (3.15ms, 10.3MB)\n",
    "\n",
    "테스트 9 〉\t통과 (1.14ms, 10.2MB)\n",
    "\n",
    "테스트 10 〉\t통과 (9.06ms, 10.3MB)\n",
    "\n",
    "테스트 11 〉\t통과 (0.02ms, 10.3MB)\n",
    "\n",
    "테스트 12 〉\t통과 (0.03ms, 10.2MB)\n",
    "\n",
    "테스트 13 〉\t통과 (0.04ms, 10.3MB)\n",
    "\n",
    "테스트 14 〉\t통과 (0.03ms, 10.3MB)\n",
    "\n",
    "테스트 15 〉\t통과 (0.03ms, 10.2MB)\n",
    "\n",
    "테스트 16 〉\t통과 (0.02ms, 10.3MB)\n",
    "\n",
    "테스트 17 〉\t통과 (0.01ms, 10.3MB)\n",
    "\n",
    "테스트 18 〉\t통과 (0.02ms, 10.2MB)\n",
    "\n",
    "테스트 19 〉\t통과 (0.01ms, 10.3MB)\n",
    "\n",
    "테스트 20 〉\t통과 (0.01ms, 10.3MB)"
   ]
  }
 ],
 "metadata": {
  "kernelspec": {
   "display_name": "Python 3",
   "language": "python",
   "name": "python3"
  },
  "language_info": {
   "codemirror_mode": {
    "name": "ipython",
    "version": 3
   },
   "file_extension": ".py",
   "mimetype": "text/x-python",
   "name": "python",
   "nbconvert_exporter": "python",
   "pygments_lexer": "ipython3",
   "version": "3.8.5"
  }
 },
 "nbformat": 4,
 "nbformat_minor": 4
}
