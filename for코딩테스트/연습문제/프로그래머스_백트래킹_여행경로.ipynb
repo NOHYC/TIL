{
 "cells": [
  {
   "cell_type": "code",
   "execution_count": null,
   "metadata": {},
   "outputs": [],
   "source": [
    "def solution(tickets):\n",
    "    check = [ 0 for _ in range(len(tickets))]\n",
    "    len_max = len(tickets)\n",
    "    def bak(go,tickets,check,togo,len_max):\n",
    "        if all(check):\n",
    "            return [[\"ICN\"]+togo[:]]\n",
    "        res = []\n",
    "        next_go = []\n",
    "        for num,j in enumerate(tickets):\n",
    "            if j[0] == go:\n",
    "                next_go.append([j[1],num])\n",
    "        next_go = sorted(next_go)\n",
    "        for air,i in next_go:\n",
    "            if check[i] == 0:\n",
    "                check[i] = 1\n",
    "                togo.append(air)\n",
    "                res.extend(bak(air,tickets,check,togo,len_max))\n",
    "                togo.pop()\n",
    "                check[i] = 0\n",
    "        return res\n",
    "    return bak('ICN',tickets,check,[],len_max)[0]"
   ]
  },
  {
   "cell_type": "markdown",
   "metadata": {},
   "source": [
    "정확성  테스트\n",
    "\n",
    "테스트 1 〉\t통과 (467.85ms, 14.7MB)\n",
    "\n",
    "테스트 2 〉\t통과 (0.02ms, 10.2MB)\n",
    "\n",
    "테스트 3 〉\t통과 (0.02ms, 10.3MB)\n",
    "\n",
    "테스트 4 〉\t통과 (0.02ms, 10.3MB)"
   ]
  },
  {
   "cell_type": "code",
   "execution_count": null,
   "metadata": {},
   "outputs": [],
   "source": [
    "def solution(tickets):\n",
    "    len_max = len(tickets)\n",
    "    adjdic = {}\n",
    "    for num,start in enumerate(tickets):\n",
    "        try:\n",
    "            adjdic[start[0]] += [[start[1],0]]\n",
    "            adjdic[start[0]] = sorted(adjdic[start[0]])\n",
    "        except:\n",
    "            adjdic[start[0]] = [[start[1],0]]\n",
    "    def bak(go,togo):\n",
    "        if len(togo)+1 == len_max:\n",
    "            for i in adjdic[go]:\n",
    "                if i[1] == 0:\n",
    "                    return [[\"ICN\"]+togo[:]+[i[0]]]\n",
    "        res = []\n",
    "        for air in adjdic[go]:\n",
    "            if air[0] in adjdic:\n",
    "                if air[1] == 0 :\n",
    "                    air[1] = 1\n",
    "                    res.extend(bak(air[0],togo+[air[0]]))\n",
    "                    air[1] = 0\n",
    "        return res\n",
    "    return bak('ICN',[])[0]"
   ]
  },
  {
   "cell_type": "markdown",
   "metadata": {},
   "source": [
    "테스트 1 〉\t통과 (120.78ms, 14.6MB)\n",
    "\n",
    "테스트 2 〉\t통과 (0.02ms, 10.4MB)\n",
    "\n",
    "테스트 3 〉\t통과 (0.01ms, 10.3MB)\n",
    "\n",
    "테스트 4 〉\t통과 (0.01ms, 10.2MB)"
   ]
  }
 ],
 "metadata": {
  "kernelspec": {
   "display_name": "Python 3",
   "language": "python",
   "name": "python3"
  },
  "language_info": {
   "codemirror_mode": {
    "name": "ipython",
    "version": 3
   },
   "file_extension": ".py",
   "mimetype": "text/x-python",
   "name": "python",
   "nbconvert_exporter": "python",
   "pygments_lexer": "ipython3",
   "version": "3.8.5"
  }
 },
 "nbformat": 4,
 "nbformat_minor": 4
}
