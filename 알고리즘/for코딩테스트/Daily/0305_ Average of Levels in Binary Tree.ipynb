{
 "cells": [
  {
   "cell_type": "code",
   "execution_count": null,
   "metadata": {},
   "outputs": [],
   "source": [
    "# Definition for a binary tree node.\n",
    "# class TreeNode:\n",
    "#     def __init__(self, val=0, left=None, right=None):\n",
    "#         self.val = val\n",
    "#         self.left = left\n",
    "#         self.right = right\n",
    "class Solution:\n",
    "    def averageOfLevels(self, root: TreeNode) -> List[float]:\n",
    "        from collections import deque\n",
    "        num = 1\n",
    "        lis_num = 0\n",
    "        lis = deque([root])\n",
    "        val = 0\n",
    "        ans = []\n",
    "        past_num = 1\n",
    "        while lis:\n",
    "            node = lis.popleft()\n",
    "            val += node.val\n",
    "            num -= 1\n",
    "            if node.left:\n",
    "                lis.append(node.left)\n",
    "                lis_num +=1\n",
    "            if node.right:\n",
    "                lis.append(node.right)\n",
    "                lis_num +=1\n",
    "            if num == 0:\n",
    "                ans.append(val/past_num)\n",
    "                val = 0\n",
    "                past_num = lis_num\n",
    "                num = lis_num\n",
    "                lis_num = 0\n",
    "        return ans"
   ]
  }
 ],
 "metadata": {
  "kernelspec": {
   "display_name": "Python 3",
   "language": "python",
   "name": "python3"
  },
  "language_info": {
   "codemirror_mode": {
    "name": "ipython",
    "version": 3
   },
   "file_extension": ".py",
   "mimetype": "text/x-python",
   "name": "python",
   "nbconvert_exporter": "python",
   "pygments_lexer": "ipython3",
   "version": "3.8.5"
  }
 },
 "nbformat": 4,
 "nbformat_minor": 4
}
