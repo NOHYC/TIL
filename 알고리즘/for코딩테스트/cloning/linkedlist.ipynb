{
 "cells": [
  {
   "cell_type": "code",
   "execution_count": 2,
   "metadata": {},
   "outputs": [],
   "source": [
    "class Node(object):\n",
    "    def __init__(self,value,next = None):\n",
    "        self.value = value\n",
    "        self.next = next\n",
    "        \n",
    "        \n",
    "class linkedlist(object):\n",
    "    def __init__(self,data):\n",
    "        self.head = Node(data)\n",
    "        \n",
    "    def add(self,data):\n",
    "        if self.head == '':\n",
    "            self.head = Node(data)\n",
    "        else:\n",
    "            node = self.head\n",
    "            while node.next:\n",
    "                node = node.next\n",
    "            node.next = Node(data)\n",
    "    def delete(self,value):\n",
    "        if self.head =='':\n",
    "            print('해당 값을 가진 노드가 없습니다.')\n",
    "            return \n",
    "        if self.head.data == value:\n",
    "            temp = self.head\n",
    "            self.head = self.head.next\n",
    "            del temp\n",
    "            pass\n",
    "        else:\n",
    "            node = node.next\n",
    "        \n",
    "    def search(self,value):\n",
    "        node = self.head\n",
    "        while node:\n",
    "            if node.value == value:\n",
    "                return node\n",
    "            else:\n",
    "                node = node.next\n",
    "    def pri(self):\n",
    "        node = self.head\n",
    "        while node:\n",
    "            print(node.value)\n",
    "            node = node.next\n",
    "            \n",
    "    \n",
    "        \n",
    "        "
   ]
  },
  {
   "cell_type": "code",
   "execution_count": 13,
   "metadata": {},
   "outputs": [
    {
     "name": "stdout",
     "output_type": "stream",
     "text": [
      "3.936069965362549\n"
     ]
    }
   ],
   "source": [
    "import time\n",
    "\n",
    "prev = time.time()\n",
    "l=linkedlist(0)\n",
    "for i in range(10000):\n",
    "    l.add(i)\n",
    "print(time.time()-prev)"
   ]
  },
  {
   "cell_type": "code",
   "execution_count": 25,
   "metadata": {
    "scrolled": true
   },
   "outputs": [
    {
     "name": "stdout",
     "output_type": "stream",
     "text": [
      "0.020941972732543945\n"
     ]
    }
   ],
   "source": [
    "ll =[]\n",
    "prev = time.time()\n",
    "for i in range(10000):\n",
    "    ll.insert(0,i)\n",
    "print(time.time()-prev)"
   ]
  },
  {
   "cell_type": "code",
   "execution_count": 26,
   "metadata": {},
   "outputs": [
    {
     "name": "stdout",
     "output_type": "stream",
     "text": [
      "0.0029871463775634766\n"
     ]
    }
   ],
   "source": [
    "from collections import deque\n",
    "d = deque()\n",
    "prev = time.time()\n",
    "for i in range(10000):\n",
    "    d.appendleft(i)\n",
    "print(time.time()-prev)"
   ]
  },
  {
   "cell_type": "code",
   "execution_count": 21,
   "metadata": {},
   "outputs": [],
   "source": [
    "class Node(object):\n",
    "    def __init__(self,data,next = None,prev = None):\n",
    "        self.data = data\n",
    "        self.next = None\n",
    "        self.prev = None\n",
    "class dlinkedlist(object):\n",
    "    def __init__(self,data):\n",
    "        self.head = Node(data)\n",
    "        self.tail = self.head\n",
    "        \n",
    "    def insert(self,data):\n",
    "        if self.head == None:\n",
    "            self.head = Node(data)\n",
    "            self.head = self.tail\n",
    "        else:\n",
    "            node = self.head\n",
    "            while node.next:\n",
    "                node = node.next\n",
    "            new = Node(data)\n",
    "            node.next = new\n",
    "            new.prev = node\n",
    "            self.tail = new\n",
    "            \n",
    "        "
   ]
  },
  {
   "cell_type": "code",
   "execution_count": 23,
   "metadata": {},
   "outputs": [
    {
     "name": "stdout",
     "output_type": "stream",
     "text": [
      "4.1673970222473145\n"
     ]
    }
   ],
   "source": [
    "prev = time.time()\n",
    "dl = dlinkedlist(0)\n",
    "for i in range(10000):\n",
    "    dl.insert(i)\n",
    "print(time.time()-prev)"
   ]
  },
  {
   "cell_type": "code",
   "execution_count": null,
   "metadata": {},
   "outputs": [],
   "source": []
  }
 ],
 "metadata": {
  "kernelspec": {
   "display_name": "Python 3",
   "language": "python",
   "name": "python3"
  },
  "language_info": {
   "codemirror_mode": {
    "name": "ipython",
    "version": 3
   },
   "file_extension": ".py",
   "mimetype": "text/x-python",
   "name": "python",
   "nbconvert_exporter": "python",
   "pygments_lexer": "ipython3",
   "version": "3.8.5"
  }
 },
 "nbformat": 4,
 "nbformat_minor": 4
}
