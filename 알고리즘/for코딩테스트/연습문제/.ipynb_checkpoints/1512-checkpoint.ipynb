{
 "cells": [
  {
   "cell_type": "code",
   "execution_count": null,
   "metadata": {},
   "outputs": [],
   "source": [
    "class Solution:\n",
    "    def numIdenticalPairs(self, nums: List[int]) -> int:\n",
    "        dic = dict()\n",
    "        for i in nums:\n",
    "            if i in dic:\n",
    "                dic[i] +=1\n",
    "            else:\n",
    "                dic[i] = 1\n",
    "        sumv = 0\n",
    "        for item,val in dic.items():\n",
    "            if val > 1:\n",
    "                sumv += self.fac(val)/self.fac(2)\n",
    "        return int(sumv)\n",
    "                \n",
    "                \n",
    "    def fac(self,num,count = 2):\n",
    "        self.num = num\n",
    "        self.count = count\n",
    "        if self.count == 1 or self.num is None:\n",
    "            return num\n",
    "        return self.num*self.fac(self.num-1,count-1)"
   ]
  },
  {
   "cell_type": "code",
   "execution_count": null,
   "metadata": {},
   "outputs": [],
   "source": [
    "class Solution:\n",
    "    def numIdenticalPairs(self, nums: List[int]) -> int:\n",
    "        from itertools import combinations\n",
    "        c = list( i for i in combinations(nums,2) if i[0] == i[1])\n",
    "        return len(c)"
   ]
  },
  {
   "cell_type": "code",
   "execution_count": null,
   "metadata": {},
   "outputs": [],
   "source": [
    "class Solution:\n",
    "    def numIdenticalPairs(self, nums: List[int]) -> int:\n",
    "        dic = dict()\n",
    "        for i in nums:\n",
    "            if i in dic:\n",
    "                dic[i] +=1\n",
    "            else:\n",
    "                dic[i] = 1\n",
    "        sumv = 0\n",
    "        for item,val in dic.items():\n",
    "            if val > 1:\n",
    "                sumv += (val*(val-1))/2\n",
    "        return int(sumv)"
   ]
  }
 ],
 "metadata": {
  "kernelspec": {
   "display_name": "Python 3",
   "language": "python",
   "name": "python3"
  },
  "language_info": {
   "codemirror_mode": {
    "name": "ipython",
    "version": 3
   },
   "file_extension": ".py",
   "mimetype": "text/x-python",
   "name": "python",
   "nbconvert_exporter": "python",
   "pygments_lexer": "ipython3",
   "version": "3.8.5"
  }
 },
 "nbformat": 4,
 "nbformat_minor": 4
}
