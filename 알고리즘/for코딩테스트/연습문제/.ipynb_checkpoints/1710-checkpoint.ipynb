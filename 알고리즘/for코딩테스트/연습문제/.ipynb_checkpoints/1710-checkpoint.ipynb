{
 "cells": [
  {
   "cell_type": "code",
   "execution_count": null,
   "metadata": {},
   "outputs": [],
   "source": [
    "class Solution:\n",
    "    def maximumUnits(self, boxTypes: List[List[int]], truckSize: int) -> int:\n",
    "        boxTypes = sorted(boxTypes,key = lambda x:x[1] )\n",
    "        unit_sum = 0\n",
    "        while boxTypes:\n",
    "            box = boxTypes.pop()\n",
    "            print(box)\n",
    "            if (truckSize - box[0]) == 0: \n",
    "                unit_sum += box[0]*box[1]\n",
    "                break\n",
    "            elif (truckSize - box[0]) > 0:\n",
    "                truckSize -= box[0]\n",
    "                unit_sum += box[0]*box[1]\n",
    "            elif (truckSize - box[0]) < 0:\n",
    "                unit_sum += truckSize*box[1]\n",
    "                break\n",
    "            \n",
    "        return unit_sum"
   ]
  },
  {
   "cell_type": "markdown",
   "metadata": {},
   "source": [
    "Runtime: 152 ms\n",
    "Memory Usage: 15 MB"
   ]
  }
 ],
 "metadata": {
  "kernelspec": {
   "display_name": "Python 3",
   "language": "python",
   "name": "python3"
  },
  "language_info": {
   "codemirror_mode": {
    "name": "ipython",
    "version": 3
   },
   "file_extension": ".py",
   "mimetype": "text/x-python",
   "name": "python",
   "nbconvert_exporter": "python",
   "pygments_lexer": "ipython3",
   "version": "3.8.5"
  }
 },
 "nbformat": 4,
 "nbformat_minor": 4
}
