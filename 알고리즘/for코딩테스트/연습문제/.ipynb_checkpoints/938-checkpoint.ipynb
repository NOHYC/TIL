{
 "cells": [
  {
   "cell_type": "markdown",
   "metadata": {},
   "source": [
    "왼쪽 전체 탐색 후 오른쪽 탐색 // list에 탐색 안된 것들 저장"
   ]
  },
  {
   "cell_type": "code",
   "execution_count": null,
   "metadata": {},
   "outputs": [],
   "source": [
    "# Definition for a binary tree node.\n",
    "# class TreeNode:\n",
    "#     def __init__(self, val=0, left=None, right=None):\n",
    "#         self.val = val\n",
    "#         self.left = left\n",
    "#         self.right = right\n",
    "class Solution:\n",
    "    def rangeSumBST(self, root: TreeNode, low: int, high: int) -> int:\n",
    "        bt = root\n",
    "        lis =[]\n",
    "        sums = 0\n",
    "        while bt:\n",
    "            if bt.val >=low and bt.val <= high:\n",
    "                sums += bt.val\n",
    "            if bt.right:\n",
    "                lis.append(bt.right)\n",
    "            bt = bt.left\n",
    "            if bt is None:\n",
    "                if lis:\n",
    "                    bt = lis.pop()\n",
    "                else:\n",
    "                    return sums\n"
   ]
  },
  {
   "cell_type": "markdown",
   "metadata": {},
   "source": [
    "재귀문"
   ]
  },
  {
   "cell_type": "code",
   "execution_count": null,
   "metadata": {},
   "outputs": [],
   "source": [
    "class Solution:\n",
    "    def rangeSumBST(self, root: TreeNode, low: int, high: int) -> int:\n",
    "        self.left = low\n",
    "        self.right = high\n",
    "        self.sum = 0\n",
    "        self.move(root)\n",
    "        return self.sum\n",
    "        \n",
    "    def move(self,node):\n",
    "        if node.val >= self.left and node.val <= self.right:\n",
    "            self.sum += node.val\n",
    "        if node.left:\n",
    "            self.move(node.left)\n",
    "        if node.right:\n",
    "            self.move(node.right)\n",
    "        return"
   ]
  }
 ],
 "metadata": {
  "kernelspec": {
   "display_name": "Python 3",
   "language": "python",
   "name": "python3"
  },
  "language_info": {
   "codemirror_mode": {
    "name": "ipython",
    "version": 3
   },
   "file_extension": ".py",
   "mimetype": "text/x-python",
   "name": "python",
   "nbconvert_exporter": "python",
   "pygments_lexer": "ipython3",
   "version": "3.8.5"
  }
 },
 "nbformat": 4,
 "nbformat_minor": 4
}
