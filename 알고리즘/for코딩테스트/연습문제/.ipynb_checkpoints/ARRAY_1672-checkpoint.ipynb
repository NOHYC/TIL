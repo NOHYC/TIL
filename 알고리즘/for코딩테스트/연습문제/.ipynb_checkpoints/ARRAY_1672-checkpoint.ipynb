{
 "cells": [
  {
   "cell_type": "code",
   "execution_count": null,
   "metadata": {},
   "outputs": [],
   "source": [
    "class Solution:\n",
    "    def maximumWealth(self, accounts: List[List[int]]) -> int:\n",
    "        a = 0\n",
    "        while accounts:\n",
    "            p = sum(accounts.pop())\n",
    "            if a < p:\n",
    "                a = p\n",
    "        return a"
   ]
  },
  {
   "cell_type": "markdown",
   "metadata": {},
   "source": [
    "Runtime: 48 ms, faster than 92.99% of Python3 online submissions for Richest Customer Wealth.\n",
    "Memory Usage: 14.4 MB, less than 28.91% of Python3 online submissions for Richest Customer Wealth."
   ]
  }
 ],
 "metadata": {
  "kernelspec": {
   "display_name": "Python 3",
   "language": "python",
   "name": "python3"
  },
  "language_info": {
   "codemirror_mode": {
    "name": "ipython",
    "version": 3
   },
   "file_extension": ".py",
   "mimetype": "text/x-python",
   "name": "python",
   "nbconvert_exporter": "python",
   "pygments_lexer": "ipython3",
   "version": "3.8.5"
  }
 },
 "nbformat": 4,
 "nbformat_minor": 4
}
