{
 "cells": [
  {
   "cell_type": "code",
   "execution_count": null,
   "metadata": {},
   "outputs": [],
   "source": [
    "class Solution:\n",
    "    def peakIndexInMountainArray(self, arr: List[int]) -> int:\n",
    "        front = 0\n",
    "        back = len(arr) -1\n",
    "        val_max_front = 0\n",
    "        val_max_back = 0\n",
    "        while front < back:\n",
    "            mid = (back + front)//2\n",
    "            if arr[back] < arr[mid +1] and arr[mid + 1] > arr[mid+2]:\n",
    "                back = mid + 1\n",
    "                val_max_back = arr[mid+1]\n",
    "            elif arr[front] < arr[mid] and arr[mid] > arr[mid - 1]:\n",
    "                front = mid \n",
    "                val_max_front = arr[mid]\n",
    "            else:\n",
    "                if val_max_front > val_max_back :\n",
    "                    return front\n",
    "                else:\n",
    "                    return back\n"
   ]
  },
  {
   "cell_type": "markdown",
   "metadata": {},
   "source": [
    "Runtime: 68 ms\n",
    "Memory Usage: 15.6 MB\n",
    "Your runtime beats 94.86 % of python3 submissions"
   ]
  }
 ],
 "metadata": {
  "kernelspec": {
   "display_name": "Python 3",
   "language": "python",
   "name": "python3"
  },
  "language_info": {
   "codemirror_mode": {
    "name": "ipython",
    "version": 3
   },
   "file_extension": ".py",
   "mimetype": "text/x-python",
   "name": "python",
   "nbconvert_exporter": "python",
   "pygments_lexer": "ipython3",
   "version": "3.8.5"
  }
 },
 "nbformat": 4,
 "nbformat_minor": 4
}
