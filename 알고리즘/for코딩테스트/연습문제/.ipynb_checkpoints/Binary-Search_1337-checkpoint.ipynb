{
 "cells": [
  {
   "cell_type": "code",
   "execution_count": null,
   "metadata": {},
   "outputs": [],
   "source": [
    "class Solution:\n",
    "    def kWeakestRows(self, mat: List[List[int]], k: int) -> List[int]:\n",
    "        \n",
    "        num_list =[]\n",
    "        for num, lis in enumerate(mat):\n",
    "            front = 0\n",
    "            back = len(lis) - 1\n",
    "            check = True\n",
    "            sum_lis = sum(lis)\n",
    "            if sum_lis == len(lis):\n",
    "                num_list.append((num,sum_lis))\n",
    "                continue\n",
    "            elif sum_lis == 0:\n",
    "                num_list.append((num,0))\n",
    "                continue\n",
    "            while check:\n",
    "\n",
    "                mid = (front + back) //2\n",
    "                if lis[mid] == 1:\n",
    "                    front = mid\n",
    "                elif lis[mid] == 0:\n",
    "                    back  = mid\n",
    "                if back - front == 1:\n",
    "                    check = False\n",
    "                    num_list.append((num,back))\n",
    "        \n",
    "\n",
    "        return self.qsort(num_list)[:k]\n",
    "    \n",
    "    def qsort(self,lis):\n",
    "        if len(lis) <=1:\n",
    "            if lis:\n",
    "                return [lis[0][0]]\n",
    "            return lis\n",
    "        left,right = [],[]\n",
    "        pivot = lis[0][1]\n",
    "        for i in range(1,len(lis)):\n",
    "            if pivot > lis[i][1]:\n",
    "                left.append(lis[i])\n",
    "            else:\n",
    "                right.append(lis[i])\n",
    "        return self.qsort(left) + [lis[0][0]] + self.qsort(right)\n",
    "                "
   ]
  },
  {
   "cell_type": "markdown",
   "metadata": {},
   "source": [
    "Runtime: 104 ms, faster than 86.88% of Python3 online submissions for The K Weakest Rows in a Matrix.\n",
    "Memory Usage: 14.8 MB, less than 15.43% of Python3 online submissions for The K Weakest Rows in a Matrix."
   ]
  }
 ],
 "metadata": {
  "kernelspec": {
   "display_name": "Python 3",
   "language": "python",
   "name": "python3"
  },
  "language_info": {
   "codemirror_mode": {
    "name": "ipython",
    "version": 3
   },
   "file_extension": ".py",
   "mimetype": "text/x-python",
   "name": "python",
   "nbconvert_exporter": "python",
   "pygments_lexer": "ipython3",
   "version": "3.8.5"
  }
 },
 "nbformat": 4,
 "nbformat_minor": 4
}
