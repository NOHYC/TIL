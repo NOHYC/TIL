{
 "cells": [
  {
   "cell_type": "code",
   "execution_count": null,
   "metadata": {},
   "outputs": [],
   "source": [
    "class Solution:\n",
    "    def minCostClimbingStairs(self, cost: List[int]) -> int:\n",
    "        cost.append(0)\n",
    "        len_cost = len(cost)\n",
    "        for i in range(2,len_cost):\n",
    "            cost[i] = min(cost[i]+cost[i-1],cost[i]+cost[i-2])\n",
    "            if i == len_cost-1:\n",
    "                return cost[i]"
   ]
  },
  {
   "cell_type": "markdown",
   "metadata": {},
   "source": [
    "Runtime: 48 ms, faster than 97.63% of Python3 online submissions for Min Cost Climbing Stairs.\n",
    "\n",
    "Memory Usage: 14.4 MB, less than 47.27% of Python3 online submissions for Min Cost Climbing Stairs."
   ]
  }
 ],
 "metadata": {
  "kernelspec": {
   "display_name": "Python 3",
   "language": "python",
   "name": "python3"
  },
  "language_info": {
   "codemirror_mode": {
    "name": "ipython",
    "version": 3
   },
   "file_extension": ".py",
   "mimetype": "text/x-python",
   "name": "python",
   "nbconvert_exporter": "python",
   "pygments_lexer": "ipython3",
   "version": "3.8.5"
  }
 },
 "nbformat": 4,
 "nbformat_minor": 4
}
