{
 "cells": [
  {
   "cell_type": "code",
   "execution_count": null,
   "metadata": {},
   "outputs": [],
   "source": [
    "class Solution:\n",
    "    def balancedStringSplit(self, s: str) -> int:\n",
    "        R = 0\n",
    "        count = 0\n",
    "        for i in s:\n",
    "            if i == 'R':\n",
    "                R+=1\n",
    "            else:\n",
    "                R-=1\n",
    "            if R == 0 :\n",
    "                count +=1\n",
    "        return count\n",
    "                "
   ]
  },
  {
   "cell_type": "markdown",
   "metadata": {},
   "source": [
    "Runtime: 28 ms, faster than 85.70% of Python3 online submissions for Split a String in Balanced Strings.\n",
    "Memory Usage: 14.3 MB, less than 44.71% of Python3 online submissions for Split a String in Balanced"
   ]
  }
 ],
 "metadata": {
  "kernelspec": {
   "display_name": "Python 3",
   "language": "python",
   "name": "python3"
  },
  "language_info": {
   "codemirror_mode": {
    "name": "ipython",
    "version": 3
   },
   "file_extension": ".py",
   "mimetype": "text/x-python",
   "name": "python",
   "nbconvert_exporter": "python",
   "pygments_lexer": "ipython3",
   "version": "3.8.5"
  }
 },
 "nbformat": 4,
 "nbformat_minor": 4
}
