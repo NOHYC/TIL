{
 "cells": [
  {
   "cell_type": "code",
   "execution_count": null,
   "metadata": {},
   "outputs": [],
   "source": [
    "class Solution:\n",
    "    def totalMoney(self, n: int) -> int:\n",
    "        week = n//7\n",
    "        days = n%7\n",
    "        return int( (28*week) + (3.5*week*(week-1))) + int(days*(days+1)/2 + week*days)\n",
    "    \n",
    "    # 일주일 28\n",
    "    # 이주일 28 ,28 + 7\n",
    "    # 삼주일 28 , 28 + 7 , 28 + 14\n",
    "    # 일반화 28 + 7n\n",
    "    # 합 S = 28n + 7*n(n-1)/2\n",
    "    # 수요일 = 1 + 2 + 3 + (0*3)\n",
    "    # 둘째주 수요일 = 2 + 3 + 4 = 1 + 2 + 3 + (1*3)\n",
    "    # 셋째주 수요일 = 3 + 4 + 5 = 1 + 2 + 3 + (2*3)\n"
   ]
  },
  {
   "cell_type": "markdown",
   "metadata": {},
   "source": [
    "Runtime: 32 ms, faster than 82.67% of Python3 online submissions for Calculate Money in Leetcode Bank.\n",
    "\n",
    "Memory Usage: 14.4 MB, less than 10.34% of Python3 online submissions for Calculate Money in Leetcode Bank."
   ]
  }
 ],
 "metadata": {
  "kernelspec": {
   "display_name": "Python 3",
   "language": "python",
   "name": "python3"
  },
  "language_info": {
   "codemirror_mode": {
    "name": "ipython",
    "version": 3
   },
   "file_extension": ".py",
   "mimetype": "text/x-python",
   "name": "python",
   "nbconvert_exporter": "python",
   "pygments_lexer": "ipython3",
   "version": "3.8.5"
  }
 },
 "nbformat": 4,
 "nbformat_minor": 4
}
