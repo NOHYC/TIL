{
 "cells": [
  {
   "cell_type": "code",
   "execution_count": null,
   "metadata": {},
   "outputs": [],
   "source": [
    "class Solution:\n",
    "    def topKFrequent(self, words: List[str], k: int) -> List[str]:\n",
    "        from heapq import heappop,heapify\n",
    "        lis =[]\n",
    "        dic = {}\n",
    "        num = 0\n",
    "        for i in words:\n",
    "            try:\n",
    "                lis[dic[i]][0] -=1\n",
    "            except:\n",
    "                dic[i] = num\n",
    "                lis.append([-1,i])\n",
    "                num +=1\n",
    "        heapify(lis)\n",
    "        aws = []\n",
    "        while k:\n",
    "            aws.append(heappop(lis)[1])\n",
    "            k-=1\n",
    "        return aws\n",
    "        "
   ]
  },
  {
   "cell_type": "markdown",
   "metadata": {},
   "source": [
    "Runtime: 52 ms\n",
    "\n",
    "Memory Usage: 14.2 MB"
   ]
  }
 ],
 "metadata": {
  "kernelspec": {
   "display_name": "Python 3",
   "language": "python",
   "name": "python3"
  },
  "language_info": {
   "codemirror_mode": {
    "name": "ipython",
    "version": 3
   },
   "file_extension": ".py",
   "mimetype": "text/x-python",
   "name": "python",
   "nbconvert_exporter": "python",
   "pygments_lexer": "ipython3",
   "version": "3.8.5"
  }
 },
 "nbformat": 4,
 "nbformat_minor": 4
}
