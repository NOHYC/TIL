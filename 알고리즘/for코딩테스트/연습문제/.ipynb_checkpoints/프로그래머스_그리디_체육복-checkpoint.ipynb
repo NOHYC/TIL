{
 "cells": [
  {
   "cell_type": "code",
   "execution_count": null,
   "metadata": {},
   "outputs": [],
   "source": [
    "def solution(n, lost, reserve):\n",
    "    only_lost = [i for i in lost if i not in reserve]\n",
    "    only_reserve = [i for i in reserve if i not in lost]\n",
    "    for i in only_reserve:\n",
    "        front = i-1\n",
    "        back = i+1\n",
    "        if front in only_lost:\n",
    "            only_lost.remove(front)\n",
    "        elif back in only_lost:\n",
    "            only_lost.remove(back)\n",
    "    return n-len(only_lost)"
   ]
  },
  {
   "cell_type": "markdown",
   "metadata": {},
   "source": [
    "테스트 1 〉\t통과 (0.01ms, 10.2MB)\n",
    "\n",
    "테스트 2 〉\t통과 (0.01ms, 10.2MB)\n",
    "\n",
    "테스트 3 〉\t통과 (0.01ms, 10.2MB)\n",
    "\n",
    "테스트 4 〉\t통과 (0.01ms, 10.2MB)\n",
    "\n",
    "테스트 5 〉\t통과 (0.01ms, 10.2MB)\n",
    "\n",
    "테스트 6 〉\t통과 (0.01ms, 10.2MB)\n",
    "\n",
    "테스트 7 〉\t통과 (0.02ms, 10.2MB)\n",
    "\n",
    "테스트 8 〉\t통과 (0.01ms, 10.2MB)\n",
    "\n",
    "테스트 9 〉\t통과 (0.01ms, 10.4MB)\n",
    "\n",
    "테스트 10 〉\t통과 (0.01ms, 10.2MB)\n",
    "\n",
    "테스트 11 〉\t통과 (0.01ms, 10.2MB)\n",
    "\n",
    "테스트 12 〉\t통과 (0.01ms, 10.2MB)"
   ]
  },
  {
   "cell_type": "code",
   "execution_count": null,
   "metadata": {},
   "outputs": [],
   "source": []
  }
 ],
 "metadata": {
  "kernelspec": {
   "display_name": "Python 3",
   "language": "python",
   "name": "python3"
  },
  "language_info": {
   "codemirror_mode": {
    "name": "ipython",
    "version": 3
   },
   "file_extension": ".py",
   "mimetype": "text/x-python",
   "name": "python",
   "nbconvert_exporter": "python",
   "pygments_lexer": "ipython3",
   "version": "3.8.5"
  }
 },
 "nbformat": 4,
 "nbformat_minor": 4
}
