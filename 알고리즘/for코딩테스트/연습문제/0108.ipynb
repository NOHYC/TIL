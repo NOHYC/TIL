{
 "cells": [
  {
   "cell_type": "code",
   "execution_count": 8,
   "metadata": {},
   "outputs": [
    {
     "name": "stdout",
     "output_type": "stream",
     "text": [
      "True\n",
      "[9, 8, 7, 6, 5, 4, 3, 2, 1, 0]\n",
      "0\n",
      "[9, 8, 7, 6, 5, 4, 3, 2, 1]\n",
      "1\n"
     ]
    }
   ],
   "source": [
    "# 큐! 일반 리스트형 큐는 O(n)으로 메모리 요소가 모두 이동한다.\n",
    "# 이건 list 2개를 사용해서 만든 queue\n",
    "\n",
    "class Queue(object):\n",
    "    def __init__(self):\n",
    "        self.in_stack =[]\n",
    "        self.out_stack =[]\n",
    "    \n",
    "    def _transfer(self):\n",
    "        while self.in_stack:\n",
    "            self.out_stack.append(self.in_stack.pop())\n",
    "    \n",
    "    def enqueue(self,item):\n",
    "        return self.in_stack.append(item)\n",
    "    \n",
    "    def dequeue(self):\n",
    "        if not self.out_stack: \n",
    "            self._transfer()\n",
    "        if self.out_stack:\n",
    "            return self.out_stack.pop()\n",
    "        else:\n",
    "            print(\"Queue is empty\")\n",
    "    \n",
    "    def size(self):\n",
    "        return len(self.in_stack) + len(self.out_stack)\n",
    "    \n",
    "    def peek(self):\n",
    "        if not self.out_stack:\n",
    "            self._transfer()\n",
    "        if self.out_stack:\n",
    "            return self.out_stack.pop()\n",
    "        else:\n",
    "            print(\"Queue is empty\")\n",
    "        \n",
    "    def __repr__(self):\n",
    "        if not self.out_stack:\n",
    "            self._transfer()\n",
    "        if self.out_stack:\n",
    "            return repr(self.out_stack)\n",
    "        else:\n",
    "            print(\"Queue is empty\")\n",
    "            \n",
    "    def isempty(self):\n",
    "        return not (bool(self.in_stack)or bool(self.out_stack))\n",
    "    \n",
    "if __name__ == \"__main__\":\n",
    "    q = Queue()\n",
    "    print(q.isempty())\n",
    "    for i in range(10):\n",
    "        q.enqueue(i)\n",
    "    print(q)\n",
    "    print(q.dequeue())\n",
    "    print(q)\n",
    "    print(q.peek())\n",
    "    "
   ]
  },
  {
   "cell_type": "code",
   "execution_count": 12,
   "metadata": {},
   "outputs": [
    {
     "name": "stdout",
     "output_type": "stream",
     "text": [
      "[0, 1, 2, 3, 4, 5, 6, 7, 8, 9]\n",
      "[1, 2, 3, 4, 5, 6, 7, 8, 9]\n"
     ]
    }
   ],
   "source": [
    "# 데크 deque\n",
    "\n",
    "class deque(object):\n",
    "    def __init__(self):\n",
    "        self.items = []\n",
    "    def enqueue(self,item):\n",
    "        self.items.insert(0,item)\n",
    "    def dequeue(self):\n",
    "        value = self.item.pop()\n",
    "        if value is not None:\n",
    "            return value\n",
    "        else:\n",
    "            print(\"Queue is empty\")\n",
    "    def __repr__(self):\n",
    "        return repr(self.items)\n",
    "    \n",
    "    def enqueue_back(self,item):\n",
    "        self.items.append(item)\n",
    "    def dequeue_front(self):\n",
    "        value = self.items.pop(0) # 비효율적\n",
    "        if value is not None:\n",
    "            return value\n",
    "        else:\n",
    "            print(\"deque is empty\")\n",
    "if __name__ == \"__main__\":\n",
    "    d = deque()\n",
    "    for i in range(10):\n",
    "        d.enqueue_back(i)\n",
    "    print(d)\n",
    "    d.dequeue_front()\n",
    "    print(d)\n",
    "    "
   ]
  },
  {
   "cell_type": "code",
   "execution_count": 18,
   "metadata": {},
   "outputs": [
    {
     "name": "stdout",
     "output_type": "stream",
     "text": [
      "5 6 7 8 9 \n"
     ]
    }
   ],
   "source": [
    "# 링크드 큐\n",
    "class Node(object): # 클래스\n",
    "    def __init__(self,value = None,pointer = None):\n",
    "        self.value = value # 들어온 값 저장\n",
    "        self.pointer = None\n",
    "\n",
    "class linked_q(object):\n",
    "    def __init__(self):\n",
    "        self.head = None \n",
    "        self.tail = None\n",
    "        self.count = 0\n",
    "    \n",
    "    def isempty(self):\n",
    "        return not bool(self.head)\n",
    "    \n",
    "    def dequeue(self):\n",
    "        if self.head:\n",
    "            value = self.head.value\n",
    "            self.head = self.head.pointer\n",
    "            self.count -=1\n",
    "            return value\n",
    "        else:\n",
    "            print(\"Queue is empty\")\n",
    "    \n",
    "    def enqueue(self,value):\n",
    "        node = Node(value) # 객체 생성 \n",
    "        if not self.head: # head가 없으면 즉, 암것도 없으면\n",
    "            self.head = node \n",
    "            self.tail = node\n",
    "        else: # head가 있으면 \n",
    "            if self.tail:\n",
    "                self.tail.pointer = node # tail에는 node 객체가 있다 node객체 안에 pointer 메소드\n",
    "            self.tail = node\n",
    "        self.count +=1\n",
    "        \n",
    "    def print(self):\n",
    "        node = self.head\n",
    "        while node:\n",
    "            print(node.value,end = ' ')\n",
    "            node = node.pointer\n",
    "        print()\n",
    "if __name__ == '__main__':\n",
    "    q = linked_q()\n",
    "    for i in range(10): # 0,1,2,3,4,5,6,7,8,9 <= push\n",
    "        q.enqueue(i)\n",
    "    for j in range(5): # 0,1,2,3,4 => pop\n",
    "        q.dequeue()\n",
    "    q.print()"
   ]
  },
  {
   "cell_type": "code",
   "execution_count": 23,
   "metadata": {},
   "outputs": [
    {
     "name": "stdout",
     "output_type": "stream",
     "text": [
      "deque([0, 1, 2, 3, 4, 5, 6, 7, 8, 9])\n",
      "deque([0, 1, 2, 3, 4, 5, 6, 7, 8, 9, 10])\n",
      "deque([1, 2, 3, 4, 5, 6, 7, 8, 9, 10])\n",
      "deque([0, 1, 2, 3, 4, 5, 6, 7, 8, 9, 10])\n",
      "deque([0, 1, 2, 3, 4, 5, 6, 7, 8, 9])\n"
     ]
    }
   ],
   "source": [
    "# 데크\n",
    "from collections import deque\n",
    "q = deque(list(range(10)))\n",
    "print(q)\n",
    "q.append(10)\n",
    "print(q)\n",
    "q.popleft()\n",
    "print(q)\n",
    "q.appendleft(0)\n",
    "print(q)\n",
    "q.pop()\n",
    "print(q)"
   ]
  },
  {
   "cell_type": "code",
   "execution_count": null,
   "metadata": {},
   "outputs": [],
   "source": []
  }
 ],
 "metadata": {
  "kernelspec": {
   "display_name": "Python 3",
   "language": "python",
   "name": "python3"
  },
  "language_info": {
   "codemirror_mode": {
    "name": "ipython",
    "version": 3
   },
   "file_extension": ".py",
   "mimetype": "text/x-python",
   "name": "python",
   "nbconvert_exporter": "python",
   "pygments_lexer": "ipython3",
   "version": "3.8.5"
  }
 },
 "nbformat": 4,
 "nbformat_minor": 4
}
