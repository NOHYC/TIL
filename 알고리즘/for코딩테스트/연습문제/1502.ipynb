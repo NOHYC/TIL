{
 "cells": [
  {
   "cell_type": "code",
   "execution_count": null,
   "metadata": {},
   "outputs": [],
   "source": [
    "class Solution:\n",
    "    def canMakeArithmeticProgression(self, arr: List[int]) -> bool:\n",
    "        arr = sorted(arr)\n",
    "        prev = arr[0]\n",
    "        term = arr[0] - arr[1]\n",
    "        for i in range(1,len(arr)):\n",
    "            if prev - arr[i] != term:\n",
    "                return False\n",
    "            term = prev - arr[i]\n",
    "            prev = arr[i]\n",
    "        return True"
   ]
  },
  {
   "cell_type": "markdown",
   "metadata": {},
   "source": [
    "Runtime: 48 ms, faster than 20.93% of Python3 online submissions for Can Make Arithmetic Progression From Sequence.\n",
    "Memory Usage: 14.4 MB, less than 66.85% of Python3 online submissions for Can Make Arithmetic Progression From Sequence.\n",
    "Next challenges:"
   ]
  },
  {
   "cell_type": "code",
   "execution_count": null,
   "metadata": {},
   "outputs": [],
   "source": []
  }
 ],
 "metadata": {
  "kernelspec": {
   "display_name": "Python 3",
   "language": "python",
   "name": "python3"
  },
  "language_info": {
   "codemirror_mode": {
    "name": "ipython",
    "version": 3
   },
   "file_extension": ".py",
   "mimetype": "text/x-python",
   "name": "python",
   "nbconvert_exporter": "python",
   "pygments_lexer": "ipython3",
   "version": "3.8.5"
  }
 },
 "nbformat": 4,
 "nbformat_minor": 4
}
