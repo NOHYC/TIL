{
 "cells": [
  {
   "cell_type": "code",
   "execution_count": null,
   "metadata": {},
   "outputs": [],
   "source": [
    "class Solution:\n",
    "    def numWaterBottles(self, numBottles: int, numExchange: int) -> int:\n",
    "        res = numBottles\n",
    "        while numExchange <= numBottles:\n",
    "            res +=  numBottles//numExchange\n",
    "            numBottles = numBottles//numExchange + numBottles%numExchange\n",
    "        return res"
   ]
  },
  {
   "cell_type": "markdown",
   "metadata": {},
   "source": [
    "Runtime: 20 ms, faster than 99.17% of Python3 online submissions for Water Bottles.\n",
    "Memory Usage: 14.4 MB, less than 10.73% of Python3 online submissions for Water Bottles."
   ]
  }
 ],
 "metadata": {
  "kernelspec": {
   "display_name": "Python 3",
   "language": "python",
   "name": "python3"
  },
  "language_info": {
   "codemirror_mode": {
    "name": "ipython",
    "version": 3
   },
   "file_extension": ".py",
   "mimetype": "text/x-python",
   "name": "python",
   "nbconvert_exporter": "python",
   "pygments_lexer": "ipython3",
   "version": "3.8.5"
  }
 },
 "nbformat": 4,
 "nbformat_minor": 4
}
