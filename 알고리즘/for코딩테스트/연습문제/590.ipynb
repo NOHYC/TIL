{
 "cells": [
  {
   "cell_type": "code",
   "execution_count": null,
   "metadata": {},
   "outputs": [],
   "source": [
    "\"\"\"\n",
    "# Definition for a Node.\n",
    "class Node:\n",
    "    def __init__(self, val=None, children=None):\n",
    "        self.val = val\n",
    "        self.children = children\n",
    "\"\"\"\n",
    "\n",
    "class Solution:\n",
    "    def postorder(self, root: 'Node') -> List[int]:\n",
    "        return self.reg(root)\n",
    "        \n",
    "        \n",
    "    def reg(self,node):\n",
    "        post = []\n",
    "        if node:\n",
    "            if node.children:\n",
    "                chlen = len(node.children)\n",
    "                for i in range(chlen):\n",
    "                    post.extend(self.reg(node.children[i]))\n",
    "                post.append(node.val)\n",
    "                return post\n",
    "            else:\n",
    "                return [node.val]\n",
    "        else:\n",
    "            return []"
   ]
  },
  {
   "cell_type": "markdown",
   "metadata": {},
   "source": [
    "Runtime: 44 ms, faster than 93.63% of Python3 online submissions for N-ary Tree Postorder Traversal.\n",
    "Memory Usage: 16.1 MB, less than 28.44% of Python3 online submissions for N-ary Tree Postorder Traversal."
   ]
  }
 ],
 "metadata": {
  "kernelspec": {
   "display_name": "Python 3",
   "language": "python",
   "name": "python3"
  },
  "language_info": {
   "codemirror_mode": {
    "name": "ipython",
    "version": 3
   },
   "file_extension": ".py",
   "mimetype": "text/x-python",
   "name": "python",
   "nbconvert_exporter": "python",
   "pygments_lexer": "ipython3",
   "version": "3.8.5"
  }
 },
 "nbformat": 4,
 "nbformat_minor": 4
}
