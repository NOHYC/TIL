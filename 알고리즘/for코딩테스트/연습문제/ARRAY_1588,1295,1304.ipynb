{
 "cells": [
  {
   "cell_type": "code",
   "execution_count": null,
   "metadata": {},
   "outputs": [],
   "source": []
  },
  {
   "cell_type": "markdown",
   "metadata": {},
   "source": [
    "# 1588\n",
    "class Solution:\n",
    "    def sumOddLengthSubarrays(self, arr: List[int]) -> int:\n",
    "        \n",
    "        lenarr = len(arr)\n",
    "        count = 0\n",
    "        sli = 0\n",
    "        arrsum = 0\n",
    "        while sli <= lenarr:\n",
    "            if sli == 0:\n",
    "                arrsum = sum(arr)\n",
    "            else:\n",
    "                for i in range(lenarr):\n",
    "                    if sli+i <= lenarr:\n",
    "                        arrsum += sum(arr[i:sli+i])       \n",
    "            count+=1\n",
    "            sli = 2*count+1   \n",
    "        return arrsum\n",
    "            "
   ]
  },
  {
   "cell_type": "markdown",
   "metadata": {},
   "source": [
    "Runtime: 64 ms\n",
    "Memory Usage: 14.1 MB"
   ]
  },
  {
   "cell_type": "markdown",
   "metadata": {},
   "source": [
    "# 1304\n",
    "```\n",
    "\n",
    "class Solution:\n",
    "    def sumZero(self, n: int) -> List[int]:\n",
    "        if n%2 ==0:\n",
    "            return list(range(1,n//2+1)) + list(range(-1,(-n)//2-1,-1)) \n",
    "        else:\n",
    "            return list(range(1,n//2+1)) +[0]+ list(range(-1,(-n)//2,-1))\n",
    "    \n",
    "       "
   ]
  },
  {
   "cell_type": "markdown",
   "metadata": {},
   "source": [
    "Runtime: 32 ms\n",
    "Memory Usage: 14.3 MB"
   ]
  },
  {
   "cell_type": "markdown",
   "metadata": {},
   "source": [
    "# 1295\n",
    "```\n",
    "class Solution:\n",
    "    def findNumbers(self, nums: List[int]) -> int:\n",
    "        return len([i for i in nums if len(str(i))%2 == 0])\n"
   ]
  },
  {
   "cell_type": "markdown",
   "metadata": {},
   "source": [
    "Runtime: 52 ms\n",
    "Memory Usage: 14 MB"
   ]
  },
  {
   "cell_type": "markdown",
   "metadata": {},
   "source": [
    "프로그래머스"
   ]
  },
  {
   "cell_type": "markdown",
   "metadata": {},
   "source": [
    "- 문제 설명\n",
    "일반적인 프린터는 인쇄 요청이 들어온 순서대로 인쇄합니다. 그렇기 때문에 중요한 문서가 나중에 인쇄될 수 있습니다. 이런 문제를 보완하기 위해 중요도가 높은 문서를 먼저 인쇄하는 프린터를 개발했습니다. 이 새롭게 개발한 프린터는 아래와 같은 방식으로 인쇄 작업을 수행합니다.\n",
    "\n",
    "1. 인쇄 대기목록의 가장 앞에 있는 문서(J)를 대기목록에서 꺼냅니다.\n",
    "2. 나머지 인쇄 대기목록에서 J보다 중요도가 높은 문서가 한 개라도 존재하면 J를 대기목록의 가장 마지막에 넣습니다.\n",
    "3. 그렇지 않으면 J를 인쇄합니다.\n",
    ">예를 들어, 4개의 문서(A, B, C, D)가 순서대로 인쇄 대기목록에 있고 중요도가 2 1 3 2 라면 C D A B 순으로 인쇄하게 됩니다.\n",
    ">\n",
    ">내가 인쇄를 요청한 문서가 몇 번째로 인쇄되는지 알고 싶습니다. 위의 예에서 C는 1번째로, A는 3번째로 인쇄됩니다.\n",
    ">\n",
    ">현재 대기목록에 있는 문서의 중요도가 순서대로 담긴 배열 priorities와 내가 인쇄를 요청한 문서가 현재 대기목록의 어떤 위치에 있는지를 알려주는 location이 매개변수로 주어질 때, 내가 인쇄를 요청한 문서가 몇 번째로 인쇄되는지 return 하도록 solution 함수를 작성해주세요.\n",
    "\n",
    "- 제한사항\n",
    ">현재 대기목록에는 1개 이상 100개 이하의 문서가 있습니다.\n",
    ">인쇄 작업의 중요도는 1~9로 표현하며 숫자가 클수록 중요하다는 뜻입니다.\n",
    ">location은 0 이상 (현재 대기목록에 있는 작업 수 - 1) 이하의 값을 가지며 대기목록의 가장 앞에 있으면 0, 두 번째에 있으면 1로 표현합니다.\n",
    "-입출력 예\n",
    "\n",
    "priorities\tlocation\treturn\n",
    "[2, 1, 3, 2]\t2\t1\n",
    "[1, 1, 9, 1, 1, 1]\t0\t5\n",
    "6개의 문서(A, B, C, D, E, F)가 인쇄 대기목록에 있고 중요도가 1 1 9 1 1 1 이므로 C D E F A B 순으로 인쇄합니다."
   ]
  },
  {
   "cell_type": "code",
   "execution_count": 34,
   "metadata": {},
   "outputs": [
    {
     "data": {
      "text/plain": [
       "4"
      ]
     },
     "execution_count": 34,
     "metadata": {},
     "output_type": "execute_result"
    }
   ],
   "source": [
    "def solution(priorities, location):\n",
    "    want = priorities[location]\n",
    "    re_num = 0\n",
    "    while True:\n",
    "        check = priorities.pop(0)\n",
    "        count = 0\n",
    "        same_count = 0\n",
    "        len_check = len(priorities)\n",
    "        \n",
    "        for i in priorities:\n",
    "            if check < i: \n",
    "                count+=1\n",
    "            elif check == i:\n",
    "                same_count +=1\n",
    "        if count == 0: # check 값과 나머지를 비교 했을 때 큰 값이 없을 때 ( check가 다른 값보다 크거나 같은 경우 )\n",
    "            # 같은 경우\n",
    "            re_num +=1# 출력된다.\n",
    "            if same_count > 0:\n",
    "                if (location == 0): # 원하는 값과 check 값 비교 와 원하는 값의 인덱스가 맞는지\n",
    "                    answer = re_num\n",
    "                    break # 출력  \n",
    "            # 큰 경우\n",
    "            else:\n",
    "                if (location == 0): \n",
    "                    # 내용이 같고 위치가 맨 앞일 경우\n",
    "                    answer = re_num\n",
    "                    break\n",
    "        else: # check 값과 나머지를 비교했을 때 큰 값이 있을 경우\n",
    "            priorities.insert(len_check,check) # 뒤로 보낸다.\n",
    "        \n",
    "        # location 인덱스로 구분\n",
    "        # 한바퀴 돌 때마다 location 앞으로 다 돌면 맨 뒤로\n",
    "        # location이 0번일 때 pop됨\n",
    "        if location > 0 :\n",
    "            location -=1\n",
    "        else:\n",
    "            location = len(priorities)-1\n",
    "    return answer\n",
    "priorities = [2, 2,2 ,3,3,5,5, 2,2]\n",
    "location = 4\n",
    "solution(priorities, location)\n",
    "# 4"
   ]
  },
  {
   "cell_type": "markdown",
   "metadata": {},
   "source": [
    "테스트 1 〉\t통과 (0.36ms, 10.3MB)  \n",
    "테스트 2 〉\t통과 (2.11ms, 10.2MB)  \n",
    "테스트 3 〉\t통과 (0.15ms, 10.3MB)  \n",
    "테스트 4 〉\t통과 (0.06ms, 10.2MB)  \n",
    "테스트 5 〉\t통과 (0.01ms, 10.2MB)  \n",
    "테스트 6 〉\t통과 (0.21ms, 10.2MB)  \n",
    "테스트 7 〉\t통과 (0.28ms, 10.3MB)  \n",
    "테스트 8 〉\t통과 (1.37ms, 10.2MB)  \n",
    "테스트 9 〉\t통과 (0.03ms, 10.2MB)  \n",
    "테스트 10 〉\t통과 (0.25ms, 10.2MB)  \n",
    "테스트 11 〉\t통과 (1.36ms, 10.3MB)  \n",
    "테스트 12 〉\t통과 (0.06ms, 10.2MB)  \n",
    "테스트 13 〉\t통과 (1.11ms, 10.2MB)  \n",
    "테스트 14 〉\t통과 (0.00ms, 10.3MB)  \n",
    "테스트 15 〉\t통과 (0.02ms, 10.2MB)  \n",
    "테스트 16 〉\t통과 (0.07ms, 10.1MB)  \n",
    "테스트 17 〉\t통과 (1.66ms, 10.2MB)  \n",
    "테스트 18 〉\t통과 (0.02ms, 10.1MB)  \n",
    "테스트 19 〉\t통과 (1.45ms, 10.2MB)  \n",
    "테스트 20 〉\t통과 (0.19ms, 10.2MB)  \n"
   ]
  },
  {
   "cell_type": "code",
   "execution_count": 75,
   "metadata": {},
   "outputs": [
    {
     "data": {
      "text/plain": [
       "1"
      ]
     },
     "execution_count": 75,
     "metadata": {},
     "output_type": "execute_result"
    }
   ],
   "source": [
    "def solution(priorities, location):\n",
    "    want = priorities[location]\n",
    "    re_num = 0\n",
    "    while True:\n",
    "        check = priorities.pop(0)\n",
    "        len_check = len(priorities)\n",
    "        if len_check == 1: # 2개 남았을 때\n",
    "            re_num+=1\n",
    "            if (location == 0):\n",
    "                answer = re_num\n",
    "                break\n",
    "            else:\n",
    "                answer = re_num +1\n",
    "                break\n",
    "        if max(priorities) <= check: # check 값과 나머지를 비교 했을 때 큰 값이 없을 때 ( check가 다른 값보다 크거나 같은 경우 )\n",
    "            # 같은 경우\n",
    "            re_num +=1# 출력된다.\n",
    "            if (location == 0): # 원하는 값과 check 값 비교 와 원하는 값의 인덱스가 맞는지\n",
    "                answer = re_num\n",
    "                break # 출력\n",
    "        else: # check 값과 나머지를 비교했을 때 큰 값이 있을 경우\n",
    "            priorities.insert(len_check,check) # 뒤로 보낸다.\n",
    "        # location 인덱스로 구분\n",
    "        # 한바퀴 돌 때마다 location 앞으로 다 돌면 맨 뒤로\n",
    "        # location이 0번일 때 pop됨\n",
    "        if location > 0 :\n",
    "            location -=1\n",
    "        else:\n",
    "            location = len(priorities)-1\n",
    "    return answer\n",
    "priorities = [22,2,2,2,222]\n",
    "location = 4\n",
    "solution(priorities, location)\n",
    "# 4"
   ]
  },
  {
   "cell_type": "markdown",
   "metadata": {},
   "source": [
    "테스트 1 〉\t통과 (0.11ms, 10.2MB)   \n",
    "테스트 2 〉\t통과 (1.06ms, 10.1MB)   \n",
    "테스트 3 〉\t통과 (0.06ms, 10.2MB)   \n",
    "테스트 4 〉\t통과 (0.03ms, 10.3MB)   \n",
    "테스트 5 〉\t통과 (0.01ms, 10.2MB)   \n",
    "테스트 6 〉\t통과 (0.12ms, 10.2MB)   \n",
    "테스트 7 〉\t통과 (0.11ms, 10.2MB)   \n",
    "테스트 8 〉\t통과 (0.68ms, 10.1MB)   \n",
    "테스트 9 〉\t통과 (0.02ms, 10.2MB)   \n",
    "테스트 10 〉\t통과 (0.13ms, 10.2MB)   \n",
    "테스트 11 〉\t통과 (0.53ms, 10.2MB)   \n",
    "테스트 12 〉\t통과 (0.03ms, 10.2MB)   \n",
    "테스트 13 〉\t통과 (0.53ms, 10.2MB)   \n",
    "테스트 14 〉\t통과 (0.00ms, 10.3MB)   \n",
    "테스트 15 〉\t통과 (0.01ms, 10.2MB)   \n",
    "테스트 16 〉\t통과 (0.05ms, 10.1MB)   \n",
    "테스트 17 〉\t통과 (1.19ms, 10.2MB)   \n",
    "테스트 18 〉\t통과 (0.02ms, 10.2MB)   \n",
    "테스트 19 〉\t통과 (0.60ms, 10.2MB)   \n",
    "테스트 20 〉\t통과 (0.08ms, 10.2MB)   "
   ]
  },
  {
   "cell_type": "markdown",
   "metadata": {},
   "source": [
    "첫번째 코드는 for문을 이용하여 priorities의 크기를 비교했고 두번째 코드는 max함수를 사용하여 크기를 비교했다.   \n",
    "메코리 사이즈는 10.2 정도로 거의 차이가 없지만 실행시간에서는 차이가 확실하게 들어났다.   \n",
    "실행시간이 최대 3배차이로 max를 쓴 경우가 짧은 것을 확인할 수 있다"
   ]
  },
  {
   "cell_type": "code",
   "execution_count": 76,
   "metadata": {},
   "outputs": [],
   "source": [
    "# 큐"
   ]
  },
  {
   "cell_type": "code",
   "execution_count": 77,
   "metadata": {},
   "outputs": [],
   "source": [
    "class RecentCounter:\n",
    "\n",
    "    def __init__(self):\n",
    "        self.lis = []\n",
    "        self.tlis =[]\n",
    "    def ping(self, t: int) -> int:\n",
    "            count =0\n",
    "            self.tlis.append(t)\n",
    "            for i in self.tlis[::-1]:\n",
    "                if (i >= t-3000) and (i <= t):\n",
    "                    count+=1\n",
    "                if i < t-3000:\n",
    "                    break\n",
    "            return count\n",
    "        \n",
    "    def RecentCounter(self):\n",
    "        self.lis =[]\n",
    "        self.tlis =[]\n",
    "        return self.lis\n",
    "# Your RecentCounter object will be instantiated and called as such:\n",
    "# obj = RecentCounter()\n",
    "# param_1 = obj.ping(t)"
   ]
  },
  {
   "cell_type": "markdown",
   "metadata": {},
   "source": [
    "Runtime: 7792 ms, faster than 5.05% of Python3 online submissions for Number of Recent Calls.\n",
    "Memory Usage: 19.4 MB, less than 9.77% of Python3 online submissions for Number of Recent Calls\n",
    "# 느리다 7.792초 비효율적"
   ]
  },
  {
   "cell_type": "code",
   "execution_count": null,
   "metadata": {},
   "outputs": [],
   "source": []
  }
 ],
 "metadata": {
  "kernelspec": {
   "display_name": "Python 3",
   "language": "python",
   "name": "python3"
  },
  "language_info": {
   "codemirror_mode": {
    "name": "ipython",
    "version": 3
   },
   "file_extension": ".py",
   "mimetype": "text/x-python",
   "name": "python",
   "nbconvert_exporter": "python",
   "pygments_lexer": "ipython3",
   "version": "3.8.5"
  }
 },
 "nbformat": 4,
 "nbformat_minor": 4
}
