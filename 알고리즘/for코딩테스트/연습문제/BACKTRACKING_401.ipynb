{
 "cells": [
  {
   "cell_type": "code",
   "execution_count": null,
   "metadata": {},
   "outputs": [],
   "source": [
    "class Solution:\n",
    "    def readBinaryWatch(self, num: int) -> List[str]:\n",
    "        # 시간은 2^0 ~ 2^3 4개\n",
    "        # 분은 2^0 ~ 2^5 6개\n",
    "        dots = [0 for _ in range(10)] # 앞 4개 시간 뒤 6개 분\n",
    "        return_val = [1,2,4,8,16,32,1,2,4,8]\n",
    "        \n",
    "        def bak(nex,dots,n,lis,return_val):\n",
    "            if n == 0:\n",
    "                hr,mi = 0 ,0\n",
    "                for i in lis[:]:\n",
    "                    if i >5:\n",
    "                        hr += return_val[i]\n",
    "                    else:\n",
    "                        mi += return_val[i]\n",
    "                if hr <12 and mi <60:\n",
    "                    if len(str(mi)) == 1:\n",
    "                        return [str(hr)+\":0\"+str(mi)]\n",
    "                    else:\n",
    "                        return [str(hr)+\":\"+str(mi)]\n",
    "            res = []\n",
    "            for i in range(nex,10):\n",
    "                if dots[i] == 0:\n",
    "                    dots[i] = 1\n",
    "                    lis.append(i)\n",
    "                    res.extend(bak(i+1,dots,n-1,lis,return_val))\n",
    "                    lis.pop()\n",
    "                    dots[i] = 0\n",
    "            return res\n",
    "        return bak(0,dots,num,[],return_val)\n",
    "        "
   ]
  },
  {
   "cell_type": "markdown",
   "metadata": {},
   "source": [
    "Runtime: 32 ms, faster than 74.93% of Python3 online submissions for Binary Watch.\n",
    "\n",
    "Memory Usage: 14.2 MB, less than 88.68% of Python3 online submissions for Binary Watch."
   ]
  }
 ],
 "metadata": {
  "kernelspec": {
   "display_name": "Python 3",
   "language": "python",
   "name": "python3"
  },
  "language_info": {
   "codemirror_mode": {
    "name": "ipython",
    "version": 3
   },
   "file_extension": ".py",
   "mimetype": "text/x-python",
   "name": "python",
   "nbconvert_exporter": "python",
   "pygments_lexer": "ipython3",
   "version": "3.8.5"
  }
 },
 "nbformat": 4,
 "nbformat_minor": 4
}
