{
 "cells": [
  {
   "cell_type": "code",
   "execution_count": null,
   "metadata": {},
   "outputs": [],
   "source": [
    "# Definition for a binary tree node.\n",
    "# class TreeNode:\n",
    "#     def __init__(self, val=0, left=None, right=None):\n",
    "#         self.val = val\n",
    "#         self.left = left\n",
    "#         self.right = right\n",
    "class Solution:\n",
    "    def levelOrderBottom(self, root: TreeNode) -> List[List[int]]:\n",
    "        if not root:\n",
    "            return []\n",
    "        from collections import deque\n",
    "        q = deque([root])\n",
    "        res = deque([[root.val]])\n",
    "        state = 1\n",
    "        sub_state = 0\n",
    "        while q:\n",
    "            node = q.popleft()\n",
    "            state -= 1\n",
    "            if sub_state ==0:\n",
    "                small_list = []\n",
    "            if node.left:\n",
    "                q.append(node.left)\n",
    "                small_list.append(node.left.val)\n",
    "                sub_state +=1\n",
    "            if node.right:\n",
    "                q.append(node.right)\n",
    "                small_list.append(node.right.val)\n",
    "                sub_state+=1\n",
    "            if state == 0:\n",
    "                state = sub_state\n",
    "                sub_state = 0\n",
    "                if small_list:\n",
    "                    res.appendleft(small_list)\n",
    "        return res"
   ]
  },
  {
   "cell_type": "markdown",
   "metadata": {},
   "source": [
    "Runtime: 32 ms, faster than 84.76% of Python3 online submissions for Binary Tree Level Order Traversal II.\n",
    "\n",
    "Memory Usage: 14.5 MB, less than 90.19% of Python3 online submissions for Binary Tree Level Order"
   ]
  }
 ],
 "metadata": {
  "kernelspec": {
   "display_name": "Python 3",
   "language": "python",
   "name": "python3"
  },
  "language_info": {
   "codemirror_mode": {
    "name": "ipython",
    "version": 3
   },
   "file_extension": ".py",
   "mimetype": "text/x-python",
   "name": "python",
   "nbconvert_exporter": "python",
   "pygments_lexer": "ipython3",
   "version": "3.8.5"
  }
 },
 "nbformat": 4,
 "nbformat_minor": 4
}
