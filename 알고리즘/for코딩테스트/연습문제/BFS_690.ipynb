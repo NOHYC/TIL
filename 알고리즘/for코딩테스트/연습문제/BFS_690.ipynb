{
 "cells": [
  {
   "cell_type": "code",
   "execution_count": null,
   "metadata": {},
   "outputs": [],
   "source": [
    "\"\"\"\n",
    "# Definition for Employee.\n",
    "class Employee:\n",
    "    def __init__(self, id: int, importance: int, subordinates: List[int]):\n",
    "        self.id = id\n",
    "        self.importance = importance\n",
    "        self.subordinates = subordinates\n",
    "\"\"\"\n",
    "\n",
    "class Solution:\n",
    "    def getImportance(self, employees: List['Employee'], id: int) -> int:\n",
    "        if len(employees) == 1:\n",
    "            return employees[0].importance\n",
    "        dic ={}\n",
    "        for num,i in enumerate(employees):\n",
    "            dic[i.id] = num\n",
    "        from collections import deque\n",
    "        q = deque([id])\n",
    "        res = 0\n",
    "        while q:\n",
    "            id_num = q.popleft()\n",
    "            emp = employees[dic[id_num]]\n",
    "            res += emp.importance\n",
    "            if emp.subordinates:\n",
    "                q.extend(emp.subordinates)\n",
    "        return res"
   ]
  },
  {
   "cell_type": "markdown",
   "metadata": {},
   "source": [
    "Runtime: 156 ms, faster than 72.74% of Python3 online submissions for Employee Importance.\n",
    "\n",
    "Memory Usage: 15.6 MB, less than 39.14% of Python3 online submissions for Employee Importance."
   ]
  }
 ],
 "metadata": {
  "kernelspec": {
   "display_name": "Python 3",
   "language": "python",
   "name": "python3"
  },
  "language_info": {
   "codemirror_mode": {
    "name": "ipython",
    "version": 3
   },
   "file_extension": ".py",
   "mimetype": "text/x-python",
   "name": "python",
   "nbconvert_exporter": "python",
   "pygments_lexer": "ipython3",
   "version": "3.8.5"
  }
 },
 "nbformat": 4,
 "nbformat_minor": 4
}
