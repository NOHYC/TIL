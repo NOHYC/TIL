{
 "cells": [
  {
   "cell_type": "code",
   "execution_count": null,
   "metadata": {},
   "outputs": [],
   "source": [
    "class Solution:\n",
    "    def twoSum(self, numbers: List[int], target: int) -> List[int]:\n",
    "        from collections import deque\n",
    "        front = 0\n",
    "        back = len(numbers)-1\n",
    "        lis = numbers\n",
    "        if len(numbers) == 2:\n",
    "            return [1,2]\n",
    "        cycle_num = 0\n",
    "        front_num = 0\n",
    "        while True :\n",
    "            if numbers[back] > target:\n",
    "                back -= 1\n",
    "                continue\n",
    "            if numbers[front] + numbers[back] < target:\n",
    "                front+=1\n",
    "                continue\n",
    "            lis = numbers[front:back+1]\n",
    "            if len(lis) == 2:\n",
    "                return [front+1,back+1]\n",
    "            if len(lis) <= 1:\n",
    "                return [front,front+1]\n",
    "\n",
    "            for i in range(cycle_num,len(lis)):\n",
    "                if lis[cycle_num]+lis[i] == target:\n",
    "                    return [cycle_num+front+1,i+front+1]\n",
    "            cycle_num +=1"
   ]
  },
  {
   "cell_type": "markdown",
   "metadata": {},
   "source": [
    "Runtime: 132 ms, faster than 7.43% of Python3 online submissions for Two Sum II - Input array is sorted.\n",
    "Memory Usage: 14.6 MB, less than 85.54% of Python3 online submissions for Two Sum II - Input array is sorted."
   ]
  }
 ],
 "metadata": {
  "kernelspec": {
   "display_name": "Python 3",
   "language": "python",
   "name": "python3"
  },
  "language_info": {
   "codemirror_mode": {
    "name": "ipython",
    "version": 3
   },
   "file_extension": ".py",
   "mimetype": "text/x-python",
   "name": "python",
   "nbconvert_exporter": "python",
   "pygments_lexer": "ipython3",
   "version": "3.8.5"
  }
 },
 "nbformat": 4,
 "nbformat_minor": 4
}
