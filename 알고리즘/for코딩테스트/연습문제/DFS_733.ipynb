{
 "cells": [
  {
   "cell_type": "code",
   "execution_count": null,
   "metadata": {},
   "outputs": [],
   "source": [
    "class Solution:\n",
    "    def floodFill(self, image: List[List[int]], sr: int, sc: int, newColor: int) -> List[List[int]]:\n",
    "        size_x = len(image)\n",
    "        size_y = len(image[0])\n",
    "        visited = [[0 for _ in range(size_y)] for _ in range(size_x)]\n",
    "        now_color = image[sr][sc]\n",
    "        \n",
    "        go = [sr,sc]\n",
    "        \n",
    "        while go:\n",
    "            y = go.pop()\n",
    "            x = go.pop()\n",
    "            visited[x][y] = 1\n",
    "            image[x][y] = newColor\n",
    "            if x >= 0 and y >= 0 and x < size_x and y < size_y:\n",
    "                if x + 1 < size_x:\n",
    "                    if image[x+1][y] == now_color and visited[x+1][y] == 0:\n",
    "                        go.extend([x+1,y])\n",
    "                if y + 1 < size_y:\n",
    "                    if image[x][y+1] == now_color and visited[x][y+1] == 0:\n",
    "                        go.extend([x,y+1])\n",
    "                if x-1 >= 0 :\n",
    "                    if image[x-1][y] == now_color and visited[x-1][y] == 0:\n",
    "                        go.extend([x-1,y])\n",
    "                if y -1 >= 0:\n",
    "                    if image[x][y-1] == now_color and visited[x][y-1] == 0:\n",
    "                        go.extend([x,y-1])\n",
    "        return image"
   ]
  },
  {
   "cell_type": "markdown",
   "metadata": {},
   "source": [
    "Runtime: 72 ms\n",
    "\n",
    "Memory Usage: 14.5 MB"
   ]
  }
 ],
 "metadata": {
  "kernelspec": {
   "display_name": "Python 3",
   "language": "python",
   "name": "python3"
  },
  "language_info": {
   "codemirror_mode": {
    "name": "ipython",
    "version": 3
   },
   "file_extension": ".py",
   "mimetype": "text/x-python",
   "name": "python",
   "nbconvert_exporter": "python",
   "pygments_lexer": "ipython3",
   "version": "3.8.5"
  }
 },
 "nbformat": 4,
 "nbformat_minor": 4
}
