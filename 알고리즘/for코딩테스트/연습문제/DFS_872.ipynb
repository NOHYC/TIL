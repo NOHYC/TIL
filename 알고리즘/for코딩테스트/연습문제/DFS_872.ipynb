{
 "cells": [
  {
   "cell_type": "code",
   "execution_count": null,
   "metadata": {},
   "outputs": [],
   "source": [
    "# Definition for a binary tree node.\n",
    "# class TreeNode:\n",
    "#     def __init__(self, val=0, left=None, right=None):\n",
    "#         self.val = val\n",
    "#         self.left = left\n",
    "#         self.right = right\n",
    "class Solution:\n",
    "    def leafSimilar(self, root1: TreeNode, root2: TreeNode) -> bool:\n",
    "        root1 = self.dfs(root1)\n",
    "        root2 = self.dfs(root2)\n",
    "        if len(root1) != len(root2): return False\n",
    "        for i,j in zip(root1,root2):\n",
    "            if i != j:\n",
    "                return False\n",
    "        return True\n",
    "        \n",
    "    def dfs(self,graph):\n",
    "        if not graph.right and not graph.left:\n",
    "            return [graph.val]\n",
    "        leaf = []\n",
    "        if graph.right:\n",
    "            leaf.extend(self.dfs(graph.right))\n",
    "        if graph.left:\n",
    "            leaf.extend(self.dfs(graph.left))\n",
    "        return leaf\n",
    "            "
   ]
  },
  {
   "cell_type": "markdown",
   "metadata": {},
   "source": [
    "Runtime: 28 ms\n",
    "\n",
    "Memory Usage: 14.3 MB"
   ]
  }
 ],
 "metadata": {
  "kernelspec": {
   "display_name": "Python 3",
   "language": "python",
   "name": "python3"
  },
  "language_info": {
   "codemirror_mode": {
    "name": "ipython",
    "version": 3
   },
   "file_extension": ".py",
   "mimetype": "text/x-python",
   "name": "python",
   "nbconvert_exporter": "python",
   "pygments_lexer": "ipython3",
   "version": "3.8.5"
  }
 },
 "nbformat": 4,
 "nbformat_minor": 4
}
