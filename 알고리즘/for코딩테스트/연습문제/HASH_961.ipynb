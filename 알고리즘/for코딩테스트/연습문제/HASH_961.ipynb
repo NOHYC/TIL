{
 "cells": [
  {
   "cell_type": "code",
   "execution_count": null,
   "metadata": {},
   "outputs": [],
   "source": [
    "class Solution:\n",
    "    def repeatedNTimes(self, A: List[int]) -> int:\n",
    "        N = len(A)//2\n",
    "        dic ={}\n",
    "        for i in A:\n",
    "            if i in dic:\n",
    "                dic[i]+=1\n",
    "            else:\n",
    "                dic[i] =1\n",
    "            if dic[i] == N:\n",
    "                return i\n"
   ]
  },
  {
   "cell_type": "markdown",
   "metadata": {},
   "source": [
    "Runtime: 344 ms\n",
    "Memory Usage: 15.7 MB"
   ]
  },
  {
   "cell_type": "code",
   "execution_count": null,
   "metadata": {},
   "outputs": [],
   "source": [
    "class Solution:\n",
    "    def repeatedNTimes(self, A: List[int]) -> int:\n",
    "        N = len(A)//2\n",
    "        setA = set(A)\n",
    "        listA =list(setA)\n",
    "        return listA[[A.count(i) for i in setA].index(N)]"
   ]
  },
  {
   "cell_type": "markdown",
   "metadata": {},
   "source": [
    "Runtime: 8356 ms, faster than 5.10% of Python3 online submissions for N-Repeated Element in Size 2N Array.\n",
    "Memory Usage: 16.2 MB, less than 6.12% of Python3 online submissions for N-Repeated Element in Size 2N Array."
   ]
  },
  {
   "cell_type": "code",
   "execution_count": null,
   "metadata": {},
   "outputs": [],
   "source": [
    "class Solution:\n",
    "    def repeatedNTimes(self, A: List[int]) -> int:\n",
    "        N = len(A)//2\n",
    "        dic ={}\n",
    "        for i in A:\n",
    "            if i not in dic:\n",
    "                dic[i] = 1\n",
    "            else:\n",
    "                dic[i] +=1\n",
    "                \n",
    "            if dic[i]-N == 0:\n",
    "                return i"
   ]
  },
  {
   "cell_type": "markdown",
   "metadata": {},
   "source": [
    "Runtime: 276 ms\n",
    "Memory Usage: 15.7 MB"
   ]
  }
 ],
 "metadata": {
  "kernelspec": {
   "display_name": "Python 3",
   "language": "python",
   "name": "python3"
  },
  "language_info": {
   "codemirror_mode": {
    "name": "ipython",
    "version": 3
   },
   "file_extension": ".py",
   "mimetype": "text/x-python",
   "name": "python",
   "nbconvert_exporter": "python",
   "pygments_lexer": "ipython3",
   "version": "3.8.5"
  }
 },
 "nbformat": 4,
 "nbformat_minor": 4
}
