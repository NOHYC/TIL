{
 "cells": [
  {
   "cell_type": "markdown",
   "metadata": {},
   "source": [
    "첫째 줄에 n(1 ≤ n ≤ 1,000,000), m(1 ≤ m ≤ 100,000)이 주어진다. m은 입력으로 주어지는 연산의 개수이다.\n",
    "\n",
    "다음 m개의 줄에는 각각의 연산이 주어진다. 합집합은 0 a b의 형태로 입력이 주어진다. \n",
    "\n",
    "이는 a가 포함되어 있는 집합과, b가 포함되어 있는 집합을 합친다는 의미이다.\n",
    "\n",
    "두 원소가 같은 집합에 포함되어 있는지를 확인하는 연산은 1 a b의 형태로 입력이 주어진다.\n",
    "\n",
    "이는 a와 b가 같은 집합에 포함되어 있는지를 확인하는 연산이다. a와 b는 n 이하의 자연수 또는 0이며 같을 수도 있다.\n"
   ]
  },
  {
   "cell_type": "code",
   "execution_count": 8,
   "metadata": {},
   "outputs": [],
   "source": [
    "n,m = 7, 8\n",
    "commands=[[0, 1 ,3],\n",
    "[1, 1, 7],\n",
    "[0 ,7, 6],\n",
    "[1, 7, 1],\n",
    "[0, 3, 7],\n",
    "[0, 4, 2],\n",
    "[0, 1, 1],\n",
    "[1, 1, 1]]"
   ]
  },
  {
   "cell_type": "code",
   "execution_count": 16,
   "metadata": {},
   "outputs": [],
   "source": [
    "parent = [i for i in range(n+1)]\n",
    "rank = [0]*(n+1)\n",
    "\n",
    "def find(node):\n",
    "    if parent[node]==node:\n",
    "        return node\n",
    "    parent[node]=find(parent[node])\n",
    "    return parent[node]\n",
    "\n",
    "def union(node_a,node_b):\n",
    "    head_a,head_b = find(node_a),find(node_b)\n",
    "\n",
    "    if rank[head_a]>rank[head_b]:\n",
    "        parent[head_b]=head_a\n",
    "    else:\n",
    "        parent[head_a]=head_b\n",
    "        if rank[head_a]==rank[head_b]:\n",
    "            rank[head_b]+=1\n",
    "    return\n"
   ]
  },
  {
   "cell_type": "code",
   "execution_count": 17,
   "metadata": {},
   "outputs": [
    {
     "name": "stdout",
     "output_type": "stream",
     "text": [
      "NO\n",
      "NO\n",
      "YES\n"
     ]
    }
   ],
   "source": [
    "for i in commands:\n",
    "    if i[0] == 0:\n",
    "        union(i[1],i[2])\n",
    "    else:\n",
    "        if find(i[1]) != find(i[2]):\n",
    "            print('NO')\n",
    "        else:            \n",
    "            print('YES')"
   ]
  },
  {
   "cell_type": "code",
   "execution_count": null,
   "metadata": {},
   "outputs": [],
   "source": []
  }
 ],
 "metadata": {
  "kernelspec": {
   "display_name": "Python 3",
   "language": "python",
   "name": "python3"
  },
  "language_info": {
   "codemirror_mode": {
    "name": "ipython",
    "version": 3
   },
   "file_extension": ".py",
   "mimetype": "text/x-python",
   "name": "python",
   "nbconvert_exporter": "python",
   "pygments_lexer": "ipython3",
   "version": "3.8.5"
  }
 },
 "nbformat": 4,
 "nbformat_minor": 4
}
