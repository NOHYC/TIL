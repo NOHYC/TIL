{
 "cells": [
  {
   "cell_type": "code",
   "execution_count": null,
   "metadata": {},
   "outputs": [],
   "source": [
    "def solution(m, musicinfos):\n",
    "    from heapq import heappop,heappush\n",
    "    # 샵 지우는 작업\n",
    "    m=m.replace('C#','c').replace('D#','d').replace('F#','f').replace('G#','g').replace('A#','a')\n",
    "    mel_len = len(m)\n",
    "    mus = []\n",
    "    for i in musicinfos:\n",
    "        start,end,name,melo = i.split(\",\")\n",
    "        shr,smi = start.split(\":\")\n",
    "        ehr,emi = end.split(\":\")\n",
    "        # 시간 환산 작업\n",
    "        times = 60*int(ehr)-60*int(shr) + int(emi) -int(smi)+1\n",
    "        # 샵 지우는 작업\n",
    "        melo=melo.replace('C#','c').replace('D#','d').replace('F#','f').replace('G#','g').replace('A#','a')\n",
    "        len_melo = len(melo)\n",
    "        # 재생 오바시간에 따라서 멜로디 곱해주고 더해주는 작업\n",
    "        mult = (times) //len_melo\n",
    "        plus = (times) % len_melo\n",
    "        melo_list = ''\n",
    "        melo_list = melo*mult+melo[:plus]\n",
    "        i = 0\n",
    "        while True:\n",
    "            if melo_list[i:i+mel_len] == m:\n",
    "                heappush(mus,[-times,name]) # 힙 써서 우선순위\n",
    "                break\n",
    "            if i == len(melo_list):\n",
    "                break                \n",
    "            i +=1\n",
    "    if mus:\n",
    "        return heappop(mus)[1]\n",
    "    else:\n",
    "        return \"(None)\""
   ]
  },
  {
   "cell_type": "markdown",
   "metadata": {},
   "source": [
    "정확성  테스트\n",
    "테스트 1 〉\t통과 (0.04ms, 10.4MB)\n",
    "테스트 2 〉\t통과 (0.04ms, 10.4MB)\n",
    "테스트 3 〉\t통과 (0.04ms, 10.4MB)\n",
    "테스트 4 〉\t통과 (0.03ms, 10.4MB)\n",
    "테스트 5 〉\t통과 (0.04ms, 10.4MB)\n",
    "테스트 6 〉\t통과 (0.05ms, 10.4MB)\n",
    "테스트 7 〉\t통과 (0.95ms, 10.4MB)\n",
    "테스트 8 〉\t통과 (0.97ms, 10.4MB)\n",
    "테스트 9 〉\t통과 (0.91ms, 10.4MB)\n",
    "테스트 10 〉\t통과 (0.64ms, 10.5MB)\n",
    "테스트 11 〉\t통과 (0.87ms, 10.4MB)\n",
    "테스트 12 〉\t통과 (0.97ms, 10.4MB)\n",
    "테스트 13 〉\t통과 (0.91ms, 10.5MB)\n",
    "테스트 14 〉\t통과 (0.97ms, 10.5MB)\n",
    "테스트 15 〉\t통과 (1.04ms, 10.4MB)\n",
    "테스트 16 〉\t통과 (0.82ms, 10.4MB)\n",
    "테스트 17 〉\t통과 (0.93ms, 10.5MB)\n",
    "테스트 18 〉\t통과 (1.08ms, 10.4MB)\n",
    "테스트 19 〉\t통과 (0.49ms, 10.4MB)\n",
    "테스트 20 〉\t통과 (0.41ms, 10.4MB)\n",
    "테스트 21 〉\t통과 (1.05ms, 10.5MB)\n",
    "테스트 22 〉\t통과 (0.97ms, 10.4MB)\n",
    "테스트 23 〉\t통과 (0.96ms, 10.4MB)\n",
    "테스트 24 〉\t통과 (0.94ms, 10.5MB)\n",
    "테스트 25 〉\t통과 (0.05ms, 10.4MB)\n",
    "테스트 26 〉\t통과 (0.07ms, 10.5MB)\n",
    "테스트 27 〉\t통과 (0.05ms, 10.4MB)\n",
    "테스트 28 〉\t통과 (0.06ms, 10.4MB)\n",
    "테스트 29 〉\t통과 (4.86ms, 10.4MB)\n",
    "테스트 30 〉\t통과 (4.88ms, 10.5MB)"
   ]
  }
 ],
 "metadata": {
  "kernelspec": {
   "display_name": "Python 3",
   "language": "python",
   "name": "python3"
  },
  "language_info": {
   "codemirror_mode": {
    "name": "ipython",
    "version": 3
   },
   "file_extension": ".py",
   "mimetype": "text/x-python",
   "name": "python",
   "nbconvert_exporter": "python",
   "pygments_lexer": "ipython3",
   "version": "3.8.5"
  }
 },
 "nbformat": 4,
 "nbformat_minor": 4
}
