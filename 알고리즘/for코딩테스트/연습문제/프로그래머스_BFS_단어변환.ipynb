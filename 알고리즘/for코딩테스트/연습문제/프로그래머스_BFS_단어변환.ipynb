{
 "cells": [
  {
   "cell_type": "code",
   "execution_count": null,
   "metadata": {},
   "outputs": [],
   "source": [
    "def solution(begin, target, words):\n",
    "    from collections import deque\n",
    "    check = [0  for _ in range(len(words))]\n",
    "    word_len = len(begin)\n",
    "    q = deque([begin])\n",
    "    num = 0\n",
    "    sub_count = 1\n",
    "    layer = 0\n",
    "    while q:\n",
    "        word = q.popleft()\n",
    "        sub_count -= 1\n",
    "        if word == target:\n",
    "            return layer \n",
    "        for n,w in enumerate(words):\n",
    "            t = 0\n",
    "            for i,j in zip(word,w):\n",
    "                if i == j:\n",
    "                    t +=1\n",
    "            if t>word_len-2 and check[n] == 0 :\n",
    "                check[n] = 1\n",
    "                q.append(w)\n",
    "                num +=1\n",
    "\n",
    "        if sub_count == 0:\n",
    "            sub_count = num\n",
    "            num = 0\n",
    "            layer += 1\n",
    "    return 0"
   ]
  },
  {
   "cell_type": "markdown",
   "metadata": {},
   "source": [
    "정확성  테스트\n",
    "\n",
    "테스트 1 〉\t통과 (0.02ms, 10.3MB)\n",
    "\n",
    "테스트 2 〉\t통과 (0.08ms, 10.3MB)\n",
    "\n",
    "테스트 3 〉\t통과 (0.47ms, 10.4MB)\n",
    "\n",
    "테스트 4 〉\t통과 (0.02ms, 10.3MB)\n",
    "\n",
    "테스트 5 〉\t통과 (0.02ms, 10.2MB)"
   ]
  },
  {
   "cell_type": "code",
   "execution_count": null,
   "metadata": {},
   "outputs": [],
   "source": []
  }
 ],
 "metadata": {
  "kernelspec": {
   "display_name": "Python 3",
   "language": "python",
   "name": "python3"
  },
  "language_info": {
   "codemirror_mode": {
    "name": "ipython",
    "version": 3
   },
   "file_extension": ".py",
   "mimetype": "text/x-python",
   "name": "python",
   "nbconvert_exporter": "python",
   "pygments_lexer": "ipython3",
   "version": "3.8.5"
  }
 },
 "nbformat": 4,
 "nbformat_minor": 4
}
