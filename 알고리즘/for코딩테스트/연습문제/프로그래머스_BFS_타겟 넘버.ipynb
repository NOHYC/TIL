{
 "cells": [
  {
   "cell_type": "code",
   "execution_count": null,
   "metadata": {},
   "outputs": [],
   "source": [
    "def solution(numbers, target):\n",
    "    from collections import deque\n",
    "    q = deque(numbers[1:])\n",
    "    num = 0\n",
    "    tree = deque([[numbers[0],-numbers[0]]])\n",
    "    while q:\n",
    "        node = q.popleft()\n",
    "        sub_tree = []\n",
    "        for i in range(len(tree[num])):\n",
    "            sub_tree.append(tree[num][i]+node)\n",
    "            sub_tree.append(tree[num][i]-node)\n",
    "        tree.append(sub_tree)   \n",
    "        num+=1\n",
    "    return tree[-1].count(target)"
   ]
  },
  {
   "cell_type": "markdown",
   "metadata": {},
   "source": [
    "정확성  테스트\n",
    "\n",
    "테스트 1 〉\t통과 (260.11ms, 58.8MB)\n",
    "\n",
    "테스트 2 〉\t통과 (257.41ms, 57.9MB)\n",
    "\n",
    "테스트 3 〉\t통과 (0.38ms, 10.2MB)\n",
    "\n",
    "테스트 4 〉\t통과 (1.45ms, 10.3MB)\n",
    "\n",
    "테스트 5 〉\t통과 (8.33ms, 11.5MB)\n",
    "\n",
    "테스트 6 〉\t통과 (0.79ms, 10.2MB)\n",
    "\n",
    "테스트 7 〉\t통과 (0.41ms, 10.2MB)\n",
    "\n",
    "테스트 8 〉\t통과 (2.67ms, 10.4MB)"
   ]
  },
  {
   "cell_type": "code",
   "execution_count": null,
   "metadata": {},
   "outputs": [],
   "source": []
  }
 ],
 "metadata": {
  "kernelspec": {
   "display_name": "Python 3",
   "language": "python",
   "name": "python3"
  },
  "language_info": {
   "codemirror_mode": {
    "name": "ipython",
    "version": 3
   },
   "file_extension": ".py",
   "mimetype": "text/x-python",
   "name": "python",
   "nbconvert_exporter": "python",
   "pygments_lexer": "ipython3",
   "version": "3.8.5"
  }
 },
 "nbformat": 4,
 "nbformat_minor": 4
}
