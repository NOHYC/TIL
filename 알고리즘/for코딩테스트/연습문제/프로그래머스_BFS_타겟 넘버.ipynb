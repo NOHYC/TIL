{
 "cells": [
  {
   "cell_type": "code",
   "execution_count": null,
   "metadata": {},
   "outputs": [],
   "source": [
    "def solution(numbers, target):\n",
    "    from collections import deque\n",
    "    q = deque(numbers[1:])\n",
    "    num = 0\n",
    "    tree = deque([[numbers[0],-numbers[0]]])\n",
    "    while q:\n",
    "        node = q.popleft()\n",
    "        sub_tree = []\n",
    "        for i in range(len(tree[num])):\n",
    "            sub_tree.append(tree[num][i]+node)\n",
    "            sub_tree.append(tree[num][i]-node)\n",
    "        tree.append(sub_tree)   \n",
    "        num+=1\n",
    "    return tree[-1].count(target)"
   ]
  },
  {
   "cell_type": "markdown",
   "metadata": {},
   "source": [
    "정확성  테스트\n",
    "\n",
    "테스트 1 〉\t통과 (260.11ms, 58.8MB)\n",
    "\n",
    "테스트 2 〉\t통과 (257.41ms, 57.9MB)\n",
    "\n",
    "테스트 3 〉\t통과 (0.38ms, 10.2MB)\n",
    "\n",
    "테스트 4 〉\t통과 (1.45ms, 10.3MB)\n",
    "\n",
    "테스트 5 〉\t통과 (8.33ms, 11.5MB)\n",
    "\n",
    "테스트 6 〉\t통과 (0.79ms, 10.2MB)\n",
    "\n",
    "테스트 7 〉\t통과 (0.41ms, 10.2MB)\n",
    "\n",
    "테스트 8 〉\t통과 (2.67ms, 10.4MB)"
   ]
  },
  {
   "cell_type": "code",
   "execution_count": null,
   "metadata": {},
   "outputs": [],
   "source": [
    "def solution(numbers, target):\n",
    "    from collections import deque\n",
    "    num = 0\n",
    "    tree = deque([[numbers[0],-numbers[0]]])\n",
    "    while num+1 < len(numbers):\n",
    "        node = tree.popleft()\n",
    "        sub_tree = []\n",
    "        for i in node:\n",
    "            sub_tree.append(i+numbers[num+1])\n",
    "            sub_tree.append(i-numbers[num+1])\n",
    "        tree.append(sub_tree)   \n",
    "        num+=1\n",
    "    return tree[0].count(target)"
   ]
  },
  {
   "cell_type": "markdown",
   "metadata": {},
   "source": [
    "정확성  테스트\n",
    "\n",
    "테스트 1 〉\t통과 (215.92ms, 50MB)\n",
    "\n",
    "테스트 2 〉\t통과 (218.08ms, 49.5MB)\n",
    "\n",
    "테스트 3 〉\t통과 (0.34ms, 10.1MB)\n",
    "\n",
    "테스트 4 〉\t통과 (1.29ms, 10.3MB)\n",
    "\n",
    "테스트 5 〉\t통과 (7.37ms, 11.1MB)\n",
    "\n",
    "테스트 6 〉\t통과 (0.68ms, 10.2MB)\n",
    "\n",
    "테스트 7 〉\t통과 (0.36ms, 10.2MB)\n",
    "\n",
    "테스트 8 〉\t통과 (2.44ms, 10.3MB)"
   ]
  },
  {
   "cell_type": "code",
   "execution_count": null,
   "metadata": {},
   "outputs": [],
   "source": [
    "def solution(numbers, target):\n",
    "    from collections import deque\n",
    "    num = 0\n",
    "    cycle = 2\n",
    "    num_len = len(numbers)\n",
    "    tree = deque([numbers[0],-numbers[0]])\n",
    "    number_count = [2**i for i in range(2,num_len+1)]\n",
    "    while num < num_len-1:\n",
    "        node = tree.popleft()\n",
    "        cycle +=1\n",
    "        tree.append(node+numbers[num+1])\n",
    "        tree.append(node-numbers[num+1])\n",
    "        if cycle == number_count[num]:\n",
    "            num+=1\n",
    "    return tree.count(target)"
   ]
  },
  {
   "cell_type": "markdown",
   "metadata": {},
   "source": [
    "\n",
    "정확성  테스트\n",
    "\n",
    "테스트 1 〉\t통과 (330.97ms, 34.9MB)\n",
    "\n",
    "테스트 2 〉\t통과 (318.95ms, 34.5MB)\n",
    "\n",
    "테스트 3 〉\t통과 (0.52ms, 10.2MB)\n",
    "\n",
    "테스트 4 〉\t통과 (1.79ms, 10.3MB)\n",
    "\n",
    "테스트 5 〉\t통과 (10.64ms, 10.6MB)\n",
    "\n",
    "테스트 6 〉\t통과 (1.11ms, 10.3MB)\n",
    "\n",
    "테스트 7 〉\t통과 (0.52ms, 10.3MB)\n",
    "\n",
    "테스트 8 〉\t통과 (3.12ms, 10.3MB)\n"
   ]
  },
  {
   "cell_type": "code",
   "execution_count": null,
   "metadata": {},
   "outputs": [],
   "source": []
  }
 ],
 "metadata": {
  "kernelspec": {
   "display_name": "Python 3",
   "language": "python",
   "name": "python3"
  },
  "language_info": {
   "codemirror_mode": {
    "name": "ipython",
    "version": 3
   },
   "file_extension": ".py",
   "mimetype": "text/x-python",
   "name": "python",
   "nbconvert_exporter": "python",
   "pygments_lexer": "ipython3",
   "version": "3.8.5"
  }
 },
 "nbformat": 4,
 "nbformat_minor": 4
}
