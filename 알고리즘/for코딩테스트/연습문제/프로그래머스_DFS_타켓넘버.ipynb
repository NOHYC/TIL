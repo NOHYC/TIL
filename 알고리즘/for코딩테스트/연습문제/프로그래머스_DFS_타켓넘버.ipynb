{
 "cells": [
  {
   "cell_type": "code",
   "execution_count": null,
   "metadata": {},
   "outputs": [],
   "source": [
    "def solution(numbers, target):\n",
    "    num_len = len(numbers)\n",
    "    return dfs(0,0,num_len,numbers).count(target)\n",
    "\n",
    "\n",
    "def dfs(num,res,num_len,numbers):\n",
    "    if num == num_len:\n",
    "        return [res]\n",
    "    lis = []\n",
    "    for i in [numbers[num],numbers[num]*(-1)]:\n",
    "        lis.extend(dfs(num+1,res + i,num_len,numbers))\n",
    "    return lis"
   ]
  },
  {
   "cell_type": "markdown",
   "metadata": {},
   "source": [
    "정확성  테스트\n",
    "\n",
    "테스트 1 〉\t통과 (615.97ms, 43.1MB)\n",
    "\n",
    "테스트 2 〉\t통과 (612.92ms, 42.9MB)\n",
    "\n",
    "테스트 3 〉\t통과 (0.94ms, 10.2MB)\n",
    "\n",
    "테스트 4 〉\t통과 (2.88ms, 10.4MB)\n",
    "\n",
    "테스트 5 〉\t통과 (19.18ms, 10.9MB)\n",
    "\n",
    "테스트 6 〉\t통과 (1.65ms, 10.2MB)\n",
    "\n",
    "테스트 7 〉\t통과 (1.07ms, 10.3MB)\n",
    "\n",
    "테스트 8 〉\t통과 (5.46ms, 10.4MB)"
   ]
  },
  {
   "cell_type": "code",
   "execution_count": null,
   "metadata": {},
   "outputs": [],
   "source": []
  }
 ],
 "metadata": {
  "kernelspec": {
   "display_name": "Python 3",
   "language": "python",
   "name": "python3"
  },
  "language_info": {
   "codemirror_mode": {
    "name": "ipython",
    "version": 3
   },
   "file_extension": ".py",
   "mimetype": "text/x-python",
   "name": "python",
   "nbconvert_exporter": "python",
   "pygments_lexer": "ipython3",
   "version": "3.8.5"
  }
 },
 "nbformat": 4,
 "nbformat_minor": 4
}
